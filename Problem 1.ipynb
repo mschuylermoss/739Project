{
 "cells": [
  {
   "cell_type": "markdown",
   "metadata": {},
   "source": [
    "## 1D TFIM"
   ]
  },
  {
   "cell_type": "markdown",
   "metadata": {},
   "source": [
    "Working with the Transverse Field Ising Model (TFIM).\n",
    "The Hamiltonian has the following form:\n",
    "\n",
    "$H = -J\\sum_{i=1}^{N-1} \\sigma_{i}^{z}\\sigma_{i+1}^{z} - J\\sigma_{N}\\sigma_{1} - h\\sum_{i = 1}^{N}\\sigma_{i}^{x}$\n",
    "\n",
    "(Note: The sum is over nearest neighbors, which is written as i, i+1 since we are looking specifically at 1D case. Since we are working with PBC, we can simply add the boundary term.)"
   ]
  },
  {
   "cell_type": "markdown",
   "metadata": {},
   "source": [
    "## Step 1: Build Hamiltonian"
   ]
  },
  {
   "cell_type": "code",
   "execution_count": 62,
   "metadata": {},
   "outputs": [
    {
     "data": {
      "text/plain": [
       "Hamiltonian (generic function with 2 methods)"
      ]
     },
     "execution_count": 62,
     "metadata": {},
     "output_type": "execute_result"
    }
   ],
   "source": [
    "function Hamiltonian(N,J,h)\n",
    "    \n",
    "    #Dimension of the Hilbert Space\n",
    "    dim = (2)^N\n",
    "    #Initialize a matrix for the Hamiltonian\n",
    "    H = zeros(dim,dim)\n",
    "    \n",
    "    #Loop over the basis kets to construct the Hamiltonian\n",
    "    #Basically, you know which inner products will contribute based on the form of H\n",
    "    for ket in (0:dim-1)\n",
    "        \n",
    "        #Put ket in binary (printing purposes only)\n",
    "        ket_binary = bitstring(ket)\n",
    "        #Initialize the diagonal element of the matrix\n",
    "        Diagonal = Int64(0)\n",
    "        \n",
    "        #Loop over each spin in the ket ad manipulate it as needed to construct the diagonal and off-diagonal \n",
    "        #pieces of the Hamiltonian\n",
    "        for SpinIndex in (0:N-1) \n",
    "            #get the binary representation of the bit you are looking at\n",
    "            bit = Int(2)^(SpinIndex)\n",
    "            #XOR with ket \n",
    "            #This flips the spin corresponding to SpinIndex \n",
    "            #This generates the bras that will contribute via the transverse field\n",
    "            bra = ket ⊻ bit\n",
    "            #include the transverse field contributions to the Hamiltonian matrix\n",
    "            H[bra+1,ket+1] += h\n",
    "            \n",
    "            #For the last spin, calculate the periodic boundary term\n",
    "            if SpinIndex == N-1\n",
    "                S_last = 2*((ket>>SpinIndex)&1)-1\n",
    "                S_first = 2*((ket>>(0))&1)-1\n",
    "                Bond = J*S_last*S_first\n",
    "                Diagonal += Bond\n",
    "                break\n",
    "            end\n",
    "            \n",
    "            #Calculate the diagonal term\n",
    "            Si = 2*((ket>>SpinIndex)&1)-1\n",
    "            Si_next = 2*((ket>>(SpinIndex+1))&1)-1\n",
    "            Bond = J*Si*Si_next\n",
    "            Diagonal += Bond\n",
    "        end\n",
    "        \n",
    "        #Set the diagonal terms of the Hamiltonian\n",
    "        H[ket+1,ket+1] += -1 * (Diagonal)\n",
    "        \n",
    "    end\n",
    "    \n",
    "    return H\n",
    "    \n",
    "end"
   ]
  },
  {
   "cell_type": "markdown",
   "metadata": {},
   "source": [
    "##### Test this function to make sure it returns the proper Hamiltonian."
   ]
  },
  {
   "cell_type": "code",
   "execution_count": 60,
   "metadata": {
    "scrolled": true
   },
   "outputs": [
    {
     "name": "stdout",
     "output_type": "stream",
     "text": [
      "The Hamiltonian for N = 3, J = 1,and h = 1 is\n",
      "8×8 Matrix{Float64}:\n",
      " -3.0  1.0  1.0  0.0  1.0  0.0  0.0   0.0\n",
      "  1.0  1.0  0.0  1.0  0.0  1.0  0.0   0.0\n",
      "  1.0  0.0  1.0  1.0  0.0  0.0  1.0   0.0\n",
      "  0.0  1.0  1.0  1.0  0.0  0.0  0.0   1.0\n",
      "  1.0  0.0  0.0  0.0  1.0  1.0  1.0   0.0\n",
      "  0.0  1.0  0.0  0.0  1.0  1.0  0.0   1.0\n",
      "  0.0  0.0  1.0  0.0  1.0  0.0  1.0   1.0\n",
      "  0.0  0.0  0.0  1.0  0.0  1.0  1.0  -3.0\n",
      "with eigenvalues,\n",
      "[-4.000000000000001, -3.464101615137755, -3.2331942489481536e-16, 9.773829788553912e-17, 4.62097303717605e-16, 2.0, 2.0000000000000013, 3.464101615137753]\n"
     ]
    }
   ],
   "source": [
    "using LinearAlgebra\n",
    "\n",
    "n = 3\n",
    "j = 1\n",
    "h = 1\n",
    "Ham = Hamiltonian(n,j,h)\n",
    "eigs = eigvals(Ham)\n",
    "\n",
    "println(\"The Hamiltonian for N = \",n,\", J = \",j,\",and h = \",h,\" is\")\n",
    "show(stdout,\"text/plain\",Ham)\n",
    "println(\"\")\n",
    "println(\"with eigenvalues,\")\n",
    "println(eigs)\n",
    "\n"
   ]
  },
  {
   "cell_type": "markdown",
   "metadata": {},
   "source": [
    "## Step 2: Diagonalize the Hamiltonian"
   ]
  },
  {
   "cell_type": "code",
   "execution_count": 78,
   "metadata": {
    "scrolled": true
   },
   "outputs": [
    {
     "name": "stdout",
     "output_type": "stream",
     "text": [
      "8-element Vector{Float64}:\n",
      " -3.0\n",
      " -3.0\n",
      "  1.0\n",
      "  1.0\n",
      "  1.0\n",
      "  1.0\n",
      "  1.0\n",
      "  1.0\n",
      "8×8 Matrix{Float64}:\n",
      " 1.0  0.0  0.0  0.0  0.0  0.0  0.0  0.0\n",
      " 0.0  0.0  1.0  0.0  0.0  0.0  0.0  0.0\n",
      " 0.0  0.0  0.0  1.0  0.0  0.0  0.0  0.0\n",
      " 0.0  0.0  0.0  0.0  1.0  0.0  0.0  0.0\n",
      " 0.0  0.0  0.0  0.0  0.0  1.0  0.0  0.0\n",
      " 0.0  0.0  0.0  0.0  0.0  0.0  1.0  0.0\n",
      " 0.0  0.0  0.0  0.0  0.0  0.0  0.0  1.0\n",
      " 0.0  1.0  0.0  0.0  0.0  0.0  0.0  0.0"
     ]
    },
    {
     "data": {
      "text/plain": [
       "8×8 Matrix{Float64}:\n",
       " 1.0  0.0  -0.0  0.0  -0.0  0.0  -0.0  -0.0\n",
       " 0.0  0.0  -0.0  0.0  -0.0  0.0  -0.0   1.0\n",
       " 0.0  1.0  -0.0  0.0  -0.0  0.0  -0.0   0.0\n",
       " 0.0  0.0   1.0  0.0  -0.0  0.0  -0.0   0.0\n",
       " 0.0  0.0   0.0  1.0  -0.0  0.0  -0.0   0.0\n",
       " 0.0  0.0   0.0  0.0   1.0  0.0  -0.0   0.0\n",
       " 0.0  0.0   0.0  0.0   0.0  1.0  -0.0   0.0\n",
       " 0.0  0.0   0.0  0.0   0.0  0.0   1.0   0.0"
      ]
     },
     "execution_count": 78,
     "metadata": {},
     "output_type": "execute_result"
    }
   ],
   "source": [
    "using LinearAlgebra\n",
    "\n",
    "n_ = 3\n",
    "j_ = 1\n",
    "h_ = 0\n",
    "Ham = Hamiltonian(n_,j_,h_)\n",
    "\n",
    "eigen_vals = eigvals(Ham)\n",
    "eigen_vecs = eigvecs(Ham)\n",
    "\n",
    "show(stdout,\"text/plain\",eigen_vals)\n",
    "println(\"\")\n",
    "show(stdout,\"text/plain\",eigen_vecs)\n",
    "\n",
    "S = eigen_vecs\n",
    "D = diagm(eigen_vals)\n",
    "S_inv = inv(S)"
   ]
  },
  {
   "cell_type": "markdown",
   "metadata": {},
   "source": [
    "##### Check this diagonalization (ie does it reproduce original Hamiltonian)"
   ]
  },
  {
   "cell_type": "code",
   "execution_count": 71,
   "metadata": {
    "scrolled": true
   },
   "outputs": [
    {
     "ename": "LoadError",
     "evalue": "MethodError: no method matching lmul!(::Matrix{Float64}, ::Matrix{Float64})\n\u001b[0mClosest candidates are:\n\u001b[0m  lmul!(\u001b[91m::Union{Adjoint{T, var\"#s814\"} where var\"#s814\"<:(LowerTriangular{T, var\"#s813\"} where var\"#s813\"<:(Union{SparseArrays.AbstractSparseMatrixCSC{T, Ti}, SubArray{T, 2, var\"#s814\", Tuple{Base.Slice{Base.OneTo{Int64}}, I}, L} where {I<:AbstractUnitRange, var\"#s814\"<:SparseArrays.AbstractSparseMatrixCSC{T, Ti}, L}} where Ti)), Adjoint{T, var\"#s814\"} where var\"#s814\"<:(UpperTriangular{T, var\"#s813\"} where var\"#s813\"<:(Union{SparseArrays.AbstractSparseMatrixCSC{T, Ti}, SubArray{T, 2, var\"#s814\", Tuple{Base.Slice{Base.OneTo{Int64}}, I}, L} where {I<:AbstractUnitRange, var\"#s814\"<:SparseArrays.AbstractSparseMatrixCSC{T, Ti}, L}} where Ti)), Adjoint{T, var\"#s812\"} where var\"#s812\"<:(UnitUpperTriangular{T, var\"#s811\"} where var\"#s811\"<:(Union{SparseArrays.AbstractSparseMatrixCSC{T, Ti}, SubArray{T, 2, var\"#s814\", Tuple{Base.Slice{Base.OneTo{Int64}}, I}, L} where {I<:AbstractUnitRange, var\"#s814\"<:SparseArrays.AbstractSparseMatrixCSC{T, Ti}, L}} where Ti)), Adjoint{T, var\"#s812\"} where var\"#s812\"<:(UnitLowerTriangular{T, var\"#s811\"} where var\"#s811\"<:(Union{SparseArrays.AbstractSparseMatrixCSC{T, Ti}, SubArray{T, 2, var\"#s814\", Tuple{Base.Slice{Base.OneTo{Int64}}, I}, L} where {I<:AbstractUnitRange, var\"#s814\"<:SparseArrays.AbstractSparseMatrixCSC{T, Ti}, L}} where Ti)), LowerTriangular{T, var\"#s814\"} where var\"#s814\"<:(Union{SparseArrays.AbstractSparseMatrixCSC{T, Ti}, SubArray{T, 2, var\"#s814\", Tuple{Base.Slice{Base.OneTo{Int64}}, I}, L} where {I<:AbstractUnitRange, var\"#s814\"<:SparseArrays.AbstractSparseMatrixCSC{T, Ti}, L}} where Ti), Transpose{T, var\"#s810\"} where var\"#s810\"<:(UpperTriangular{T, var\"#s809\"} where var\"#s809\"<:(Union{SparseArrays.AbstractSparseMatrixCSC{T, Ti}, SubArray{T, 2, var\"#s814\", Tuple{Base.Slice{Base.OneTo{Int64}}, I}, L} where {I<:AbstractUnitRange, var\"#s814\"<:SparseArrays.AbstractSparseMatrixCSC{T, Ti}, L}} where Ti)), Transpose{T, var\"#s808\"} where var\"#s808\"<:(UnitLowerTriangular{T, var\"#s807\"} where var\"#s807\"<:(Union{SparseArrays.AbstractSparseMatrixCSC{T, Ti}, SubArray{T, 2, var\"#s814\", Tuple{Base.Slice{Base.OneTo{Int64}}, I}, L} where {I<:AbstractUnitRange, var\"#s814\"<:SparseArrays.AbstractSparseMatrixCSC{T, Ti}, L}} where Ti)), Transpose{T, var\"#s810\"} where var\"#s810\"<:(LowerTriangular{T, var\"#s809\"} where var\"#s809\"<:(Union{SparseArrays.AbstractSparseMatrixCSC{T, Ti}, SubArray{T, 2, var\"#s814\", Tuple{Base.Slice{Base.OneTo{Int64}}, I}, L} where {I<:AbstractUnitRange, var\"#s814\"<:SparseArrays.AbstractSparseMatrixCSC{T, Ti}, L}} where Ti)), Transpose{T, var\"#s808\"} where var\"#s808\"<:(UnitUpperTriangular{T, var\"#s807\"} where var\"#s807\"<:(Union{SparseArrays.AbstractSparseMatrixCSC{T, Ti}, SubArray{T, 2, var\"#s814\", Tuple{Base.Slice{Base.OneTo{Int64}}, I}, L} where {I<:AbstractUnitRange, var\"#s814\"<:SparseArrays.AbstractSparseMatrixCSC{T, Ti}, L}} where Ti)), UnitLowerTriangular{T, var\"#s813\"} where var\"#s813\"<:(Union{SparseArrays.AbstractSparseMatrixCSC{T, Ti}, SubArray{T, 2, var\"#s814\", Tuple{Base.Slice{Base.OneTo{Int64}}, I}, L} where {I<:AbstractUnitRange, var\"#s814\"<:SparseArrays.AbstractSparseMatrixCSC{T, Ti}, L}} where Ti), UnitUpperTriangular{T, var\"#s813\"} where var\"#s813\"<:(Union{SparseArrays.AbstractSparseMatrixCSC{T, Ti}, SubArray{T, 2, var\"#s814\", Tuple{Base.Slice{Base.OneTo{Int64}}, I}, L} where {I<:AbstractUnitRange, var\"#s814\"<:SparseArrays.AbstractSparseMatrixCSC{T, Ti}, L}} where Ti), UpperTriangular{T, var\"#s814\"} where var\"#s814\"<:(Union{SparseArrays.AbstractSparseMatrixCSC{T, Ti}, SubArray{T, 2, var\"#s814\", Tuple{Base.Slice{Base.OneTo{Int64}}, I}, L} where {I<:AbstractUnitRange, var\"#s814\"<:SparseArrays.AbstractSparseMatrixCSC{T, Ti}, L}} where Ti)}\u001b[39m, ::StridedVecOrMat{T}) where T at /Users/julia/buildbot/worker/package_macos64/build/usr/share/julia/stdlib/v1.6/SparseArrays/src/linalg.jl:452\n\u001b[0m  lmul!(\u001b[91m::LinearAlgebra.LQPackedQ{T, S} where S<:(AbstractMatrix{T} where T)\u001b[39m, ::StridedVecOrMat{T}) where T<:Union{Float32, Float64, ComplexF32, ComplexF64} at /Users/julia/buildbot/worker/package_macos64/build/usr/share/julia/stdlib/v1.6/LinearAlgebra/src/lq.jl:190\n\u001b[0m  lmul!(\u001b[91m::Transpose{var\"#s814\", var\"#s813\"} where {var\"#s814\", var\"#s813\"<:Diagonal}\u001b[39m, ::AbstractMatrix{T} where T) at /Users/julia/buildbot/worker/package_macos64/build/usr/share/julia/stdlib/v1.6/LinearAlgebra/src/diagonal.jl:300\n\u001b[0m  ...",
     "output_type": "error",
     "traceback": [
      "MethodError: no method matching lmul!(::Matrix{Float64}, ::Matrix{Float64})\n\u001b[0mClosest candidates are:\n\u001b[0m  lmul!(\u001b[91m::Union{Adjoint{T, var\"#s814\"} where var\"#s814\"<:(LowerTriangular{T, var\"#s813\"} where var\"#s813\"<:(Union{SparseArrays.AbstractSparseMatrixCSC{T, Ti}, SubArray{T, 2, var\"#s814\", Tuple{Base.Slice{Base.OneTo{Int64}}, I}, L} where {I<:AbstractUnitRange, var\"#s814\"<:SparseArrays.AbstractSparseMatrixCSC{T, Ti}, L}} where Ti)), Adjoint{T, var\"#s814\"} where var\"#s814\"<:(UpperTriangular{T, var\"#s813\"} where var\"#s813\"<:(Union{SparseArrays.AbstractSparseMatrixCSC{T, Ti}, SubArray{T, 2, var\"#s814\", Tuple{Base.Slice{Base.OneTo{Int64}}, I}, L} where {I<:AbstractUnitRange, var\"#s814\"<:SparseArrays.AbstractSparseMatrixCSC{T, Ti}, L}} where Ti)), Adjoint{T, var\"#s812\"} where var\"#s812\"<:(UnitUpperTriangular{T, var\"#s811\"} where var\"#s811\"<:(Union{SparseArrays.AbstractSparseMatrixCSC{T, Ti}, SubArray{T, 2, var\"#s814\", Tuple{Base.Slice{Base.OneTo{Int64}}, I}, L} where {I<:AbstractUnitRange, var\"#s814\"<:SparseArrays.AbstractSparseMatrixCSC{T, Ti}, L}} where Ti)), Adjoint{T, var\"#s812\"} where var\"#s812\"<:(UnitLowerTriangular{T, var\"#s811\"} where var\"#s811\"<:(Union{SparseArrays.AbstractSparseMatrixCSC{T, Ti}, SubArray{T, 2, var\"#s814\", Tuple{Base.Slice{Base.OneTo{Int64}}, I}, L} where {I<:AbstractUnitRange, var\"#s814\"<:SparseArrays.AbstractSparseMatrixCSC{T, Ti}, L}} where Ti)), LowerTriangular{T, var\"#s814\"} where var\"#s814\"<:(Union{SparseArrays.AbstractSparseMatrixCSC{T, Ti}, SubArray{T, 2, var\"#s814\", Tuple{Base.Slice{Base.OneTo{Int64}}, I}, L} where {I<:AbstractUnitRange, var\"#s814\"<:SparseArrays.AbstractSparseMatrixCSC{T, Ti}, L}} where Ti), Transpose{T, var\"#s810\"} where var\"#s810\"<:(UpperTriangular{T, var\"#s809\"} where var\"#s809\"<:(Union{SparseArrays.AbstractSparseMatrixCSC{T, Ti}, SubArray{T, 2, var\"#s814\", Tuple{Base.Slice{Base.OneTo{Int64}}, I}, L} where {I<:AbstractUnitRange, var\"#s814\"<:SparseArrays.AbstractSparseMatrixCSC{T, Ti}, L}} where Ti)), Transpose{T, var\"#s808\"} where var\"#s808\"<:(UnitLowerTriangular{T, var\"#s807\"} where var\"#s807\"<:(Union{SparseArrays.AbstractSparseMatrixCSC{T, Ti}, SubArray{T, 2, var\"#s814\", Tuple{Base.Slice{Base.OneTo{Int64}}, I}, L} where {I<:AbstractUnitRange, var\"#s814\"<:SparseArrays.AbstractSparseMatrixCSC{T, Ti}, L}} where Ti)), Transpose{T, var\"#s810\"} where var\"#s810\"<:(LowerTriangular{T, var\"#s809\"} where var\"#s809\"<:(Union{SparseArrays.AbstractSparseMatrixCSC{T, Ti}, SubArray{T, 2, var\"#s814\", Tuple{Base.Slice{Base.OneTo{Int64}}, I}, L} where {I<:AbstractUnitRange, var\"#s814\"<:SparseArrays.AbstractSparseMatrixCSC{T, Ti}, L}} where Ti)), Transpose{T, var\"#s808\"} where var\"#s808\"<:(UnitUpperTriangular{T, var\"#s807\"} where var\"#s807\"<:(Union{SparseArrays.AbstractSparseMatrixCSC{T, Ti}, SubArray{T, 2, var\"#s814\", Tuple{Base.Slice{Base.OneTo{Int64}}, I}, L} where {I<:AbstractUnitRange, var\"#s814\"<:SparseArrays.AbstractSparseMatrixCSC{T, Ti}, L}} where Ti)), UnitLowerTriangular{T, var\"#s813\"} where var\"#s813\"<:(Union{SparseArrays.AbstractSparseMatrixCSC{T, Ti}, SubArray{T, 2, var\"#s814\", Tuple{Base.Slice{Base.OneTo{Int64}}, I}, L} where {I<:AbstractUnitRange, var\"#s814\"<:SparseArrays.AbstractSparseMatrixCSC{T, Ti}, L}} where Ti), UnitUpperTriangular{T, var\"#s813\"} where var\"#s813\"<:(Union{SparseArrays.AbstractSparseMatrixCSC{T, Ti}, SubArray{T, 2, var\"#s814\", Tuple{Base.Slice{Base.OneTo{Int64}}, I}, L} where {I<:AbstractUnitRange, var\"#s814\"<:SparseArrays.AbstractSparseMatrixCSC{T, Ti}, L}} where Ti), UpperTriangular{T, var\"#s814\"} where var\"#s814\"<:(Union{SparseArrays.AbstractSparseMatrixCSC{T, Ti}, SubArray{T, 2, var\"#s814\", Tuple{Base.Slice{Base.OneTo{Int64}}, I}, L} where {I<:AbstractUnitRange, var\"#s814\"<:SparseArrays.AbstractSparseMatrixCSC{T, Ti}, L}} where Ti)}\u001b[39m, ::StridedVecOrMat{T}) where T at /Users/julia/buildbot/worker/package_macos64/build/usr/share/julia/stdlib/v1.6/SparseArrays/src/linalg.jl:452\n\u001b[0m  lmul!(\u001b[91m::LinearAlgebra.LQPackedQ{T, S} where S<:(AbstractMatrix{T} where T)\u001b[39m, ::StridedVecOrMat{T}) where T<:Union{Float32, Float64, ComplexF32, ComplexF64} at /Users/julia/buildbot/worker/package_macos64/build/usr/share/julia/stdlib/v1.6/LinearAlgebra/src/lq.jl:190\n\u001b[0m  lmul!(\u001b[91m::Transpose{var\"#s814\", var\"#s813\"} where {var\"#s814\", var\"#s813\"<:Diagonal}\u001b[39m, ::AbstractMatrix{T} where T) at /Users/julia/buildbot/worker/package_macos64/build/usr/share/julia/stdlib/v1.6/LinearAlgebra/src/diagonal.jl:300\n\u001b[0m  ...",
      "",
      "Stacktrace:",
      " [1] top-level scope",
      "   @ In[71]:3",
      " [2] eval",
      "   @ ./boot.jl:360 [inlined]",
      " [3] include_string(mapexpr::typeof(REPL.softscope), mod::Module, code::String, filename::String)",
      "   @ Base ./loading.jl:1116"
     ]
    }
   ],
   "source": [
    "using LinearAlgebra\n",
    "\n",
    "Ham_reproduced = lmul!(S,D)\n",
    "Ham_reproduced = lmul!(Ham_reproduced,S_inv)"
   ]
  },
  {
   "cell_type": "markdown",
   "metadata": {},
   "source": [
    "##### Calculate the energy per spin"
   ]
  },
  {
   "cell_type": "markdown",
   "metadata": {},
   "source": [
    "Dividing both sides of the Hamiltonian yields the Hamiltonian in units of J and gives us a tuneable parameter in front of the Transverse Field (h/J)\n",
    "\n",
    "$\\frac{H}{J} = -\\sum_{i=1}^{N-1} \\sigma_{i}^{z}\\sigma_{i+1}^{z} - \\sigma_{N}\\sigma_{1} - \\frac{h}{J}\\sum_{i = 1}^{N}\\sigma_{i}^{x}$\n"
   ]
  },
  {
   "cell_type": "code",
   "execution_count": null,
   "metadata": {
    "collapsed": true
   },
   "outputs": [],
   "source": [
    "N  = 14\n",
    "J  = 1\n",
    "h_J = 0 #H' is h/J\n",
    "H = Hamiltonian(N,J,h_J)\n",
    "Evals = eigvals(H)\n",
    "\n",
    "TotalE = sum(Evals)\n",
    "E_per_spin = TotalE/n_\n",
    "println(Evals)\n",
    "println(TotalE)"
   ]
  },
  {
   "cell_type": "markdown",
   "metadata": {},
   "source": [
    "From previous assignment (reading course, Exact diag part 2)"
   ]
  },
  {
   "cell_type": "code",
   "execution_count": null,
   "metadata": {
    "collapsed": true
   },
   "outputs": [],
   "source": [
    "using LinearAlgebra\n",
    "\n",
    "N_many = 14\n",
    "Ns = zeros(N_many)\n",
    "eigmins = zeros(N_many)\n",
    "J_ = 1\n",
    "B_ = 0.5\n",
    "\n",
    "for i in (1:N_many)\n",
    "    Ni = i\n",
    "    Ns[i] = Ni\n",
    "    Hi = GeneralHamiltonian(Ni,J_,B_)\n",
    "    eigmins[i] = eigmin(Hi)\n",
    "end\n"
   ]
  },
  {
   "cell_type": "code",
   "execution_count": null,
   "metadata": {
    "collapsed": true
   },
   "outputs": [],
   "source": [
    "using Plots\n",
    "\n",
    "eigmin_perspin = zeros(N_many)\n",
    "\n",
    "for i in (1:N_many)\n",
    "    eigmin_perspin[i] = eigmins[i]/Ns[i]\n",
    "end\n",
    "\n",
    "plot(Ns,eigmin_perspin,label = \"min eigenvalue per spin\")"
   ]
  }
 ],
 "metadata": {
  "kernelspec": {
   "display_name": "Julia 1.6.3",
   "language": "julia",
   "name": "julia-1.6"
  },
  "language_info": {
   "file_extension": ".jl",
   "mimetype": "application/julia",
   "name": "julia",
   "version": "1.6.3"
  }
 },
 "nbformat": 4,
 "nbformat_minor": 2
}
