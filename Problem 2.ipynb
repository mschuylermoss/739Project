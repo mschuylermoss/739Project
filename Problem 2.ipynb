{
 "cells": [
  {
   "cell_type": "markdown",
   "metadata": {},
   "source": [
    "# Block Diagonalization "
   ]
  },
  {
   "cell_type": "markdown",
   "metadata": {},
   "source": [
    "Now we will study a new Hamiltonian which has nearest neighbor interactions and off-diagonal elements but uses spin operators and includes the $S^{y}$ operator. "
   ]
  },
  {
   "cell_type": "markdown",
   "metadata": {},
   "source": [
    "$H = -\\Delta\\sum_{\\langle i j \\rangle} S_{i}^{z}S_{j}^{z} - J_{\\perp}\\sum_{\\langle i j \\rangle}\\left( S_{i}^{x}S_{j}^{x} + S_{i}^{y}S_{j}^{y}\\right)$"
   ]
  },
  {
   "cell_type": "markdown",
   "metadata": {},
   "source": [
    "In this problem, we will take advantage of \"conserved symmetry\" of the Hamiltonian. Our diagonalization will only act on blocks of the Hamiltonian where the total $S^{z}$ is conserved."
   ]
  },
  {
   "cell_type": "markdown",
   "metadata": {},
   "source": [
    "# Step 1: Build the (full) Hamiltonian"
   ]
  },
  {
   "cell_type": "code",
   "execution_count": 1,
   "metadata": {},
   "outputs": [
    {
     "data": {
      "text/plain": [
       "Hamiltonian_Prob2 (generic function with 1 method)"
      ]
     },
     "execution_count": 1,
     "metadata": {},
     "output_type": "execute_result"
    }
   ],
   "source": [
    "using SparseArrays\n",
    "\n",
    "function Hamiltonian_Prob2(N,Delta,J_perp)\n",
    "    \n",
    "    dim = (2)^N\n",
    "    H = zeros(dim,dim)\n",
    "    magz = zeros(dim)\n",
    "    \n",
    "    for ket in (0:dim-1)\n",
    "        \n",
    "        ket_binary = bitstring(ket)\n",
    "        Diagonal = Int64(0)\n",
    "        \n",
    "        for SpinIndex in (0:N-1) \n",
    "            \n",
    "            magz[ket+1] += 2*((ket>>SpinIndex)&1)-1\n",
    "            \n",
    "            if SpinIndex == N-1\n",
    "                \n",
    "                bit_last = Int(2)^(SpinIndex)\n",
    "                bit_first = Int(2)^(0)\n",
    "                flipbit_last = ket ⊻ bit_last\n",
    "                flipbit_first  = flipbit_last ⊻ bit_first\n",
    "                Sy_flip_last = (2*((flipbit_first>>SpinIndex)&1)-1)im\n",
    "                Sy_flip_first = (2*((flipbit_first>>(0))&1)-1)im\n",
    "                Sy = Sy_flip_last*Sy_flip_first\n",
    "                H[flipbit_first+1,ket+1] += -(J_perp/4)*(1 + Sy)\n",
    "                \n",
    "                Sz_last = 2*((ket>>SpinIndex)&1)-1\n",
    "                Sz_first = 2*((ket>>(0))&1)-1\n",
    "                Bondz = (Delta/4)*Sz_last*Sz_first\n",
    "                Diagonal += Bondz\n",
    "                \n",
    "                break\n",
    "            end\n",
    "            \n",
    "            bit = Int(2)^(SpinIndex)\n",
    "            nn_bit = Int(2)^(SpinIndex+1)\n",
    "            flipbit = ket ⊻ bit\n",
    "            Sy_flip1 = (2*((flipbit>>SpinIndex)&1)-1)im\n",
    "            flipnn  = flipbit ⊻ nn_bit\n",
    "            Sy_flip2 = (2*((flipnn>>(SpinIndex+1))&1)-1)im\n",
    "            Sy = Sy_flip1*Sy_flip2\n",
    "            H[flipnn+1,ket+1] += -(J_perp/4)*(1 + Sy)\n",
    "            \n",
    "            Szi = 2*((ket>>SpinIndex)&1)-1\n",
    "            Szi_next = 2*((ket>>(SpinIndex+1))&1)-1\n",
    "            Bondz = (Delta/4)*Szi*Szi_next\n",
    "            Diagonal += Bondz\n",
    "            \n",
    "        end\n",
    "        \n",
    "        H[ket+1,ket+1] += -1 * (Diagonal)\n",
    "        \n",
    "    end\n",
    "    \n",
    "    H_sparse = H |> sparse\n",
    "    \n",
    "    return H_sparse,magz\n",
    "    \n",
    "end"
   ]
  },
  {
   "cell_type": "code",
   "execution_count": null,
   "metadata": {},
   "outputs": [],
   "source": [
    "ham,mags = HamiltonianXXZ(4,-1,-1);"
   ]
  },
  {
   "cell_type": "code",
   "execution_count": null,
   "metadata": {},
   "outputs": [],
   "source": [
    "show(stdout,\"text/plain\",ham)"
   ]
  },
  {
   "cell_type": "markdown",
   "metadata": {},
   "source": [
    "# Build the Hamiltonian (exploiting conserved Sz symmetry) "
   ]
  },
  {
   "cell_type": "code",
   "execution_count": 2,
   "metadata": {},
   "outputs": [
    {
     "data": {
      "text/plain": [
       "get_list (generic function with 1 method)"
      ]
     },
     "execution_count": 2,
     "metadata": {},
     "output_type": "execute_result"
    }
   ],
   "source": [
    "function get_list(N,Delta,J_perp)\n",
    "    \n",
    "    if N%2 != 0 \n",
    "        print(\"sorry, N must be even.\")\n",
    "    end\n",
    "    \n",
    "    dim = (2)^N\n",
    "    magz = zeros(dim)\n",
    "    M = Int(factorial(big(Int(N)))/(factorial(big(Int(N/2)))*factorial(big(Int(N/2)))))\n",
    "    list = zeros(M,2)\n",
    "    index = Int(1)\n",
    "    \n",
    "    for ket in (0:dim-1)\n",
    "        \n",
    "        for SpinIndex in (0:N-1) \n",
    "            magz[ket+1] += 2*((ket>>SpinIndex)&1)-1\n",
    "            end\n",
    "        \n",
    "        if magz[ket+1]==0\n",
    "            list[index,1] = Int(index)\n",
    "            list[index,2] = Int(ket)\n",
    "            index +=1\n",
    "        end\n",
    "    end\n",
    "    \n",
    "    return list\n",
    "    \n",
    "end"
   ]
  },
  {
   "cell_type": "code",
   "execution_count": null,
   "metadata": {},
   "outputs": [],
   "source": [
    "get_list(2,1,1)"
   ]
  },
  {
   "cell_type": "code",
   "execution_count": 3,
   "metadata": {},
   "outputs": [
    {
     "data": {
      "text/plain": [
       "Build_Sz0_Block (generic function with 1 method)"
      ]
     },
     "execution_count": 3,
     "metadata": {},
     "output_type": "execute_result"
    }
   ],
   "source": [
    "using SparseArrays\n",
    "\n",
    "function Build_Sz0_Block(N,Delta,J_perp)\n",
    "    \n",
    "    list = get_list(N,Delta,J_perp)\n",
    "    new_dim = length(list[:,1])\n",
    "    H = zeros(new_dim,new_dim)\n",
    "    \n",
    "    for ket in list[:,2]\n",
    "        ket = Int(ket)\n",
    "        Diagonal = 0\n",
    "        for SpinIndex in (0:N-1) \n",
    "            \n",
    "            if SpinIndex == N-1\n",
    "                bit_last = Int(2)^(SpinIndex)\n",
    "                bit_first = Int(2)^(0)\n",
    "                flipbit_last = ket ⊻ bit_last\n",
    "                flipbit_first  = flipbit_last ⊻ bit_first\n",
    "                Sy_flip_last = (2*((flipbit_first>>SpinIndex)&1)-1)im\n",
    "                Sy_flip_first = (2*((flipbit_first>>(0))&1)-1)im\n",
    "                Sy = Sy_flip_last*Sy_flip_first\n",
    "                value = -(J_perp/4)*(1 + Sy)\n",
    "                if value != 0.0\n",
    "                    index_original = findall(x->x==ket,list[:,2])[1]\n",
    "                    index_flipped = findall(x->x==flipbit_first,list[:,2])[1]\n",
    "                    H[index_flipped,index_original] += value\n",
    "                end\n",
    "                Sz_last = 2*((ket>>SpinIndex)&1)-1\n",
    "                Sz_first = 2*((ket>>(0))&1)-1\n",
    "                Bondz = (Delta/4)*Sz_last*Sz_first\n",
    "                Diagonal += Bondz\n",
    "                break\n",
    "            end\n",
    "            \n",
    "            bit = Int(2)^(SpinIndex)\n",
    "            nn_bit = Int(2)^(SpinIndex+1)\n",
    "            flipbit = ket ⊻ bit\n",
    "            Sy_flip1 = (2*((flipbit>>SpinIndex)&1)-1)im\n",
    "            flipnn  = flipbit ⊻ nn_bit\n",
    "            Sy_flip2 = (2*((flipnn>>(SpinIndex+1))&1)-1)im\n",
    "            Sy = Sy_flip1*Sy_flip2\n",
    "            value = -(J_perp/4)*(1 + Sy)\n",
    "            if value != 0.0\n",
    "                index_original = findall(x->x==ket,list[:,2])[1]\n",
    "                index_flipped = findall(x->x==flipnn,list[:,2])[1]\n",
    "                H[index_flipped,index_original] += value\n",
    "            end\n",
    "            Szi = 2*((ket>>SpinIndex)&1)-1\n",
    "            Szi_next = 2*((ket>>(SpinIndex+1))&1)-1\n",
    "            Bondz = (Delta/4)*Szi*Szi_next\n",
    "            Diagonal += Bondz\n",
    " \n",
    "        end\n",
    "        \n",
    "        index_ket = findall(x->x==ket,list[:,2])[1]\n",
    "        H[index_ket,index_ket] = -1 * Diagonal\n",
    "        \n",
    "    end\n",
    "    \n",
    "    H_sparse = H \n",
    "    return H_sparse\n",
    "end\n",
    "    "
   ]
  },
  {
   "cell_type": "code",
   "execution_count": null,
   "metadata": {},
   "outputs": [],
   "source": [
    "Ham = Build_Sz0_Block(4,-1,-1)"
   ]
  },
  {
   "cell_type": "markdown",
   "metadata": {},
   "source": [
    "breaks for N > 18..."
   ]
  },
  {
   "cell_type": "markdown",
   "metadata": {
    "collapsed": true
   },
   "source": [
    "# Step 2: Diagonalize the Hamiltonian"
   ]
  },
  {
   "cell_type": "code",
   "execution_count": null,
   "metadata": {},
   "outputs": [],
   "source": [
    "using LinearAlgebra\n",
    "using Arpack\n",
    "\n",
    "N_max = 10\n",
    "N_range = range(10,N_max,step=2)\n",
    "gsEs = zeros(length(N_range))\n",
    "\n",
    "for i in (1:length(N_range))\n",
    "    n = Int(N_range[i])\n",
    "    print(n)\n",
    "    Ham = Build_Sz0_Block(n,1,1)\n",
    "    gs,vec = eigs(Ham,nev=1,which=:SR)\n",
    "    gsEs[i] = gs[1]\n",
    "end"
   ]
  },
  {
   "cell_type": "code",
   "execution_count": null,
   "metadata": {},
   "outputs": [],
   "source": [
    "show(stdout,\"text/plain\",gsEs)"
   ]
  },
  {
   "cell_type": "markdown",
   "metadata": {},
   "source": [
    "# Step 3: Do what the problem asks"
   ]
  },
  {
   "cell_type": "code",
   "execution_count": 4,
   "metadata": {},
   "outputs": [],
   "source": [
    "N_range_new = range(4,18,step = 2);"
   ]
  },
  {
   "cell_type": "markdown",
   "metadata": {},
   "source": [
    "##### The XY Model"
   ]
  },
  {
   "cell_type": "markdown",
   "metadata": {},
   "source": [
    "Perform a finite size scaling extrapolation of several of your largest N to obain an estimate for the ground-state energy. Since we are only concerned with the ground state energy, we can use the eigmin() function."
   ]
  },
  {
   "cell_type": "code",
   "execution_count": null,
   "metadata": {},
   "outputs": [],
   "source": [
    "using Arpack\n",
    "gsEs_XY_new = zeros(length(N_range_new))\n",
    "\n",
    "for i in 1:length(N_range_new)\n",
    "    N_XY = N_range_new[i]\n",
    "    println(N_XY)\n",
    "    H_XY = Build_Sz0_Block(N_XY,0,1)\n",
    "    gs,vec = eigs(H_XY,nev=1,which=:SR)\n",
    "    gsEs_XY_new[i] = gs[1]\n",
    "end\n",
    "print(gsEs_XY_new)"
   ]
  },
  {
   "cell_type": "code",
   "execution_count": null,
   "metadata": {},
   "outputs": [],
   "source": [
    "using JLD2\n",
    "save_object(\"NewData/XY_gsEs_prob2_new\",gsEs_XY_new)"
   ]
  },
  {
   "cell_type": "code",
   "execution_count": 5,
   "metadata": {},
   "outputs": [
    {
     "data": {
      "text/plain": [
       "8-element Vector{Float64}:\n",
       " -1.414213562373095\n",
       " -2.000000000000001\n",
       " -2.613125929752753\n",
       " -3.236067977499789\n",
       " -3.8637033051562697\n",
       " -4.493959207434936\n",
       " -5.125830895483011\n",
       " -5.758770483143638"
      ]
     },
     "execution_count": 5,
     "metadata": {},
     "output_type": "execute_result"
    }
   ],
   "source": [
    "using JLD2\n",
    "gsEs_XY = load_object(\"NewData/XY_gsEs_prob2_new\")"
   ]
  },
  {
   "cell_type": "code",
   "execution_count": 8,
   "metadata": {},
   "outputs": [
    {
     "data": {
      "text/plain": [
       "8-element Vector{Float64}:\n",
       " -0.3183098861837907\n",
       " -0.3183098861837907\n",
       " -0.3183098861837907\n",
       " -0.3183098861837907\n",
       " -0.3183098861837907\n",
       " -0.3183098861837907\n",
       " -0.3183098861837907\n",
       " -0.3183098861837907"
      ]
     },
     "execution_count": 8,
     "metadata": {},
     "output_type": "execute_result"
    }
   ],
   "source": [
    "gsEs_XY_perN_new = zeros(length(gsEs_XY))\n",
    "\n",
    "for i in 1:length(gsEs_XY)\n",
    "    gsEs_XY_perN_new[i] = gsEs_XY[i]/N_range_new[i]\n",
    "end\n",
    "\n",
    "ground_truth_XY_new = ones(length(N_range_new)).*(-1/pi)"
   ]
  },
  {
   "cell_type": "code",
   "execution_count": 9,
   "metadata": {},
   "outputs": [
    {
     "data": {
      "image/svg+xml": [
       "<?xml version=\"1.0\" encoding=\"utf-8\"?>\n",
       "<svg xmlns=\"http://www.w3.org/2000/svg\" xmlns:xlink=\"http://www.w3.org/1999/xlink\" width=\"600\" height=\"400\" viewBox=\"0 0 2400 1600\">\n",
       "<defs>\n",
       "  <clipPath id=\"clip470\">\n",
       "    <rect x=\"0\" y=\"0\" width=\"2400\" height=\"1600\"/>\n",
       "  </clipPath>\n",
       "</defs>\n",
       "<path clip-path=\"url(#clip470)\" d=\"\n",
       "M0 1600 L2400 1600 L2400 0 L0 0  Z\n",
       "  \" fill=\"#ffffff\" fill-rule=\"evenodd\" fill-opacity=\"1\"/>\n",
       "<defs>\n",
       "  <clipPath id=\"clip471\">\n",
       "    <rect x=\"480\" y=\"0\" width=\"1681\" height=\"1600\"/>\n",
       "  </clipPath>\n",
       "</defs>\n",
       "<path clip-path=\"url(#clip470)\" d=\"\n",
       "M287.852 1423.18 L2352.76 1423.18 L2352.76 123.472 L287.852 123.472  Z\n",
       "  \" fill=\"#ffffff\" fill-rule=\"evenodd\" fill-opacity=\"1\"/>\n",
       "<defs>\n",
       "  <clipPath id=\"clip472\">\n",
       "    <rect x=\"287\" y=\"123\" width=\"2066\" height=\"1301\"/>\n",
       "  </clipPath>\n",
       "</defs>\n",
       "<polyline clip-path=\"url(#clip472)\" style=\"stroke:#000000; stroke-linecap:butt; stroke-linejoin:round; stroke-width:2; stroke-opacity:0.1; fill:none\" points=\"\n",
       "  485.437,1423.18 485.437,123.472 \n",
       "  \"/>\n",
       "<polyline clip-path=\"url(#clip472)\" style=\"stroke:#000000; stroke-linecap:butt; stroke-linejoin:round; stroke-width:2; stroke-opacity:0.1; fill:none\" points=\"\n",
       "  833.298,1423.18 833.298,123.472 \n",
       "  \"/>\n",
       "<polyline clip-path=\"url(#clip472)\" style=\"stroke:#000000; stroke-linecap:butt; stroke-linejoin:round; stroke-width:2; stroke-opacity:0.1; fill:none\" points=\"\n",
       "  1181.16,1423.18 1181.16,123.472 \n",
       "  \"/>\n",
       "<polyline clip-path=\"url(#clip472)\" style=\"stroke:#000000; stroke-linecap:butt; stroke-linejoin:round; stroke-width:2; stroke-opacity:0.1; fill:none\" points=\"\n",
       "  1529.02,1423.18 1529.02,123.472 \n",
       "  \"/>\n",
       "<polyline clip-path=\"url(#clip472)\" style=\"stroke:#000000; stroke-linecap:butt; stroke-linejoin:round; stroke-width:2; stroke-opacity:0.1; fill:none\" points=\"\n",
       "  1876.88,1423.18 1876.88,123.472 \n",
       "  \"/>\n",
       "<polyline clip-path=\"url(#clip472)\" style=\"stroke:#000000; stroke-linecap:butt; stroke-linejoin:round; stroke-width:2; stroke-opacity:0.1; fill:none\" points=\"\n",
       "  2224.74,1423.18 2224.74,123.472 \n",
       "  \"/>\n",
       "<polyline clip-path=\"url(#clip470)\" style=\"stroke:#000000; stroke-linecap:butt; stroke-linejoin:round; stroke-width:4; stroke-opacity:1; fill:none\" points=\"\n",
       "  287.852,1423.18 2352.76,1423.18 \n",
       "  \"/>\n",
       "<polyline clip-path=\"url(#clip470)\" style=\"stroke:#000000; stroke-linecap:butt; stroke-linejoin:round; stroke-width:4; stroke-opacity:1; fill:none\" points=\"\n",
       "  485.437,1423.18 485.437,1404.28 \n",
       "  \"/>\n",
       "<polyline clip-path=\"url(#clip470)\" style=\"stroke:#000000; stroke-linecap:butt; stroke-linejoin:round; stroke-width:4; stroke-opacity:1; fill:none\" points=\"\n",
       "  833.298,1423.18 833.298,1404.28 \n",
       "  \"/>\n",
       "<polyline clip-path=\"url(#clip470)\" style=\"stroke:#000000; stroke-linecap:butt; stroke-linejoin:round; stroke-width:4; stroke-opacity:1; fill:none\" points=\"\n",
       "  1181.16,1423.18 1181.16,1404.28 \n",
       "  \"/>\n",
       "<polyline clip-path=\"url(#clip470)\" style=\"stroke:#000000; stroke-linecap:butt; stroke-linejoin:round; stroke-width:4; stroke-opacity:1; fill:none\" points=\"\n",
       "  1529.02,1423.18 1529.02,1404.28 \n",
       "  \"/>\n",
       "<polyline clip-path=\"url(#clip470)\" style=\"stroke:#000000; stroke-linecap:butt; stroke-linejoin:round; stroke-width:4; stroke-opacity:1; fill:none\" points=\"\n",
       "  1876.88,1423.18 1876.88,1404.28 \n",
       "  \"/>\n",
       "<polyline clip-path=\"url(#clip470)\" style=\"stroke:#000000; stroke-linecap:butt; stroke-linejoin:round; stroke-width:4; stroke-opacity:1; fill:none\" points=\"\n",
       "  2224.74,1423.18 2224.74,1404.28 \n",
       "  \"/>\n",
       "<path clip-path=\"url(#clip470)\" d=\"M452.602 1451.02 L470.958 1451.02 L470.958 1454.96 L456.884 1454.96 L456.884 1463.43 Q457.903 1463.08 458.921 1462.92 Q459.94 1462.73 460.958 1462.73 Q466.745 1462.73 470.125 1465.9 Q473.504 1469.08 473.504 1474.49 Q473.504 1480.07 470.032 1483.17 Q466.56 1486.25 460.241 1486.25 Q458.065 1486.25 455.796 1485.88 Q453.551 1485.51 451.143 1484.77 L451.143 1480.07 Q453.227 1481.2 455.449 1481.76 Q457.671 1482.32 460.148 1482.32 Q464.153 1482.32 466.49 1480.21 Q468.828 1478.1 468.828 1474.49 Q468.828 1470.88 466.49 1468.77 Q464.153 1466.67 460.148 1466.67 Q458.273 1466.67 456.398 1467.08 Q454.546 1467.5 452.602 1468.38 L452.602 1451.02 Z\" fill=\"#000000\" fill-rule=\"evenodd\" fill-opacity=\"1\" /><path clip-path=\"url(#clip470)\" d=\"M482.717 1479.7 L487.601 1479.7 L487.601 1485.58 L482.717 1485.58 L482.717 1479.7 Z\" fill=\"#000000\" fill-rule=\"evenodd\" fill-opacity=\"1\" /><path clip-path=\"url(#clip470)\" d=\"M507.787 1454.1 Q504.175 1454.1 502.347 1457.66 Q500.541 1461.2 500.541 1468.33 Q500.541 1475.44 502.347 1479.01 Q504.175 1482.55 507.787 1482.55 Q511.421 1482.55 513.226 1479.01 Q515.055 1475.44 515.055 1468.33 Q515.055 1461.2 513.226 1457.66 Q511.421 1454.1 507.787 1454.1 M507.787 1450.39 Q513.597 1450.39 516.652 1455 Q519.731 1459.58 519.731 1468.33 Q519.731 1477.06 516.652 1481.67 Q513.597 1486.25 507.787 1486.25 Q501.976 1486.25 498.898 1481.67 Q495.842 1477.06 495.842 1468.33 Q495.842 1459.58 498.898 1455 Q501.976 1450.39 507.787 1450.39 Z\" fill=\"#000000\" fill-rule=\"evenodd\" fill-opacity=\"1\" /><path clip-path=\"url(#clip470)\" d=\"M799.618 1451.02 L821.84 1451.02 L821.84 1453.01 L809.294 1485.58 L804.41 1485.58 L816.215 1454.96 L799.618 1454.96 L799.618 1451.02 Z\" fill=\"#000000\" fill-rule=\"evenodd\" fill-opacity=\"1\" /><path clip-path=\"url(#clip470)\" d=\"M830.96 1479.7 L835.845 1479.7 L835.845 1485.58 L830.96 1485.58 L830.96 1479.7 Z\" fill=\"#000000\" fill-rule=\"evenodd\" fill-opacity=\"1\" /><path clip-path=\"url(#clip470)\" d=\"M846.076 1451.02 L864.432 1451.02 L864.432 1454.96 L850.358 1454.96 L850.358 1463.43 Q851.377 1463.08 852.395 1462.92 Q853.414 1462.73 854.432 1462.73 Q860.219 1462.73 863.599 1465.9 Q866.979 1469.08 866.979 1474.49 Q866.979 1480.07 863.506 1483.17 Q860.034 1486.25 853.715 1486.25 Q851.539 1486.25 849.27 1485.88 Q847.025 1485.51 844.618 1484.77 L844.618 1480.07 Q846.701 1481.2 848.923 1481.76 Q851.145 1482.32 853.622 1482.32 Q857.627 1482.32 859.965 1480.21 Q862.303 1478.1 862.303 1474.49 Q862.303 1470.88 859.965 1468.77 Q857.627 1466.67 853.622 1466.67 Q851.747 1466.67 849.872 1467.08 Q848.02 1467.5 846.076 1468.38 L846.076 1451.02 Z\" fill=\"#000000\" fill-rule=\"evenodd\" fill-opacity=\"1\" /><path clip-path=\"url(#clip470)\" d=\"M1133.23 1481.64 L1140.87 1481.64 L1140.87 1455.28 L1132.56 1456.95 L1132.56 1452.69 L1140.82 1451.02 L1145.5 1451.02 L1145.5 1481.64 L1153.14 1481.64 L1153.14 1485.58 L1133.23 1485.58 L1133.23 1481.64 Z\" fill=\"#000000\" fill-rule=\"evenodd\" fill-opacity=\"1\" /><path clip-path=\"url(#clip470)\" d=\"M1172.58 1454.1 Q1168.97 1454.1 1167.14 1457.66 Q1165.34 1461.2 1165.34 1468.33 Q1165.34 1475.44 1167.14 1479.01 Q1168.97 1482.55 1172.58 1482.55 Q1176.22 1482.55 1178.02 1479.01 Q1179.85 1475.44 1179.85 1468.33 Q1179.85 1461.2 1178.02 1457.66 Q1176.22 1454.1 1172.58 1454.1 M1172.58 1450.39 Q1178.39 1450.39 1181.45 1455 Q1184.53 1459.58 1184.53 1468.33 Q1184.53 1477.06 1181.45 1481.67 Q1178.39 1486.25 1172.58 1486.25 Q1166.77 1486.25 1163.69 1481.67 Q1160.64 1477.06 1160.64 1468.33 Q1160.64 1459.58 1163.69 1455 Q1166.77 1450.39 1172.58 1450.39 Z\" fill=\"#000000\" fill-rule=\"evenodd\" fill-opacity=\"1\" /><path clip-path=\"url(#clip470)\" d=\"M1192.75 1479.7 L1197.63 1479.7 L1197.63 1485.58 L1192.75 1485.58 L1192.75 1479.7 Z\" fill=\"#000000\" fill-rule=\"evenodd\" fill-opacity=\"1\" /><path clip-path=\"url(#clip470)\" d=\"M1217.81 1454.1 Q1214.2 1454.1 1212.37 1457.66 Q1210.57 1461.2 1210.57 1468.33 Q1210.57 1475.44 1212.37 1479.01 Q1214.2 1482.55 1217.81 1482.55 Q1221.45 1482.55 1223.25 1479.01 Q1225.08 1475.44 1225.08 1468.33 Q1225.08 1461.2 1223.25 1457.66 Q1221.45 1454.1 1217.81 1454.1 M1217.81 1450.39 Q1223.62 1450.39 1226.68 1455 Q1229.76 1459.58 1229.76 1468.33 Q1229.76 1477.06 1226.68 1481.67 Q1223.62 1486.25 1217.81 1486.25 Q1212 1486.25 1208.93 1481.67 Q1205.87 1477.06 1205.87 1468.33 Q1205.87 1459.58 1208.93 1455 Q1212 1450.39 1217.81 1450.39 Z\" fill=\"#000000\" fill-rule=\"evenodd\" fill-opacity=\"1\" /><path clip-path=\"url(#clip470)\" d=\"M1481.59 1481.64 L1489.23 1481.64 L1489.23 1455.28 L1480.92 1456.95 L1480.92 1452.69 L1489.18 1451.02 L1493.86 1451.02 L1493.86 1481.64 L1501.5 1481.64 L1501.5 1485.58 L1481.59 1485.58 L1481.59 1481.64 Z\" fill=\"#000000\" fill-rule=\"evenodd\" fill-opacity=\"1\" /><path clip-path=\"url(#clip470)\" d=\"M1514.97 1481.64 L1531.29 1481.64 L1531.29 1485.58 L1509.34 1485.58 L1509.34 1481.64 Q1512.01 1478.89 1516.59 1474.26 Q1521.2 1469.61 1522.38 1468.27 Q1524.62 1465.74 1525.5 1464.01 Q1526.4 1462.25 1526.4 1460.56 Q1526.4 1457.8 1524.46 1456.07 Q1522.54 1454.33 1519.44 1454.33 Q1517.24 1454.33 1514.78 1455.09 Q1512.35 1455.86 1509.58 1457.41 L1509.58 1452.69 Q1512.4 1451.55 1514.85 1450.97 Q1517.31 1450.39 1519.34 1450.39 Q1524.72 1450.39 1527.91 1453.08 Q1531.1 1455.77 1531.1 1460.26 Q1531.1 1462.39 1530.29 1464.31 Q1529.51 1466.2 1527.4 1468.8 Q1526.82 1469.47 1523.72 1472.69 Q1520.62 1475.88 1514.97 1481.64 Z\" fill=\"#000000\" fill-rule=\"evenodd\" fill-opacity=\"1\" /><path clip-path=\"url(#clip470)\" d=\"M1541.1 1479.7 L1545.99 1479.7 L1545.99 1485.58 L1541.1 1485.58 L1541.1 1479.7 Z\" fill=\"#000000\" fill-rule=\"evenodd\" fill-opacity=\"1\" /><path clip-path=\"url(#clip470)\" d=\"M1556.22 1451.02 L1574.58 1451.02 L1574.58 1454.96 L1560.5 1454.96 L1560.5 1463.43 Q1561.52 1463.08 1562.54 1462.92 Q1563.56 1462.73 1564.58 1462.73 Q1570.36 1462.73 1573.74 1465.9 Q1577.12 1469.08 1577.12 1474.49 Q1577.12 1480.07 1573.65 1483.17 Q1570.18 1486.25 1563.86 1486.25 Q1561.68 1486.25 1559.41 1485.88 Q1557.17 1485.51 1554.76 1484.77 L1554.76 1480.07 Q1556.84 1481.2 1559.07 1481.76 Q1561.29 1482.32 1563.77 1482.32 Q1567.77 1482.32 1570.11 1480.21 Q1572.45 1478.1 1572.45 1474.49 Q1572.45 1470.88 1570.11 1468.77 Q1567.77 1466.67 1563.77 1466.67 Q1561.89 1466.67 1560.02 1467.08 Q1558.16 1467.5 1556.22 1468.38 L1556.22 1451.02 Z\" fill=\"#000000\" fill-rule=\"evenodd\" fill-opacity=\"1\" /><path clip-path=\"url(#clip470)\" d=\"M1828.95 1481.64 L1836.59 1481.64 L1836.59 1455.28 L1828.28 1456.95 L1828.28 1452.69 L1836.55 1451.02 L1841.22 1451.02 L1841.22 1481.64 L1848.86 1481.64 L1848.86 1485.58 L1828.95 1485.58 L1828.95 1481.64 Z\" fill=\"#000000\" fill-rule=\"evenodd\" fill-opacity=\"1\" /><path clip-path=\"url(#clip470)\" d=\"M1858.35 1451.02 L1876.71 1451.02 L1876.71 1454.96 L1862.63 1454.96 L1862.63 1463.43 Q1863.65 1463.08 1864.67 1462.92 Q1865.69 1462.73 1866.71 1462.73 Q1872.5 1462.73 1875.87 1465.9 Q1879.25 1469.08 1879.25 1474.49 Q1879.25 1480.07 1875.78 1483.17 Q1872.31 1486.25 1865.99 1486.25 Q1863.81 1486.25 1861.55 1485.88 Q1859.3 1485.51 1856.89 1484.77 L1856.89 1480.07 Q1858.98 1481.2 1861.2 1481.76 Q1863.42 1482.32 1865.9 1482.32 Q1869.9 1482.32 1872.24 1480.21 Q1874.58 1478.1 1874.58 1474.49 Q1874.58 1470.88 1872.24 1468.77 Q1869.9 1466.67 1865.9 1466.67 Q1864.02 1466.67 1862.15 1467.08 Q1860.3 1467.5 1858.35 1468.38 L1858.35 1451.02 Z\" fill=\"#000000\" fill-rule=\"evenodd\" fill-opacity=\"1\" /><path clip-path=\"url(#clip470)\" d=\"M1888.47 1479.7 L1893.35 1479.7 L1893.35 1485.58 L1888.47 1485.58 L1888.47 1479.7 Z\" fill=\"#000000\" fill-rule=\"evenodd\" fill-opacity=\"1\" /><path clip-path=\"url(#clip470)\" d=\"M1913.54 1454.1 Q1909.93 1454.1 1908.1 1457.66 Q1906.29 1461.2 1906.29 1468.33 Q1906.29 1475.44 1908.1 1479.01 Q1909.93 1482.55 1913.54 1482.55 Q1917.17 1482.55 1918.98 1479.01 Q1920.81 1475.44 1920.81 1468.33 Q1920.81 1461.2 1918.98 1457.66 Q1917.17 1454.1 1913.54 1454.1 M1913.54 1450.39 Q1919.35 1450.39 1922.4 1455 Q1925.48 1459.58 1925.48 1468.33 Q1925.48 1477.06 1922.4 1481.67 Q1919.35 1486.25 1913.54 1486.25 Q1907.73 1486.25 1904.65 1481.67 Q1901.59 1477.06 1901.59 1468.33 Q1901.59 1459.58 1904.65 1455 Q1907.73 1450.39 1913.54 1450.39 Z\" fill=\"#000000\" fill-rule=\"evenodd\" fill-opacity=\"1\" /><path clip-path=\"url(#clip470)\" d=\"M2177.31 1481.64 L2184.95 1481.64 L2184.95 1455.28 L2176.64 1456.95 L2176.64 1452.69 L2184.91 1451.02 L2189.58 1451.02 L2189.58 1481.64 L2197.22 1481.64 L2197.22 1485.58 L2177.31 1485.58 L2177.31 1481.64 Z\" fill=\"#000000\" fill-rule=\"evenodd\" fill-opacity=\"1\" /><path clip-path=\"url(#clip470)\" d=\"M2205.48 1451.02 L2227.71 1451.02 L2227.71 1453.01 L2215.16 1485.58 L2210.28 1485.58 L2222.08 1454.96 L2205.48 1454.96 L2205.48 1451.02 Z\" fill=\"#000000\" fill-rule=\"evenodd\" fill-opacity=\"1\" /><path clip-path=\"url(#clip470)\" d=\"M2236.83 1479.7 L2241.71 1479.7 L2241.71 1485.58 L2236.83 1485.58 L2236.83 1479.7 Z\" fill=\"#000000\" fill-rule=\"evenodd\" fill-opacity=\"1\" /><path clip-path=\"url(#clip470)\" d=\"M2251.94 1451.02 L2270.3 1451.02 L2270.3 1454.96 L2256.22 1454.96 L2256.22 1463.43 Q2257.24 1463.08 2258.26 1462.92 Q2259.28 1462.73 2260.3 1462.73 Q2266.09 1462.73 2269.46 1465.9 Q2272.84 1469.08 2272.84 1474.49 Q2272.84 1480.07 2269.37 1483.17 Q2265.9 1486.25 2259.58 1486.25 Q2257.4 1486.25 2255.14 1485.88 Q2252.89 1485.51 2250.48 1484.77 L2250.48 1480.07 Q2252.57 1481.2 2254.79 1481.76 Q2257.01 1482.32 2259.49 1482.32 Q2263.49 1482.32 2265.83 1480.21 Q2268.17 1478.1 2268.17 1474.49 Q2268.17 1470.88 2265.83 1468.77 Q2263.49 1466.67 2259.49 1466.67 Q2257.61 1466.67 2255.74 1467.08 Q2253.89 1467.5 2251.94 1468.38 L2251.94 1451.02 Z\" fill=\"#000000\" fill-rule=\"evenodd\" fill-opacity=\"1\" /><path clip-path=\"url(#clip470)\" d=\"M1302.32 1520.52 L1310.98 1520.52 L1332.05 1560.28 L1332.05 1520.52 L1338.29 1520.52 L1338.29 1568.04 L1329.63 1568.04 L1308.56 1528.29 L1308.56 1568.04 L1302.32 1568.04 L1302.32 1520.52 Z\" fill=\"#000000\" fill-rule=\"evenodd\" fill-opacity=\"1\" /><polyline clip-path=\"url(#clip472)\" style=\"stroke:#000000; stroke-linecap:butt; stroke-linejoin:round; stroke-width:2; stroke-opacity:0.1; fill:none\" points=\"\n",
       "  287.852,1262.77 2352.76,1262.77 \n",
       "  \"/>\n",
       "<polyline clip-path=\"url(#clip472)\" style=\"stroke:#000000; stroke-linecap:butt; stroke-linejoin:round; stroke-width:2; stroke-opacity:0.1; fill:none\" points=\"\n",
       "  287.852,914.866 2352.76,914.866 \n",
       "  \"/>\n",
       "<polyline clip-path=\"url(#clip472)\" style=\"stroke:#000000; stroke-linecap:butt; stroke-linejoin:round; stroke-width:2; stroke-opacity:0.1; fill:none\" points=\"\n",
       "  287.852,566.961 2352.76,566.961 \n",
       "  \"/>\n",
       "<polyline clip-path=\"url(#clip472)\" style=\"stroke:#000000; stroke-linecap:butt; stroke-linejoin:round; stroke-width:2; stroke-opacity:0.1; fill:none\" points=\"\n",
       "  287.852,219.056 2352.76,219.056 \n",
       "  \"/>\n",
       "<polyline clip-path=\"url(#clip470)\" style=\"stroke:#000000; stroke-linecap:butt; stroke-linejoin:round; stroke-width:4; stroke-opacity:1; fill:none\" points=\"\n",
       "  287.852,1423.18 287.852,123.472 \n",
       "  \"/>\n",
       "<polyline clip-path=\"url(#clip470)\" style=\"stroke:#000000; stroke-linecap:butt; stroke-linejoin:round; stroke-width:4; stroke-opacity:1; fill:none\" points=\"\n",
       "  287.852,1262.77 306.75,1262.77 \n",
       "  \"/>\n",
       "<polyline clip-path=\"url(#clip470)\" style=\"stroke:#000000; stroke-linecap:butt; stroke-linejoin:round; stroke-width:4; stroke-opacity:1; fill:none\" points=\"\n",
       "  287.852,914.866 306.75,914.866 \n",
       "  \"/>\n",
       "<polyline clip-path=\"url(#clip470)\" style=\"stroke:#000000; stroke-linecap:butt; stroke-linejoin:round; stroke-width:4; stroke-opacity:1; fill:none\" points=\"\n",
       "  287.852,566.961 306.75,566.961 \n",
       "  \"/>\n",
       "<polyline clip-path=\"url(#clip470)\" style=\"stroke:#000000; stroke-linecap:butt; stroke-linejoin:round; stroke-width:4; stroke-opacity:1; fill:none\" points=\"\n",
       "  287.852,219.056 306.75,219.056 \n",
       "  \"/>\n",
       "<path clip-path=\"url(#clip470)\" d=\"M115.742 1263.22 L145.417 1263.22 L145.417 1267.16 L115.742 1267.16 L115.742 1263.22 Z\" fill=\"#000000\" fill-rule=\"evenodd\" fill-opacity=\"1\" /><path clip-path=\"url(#clip470)\" d=\"M165.51 1248.57 Q161.899 1248.57 160.07 1252.13 Q158.265 1255.68 158.265 1262.81 Q158.265 1269.91 160.07 1273.48 Q161.899 1277.02 165.51 1277.02 Q169.144 1277.02 170.95 1273.48 Q172.778 1269.91 172.778 1262.81 Q172.778 1255.68 170.95 1252.13 Q169.144 1248.57 165.51 1248.57 M165.51 1244.87 Q171.32 1244.87 174.376 1249.47 Q177.454 1254.06 177.454 1262.81 Q177.454 1271.53 174.376 1276.14 Q171.32 1280.72 165.51 1280.72 Q159.7 1280.72 156.621 1276.14 Q153.566 1271.53 153.566 1262.81 Q153.566 1254.06 156.621 1249.47 Q159.7 1244.87 165.51 1244.87 Z\" fill=\"#000000\" fill-rule=\"evenodd\" fill-opacity=\"1\" /><path clip-path=\"url(#clip470)\" d=\"M185.672 1274.17 L190.556 1274.17 L190.556 1280.05 L185.672 1280.05 L185.672 1274.17 Z\" fill=\"#000000\" fill-rule=\"evenodd\" fill-opacity=\"1\" /><path clip-path=\"url(#clip470)\" d=\"M214.908 1261.42 Q218.264 1262.13 220.139 1264.4 Q222.037 1266.67 222.037 1270.01 Q222.037 1275.12 218.519 1277.92 Q215 1280.72 208.519 1280.72 Q206.343 1280.72 204.028 1280.28 Q201.737 1279.87 199.283 1279.01 L199.283 1274.5 Q201.227 1275.63 203.542 1276.21 Q205.857 1276.79 208.38 1276.79 Q212.778 1276.79 215.07 1275.05 Q217.385 1273.32 217.385 1270.01 Q217.385 1266.95 215.232 1265.24 Q213.102 1263.5 209.283 1263.5 L205.255 1263.5 L205.255 1259.66 L209.468 1259.66 Q212.917 1259.66 214.746 1258.29 Q216.574 1256.9 216.574 1254.31 Q216.574 1251.65 214.676 1250.24 Q212.801 1248.8 209.283 1248.8 Q207.362 1248.8 205.162 1249.22 Q202.963 1249.63 200.325 1250.51 L200.325 1246.35 Q202.987 1245.61 205.301 1245.24 Q207.639 1244.87 209.699 1244.87 Q215.024 1244.87 218.125 1247.3 Q221.227 1249.7 221.227 1253.82 Q221.227 1256.7 219.584 1258.69 Q217.94 1260.65 214.908 1261.42 Z\" fill=\"#000000\" fill-rule=\"evenodd\" fill-opacity=\"1\" /><path clip-path=\"url(#clip470)\" d=\"M230.949 1245.49 L249.306 1245.49 L249.306 1249.43 L235.232 1249.43 L235.232 1257.9 Q236.25 1257.55 237.269 1257.39 Q238.287 1257.2 239.306 1257.2 Q245.093 1257.2 248.472 1260.38 Q251.852 1263.55 251.852 1268.96 Q251.852 1274.54 248.38 1277.64 Q244.908 1280.72 238.588 1280.72 Q236.412 1280.72 234.144 1280.35 Q231.898 1279.98 229.491 1279.24 L229.491 1274.54 Q231.574 1275.68 233.797 1276.23 Q236.019 1276.79 238.496 1276.79 Q242.5 1276.79 244.838 1274.68 Q247.176 1272.57 247.176 1268.96 Q247.176 1265.35 244.838 1263.25 Q242.5 1261.14 238.496 1261.14 Q236.621 1261.14 234.746 1261.56 Q232.894 1261.97 230.949 1262.85 L230.949 1245.49 Z\" fill=\"#000000\" fill-rule=\"evenodd\" fill-opacity=\"1\" /><path clip-path=\"url(#clip470)\" d=\"M114.26 915.318 L143.936 915.318 L143.936 919.253 L114.26 919.253 L114.26 915.318 Z\" fill=\"#000000\" fill-rule=\"evenodd\" fill-opacity=\"1\" /><path clip-path=\"url(#clip470)\" d=\"M164.028 900.665 Q160.417 900.665 158.589 904.23 Q156.783 907.771 156.783 914.901 Q156.783 922.008 158.589 925.572 Q160.417 929.114 164.028 929.114 Q167.663 929.114 169.468 925.572 Q171.297 922.008 171.297 914.901 Q171.297 907.771 169.468 904.23 Q167.663 900.665 164.028 900.665 M164.028 896.961 Q169.839 896.961 172.894 901.568 Q175.973 906.151 175.973 914.901 Q175.973 923.628 172.894 928.234 Q169.839 932.818 164.028 932.818 Q158.218 932.818 155.14 928.234 Q152.084 923.628 152.084 914.901 Q152.084 906.151 155.14 901.568 Q158.218 896.961 164.028 896.961 Z\" fill=\"#000000\" fill-rule=\"evenodd\" fill-opacity=\"1\" /><path clip-path=\"url(#clip470)\" d=\"M184.19 926.267 L189.075 926.267 L189.075 932.146 L184.19 932.146 L184.19 926.267 Z\" fill=\"#000000\" fill-rule=\"evenodd\" fill-opacity=\"1\" /><path clip-path=\"url(#clip470)\" d=\"M213.426 913.512 Q216.783 914.23 218.658 916.498 Q220.556 918.767 220.556 922.1 Q220.556 927.216 217.037 930.017 Q213.519 932.818 207.037 932.818 Q204.862 932.818 202.547 932.378 Q200.255 931.961 197.801 931.105 L197.801 926.591 Q199.746 927.725 202.061 928.304 Q204.375 928.882 206.899 928.882 Q211.297 928.882 213.588 927.146 Q215.903 925.41 215.903 922.1 Q215.903 919.045 213.75 917.332 Q211.621 915.596 207.801 915.596 L203.774 915.596 L203.774 911.753 L207.987 911.753 Q211.436 911.753 213.264 910.387 Q215.093 908.998 215.093 906.406 Q215.093 903.744 213.195 902.332 Q211.32 900.897 207.801 900.897 Q205.88 900.897 203.681 901.313 Q201.482 901.73 198.843 902.609 L198.843 898.443 Q201.505 897.702 203.82 897.332 Q206.158 896.961 208.218 896.961 Q213.542 896.961 216.644 899.392 Q219.746 901.799 219.746 905.92 Q219.746 908.79 218.102 910.781 Q216.459 912.748 213.426 913.512 Z\" fill=\"#000000\" fill-rule=\"evenodd\" fill-opacity=\"1\" /><path clip-path=\"url(#clip470)\" d=\"M242.269 901.66 L230.463 920.109 L242.269 920.109 L242.269 901.66 M241.042 897.586 L246.921 897.586 L246.921 920.109 L251.852 920.109 L251.852 923.998 L246.921 923.998 L246.921 932.146 L242.269 932.146 L242.269 923.998 L226.667 923.998 L226.667 919.484 L241.042 897.586 Z\" fill=\"#000000\" fill-rule=\"evenodd\" fill-opacity=\"1\" /><path clip-path=\"url(#clip470)\" d=\"M115.394 567.413 L145.07 567.413 L145.07 571.348 L115.394 571.348 L115.394 567.413 Z\" fill=\"#000000\" fill-rule=\"evenodd\" fill-opacity=\"1\" /><path clip-path=\"url(#clip470)\" d=\"M165.163 552.76 Q161.552 552.76 159.723 556.325 Q157.917 559.866 157.917 566.996 Q157.917 574.102 159.723 577.667 Q161.552 581.209 165.163 581.209 Q168.797 581.209 170.602 577.667 Q172.431 574.102 172.431 566.996 Q172.431 559.866 170.602 556.325 Q168.797 552.76 165.163 552.76 M165.163 549.056 Q170.973 549.056 174.028 553.663 Q177.107 558.246 177.107 566.996 Q177.107 575.723 174.028 580.329 Q170.973 584.913 165.163 584.913 Q159.353 584.913 156.274 580.329 Q153.218 575.723 153.218 566.996 Q153.218 558.246 156.274 553.663 Q159.353 549.056 165.163 549.056 Z\" fill=\"#000000\" fill-rule=\"evenodd\" fill-opacity=\"1\" /><path clip-path=\"url(#clip470)\" d=\"M185.325 578.362 L190.209 578.362 L190.209 584.241 L185.325 584.241 L185.325 578.362 Z\" fill=\"#000000\" fill-rule=\"evenodd\" fill-opacity=\"1\" /><path clip-path=\"url(#clip470)\" d=\"M214.561 565.607 Q217.917 566.325 219.792 568.593 Q221.69 570.862 221.69 574.195 Q221.69 579.311 218.172 582.112 Q214.653 584.913 208.172 584.913 Q205.996 584.913 203.681 584.473 Q201.389 584.056 198.936 583.2 L198.936 578.686 Q200.88 579.82 203.195 580.399 Q205.51 580.977 208.033 580.977 Q212.431 580.977 214.723 579.241 Q217.037 577.505 217.037 574.195 Q217.037 571.14 214.885 569.427 Q212.755 567.69 208.936 567.69 L204.908 567.69 L204.908 563.848 L209.121 563.848 Q212.57 563.848 214.399 562.482 Q216.227 561.093 216.227 558.501 Q216.227 555.839 214.329 554.427 Q212.454 552.991 208.936 552.991 Q207.014 552.991 204.815 553.408 Q202.616 553.825 199.977 554.704 L199.977 550.538 Q202.639 549.797 204.954 549.427 Q207.292 549.056 209.352 549.056 Q214.676 549.056 217.778 551.487 Q220.88 553.894 220.88 558.015 Q220.88 560.885 219.236 562.876 Q217.593 564.843 214.561 565.607 Z\" fill=\"#000000\" fill-rule=\"evenodd\" fill-opacity=\"1\" /><path clip-path=\"url(#clip470)\" d=\"M244.722 565.607 Q248.079 566.325 249.954 568.593 Q251.852 570.862 251.852 574.195 Q251.852 579.311 248.334 582.112 Q244.815 584.913 238.334 584.913 Q236.158 584.913 233.843 584.473 Q231.551 584.056 229.098 583.2 L229.098 578.686 Q231.042 579.82 233.357 580.399 Q235.672 580.977 238.195 580.977 Q242.593 580.977 244.884 579.241 Q247.199 577.505 247.199 574.195 Q247.199 571.14 245.046 569.427 Q242.917 567.69 239.097 567.69 L235.07 567.69 L235.07 563.848 L239.283 563.848 Q242.732 563.848 244.56 562.482 Q246.389 561.093 246.389 558.501 Q246.389 555.839 244.491 554.427 Q242.616 552.991 239.097 552.991 Q237.176 552.991 234.977 553.408 Q232.778 553.825 230.139 554.704 L230.139 550.538 Q232.801 549.797 235.116 549.427 Q237.454 549.056 239.514 549.056 Q244.838 549.056 247.94 551.487 Q251.042 553.894 251.042 558.015 Q251.042 560.885 249.398 562.876 Q247.755 564.843 244.722 565.607 Z\" fill=\"#000000\" fill-rule=\"evenodd\" fill-opacity=\"1\" /><path clip-path=\"url(#clip470)\" d=\"M116.343 219.508 L146.019 219.508 L146.019 223.443 L116.343 223.443 L116.343 219.508 Z\" fill=\"#000000\" fill-rule=\"evenodd\" fill-opacity=\"1\" /><path clip-path=\"url(#clip470)\" d=\"M166.112 204.855 Q162.501 204.855 160.672 208.42 Q158.866 211.961 158.866 219.091 Q158.866 226.197 160.672 229.762 Q162.501 233.304 166.112 233.304 Q169.746 233.304 171.552 229.762 Q173.38 226.197 173.38 219.091 Q173.38 211.961 171.552 208.42 Q169.746 204.855 166.112 204.855 M166.112 201.151 Q171.922 201.151 174.977 205.758 Q178.056 210.341 178.056 219.091 Q178.056 227.818 174.977 232.424 Q171.922 237.008 166.112 237.008 Q160.302 237.008 157.223 232.424 Q154.167 227.818 154.167 219.091 Q154.167 210.341 157.223 205.758 Q160.302 201.151 166.112 201.151 Z\" fill=\"#000000\" fill-rule=\"evenodd\" fill-opacity=\"1\" /><path clip-path=\"url(#clip470)\" d=\"M186.274 230.457 L191.158 230.457 L191.158 236.336 L186.274 236.336 L186.274 230.457 Z\" fill=\"#000000\" fill-rule=\"evenodd\" fill-opacity=\"1\" /><path clip-path=\"url(#clip470)\" d=\"M215.51 217.702 Q218.866 218.42 220.741 220.688 Q222.639 222.957 222.639 226.29 Q222.639 231.406 219.121 234.207 Q215.602 237.008 209.121 237.008 Q206.945 237.008 204.63 236.568 Q202.338 236.151 199.885 235.295 L199.885 230.781 Q201.829 231.915 204.144 232.494 Q206.459 233.072 208.982 233.072 Q213.38 233.072 215.672 231.336 Q217.986 229.6 217.986 226.29 Q217.986 223.234 215.834 221.521 Q213.704 219.785 209.885 219.785 L205.857 219.785 L205.857 215.943 L210.07 215.943 Q213.519 215.943 215.348 214.577 Q217.176 213.188 217.176 210.596 Q217.176 207.934 215.278 206.522 Q213.403 205.086 209.885 205.086 Q207.963 205.086 205.764 205.503 Q203.565 205.92 200.926 206.799 L200.926 202.633 Q203.588 201.892 205.903 201.522 Q208.241 201.151 210.301 201.151 Q215.625 201.151 218.727 203.582 Q221.829 205.989 221.829 210.11 Q221.829 212.98 220.186 214.971 Q218.542 216.938 215.51 217.702 Z\" fill=\"#000000\" fill-rule=\"evenodd\" fill-opacity=\"1\" /><path clip-path=\"url(#clip470)\" d=\"M235.533 232.401 L251.852 232.401 L251.852 236.336 L229.908 236.336 L229.908 232.401 Q232.57 229.646 237.153 225.017 Q241.759 220.364 242.94 219.021 Q245.185 216.498 246.065 214.762 Q246.968 213.003 246.968 211.313 Q246.968 208.559 245.023 206.822 Q243.102 205.086 240 205.086 Q237.801 205.086 235.347 205.85 Q232.917 206.614 230.139 208.165 L230.139 203.443 Q232.963 202.309 235.417 201.73 Q237.871 201.151 239.908 201.151 Q245.278 201.151 248.472 203.836 Q251.667 206.522 251.667 211.012 Q251.667 213.142 250.857 215.063 Q250.07 216.961 247.963 219.554 Q247.384 220.225 244.283 223.443 Q241.181 226.637 235.533 232.401 Z\" fill=\"#000000\" fill-rule=\"evenodd\" fill-opacity=\"1\" /><path clip-path=\"url(#clip470)\" d=\"M16.4842 822.883 L16.4842 792.837 L21.895 792.837 L21.895 816.454 L35.9632 816.454 L35.9632 793.824 L41.3741 793.824 L41.3741 816.454 L58.5933 816.454 L58.5933 792.264 L64.0042 792.264 L64.0042 822.883 L16.4842 822.883 Z\" fill=\"#000000\" fill-rule=\"evenodd\" fill-opacity=\"1\" /><path clip-path=\"url(#clip470)\" d=\"M16.4842 771.544 L16.4842 766.133 L70.0516 782.684 L70.0516 788.094 L16.4842 771.544 Z\" fill=\"#000000\" fill-rule=\"evenodd\" fill-opacity=\"1\" /><path clip-path=\"url(#clip470)\" d=\"M16.4842 759.735 L16.4842 751.078 L56.238 730.007 L16.4842 730.007 L16.4842 723.769 L64.0042 723.769 L64.0042 732.426 L24.2503 753.497 L64.0042 753.497 L64.0042 759.735 L16.4842 759.735 Z\" fill=\"#000000\" fill-rule=\"evenodd\" fill-opacity=\"1\" /><path clip-path=\"url(#clip470)\" d=\"M536.495 63.9476 L536.495 47.7034 L523.127 47.7034 L523.127 40.9789 L544.596 40.9789 L544.596 66.9452 Q539.857 70.3075 534.145 72.0494 Q528.433 73.7508 521.952 73.7508 Q507.774 73.7508 499.753 65.4869 Q491.773 57.1826 491.773 42.3968 Q491.773 27.5705 499.753 19.3066 Q507.774 11.0023 521.952 11.0023 Q527.866 11.0023 533.173 12.4606 Q538.52 13.9189 543.016 16.7545 L543.016 25.464 Q538.479 21.6156 533.375 19.6712 Q528.271 17.7268 522.64 17.7268 Q511.541 17.7268 505.951 23.9246 Q500.401 30.1225 500.401 42.3968 Q500.401 54.6305 505.951 60.8284 Q511.541 67.0263 522.64 67.0263 Q526.975 67.0263 530.378 66.2971 Q533.78 65.5274 536.495 63.9476 Z\" fill=\"#000000\" fill-rule=\"evenodd\" fill-opacity=\"1\" /><path clip-path=\"url(#clip470)\" d=\"M585.51 34.1734 Q584.255 33.4443 582.756 33.1202 Q581.298 32.7556 579.515 32.7556 Q573.196 32.7556 569.793 36.8875 Q566.431 40.9789 566.431 48.6757 L566.431 72.576 L558.937 72.576 L558.937 27.2059 L566.431 27.2059 L566.431 34.2544 Q568.78 30.1225 572.548 28.1376 Q576.315 26.1121 581.703 26.1121 Q582.472 26.1121 583.404 26.2337 Q584.336 26.3147 585.47 26.5172 L585.51 34.1734 Z\" fill=\"#000000\" fill-rule=\"evenodd\" fill-opacity=\"1\" /><path clip-path=\"url(#clip470)\" d=\"M609.087 32.4315 Q603.091 32.4315 599.608 37.1306 Q596.124 41.7891 596.124 49.9314 Q596.124 58.0738 599.567 62.7728 Q603.051 67.4314 609.087 67.4314 Q615.042 67.4314 618.525 62.7323 Q622.009 58.0333 622.009 49.9314 Q622.009 41.8701 618.525 37.1711 Q615.042 32.4315 609.087 32.4315 M609.087 26.1121 Q618.809 26.1121 624.359 32.4315 Q629.908 38.7509 629.908 49.9314 Q629.908 61.0714 624.359 67.4314 Q618.809 73.7508 609.087 73.7508 Q599.324 73.7508 593.774 67.4314 Q588.265 61.0714 588.265 49.9314 Q588.265 38.7509 593.774 32.4315 Q599.324 26.1121 609.087 26.1121 Z\" fill=\"#000000\" fill-rule=\"evenodd\" fill-opacity=\"1\" /><path clip-path=\"url(#clip470)\" d=\"M641.494 54.671 L641.494 27.2059 L648.948 27.2059 L648.948 54.3874 Q648.948 60.8284 651.459 64.0691 Q653.971 67.2693 658.994 67.2693 Q665.03 67.2693 668.513 63.421 Q672.038 59.5726 672.038 52.9291 L672.038 27.2059 L679.491 27.2059 L679.491 72.576 L672.038 72.576 L672.038 65.6084 Q669.324 69.7404 665.718 71.7658 Q662.154 73.7508 657.414 73.7508 Q649.596 73.7508 645.545 68.8897 Q641.494 64.0286 641.494 54.671 M660.25 26.1121 L660.25 26.1121 Z\" fill=\"#000000\" fill-rule=\"evenodd\" fill-opacity=\"1\" /><path clip-path=\"url(#clip470)\" d=\"M732.558 45.1919 L732.558 72.576 L725.105 72.576 L725.105 45.4349 Q725.105 38.994 722.593 35.7938 Q720.081 32.5936 715.058 32.5936 Q709.023 32.5936 705.539 36.4419 Q702.055 40.2903 702.055 46.9338 L702.055 72.576 L694.561 72.576 L694.561 27.2059 L702.055 27.2059 L702.055 34.2544 Q704.729 30.163 708.334 28.1376 Q711.98 26.1121 716.719 26.1121 Q724.537 26.1121 728.548 30.9732 Q732.558 35.7938 732.558 45.1919 Z\" fill=\"#000000\" fill-rule=\"evenodd\" fill-opacity=\"1\" /><path clip-path=\"url(#clip470)\" d=\"M777.28 34.0924 L777.28 9.54393 L784.734 9.54393 L784.734 72.576 L777.28 72.576 L777.28 65.7705 Q774.931 69.8214 771.325 71.8063 Q767.761 73.7508 762.738 73.7508 Q754.514 73.7508 749.329 67.1883 Q744.184 60.6258 744.184 49.9314 Q744.184 39.2371 749.329 32.6746 Q754.514 26.1121 762.738 26.1121 Q767.761 26.1121 771.325 28.0971 Q774.931 30.0415 777.28 34.0924 M751.881 49.9314 Q751.881 58.1548 755.243 62.8538 Q758.646 67.5124 764.56 67.5124 Q770.475 67.5124 773.877 62.8538 Q777.28 58.1548 777.28 49.9314 Q777.28 41.7081 773.877 37.0496 Q770.475 32.3505 764.56 32.3505 Q758.646 32.3505 755.243 37.0496 Q751.881 41.7081 751.881 49.9314 Z\" fill=\"#000000\" fill-rule=\"evenodd\" fill-opacity=\"1\" /><path clip-path=\"url(#clip470)\" d=\"M863.038 14.0809 L863.038 22.0612 Q858.379 19.8332 854.247 18.7395 Q850.116 17.6457 846.267 17.6457 Q839.583 17.6457 835.937 20.2383 Q832.332 22.8309 832.332 27.611 Q832.332 31.6214 834.722 33.6873 Q837.153 35.7128 843.877 36.9686 L848.819 37.9813 Q857.974 39.7232 862.309 44.1387 Q866.684 48.5136 866.684 55.8863 Q866.684 64.6767 860.769 69.2137 Q854.896 73.7508 843.513 73.7508 Q839.219 73.7508 834.357 72.7785 Q829.537 71.8063 824.352 69.9024 L824.352 61.4765 Q829.334 64.2716 834.114 65.6895 Q838.895 67.1073 843.513 67.1073 Q850.521 67.1073 854.328 64.3527 Q858.136 61.598 858.136 56.4939 Q858.136 52.0379 855.382 49.5264 Q852.668 47.0148 846.429 45.759 L841.447 44.7868 Q832.292 42.9639 828.2 39.075 Q824.109 35.1862 824.109 28.2591 Q824.109 20.2383 829.739 15.6203 Q835.411 11.0023 845.335 11.0023 Q849.589 11.0023 854.004 11.7719 Q858.42 12.5416 863.038 14.0809 Z\" fill=\"#000000\" fill-rule=\"evenodd\" fill-opacity=\"1\" /><path clip-path=\"url(#clip470)\" d=\"M886.493 14.324 L886.493 27.2059 L901.846 27.2059 L901.846 32.9987 L886.493 32.9987 L886.493 57.6282 Q886.493 63.1779 887.991 64.7578 Q889.531 66.3376 894.189 66.3376 L901.846 66.3376 L901.846 72.576 L894.189 72.576 Q885.561 72.576 882.28 69.3758 Q878.998 66.1351 878.998 57.6282 L878.998 32.9987 L873.53 32.9987 L873.53 27.2059 L878.998 27.2059 L878.998 14.324 L886.493 14.324 Z\" fill=\"#000000\" fill-rule=\"evenodd\" fill-opacity=\"1\" /><path clip-path=\"url(#clip470)\" d=\"M932.268 49.7694 Q923.234 49.7694 919.751 51.8354 Q916.267 53.9013 916.267 58.8839 Q916.267 62.8538 918.859 65.2034 Q921.492 67.5124 925.989 67.5124 Q932.187 67.5124 935.914 63.1374 Q939.681 58.7219 939.681 51.4303 L939.681 49.7694 L932.268 49.7694 M947.135 46.6907 L947.135 72.576 L939.681 72.576 L939.681 65.6895 Q937.129 69.8214 933.321 71.8063 Q929.513 73.7508 924.004 73.7508 Q917.036 73.7508 912.905 69.8619 Q908.813 65.9325 908.813 59.3701 Q908.813 51.7138 913.917 47.825 Q919.062 43.9361 929.23 43.9361 L939.681 43.9361 L939.681 43.2069 Q939.681 38.0623 936.278 35.2672 Q932.916 32.4315 926.799 32.4315 Q922.91 32.4315 919.224 33.3632 Q915.538 34.295 912.135 36.1584 L912.135 29.2718 Q916.226 27.692 920.075 26.9223 Q923.923 26.1121 927.569 26.1121 Q937.412 26.1121 942.274 31.2163 Q947.135 36.3204 947.135 46.6907 Z\" fill=\"#000000\" fill-rule=\"evenodd\" fill-opacity=\"1\" /><path clip-path=\"url(#clip470)\" d=\"M969.86 14.324 L969.86 27.2059 L985.213 27.2059 L985.213 32.9987 L969.86 32.9987 L969.86 57.6282 Q969.86 63.1779 971.359 64.7578 Q972.898 66.3376 977.557 66.3376 L985.213 66.3376 L985.213 72.576 L977.557 72.576 Q968.929 72.576 965.647 69.3758 Q962.366 66.1351 962.366 57.6282 L962.366 32.9987 L956.897 32.9987 L956.897 27.2059 L962.366 27.2059 L962.366 14.324 L969.86 14.324 Z\" fill=\"#000000\" fill-rule=\"evenodd\" fill-opacity=\"1\" /><path clip-path=\"url(#clip470)\" d=\"M1033.82 48.0275 L1033.82 51.6733 L999.553 51.6733 Q1000.04 59.3701 1004.17 63.421 Q1008.34 67.4314 1015.76 67.4314 Q1020.05 67.4314 1024.06 66.3781 Q1028.11 65.3249 1032.08 63.2184 L1032.08 70.267 Q1028.07 71.9684 1023.86 72.8596 Q1019.65 73.7508 1015.31 73.7508 Q1004.45 73.7508 998.095 67.4314 Q991.776 61.1119 991.776 50.3365 Q991.776 39.1965 997.771 32.6746 Q1003.81 26.1121 1014.02 26.1121 Q1023.17 26.1121 1028.48 32.0264 Q1033.82 37.9003 1033.82 48.0275 M1026.37 45.84 Q1026.29 39.7232 1022.93 36.0774 Q1019.61 32.4315 1014.1 32.4315 Q1007.86 32.4315 1004.09 35.9558 Q1000.36 39.4801 999.796 45.8805 L1026.37 45.84 Z\" fill=\"#000000\" fill-rule=\"evenodd\" fill-opacity=\"1\" /><path clip-path=\"url(#clip470)\" d=\"M1072.75 12.096 L1110.99 12.096 L1110.99 18.9825 L1080.94 18.9825 L1080.94 36.8875 L1109.74 36.8875 L1109.74 43.7741 L1080.94 43.7741 L1080.94 65.6895 L1111.72 65.6895 L1111.72 72.576 L1072.75 72.576 L1072.75 12.096 Z\" fill=\"#000000\" fill-rule=\"evenodd\" fill-opacity=\"1\" /><path clip-path=\"url(#clip470)\" d=\"M1162.56 45.1919 L1162.56 72.576 L1155.11 72.576 L1155.11 45.4349 Q1155.11 38.994 1152.6 35.7938 Q1150.08 32.5936 1145.06 32.5936 Q1139.03 32.5936 1135.54 36.4419 Q1132.06 40.2903 1132.06 46.9338 L1132.06 72.576 L1124.56 72.576 L1124.56 27.2059 L1132.06 27.2059 L1132.06 34.2544 Q1134.73 30.163 1138.34 28.1376 Q1141.98 26.1121 1146.72 26.1121 Q1154.54 26.1121 1158.55 30.9732 Q1162.56 35.7938 1162.56 45.1919 Z\" fill=\"#000000\" fill-rule=\"evenodd\" fill-opacity=\"1\" /><path clip-path=\"url(#clip470)\" d=\"M1216.24 48.0275 L1216.24 51.6733 L1181.97 51.6733 Q1182.45 59.3701 1186.58 63.421 Q1190.76 67.4314 1198.17 67.4314 Q1202.46 67.4314 1206.47 66.3781 Q1210.52 65.3249 1214.49 63.2184 L1214.49 70.267 Q1210.48 71.9684 1206.27 72.8596 Q1202.06 73.7508 1197.72 73.7508 Q1186.87 73.7508 1180.51 67.4314 Q1174.19 61.1119 1174.19 50.3365 Q1174.19 39.1965 1180.18 32.6746 Q1186.22 26.1121 1196.43 26.1121 Q1205.58 26.1121 1210.89 32.0264 Q1216.24 37.9003 1216.24 48.0275 M1208.78 45.84 Q1208.7 39.7232 1205.34 36.0774 Q1202.02 32.4315 1196.51 32.4315 Q1190.27 32.4315 1186.5 35.9558 Q1182.78 39.4801 1182.21 45.8805 L1208.78 45.84 Z\" fill=\"#000000\" fill-rule=\"evenodd\" fill-opacity=\"1\" /><path clip-path=\"url(#clip470)\" d=\"M1254.76 34.1734 Q1253.5 33.4443 1252.01 33.1202 Q1250.55 32.7556 1248.76 32.7556 Q1242.45 32.7556 1239.04 36.8875 Q1235.68 40.9789 1235.68 48.6757 L1235.68 72.576 L1228.19 72.576 L1228.19 27.2059 L1235.68 27.2059 L1235.68 34.2544 Q1238.03 30.1225 1241.8 28.1376 Q1245.56 26.1121 1250.95 26.1121 Q1251.72 26.1121 1252.65 26.2337 Q1253.59 26.3147 1254.72 26.5172 L1254.76 34.1734 Z\" fill=\"#000000\" fill-rule=\"evenodd\" fill-opacity=\"1\" /><path clip-path=\"url(#clip470)\" d=\"M1290.98 49.3643 Q1290.98 41.2625 1287.61 36.8065 Q1284.29 32.3505 1278.26 32.3505 Q1272.26 32.3505 1268.9 36.8065 Q1265.58 41.2625 1265.58 49.3643 Q1265.58 57.4256 1268.9 61.8816 Q1272.26 66.3376 1278.26 66.3376 Q1284.29 66.3376 1287.61 61.8816 Q1290.98 57.4256 1290.98 49.3643 M1298.43 66.9452 Q1298.43 78.5308 1293.28 84.1616 Q1288.14 89.8329 1277.53 89.8329 Q1273.6 89.8329 1270.11 89.2252 Q1266.63 88.6581 1263.35 87.4428 L1263.35 80.1917 Q1266.63 81.9741 1269.83 82.8248 Q1273.03 83.6755 1276.35 83.6755 Q1283.68 83.6755 1287.33 79.8271 Q1290.98 76.0193 1290.98 68.282 L1290.98 64.5957 Q1288.67 68.6061 1285.06 70.5911 Q1281.46 72.576 1276.43 72.576 Q1268.09 72.576 1262.98 66.2161 Q1257.88 59.8562 1257.88 49.3643 Q1257.88 38.832 1262.98 32.472 Q1268.09 26.1121 1276.43 26.1121 Q1281.46 26.1121 1285.06 28.0971 Q1288.67 30.082 1290.98 34.0924 L1290.98 27.2059 L1298.43 27.2059 L1298.43 66.9452 Z\" fill=\"#000000\" fill-rule=\"evenodd\" fill-opacity=\"1\" /><path clip-path=\"url(#clip470)\" d=\"M1332.66 76.7889 Q1329.5 84.8907 1326.5 87.3618 Q1323.5 89.8329 1318.48 89.8329 L1312.53 89.8329 L1312.53 83.5945 L1316.9 83.5945 Q1319.98 83.5945 1321.68 82.1361 Q1323.38 80.6778 1325.45 75.2496 L1326.79 71.8468 L1308.43 27.2059 L1316.33 27.2059 L1330.51 62.6918 L1344.69 27.2059 L1352.59 27.2059 L1332.66 76.7889 Z\" fill=\"#000000\" fill-rule=\"evenodd\" fill-opacity=\"1\" /><path clip-path=\"url(#clip470)\" d=\"M1425.83 14.0809 L1425.83 22.0612 Q1421.17 19.8332 1417.04 18.7395 Q1412.91 17.6457 1409.06 17.6457 Q1402.38 17.6457 1398.73 20.2383 Q1395.12 22.8309 1395.12 27.611 Q1395.12 31.6214 1397.51 33.6873 Q1399.94 35.7128 1406.67 36.9686 L1411.61 37.9813 Q1420.77 39.7232 1425.1 44.1387 Q1429.48 48.5136 1429.48 55.8863 Q1429.48 64.6767 1423.56 69.2137 Q1417.69 73.7508 1406.3 73.7508 Q1402.01 73.7508 1397.15 72.7785 Q1392.33 71.8063 1387.14 69.9024 L1387.14 61.4765 Q1392.13 64.2716 1396.91 65.6895 Q1401.69 67.1073 1406.3 67.1073 Q1413.31 67.1073 1417.12 64.3527 Q1420.93 61.598 1420.93 56.4939 Q1420.93 52.0379 1418.17 49.5264 Q1415.46 47.0148 1409.22 45.759 L1404.24 44.7868 Q1395.08 42.9639 1390.99 39.075 Q1386.9 35.1862 1386.9 28.2591 Q1386.9 20.2383 1392.53 15.6203 Q1398.2 11.0023 1408.13 11.0023 Q1412.38 11.0023 1416.8 11.7719 Q1421.21 12.5416 1425.83 14.0809 Z\" fill=\"#000000\" fill-rule=\"evenodd\" fill-opacity=\"1\" /><path clip-path=\"url(#clip470)\" d=\"M1474.56 28.9478 L1474.56 35.9153 Q1471.4 34.1734 1468.2 33.3227 Q1465.04 32.4315 1461.8 32.4315 Q1454.55 32.4315 1450.54 37.0496 Q1446.53 41.6271 1446.53 49.9314 Q1446.53 58.2358 1450.54 62.8538 Q1454.55 67.4314 1461.8 67.4314 Q1465.04 67.4314 1468.2 66.5807 Q1471.4 65.6895 1474.56 63.9476 L1474.56 70.8341 Q1471.44 72.2924 1468.08 73.0216 Q1464.76 73.7508 1460.99 73.7508 Q1450.74 73.7508 1444.71 67.3098 Q1438.67 60.8689 1438.67 49.9314 Q1438.67 38.832 1444.75 32.472 Q1450.86 26.1121 1461.48 26.1121 Q1464.92 26.1121 1468.2 26.8413 Q1471.48 27.5299 1474.56 28.9478 Z\" fill=\"#000000\" fill-rule=\"evenodd\" fill-opacity=\"1\" /><path clip-path=\"url(#clip470)\" d=\"M1508.14 49.7694 Q1499.11 49.7694 1495.63 51.8354 Q1492.14 53.9013 1492.14 58.8839 Q1492.14 62.8538 1494.74 65.2034 Q1497.37 67.5124 1501.87 67.5124 Q1508.06 67.5124 1511.79 63.1374 Q1515.56 58.7219 1515.56 51.4303 L1515.56 49.7694 L1508.14 49.7694 M1523.01 46.6907 L1523.01 72.576 L1515.56 72.576 L1515.56 65.6895 Q1513.01 69.8214 1509.2 71.8063 Q1505.39 73.7508 1499.88 73.7508 Q1492.91 73.7508 1488.78 69.8619 Q1484.69 65.9325 1484.69 59.3701 Q1484.69 51.7138 1489.79 47.825 Q1494.94 43.9361 1505.11 43.9361 L1515.56 43.9361 L1515.56 43.2069 Q1515.56 38.0623 1512.15 35.2672 Q1508.79 32.4315 1502.68 32.4315 Q1498.79 32.4315 1495.1 33.3632 Q1491.41 34.295 1488.01 36.1584 L1488.01 29.2718 Q1492.1 27.692 1495.95 26.9223 Q1499.8 26.1121 1503.45 26.1121 Q1513.29 26.1121 1518.15 31.2163 Q1523.01 36.3204 1523.01 46.6907 Z\" fill=\"#000000\" fill-rule=\"evenodd\" fill-opacity=\"1\" /><path clip-path=\"url(#clip470)\" d=\"M1538.36 9.54393 L1545.82 9.54393 L1545.82 72.576 L1538.36 72.576 L1538.36 9.54393 Z\" fill=\"#000000\" fill-rule=\"evenodd\" fill-opacity=\"1\" /><path clip-path=\"url(#clip470)\" d=\"M1561.41 27.2059 L1568.87 27.2059 L1568.87 72.576 L1561.41 72.576 L1561.41 27.2059 M1561.41 9.54393 L1568.87 9.54393 L1568.87 18.9825 L1561.41 18.9825 L1561.41 9.54393 Z\" fill=\"#000000\" fill-rule=\"evenodd\" fill-opacity=\"1\" /><path clip-path=\"url(#clip470)\" d=\"M1622.18 45.1919 L1622.18 72.576 L1614.72 72.576 L1614.72 45.4349 Q1614.72 38.994 1612.21 35.7938 Q1609.7 32.5936 1604.68 32.5936 Q1598.64 32.5936 1595.16 36.4419 Q1591.67 40.2903 1591.67 46.9338 L1591.67 72.576 L1584.18 72.576 L1584.18 27.2059 L1591.67 27.2059 L1591.67 34.2544 Q1594.35 30.163 1597.95 28.1376 Q1601.6 26.1121 1606.34 26.1121 Q1614.16 26.1121 1618.17 30.9732 Q1622.18 35.7938 1622.18 45.1919 Z\" fill=\"#000000\" fill-rule=\"evenodd\" fill-opacity=\"1\" /><path clip-path=\"url(#clip470)\" d=\"M1666.9 49.3643 Q1666.9 41.2625 1663.54 36.8065 Q1660.22 32.3505 1654.18 32.3505 Q1648.18 32.3505 1644.82 36.8065 Q1641.5 41.2625 1641.5 49.3643 Q1641.5 57.4256 1644.82 61.8816 Q1648.18 66.3376 1654.18 66.3376 Q1660.22 66.3376 1663.54 61.8816 Q1666.9 57.4256 1666.9 49.3643 M1674.35 66.9452 Q1674.35 78.5308 1669.21 84.1616 Q1664.06 89.8329 1653.45 89.8329 Q1649.52 89.8329 1646.04 89.2252 Q1642.55 88.6581 1639.27 87.4428 L1639.27 80.1917 Q1642.55 81.9741 1645.75 82.8248 Q1648.95 83.6755 1652.28 83.6755 Q1659.61 83.6755 1663.25 79.8271 Q1666.9 76.0193 1666.9 68.282 L1666.9 64.5957 Q1664.59 68.6061 1660.99 70.5911 Q1657.38 72.576 1652.36 72.576 Q1644.01 72.576 1638.91 66.2161 Q1633.8 59.8562 1633.8 49.3643 Q1633.8 38.832 1638.91 32.472 Q1644.01 26.1121 1652.36 26.1121 Q1657.38 26.1121 1660.99 28.0971 Q1664.59 30.082 1666.9 34.0924 L1666.9 27.2059 L1674.35 27.2059 L1674.35 66.9452 Z\" fill=\"#000000\" fill-rule=\"evenodd\" fill-opacity=\"1\" /><path clip-path=\"url(#clip470)\" d=\"M1733.98 9.62495 Q1728.55 18.942 1725.92 28.0566 Q1723.29 37.1711 1723.29 46.5287 Q1723.29 55.8863 1725.92 65.0818 Q1728.59 74.2369 1733.98 83.5134 L1727.5 83.5134 Q1721.42 73.9938 1718.39 64.7983 Q1715.39 55.6027 1715.39 46.5287 Q1715.39 37.4952 1718.39 28.3401 Q1721.38 19.1851 1727.5 9.62495 L1733.98 9.62495 Z\" fill=\"#000000\" fill-rule=\"evenodd\" fill-opacity=\"1\" /><path clip-path=\"url(#clip470)\" d=\"M1745.85 12.096 L1754.64 12.096 L1769.67 34.5785 L1784.78 12.096 L1793.57 12.096 L1774.13 41.141 L1794.87 72.576 L1786.08 72.576 L1769.06 46.8528 L1751.93 72.576 L1743.1 72.576 L1764.69 40.2903 L1745.85 12.096 Z\" fill=\"#000000\" fill-rule=\"evenodd\" fill-opacity=\"1\" /><path clip-path=\"url(#clip470)\" d=\"M1797.3 12.096 L1806.09 12.096 L1822.86 36.9686 L1839.51 12.096 L1848.3 12.096 L1826.91 43.7741 L1826.91 72.576 L1818.69 72.576 L1818.69 43.7741 L1797.3 12.096 Z\" fill=\"#000000\" fill-rule=\"evenodd\" fill-opacity=\"1\" /><path clip-path=\"url(#clip470)\" d=\"M1882.65 12.096 L1894.84 12.096 L1910.28 53.2532 L1925.79 12.096 L1937.99 12.096 L1937.99 72.576 L1930.01 72.576 L1930.01 19.4686 L1914.41 60.9499 L1906.19 60.9499 L1890.59 19.4686 L1890.59 72.576 L1882.65 72.576 L1882.65 12.096 Z\" fill=\"#000000\" fill-rule=\"evenodd\" fill-opacity=\"1\" /><path clip-path=\"url(#clip470)\" d=\"M1971.49 32.4315 Q1965.49 32.4315 1962.01 37.1306 Q1958.52 41.7891 1958.52 49.9314 Q1958.52 58.0738 1961.97 62.7728 Q1965.45 67.4314 1971.49 67.4314 Q1977.44 67.4314 1980.93 62.7323 Q1984.41 58.0333 1984.41 49.9314 Q1984.41 41.8701 1980.93 37.1711 Q1977.44 32.4315 1971.49 32.4315 M1971.49 26.1121 Q1981.21 26.1121 1986.76 32.4315 Q1992.31 38.7509 1992.31 49.9314 Q1992.31 61.0714 1986.76 67.4314 Q1981.21 73.7508 1971.49 73.7508 Q1961.72 73.7508 1956.17 67.4314 Q1950.67 61.0714 1950.67 49.9314 Q1950.67 38.7509 1956.17 32.4315 Q1961.72 26.1121 1971.49 26.1121 Z\" fill=\"#000000\" fill-rule=\"evenodd\" fill-opacity=\"1\" /><path clip-path=\"url(#clip470)\" d=\"M2034.52 34.0924 L2034.52 9.54393 L2041.97 9.54393 L2041.97 72.576 L2034.52 72.576 L2034.52 65.7705 Q2032.17 69.8214 2028.56 71.8063 Q2025 73.7508 2019.98 73.7508 Q2011.75 73.7508 2006.57 67.1883 Q2001.42 60.6258 2001.42 49.9314 Q2001.42 39.2371 2006.57 32.6746 Q2011.75 26.1121 2019.98 26.1121 Q2025 26.1121 2028.56 28.0971 Q2032.17 30.0415 2034.52 34.0924 M2009.12 49.9314 Q2009.12 58.1548 2012.48 62.8538 Q2015.88 67.5124 2021.8 67.5124 Q2027.71 67.5124 2031.12 62.8538 Q2034.52 58.1548 2034.52 49.9314 Q2034.52 41.7081 2031.12 37.0496 Q2027.71 32.3505 2021.8 32.3505 Q2015.88 32.3505 2012.48 37.0496 Q2009.12 41.7081 2009.12 49.9314 Z\" fill=\"#000000\" fill-rule=\"evenodd\" fill-opacity=\"1\" /><path clip-path=\"url(#clip470)\" d=\"M2096.13 48.0275 L2096.13 51.6733 L2061.86 51.6733 Q2062.35 59.3701 2066.48 63.421 Q2070.65 67.4314 2078.07 67.4314 Q2082.36 67.4314 2086.37 66.3781 Q2090.42 65.3249 2094.39 63.2184 L2094.39 70.267 Q2090.38 71.9684 2086.17 72.8596 Q2081.95 73.7508 2077.62 73.7508 Q2066.76 73.7508 2060.4 67.4314 Q2054.08 61.1119 2054.08 50.3365 Q2054.08 39.1965 2060.08 32.6746 Q2066.12 26.1121 2076.32 26.1121 Q2085.48 26.1121 2090.79 32.0264 Q2096.13 37.9003 2096.13 48.0275 M2088.68 45.84 Q2088.6 39.7232 2085.24 36.0774 Q2081.91 32.4315 2076.41 32.4315 Q2070.17 32.4315 2066.4 35.9558 Q2062.67 39.4801 2062.11 45.8805 L2088.68 45.84 Z\" fill=\"#000000\" fill-rule=\"evenodd\" fill-opacity=\"1\" /><path clip-path=\"url(#clip470)\" d=\"M2108.37 9.54393 L2115.82 9.54393 L2115.82 72.576 L2108.37 72.576 L2108.37 9.54393 Z\" fill=\"#000000\" fill-rule=\"evenodd\" fill-opacity=\"1\" /><path clip-path=\"url(#clip470)\" d=\"M2130.24 9.62495 L2136.72 9.62495 Q2142.8 19.1851 2145.8 28.3401 Q2148.84 37.4952 2148.84 46.5287 Q2148.84 55.6027 2145.8 64.7983 Q2142.8 73.9938 2136.72 83.5134 L2130.24 83.5134 Q2135.63 74.2369 2138.26 65.0818 Q2140.94 55.8863 2140.94 46.5287 Q2140.94 37.1711 2138.26 28.0566 Q2135.63 18.942 2130.24 9.62495 Z\" fill=\"#000000\" fill-rule=\"evenodd\" fill-opacity=\"1\" /><polyline clip-path=\"url(#clip472)\" style=\"stroke:#009af9; stroke-linecap:butt; stroke-linejoin:round; stroke-width:4; stroke-opacity:1; fill:none\" points=\"\n",
       "  346.293,160.256 624.582,160.256 902.871,160.256 1181.16,160.256 1459.45,160.256 1737.74,160.256 2016.03,160.256 2294.32,160.256 \n",
       "  \"/>\n",
       "<circle clip-path=\"url(#clip472)\" cx=\"346.293\" cy=\"1386.4\" r=\"14\" fill=\"#ff0000\" fill-rule=\"evenodd\" fill-opacity=\"1\" stroke=\"#000000\" stroke-opacity=\"1\" stroke-width=\"3.2\"/>\n",
       "<circle clip-path=\"url(#clip472)\" cx=\"624.582\" cy=\"682.93\" r=\"14\" fill=\"#ff0000\" fill-rule=\"evenodd\" fill-opacity=\"1\" stroke=\"#000000\" stroke-opacity=\"1\" stroke-width=\"3.2\"/>\n",
       "<circle clip-path=\"url(#clip472)\" cx=\"902.871\" cy=\"450.091\" r=\"14\" fill=\"#ff0000\" fill-rule=\"evenodd\" fill-opacity=\"1\" stroke=\"#000000\" stroke-opacity=\"1\" stroke-width=\"3.2\"/>\n",
       "<circle clip-path=\"url(#clip472)\" cx=\"1181.16\" cy=\"344.539\" r=\"14\" fill=\"#ff0000\" fill-rule=\"evenodd\" fill-opacity=\"1\" stroke=\"#000000\" stroke-opacity=\"1\" stroke-width=\"3.2\"/>\n",
       "<circle clip-path=\"url(#clip472)\" cx=\"1459.45\" cy=\"287.777\" r=\"14\" fill=\"#ff0000\" fill-rule=\"evenodd\" fill-opacity=\"1\" stroke=\"#000000\" stroke-opacity=\"1\" stroke-width=\"3.2\"/>\n",
       "<circle clip-path=\"url(#clip472)\" cx=\"1737.74\" cy=\"253.745\" r=\"14\" fill=\"#ff0000\" fill-rule=\"evenodd\" fill-opacity=\"1\" stroke=\"#000000\" stroke-opacity=\"1\" stroke-width=\"3.2\"/>\n",
       "<circle clip-path=\"url(#clip472)\" cx=\"2016.03\" cy=\"231.735\" r=\"14\" fill=\"#ff0000\" fill-rule=\"evenodd\" fill-opacity=\"1\" stroke=\"#000000\" stroke-opacity=\"1\" stroke-width=\"3.2\"/>\n",
       "<circle clip-path=\"url(#clip472)\" cx=\"2294.32\" cy=\"216.68\" r=\"14\" fill=\"#ff0000\" fill-rule=\"evenodd\" fill-opacity=\"1\" stroke=\"#000000\" stroke-opacity=\"1\" stroke-width=\"3.2\"/>\n",
       "<polyline clip-path=\"url(#clip472)\" style=\"stroke:#ff0000; stroke-linecap:butt; stroke-linejoin:round; stroke-width:4; stroke-opacity:1; fill:none\" points=\"\n",
       "  346.293,1386.4 624.582,682.93 902.871,450.091 1181.16,344.539 1459.45,287.777 1737.74,253.745 2016.03,231.735 2294.32,216.68 \n",
       "  \"/>\n",
       "<path clip-path=\"url(#clip470)\" d=\"\n",
       "M1848.41 322.316 L2283.93 322.316 L2283.93 166.796 L1848.41 166.796  Z\n",
       "  \" fill=\"#ffffff\" fill-rule=\"evenodd\" fill-opacity=\"1\"/>\n",
       "<polyline clip-path=\"url(#clip470)\" style=\"stroke:#000000; stroke-linecap:butt; stroke-linejoin:round; stroke-width:4; stroke-opacity:1; fill:none\" points=\"\n",
       "  1848.41,322.316 2283.93,322.316 2283.93,166.796 1848.41,166.796 1848.41,322.316 \n",
       "  \"/>\n",
       "<polyline clip-path=\"url(#clip470)\" style=\"stroke:#009af9; stroke-linecap:butt; stroke-linejoin:round; stroke-width:4; stroke-opacity:1; fill:none\" points=\"\n",
       "  1871.35,218.636 2009.01,218.636 \n",
       "  \"/>\n",
       "<path clip-path=\"url(#clip470)\" d=\"M2031.95 201.356 L2036.63 201.356 L2036.63 235.916 L2031.95 235.916 L2031.95 201.356 Z\" fill=\"#000000\" fill-rule=\"evenodd\" fill-opacity=\"1\" /><path clip-path=\"url(#clip470)\" d=\"M2067.3 220.268 L2067.3 235.916 L2063.04 235.916 L2063.04 220.407 Q2063.04 216.726 2061.6 214.897 Q2060.17 213.069 2057.3 213.069 Q2053.85 213.069 2051.86 215.268 Q2049.87 217.467 2049.87 221.263 L2049.87 235.916 L2045.59 235.916 L2045.59 209.99 L2049.87 209.99 L2049.87 214.018 Q2051.4 211.68 2053.46 210.522 Q2055.54 209.365 2058.25 209.365 Q2062.72 209.365 2065.01 212.143 Q2067.3 214.897 2067.3 220.268 Z\" fill=\"#000000\" fill-rule=\"evenodd\" fill-opacity=\"1\" /><path clip-path=\"url(#clip470)\" d=\"M2088.92 199.897 L2088.92 203.439 L2084.85 203.439 Q2082.55 203.439 2081.65 204.365 Q2080.77 205.291 2080.77 207.698 L2080.77 209.99 L2087.79 209.99 L2087.79 213.3 L2080.77 213.3 L2080.77 235.916 L2076.49 235.916 L2076.49 213.3 L2072.41 213.3 L2072.41 209.99 L2076.49 209.99 L2076.49 208.184 Q2076.49 203.856 2078.5 201.888 Q2080.52 199.897 2084.89 199.897 L2088.92 199.897 Z\" fill=\"#000000\" fill-rule=\"evenodd\" fill-opacity=\"1\" /><path clip-path=\"url(#clip470)\" d=\"M2092.48 209.99 L2096.74 209.99 L2096.74 235.916 L2092.48 235.916 L2092.48 209.99 M2092.48 199.897 L2096.74 199.897 L2096.74 205.291 L2092.48 205.291 L2092.48 199.897 Z\" fill=\"#000000\" fill-rule=\"evenodd\" fill-opacity=\"1\" /><path clip-path=\"url(#clip470)\" d=\"M2127.21 220.268 L2127.21 235.916 L2122.95 235.916 L2122.95 220.407 Q2122.95 216.726 2121.51 214.897 Q2120.08 213.069 2117.21 213.069 Q2113.76 213.069 2111.77 215.268 Q2109.78 217.467 2109.78 221.263 L2109.78 235.916 L2105.49 235.916 L2105.49 209.99 L2109.78 209.99 L2109.78 214.018 Q2111.3 211.68 2113.36 210.522 Q2115.45 209.365 2118.16 209.365 Q2122.62 209.365 2124.91 212.143 Q2127.21 214.897 2127.21 220.268 Z\" fill=\"#000000\" fill-rule=\"evenodd\" fill-opacity=\"1\" /><path clip-path=\"url(#clip470)\" d=\"M2135.7 209.99 L2139.96 209.99 L2139.96 235.916 L2135.7 235.916 L2135.7 209.99 M2135.7 199.897 L2139.96 199.897 L2139.96 205.291 L2135.7 205.291 L2135.7 199.897 Z\" fill=\"#000000\" fill-rule=\"evenodd\" fill-opacity=\"1\" /><path clip-path=\"url(#clip470)\" d=\"M2153.09 202.629 L2153.09 209.99 L2161.86 209.99 L2161.86 213.3 L2153.09 213.3 L2153.09 227.374 Q2153.09 230.545 2153.94 231.448 Q2154.82 232.351 2157.48 232.351 L2161.86 232.351 L2161.86 235.916 L2157.48 235.916 Q2152.55 235.916 2150.68 234.087 Q2148.8 232.235 2148.8 227.374 L2148.8 213.3 L2145.68 213.3 L2145.68 209.99 L2148.8 209.99 L2148.8 202.629 L2153.09 202.629 Z\" fill=\"#000000\" fill-rule=\"evenodd\" fill-opacity=\"1\" /><path clip-path=\"url(#clip470)\" d=\"M2189.64 221.888 L2189.64 223.971 L2170.05 223.971 Q2170.33 228.369 2172.69 230.684 Q2175.08 232.976 2179.31 232.976 Q2181.77 232.976 2184.06 232.374 Q2186.37 231.772 2188.64 230.569 L2188.64 234.596 Q2186.35 235.568 2183.94 236.078 Q2181.53 236.587 2179.06 236.587 Q2172.85 236.587 2169.22 232.976 Q2165.61 229.365 2165.61 223.207 Q2165.61 216.842 2169.03 213.115 Q2172.48 209.365 2178.32 209.365 Q2183.55 209.365 2186.58 212.745 Q2189.64 216.101 2189.64 221.888 M2185.38 220.638 Q2185.33 217.143 2183.41 215.059 Q2181.51 212.976 2178.36 212.976 Q2174.8 212.976 2172.65 214.99 Q2170.52 217.004 2170.19 220.661 L2185.38 220.638 Z\" fill=\"#000000\" fill-rule=\"evenodd\" fill-opacity=\"1\" /><path clip-path=\"url(#clip470)\" d=\"M2211.88 201.356 L2218.18 201.356 L2233.5 230.268 L2233.5 201.356 L2238.04 201.356 L2238.04 235.916 L2231.74 235.916 L2216.42 207.004 L2216.42 235.916 L2211.88 235.916 L2211.88 201.356 Z\" fill=\"#000000\" fill-rule=\"evenodd\" fill-opacity=\"1\" /><circle clip-path=\"url(#clip470)\" cx=\"1940.18\" cy=\"270.476\" r=\"23\" fill=\"#ff0000\" fill-rule=\"evenodd\" fill-opacity=\"1\" stroke=\"#000000\" stroke-opacity=\"1\" stroke-width=\"5.12\"/>\n",
       "<path clip-path=\"url(#clip470)\" d=\"M2031.95 253.196 L2053.8 253.196 L2053.8 257.131 L2036.63 257.131 L2036.63 267.362 L2053.09 267.362 L2053.09 271.297 L2036.63 271.297 L2036.63 283.821 L2054.22 283.821 L2054.22 287.756 L2031.95 287.756 L2031.95 253.196 Z\" fill=\"#000000\" fill-rule=\"evenodd\" fill-opacity=\"1\" /><path clip-path=\"url(#clip470)\" d=\"M2066.58 257.038 L2066.58 283.913 L2072.23 283.913 Q2079.38 283.913 2082.69 280.672 Q2086.03 277.432 2086.03 270.441 Q2086.03 263.497 2082.69 260.279 Q2079.38 257.038 2072.23 257.038 L2066.58 257.038 M2061.91 253.196 L2071.51 253.196 Q2081.56 253.196 2086.26 257.386 Q2090.96 261.552 2090.96 270.441 Q2090.96 279.376 2086.23 283.566 Q2081.51 287.756 2071.51 287.756 L2061.91 287.756 L2061.91 253.196 Z\" fill=\"#000000\" fill-rule=\"evenodd\" fill-opacity=\"1\" /></svg>\n"
      ]
     },
     "metadata": {},
     "output_type": "display_data"
    }
   ],
   "source": [
    "using Plots\n",
    "\n",
    "plot(title = \"Ground State Energy Scaling (XY Model)\", xlabel = \"N\", ylabel = \"E/N\")\n",
    "\n",
    "plot!(N_range_new,ground_truth_XY_new,label = \"Infinite N\")\n",
    "plot!(N_range_new,gsEs_XY_perN_new,seriestype = :scatter,seriescolor = \"red\",label = \"ED\")\n",
    "display(plot!(N_range_new,gsEs_XY_perN_new,seriescolor = \"red\",label = false))"
   ]
  },
  {
   "cell_type": "code",
   "execution_count": null,
   "metadata": {},
   "outputs": [],
   "source": [
    "png(\"NewPlots/XY_gsE_perN\")"
   ]
  },
  {
   "cell_type": "code",
   "execution_count": 10,
   "metadata": {},
   "outputs": [
    {
     "data": {
      "text/plain": [
       "3-element Vector{Float64}:\n",
       " -0.31838028263040624\n",
       " -0.5978830459970917\n",
       " -2.058663550564367"
      ]
     },
     "execution_count": 10,
     "metadata": {},
     "output_type": "execute_result"
    }
   ],
   "source": [
    "using LsqFit\n",
    "\n",
    "model_XY(t,p) = p[1] .+ p[2].*t.^p[3]\n",
    "#model_XY(t,p) = p[1] .+ p[2].*exp.(-1 .*(t .- p[3]))\n",
    "#model_XY(t,p) = p[1] .+ p[2]./t\n",
    "tdata = N_range_new[2:length(N_range_new)]\n",
    "ydataXY = gsEs_XY_perN_new[2:length(N_range_new)]\n",
    "p0 = [-1., -1.,-1.]\n",
    "\n",
    "fit = curve_fit(model_XY, tdata, ydataXY, p0)\n",
    "paramXY = fit.param"
   ]
  },
  {
   "cell_type": "code",
   "execution_count": 11,
   "metadata": {},
   "outputs": [],
   "source": [
    "N_range_cont = range(4,20,step = .02);\n",
    "fit_contXY = paramXY[1] .+ paramXY[2].*N_range_cont.^paramXY[3]\n",
    "#fit_contXY= paramXY[1] .+ paramXY[2].*exp.(-1 .*(N_range_cont .- paramXY[3]));\n",
    "#fit_contXY = paramXY[1] .+ paramXY[2]./N_range_cont;"
   ]
  },
  {
   "cell_type": "code",
   "execution_count": 12,
   "metadata": {},
   "outputs": [
    {
     "data": {
      "image/svg+xml": [
       "<?xml version=\"1.0\" encoding=\"utf-8\"?>\n",
       "<svg xmlns=\"http://www.w3.org/2000/svg\" xmlns:xlink=\"http://www.w3.org/1999/xlink\" width=\"600\" height=\"400\" viewBox=\"0 0 2400 1600\">\n",
       "<defs>\n",
       "  <clipPath id=\"clip510\">\n",
       "    <rect x=\"0\" y=\"0\" width=\"2400\" height=\"1600\"/>\n",
       "  </clipPath>\n",
       "</defs>\n",
       "<path clip-path=\"url(#clip510)\" d=\"\n",
       "M0 1600 L2400 1600 L2400 0 L0 0  Z\n",
       "  \" fill=\"#ffffff\" fill-rule=\"evenodd\" fill-opacity=\"1\"/>\n",
       "<defs>\n",
       "  <clipPath id=\"clip511\">\n",
       "    <rect x=\"480\" y=\"0\" width=\"1681\" height=\"1600\"/>\n",
       "  </clipPath>\n",
       "</defs>\n",
       "<path clip-path=\"url(#clip510)\" d=\"\n",
       "M287.852 1423.18 L2352.76 1423.18 L2352.76 123.472 L287.852 123.472  Z\n",
       "  \" fill=\"#ffffff\" fill-rule=\"evenodd\" fill-opacity=\"1\"/>\n",
       "<defs>\n",
       "  <clipPath id=\"clip512\">\n",
       "    <rect x=\"287\" y=\"123\" width=\"2066\" height=\"1301\"/>\n",
       "  </clipPath>\n",
       "</defs>\n",
       "<polyline clip-path=\"url(#clip512)\" style=\"stroke:#000000; stroke-linecap:butt; stroke-linejoin:round; stroke-width:2; stroke-opacity:0.1; fill:none\" points=\"\n",
       "  589.796,1423.18 589.796,123.472 \n",
       "  \"/>\n",
       "<polyline clip-path=\"url(#clip512)\" style=\"stroke:#000000; stroke-linecap:butt; stroke-linejoin:round; stroke-width:2; stroke-opacity:0.1; fill:none\" points=\"\n",
       "  955.05,1423.18 955.05,123.472 \n",
       "  \"/>\n",
       "<polyline clip-path=\"url(#clip512)\" style=\"stroke:#000000; stroke-linecap:butt; stroke-linejoin:round; stroke-width:2; stroke-opacity:0.1; fill:none\" points=\"\n",
       "  1320.3,1423.18 1320.3,123.472 \n",
       "  \"/>\n",
       "<polyline clip-path=\"url(#clip512)\" style=\"stroke:#000000; stroke-linecap:butt; stroke-linejoin:round; stroke-width:2; stroke-opacity:0.1; fill:none\" points=\"\n",
       "  1685.56,1423.18 1685.56,123.472 \n",
       "  \"/>\n",
       "<polyline clip-path=\"url(#clip512)\" style=\"stroke:#000000; stroke-linecap:butt; stroke-linejoin:round; stroke-width:2; stroke-opacity:0.1; fill:none\" points=\"\n",
       "  2050.81,1423.18 2050.81,123.472 \n",
       "  \"/>\n",
       "<polyline clip-path=\"url(#clip510)\" style=\"stroke:#000000; stroke-linecap:butt; stroke-linejoin:round; stroke-width:4; stroke-opacity:1; fill:none\" points=\"\n",
       "  287.852,1423.18 2352.76,1423.18 \n",
       "  \"/>\n",
       "<polyline clip-path=\"url(#clip510)\" style=\"stroke:#000000; stroke-linecap:butt; stroke-linejoin:round; stroke-width:4; stroke-opacity:1; fill:none\" points=\"\n",
       "  589.796,1423.18 589.796,1404.28 \n",
       "  \"/>\n",
       "<polyline clip-path=\"url(#clip510)\" style=\"stroke:#000000; stroke-linecap:butt; stroke-linejoin:round; stroke-width:4; stroke-opacity:1; fill:none\" points=\"\n",
       "  955.05,1423.18 955.05,1404.28 \n",
       "  \"/>\n",
       "<polyline clip-path=\"url(#clip510)\" style=\"stroke:#000000; stroke-linecap:butt; stroke-linejoin:round; stroke-width:4; stroke-opacity:1; fill:none\" points=\"\n",
       "  1320.3,1423.18 1320.3,1404.28 \n",
       "  \"/>\n",
       "<polyline clip-path=\"url(#clip510)\" style=\"stroke:#000000; stroke-linecap:butt; stroke-linejoin:round; stroke-width:4; stroke-opacity:1; fill:none\" points=\"\n",
       "  1685.56,1423.18 1685.56,1404.28 \n",
       "  \"/>\n",
       "<polyline clip-path=\"url(#clip510)\" style=\"stroke:#000000; stroke-linecap:butt; stroke-linejoin:round; stroke-width:4; stroke-opacity:1; fill:none\" points=\"\n",
       "  2050.81,1423.18 2050.81,1404.28 \n",
       "  \"/>\n",
       "<path clip-path=\"url(#clip510)\" d=\"M590.201 1466.44 Q587.052 1466.44 585.201 1468.59 Q583.372 1470.74 583.372 1474.49 Q583.372 1478.22 585.201 1480.39 Q587.052 1482.55 590.201 1482.55 Q593.349 1482.55 595.177 1480.39 Q597.029 1478.22 597.029 1474.49 Q597.029 1470.74 595.177 1468.59 Q593.349 1466.44 590.201 1466.44 M599.483 1451.78 L599.483 1456.04 Q597.724 1455.21 595.918 1454.77 Q594.136 1454.33 592.377 1454.33 Q587.747 1454.33 585.293 1457.45 Q582.863 1460.58 582.515 1466.9 Q583.881 1464.89 585.941 1463.82 Q588.002 1462.73 590.478 1462.73 Q595.687 1462.73 598.696 1465.9 Q601.728 1469.05 601.728 1474.49 Q601.728 1479.82 598.58 1483.03 Q595.432 1486.25 590.201 1486.25 Q584.205 1486.25 581.034 1481.67 Q577.863 1477.06 577.863 1468.33 Q577.863 1460.14 581.752 1455.28 Q585.64 1450.39 592.191 1450.39 Q593.951 1450.39 595.733 1450.74 Q597.539 1451.09 599.483 1451.78 Z\" fill=\"#000000\" fill-rule=\"evenodd\" fill-opacity=\"1\" /><path clip-path=\"url(#clip510)\" d=\"M945.351 1484.86 L945.351 1480.6 Q947.11 1481.44 948.916 1481.88 Q950.721 1482.32 952.457 1482.32 Q957.087 1482.32 959.517 1479.21 Q961.971 1476.09 962.318 1469.75 Q960.976 1471.74 958.915 1472.8 Q956.855 1473.87 954.355 1473.87 Q949.17 1473.87 946.138 1470.74 Q943.129 1467.59 943.129 1462.15 Q943.129 1456.83 946.277 1453.61 Q949.425 1450.39 954.656 1450.39 Q960.652 1450.39 963.8 1455 Q966.971 1459.58 966.971 1468.33 Q966.971 1476.51 963.082 1481.39 Q959.216 1486.25 952.665 1486.25 Q950.906 1486.25 949.101 1485.9 Q947.295 1485.56 945.351 1484.86 M954.656 1470.21 Q957.804 1470.21 959.633 1468.06 Q961.485 1465.9 961.485 1462.15 Q961.485 1458.43 959.633 1456.27 Q957.804 1454.1 954.656 1454.1 Q951.508 1454.1 949.656 1456.27 Q947.828 1458.43 947.828 1462.15 Q947.828 1465.9 949.656 1468.06 Q951.508 1470.21 954.656 1470.21 Z\" fill=\"#000000\" fill-rule=\"evenodd\" fill-opacity=\"1\" /><path clip-path=\"url(#clip510)\" d=\"M1295.79 1481.64 L1303.43 1481.64 L1303.43 1455.28 L1295.12 1456.95 L1295.12 1452.69 L1303.38 1451.02 L1308.06 1451.02 L1308.06 1481.64 L1315.7 1481.64 L1315.7 1485.58 L1295.79 1485.58 L1295.79 1481.64 Z\" fill=\"#000000\" fill-rule=\"evenodd\" fill-opacity=\"1\" /><path clip-path=\"url(#clip510)\" d=\"M1329.17 1481.64 L1345.49 1481.64 L1345.49 1485.58 L1323.54 1485.58 L1323.54 1481.64 Q1326.21 1478.89 1330.79 1474.26 Q1335.4 1469.61 1336.58 1468.27 Q1338.82 1465.74 1339.7 1464.01 Q1340.6 1462.25 1340.6 1460.56 Q1340.6 1457.8 1338.66 1456.07 Q1336.74 1454.33 1333.64 1454.33 Q1331.44 1454.33 1328.98 1455.09 Q1326.55 1455.86 1323.78 1457.41 L1323.78 1452.69 Q1326.6 1451.55 1329.05 1450.97 Q1331.51 1450.39 1333.54 1450.39 Q1338.91 1450.39 1342.11 1453.08 Q1345.3 1455.77 1345.3 1460.26 Q1345.3 1462.39 1344.49 1464.31 Q1343.71 1466.2 1341.6 1468.8 Q1341.02 1469.47 1337.92 1472.69 Q1334.82 1475.88 1329.17 1481.64 Z\" fill=\"#000000\" fill-rule=\"evenodd\" fill-opacity=\"1\" /><path clip-path=\"url(#clip510)\" d=\"M1660.74 1481.64 L1668.38 1481.64 L1668.38 1455.28 L1660.07 1456.95 L1660.07 1452.69 L1668.34 1451.02 L1673.01 1451.02 L1673.01 1481.64 L1680.65 1481.64 L1680.65 1485.58 L1660.74 1485.58 L1660.74 1481.64 Z\" fill=\"#000000\" fill-rule=\"evenodd\" fill-opacity=\"1\" /><path clip-path=\"url(#clip510)\" d=\"M1690.14 1451.02 L1708.5 1451.02 L1708.5 1454.96 L1694.42 1454.96 L1694.42 1463.43 Q1695.44 1463.08 1696.46 1462.92 Q1697.48 1462.73 1698.5 1462.73 Q1704.28 1462.73 1707.66 1465.9 Q1711.04 1469.08 1711.04 1474.49 Q1711.04 1480.07 1707.57 1483.17 Q1704.1 1486.25 1697.78 1486.25 Q1695.6 1486.25 1693.34 1485.88 Q1691.09 1485.51 1688.68 1484.77 L1688.68 1480.07 Q1690.77 1481.2 1692.99 1481.76 Q1695.21 1482.32 1697.69 1482.32 Q1701.69 1482.32 1704.03 1480.21 Q1706.37 1478.1 1706.37 1474.49 Q1706.37 1470.88 1704.03 1468.77 Q1701.69 1466.67 1697.69 1466.67 Q1695.81 1466.67 1693.94 1467.08 Q1692.09 1467.5 1690.14 1468.38 L1690.14 1451.02 Z\" fill=\"#000000\" fill-rule=\"evenodd\" fill-opacity=\"1\" /><path clip-path=\"url(#clip510)\" d=\"M2025.55 1481.64 L2033.19 1481.64 L2033.19 1455.28 L2024.88 1456.95 L2024.88 1452.69 L2033.14 1451.02 L2037.81 1451.02 L2037.81 1481.64 L2045.45 1481.64 L2045.45 1485.58 L2025.55 1485.58 L2025.55 1481.64 Z\" fill=\"#000000\" fill-rule=\"evenodd\" fill-opacity=\"1\" /><path clip-path=\"url(#clip510)\" d=\"M2064.9 1469.17 Q2061.56 1469.17 2059.64 1470.95 Q2057.75 1472.73 2057.75 1475.86 Q2057.75 1478.98 2059.64 1480.77 Q2061.56 1482.55 2064.9 1482.55 Q2068.23 1482.55 2070.15 1480.77 Q2072.07 1478.96 2072.07 1475.86 Q2072.07 1472.73 2070.15 1470.95 Q2068.25 1469.17 2064.9 1469.17 M2060.22 1467.18 Q2057.21 1466.44 2055.52 1464.38 Q2053.86 1462.32 2053.86 1459.35 Q2053.86 1455.21 2056.8 1452.8 Q2059.76 1450.39 2064.9 1450.39 Q2070.06 1450.39 2073 1452.8 Q2075.94 1455.21 2075.94 1459.35 Q2075.94 1462.32 2074.25 1464.38 Q2072.58 1466.44 2069.6 1467.18 Q2072.98 1467.96 2074.85 1470.26 Q2076.75 1472.55 2076.75 1475.86 Q2076.75 1480.88 2073.67 1483.57 Q2070.62 1486.25 2064.9 1486.25 Q2059.18 1486.25 2056.1 1483.57 Q2053.05 1480.88 2053.05 1475.86 Q2053.05 1472.55 2054.94 1470.26 Q2056.84 1467.96 2060.22 1467.18 M2058.51 1459.79 Q2058.51 1462.48 2060.18 1463.98 Q2061.87 1465.49 2064.9 1465.49 Q2067.91 1465.49 2069.6 1463.98 Q2071.31 1462.48 2071.31 1459.79 Q2071.31 1457.11 2069.6 1455.6 Q2067.91 1454.1 2064.9 1454.1 Q2061.87 1454.1 2060.18 1455.6 Q2058.51 1457.11 2058.51 1459.79 Z\" fill=\"#000000\" fill-rule=\"evenodd\" fill-opacity=\"1\" /><path clip-path=\"url(#clip510)\" d=\"M1302.32 1520.52 L1310.98 1520.52 L1332.05 1560.28 L1332.05 1520.52 L1338.29 1520.52 L1338.29 1568.04 L1329.63 1568.04 L1308.56 1528.29 L1308.56 1568.04 L1302.32 1568.04 L1302.32 1520.52 Z\" fill=\"#000000\" fill-rule=\"evenodd\" fill-opacity=\"1\" /><polyline clip-path=\"url(#clip512)\" style=\"stroke:#000000; stroke-linecap:butt; stroke-linejoin:round; stroke-width:2; stroke-opacity:0.1; fill:none\" points=\"\n",
       "  287.852,1262.77 2352.76,1262.77 \n",
       "  \"/>\n",
       "<polyline clip-path=\"url(#clip512)\" style=\"stroke:#000000; stroke-linecap:butt; stroke-linejoin:round; stroke-width:2; stroke-opacity:0.1; fill:none\" points=\"\n",
       "  287.852,914.866 2352.76,914.866 \n",
       "  \"/>\n",
       "<polyline clip-path=\"url(#clip512)\" style=\"stroke:#000000; stroke-linecap:butt; stroke-linejoin:round; stroke-width:2; stroke-opacity:0.1; fill:none\" points=\"\n",
       "  287.852,566.961 2352.76,566.961 \n",
       "  \"/>\n",
       "<polyline clip-path=\"url(#clip512)\" style=\"stroke:#000000; stroke-linecap:butt; stroke-linejoin:round; stroke-width:2; stroke-opacity:0.1; fill:none\" points=\"\n",
       "  287.852,219.056 2352.76,219.056 \n",
       "  \"/>\n",
       "<polyline clip-path=\"url(#clip510)\" style=\"stroke:#000000; stroke-linecap:butt; stroke-linejoin:round; stroke-width:4; stroke-opacity:1; fill:none\" points=\"\n",
       "  287.852,1423.18 287.852,123.472 \n",
       "  \"/>\n",
       "<polyline clip-path=\"url(#clip510)\" style=\"stroke:#000000; stroke-linecap:butt; stroke-linejoin:round; stroke-width:4; stroke-opacity:1; fill:none\" points=\"\n",
       "  287.852,1262.77 306.75,1262.77 \n",
       "  \"/>\n",
       "<polyline clip-path=\"url(#clip510)\" style=\"stroke:#000000; stroke-linecap:butt; stroke-linejoin:round; stroke-width:4; stroke-opacity:1; fill:none\" points=\"\n",
       "  287.852,914.866 306.75,914.866 \n",
       "  \"/>\n",
       "<polyline clip-path=\"url(#clip510)\" style=\"stroke:#000000; stroke-linecap:butt; stroke-linejoin:round; stroke-width:4; stroke-opacity:1; fill:none\" points=\"\n",
       "  287.852,566.961 306.75,566.961 \n",
       "  \"/>\n",
       "<polyline clip-path=\"url(#clip510)\" style=\"stroke:#000000; stroke-linecap:butt; stroke-linejoin:round; stroke-width:4; stroke-opacity:1; fill:none\" points=\"\n",
       "  287.852,219.056 306.75,219.056 \n",
       "  \"/>\n",
       "<path clip-path=\"url(#clip510)\" d=\"M115.742 1263.22 L145.417 1263.22 L145.417 1267.16 L115.742 1267.16 L115.742 1263.22 Z\" fill=\"#000000\" fill-rule=\"evenodd\" fill-opacity=\"1\" /><path clip-path=\"url(#clip510)\" d=\"M165.51 1248.57 Q161.899 1248.57 160.07 1252.13 Q158.265 1255.68 158.265 1262.81 Q158.265 1269.91 160.07 1273.48 Q161.899 1277.02 165.51 1277.02 Q169.144 1277.02 170.95 1273.48 Q172.778 1269.91 172.778 1262.81 Q172.778 1255.68 170.95 1252.13 Q169.144 1248.57 165.51 1248.57 M165.51 1244.87 Q171.32 1244.87 174.376 1249.47 Q177.454 1254.06 177.454 1262.81 Q177.454 1271.53 174.376 1276.14 Q171.32 1280.72 165.51 1280.72 Q159.7 1280.72 156.621 1276.14 Q153.566 1271.53 153.566 1262.81 Q153.566 1254.06 156.621 1249.47 Q159.7 1244.87 165.51 1244.87 Z\" fill=\"#000000\" fill-rule=\"evenodd\" fill-opacity=\"1\" /><path clip-path=\"url(#clip510)\" d=\"M185.672 1274.17 L190.556 1274.17 L190.556 1280.05 L185.672 1280.05 L185.672 1274.17 Z\" fill=\"#000000\" fill-rule=\"evenodd\" fill-opacity=\"1\" /><path clip-path=\"url(#clip510)\" d=\"M214.908 1261.42 Q218.264 1262.13 220.139 1264.4 Q222.037 1266.67 222.037 1270.01 Q222.037 1275.12 218.519 1277.92 Q215 1280.72 208.519 1280.72 Q206.343 1280.72 204.028 1280.28 Q201.737 1279.87 199.283 1279.01 L199.283 1274.5 Q201.227 1275.63 203.542 1276.21 Q205.857 1276.79 208.38 1276.79 Q212.778 1276.79 215.07 1275.05 Q217.385 1273.32 217.385 1270.01 Q217.385 1266.95 215.232 1265.24 Q213.102 1263.5 209.283 1263.5 L205.255 1263.5 L205.255 1259.66 L209.468 1259.66 Q212.917 1259.66 214.746 1258.29 Q216.574 1256.9 216.574 1254.31 Q216.574 1251.65 214.676 1250.24 Q212.801 1248.8 209.283 1248.8 Q207.362 1248.8 205.162 1249.22 Q202.963 1249.63 200.325 1250.51 L200.325 1246.35 Q202.987 1245.61 205.301 1245.24 Q207.639 1244.87 209.699 1244.87 Q215.024 1244.87 218.125 1247.3 Q221.227 1249.7 221.227 1253.82 Q221.227 1256.7 219.584 1258.69 Q217.94 1260.65 214.908 1261.42 Z\" fill=\"#000000\" fill-rule=\"evenodd\" fill-opacity=\"1\" /><path clip-path=\"url(#clip510)\" d=\"M230.949 1245.49 L249.306 1245.49 L249.306 1249.43 L235.232 1249.43 L235.232 1257.9 Q236.25 1257.55 237.269 1257.39 Q238.287 1257.2 239.306 1257.2 Q245.093 1257.2 248.472 1260.38 Q251.852 1263.55 251.852 1268.96 Q251.852 1274.54 248.38 1277.64 Q244.908 1280.72 238.588 1280.72 Q236.412 1280.72 234.144 1280.35 Q231.898 1279.98 229.491 1279.24 L229.491 1274.54 Q231.574 1275.68 233.797 1276.23 Q236.019 1276.79 238.496 1276.79 Q242.5 1276.79 244.838 1274.68 Q247.176 1272.57 247.176 1268.96 Q247.176 1265.35 244.838 1263.25 Q242.5 1261.14 238.496 1261.14 Q236.621 1261.14 234.746 1261.56 Q232.894 1261.97 230.949 1262.85 L230.949 1245.49 Z\" fill=\"#000000\" fill-rule=\"evenodd\" fill-opacity=\"1\" /><path clip-path=\"url(#clip510)\" d=\"M114.26 915.318 L143.936 915.318 L143.936 919.253 L114.26 919.253 L114.26 915.318 Z\" fill=\"#000000\" fill-rule=\"evenodd\" fill-opacity=\"1\" /><path clip-path=\"url(#clip510)\" d=\"M164.028 900.665 Q160.417 900.665 158.589 904.23 Q156.783 907.771 156.783 914.901 Q156.783 922.008 158.589 925.572 Q160.417 929.114 164.028 929.114 Q167.663 929.114 169.468 925.572 Q171.297 922.008 171.297 914.901 Q171.297 907.771 169.468 904.23 Q167.663 900.665 164.028 900.665 M164.028 896.961 Q169.839 896.961 172.894 901.568 Q175.973 906.151 175.973 914.901 Q175.973 923.628 172.894 928.234 Q169.839 932.818 164.028 932.818 Q158.218 932.818 155.14 928.234 Q152.084 923.628 152.084 914.901 Q152.084 906.151 155.14 901.568 Q158.218 896.961 164.028 896.961 Z\" fill=\"#000000\" fill-rule=\"evenodd\" fill-opacity=\"1\" /><path clip-path=\"url(#clip510)\" d=\"M184.19 926.267 L189.075 926.267 L189.075 932.146 L184.19 932.146 L184.19 926.267 Z\" fill=\"#000000\" fill-rule=\"evenodd\" fill-opacity=\"1\" /><path clip-path=\"url(#clip510)\" d=\"M213.426 913.512 Q216.783 914.23 218.658 916.498 Q220.556 918.767 220.556 922.1 Q220.556 927.216 217.037 930.017 Q213.519 932.818 207.037 932.818 Q204.862 932.818 202.547 932.378 Q200.255 931.961 197.801 931.105 L197.801 926.591 Q199.746 927.725 202.061 928.304 Q204.375 928.882 206.899 928.882 Q211.297 928.882 213.588 927.146 Q215.903 925.41 215.903 922.1 Q215.903 919.045 213.75 917.332 Q211.621 915.596 207.801 915.596 L203.774 915.596 L203.774 911.753 L207.987 911.753 Q211.436 911.753 213.264 910.387 Q215.093 908.998 215.093 906.406 Q215.093 903.744 213.195 902.332 Q211.32 900.897 207.801 900.897 Q205.88 900.897 203.681 901.313 Q201.482 901.73 198.843 902.609 L198.843 898.443 Q201.505 897.702 203.82 897.332 Q206.158 896.961 208.218 896.961 Q213.542 896.961 216.644 899.392 Q219.746 901.799 219.746 905.92 Q219.746 908.79 218.102 910.781 Q216.459 912.748 213.426 913.512 Z\" fill=\"#000000\" fill-rule=\"evenodd\" fill-opacity=\"1\" /><path clip-path=\"url(#clip510)\" d=\"M242.269 901.66 L230.463 920.109 L242.269 920.109 L242.269 901.66 M241.042 897.586 L246.921 897.586 L246.921 920.109 L251.852 920.109 L251.852 923.998 L246.921 923.998 L246.921 932.146 L242.269 932.146 L242.269 923.998 L226.667 923.998 L226.667 919.484 L241.042 897.586 Z\" fill=\"#000000\" fill-rule=\"evenodd\" fill-opacity=\"1\" /><path clip-path=\"url(#clip510)\" d=\"M115.394 567.413 L145.07 567.413 L145.07 571.348 L115.394 571.348 L115.394 567.413 Z\" fill=\"#000000\" fill-rule=\"evenodd\" fill-opacity=\"1\" /><path clip-path=\"url(#clip510)\" d=\"M165.163 552.76 Q161.552 552.76 159.723 556.325 Q157.917 559.866 157.917 566.996 Q157.917 574.102 159.723 577.667 Q161.552 581.209 165.163 581.209 Q168.797 581.209 170.602 577.667 Q172.431 574.102 172.431 566.996 Q172.431 559.866 170.602 556.325 Q168.797 552.76 165.163 552.76 M165.163 549.056 Q170.973 549.056 174.028 553.663 Q177.107 558.246 177.107 566.996 Q177.107 575.723 174.028 580.329 Q170.973 584.913 165.163 584.913 Q159.353 584.913 156.274 580.329 Q153.218 575.723 153.218 566.996 Q153.218 558.246 156.274 553.663 Q159.353 549.056 165.163 549.056 Z\" fill=\"#000000\" fill-rule=\"evenodd\" fill-opacity=\"1\" /><path clip-path=\"url(#clip510)\" d=\"M185.325 578.362 L190.209 578.362 L190.209 584.241 L185.325 584.241 L185.325 578.362 Z\" fill=\"#000000\" fill-rule=\"evenodd\" fill-opacity=\"1\" /><path clip-path=\"url(#clip510)\" d=\"M214.561 565.607 Q217.917 566.325 219.792 568.593 Q221.69 570.862 221.69 574.195 Q221.69 579.311 218.172 582.112 Q214.653 584.913 208.172 584.913 Q205.996 584.913 203.681 584.473 Q201.389 584.056 198.936 583.2 L198.936 578.686 Q200.88 579.82 203.195 580.399 Q205.51 580.977 208.033 580.977 Q212.431 580.977 214.723 579.241 Q217.037 577.505 217.037 574.195 Q217.037 571.14 214.885 569.427 Q212.755 567.69 208.936 567.69 L204.908 567.69 L204.908 563.848 L209.121 563.848 Q212.57 563.848 214.399 562.482 Q216.227 561.093 216.227 558.501 Q216.227 555.839 214.329 554.427 Q212.454 552.991 208.936 552.991 Q207.014 552.991 204.815 553.408 Q202.616 553.825 199.977 554.704 L199.977 550.538 Q202.639 549.797 204.954 549.427 Q207.292 549.056 209.352 549.056 Q214.676 549.056 217.778 551.487 Q220.88 553.894 220.88 558.015 Q220.88 560.885 219.236 562.876 Q217.593 564.843 214.561 565.607 Z\" fill=\"#000000\" fill-rule=\"evenodd\" fill-opacity=\"1\" /><path clip-path=\"url(#clip510)\" d=\"M244.722 565.607 Q248.079 566.325 249.954 568.593 Q251.852 570.862 251.852 574.195 Q251.852 579.311 248.334 582.112 Q244.815 584.913 238.334 584.913 Q236.158 584.913 233.843 584.473 Q231.551 584.056 229.098 583.2 L229.098 578.686 Q231.042 579.82 233.357 580.399 Q235.672 580.977 238.195 580.977 Q242.593 580.977 244.884 579.241 Q247.199 577.505 247.199 574.195 Q247.199 571.14 245.046 569.427 Q242.917 567.69 239.097 567.69 L235.07 567.69 L235.07 563.848 L239.283 563.848 Q242.732 563.848 244.56 562.482 Q246.389 561.093 246.389 558.501 Q246.389 555.839 244.491 554.427 Q242.616 552.991 239.097 552.991 Q237.176 552.991 234.977 553.408 Q232.778 553.825 230.139 554.704 L230.139 550.538 Q232.801 549.797 235.116 549.427 Q237.454 549.056 239.514 549.056 Q244.838 549.056 247.94 551.487 Q251.042 553.894 251.042 558.015 Q251.042 560.885 249.398 562.876 Q247.755 564.843 244.722 565.607 Z\" fill=\"#000000\" fill-rule=\"evenodd\" fill-opacity=\"1\" /><path clip-path=\"url(#clip510)\" d=\"M116.343 219.508 L146.019 219.508 L146.019 223.443 L116.343 223.443 L116.343 219.508 Z\" fill=\"#000000\" fill-rule=\"evenodd\" fill-opacity=\"1\" /><path clip-path=\"url(#clip510)\" d=\"M166.112 204.855 Q162.501 204.855 160.672 208.42 Q158.866 211.961 158.866 219.091 Q158.866 226.197 160.672 229.762 Q162.501 233.304 166.112 233.304 Q169.746 233.304 171.552 229.762 Q173.38 226.197 173.38 219.091 Q173.38 211.961 171.552 208.42 Q169.746 204.855 166.112 204.855 M166.112 201.151 Q171.922 201.151 174.977 205.758 Q178.056 210.341 178.056 219.091 Q178.056 227.818 174.977 232.424 Q171.922 237.008 166.112 237.008 Q160.302 237.008 157.223 232.424 Q154.167 227.818 154.167 219.091 Q154.167 210.341 157.223 205.758 Q160.302 201.151 166.112 201.151 Z\" fill=\"#000000\" fill-rule=\"evenodd\" fill-opacity=\"1\" /><path clip-path=\"url(#clip510)\" d=\"M186.274 230.457 L191.158 230.457 L191.158 236.336 L186.274 236.336 L186.274 230.457 Z\" fill=\"#000000\" fill-rule=\"evenodd\" fill-opacity=\"1\" /><path clip-path=\"url(#clip510)\" d=\"M215.51 217.702 Q218.866 218.42 220.741 220.688 Q222.639 222.957 222.639 226.29 Q222.639 231.406 219.121 234.207 Q215.602 237.008 209.121 237.008 Q206.945 237.008 204.63 236.568 Q202.338 236.151 199.885 235.295 L199.885 230.781 Q201.829 231.915 204.144 232.494 Q206.459 233.072 208.982 233.072 Q213.38 233.072 215.672 231.336 Q217.986 229.6 217.986 226.29 Q217.986 223.234 215.834 221.521 Q213.704 219.785 209.885 219.785 L205.857 219.785 L205.857 215.943 L210.07 215.943 Q213.519 215.943 215.348 214.577 Q217.176 213.188 217.176 210.596 Q217.176 207.934 215.278 206.522 Q213.403 205.086 209.885 205.086 Q207.963 205.086 205.764 205.503 Q203.565 205.92 200.926 206.799 L200.926 202.633 Q203.588 201.892 205.903 201.522 Q208.241 201.151 210.301 201.151 Q215.625 201.151 218.727 203.582 Q221.829 205.989 221.829 210.11 Q221.829 212.98 220.186 214.971 Q218.542 216.938 215.51 217.702 Z\" fill=\"#000000\" fill-rule=\"evenodd\" fill-opacity=\"1\" /><path clip-path=\"url(#clip510)\" d=\"M235.533 232.401 L251.852 232.401 L251.852 236.336 L229.908 236.336 L229.908 232.401 Q232.57 229.646 237.153 225.017 Q241.759 220.364 242.94 219.021 Q245.185 216.498 246.065 214.762 Q246.968 213.003 246.968 211.313 Q246.968 208.559 245.023 206.822 Q243.102 205.086 240 205.086 Q237.801 205.086 235.347 205.85 Q232.917 206.614 230.139 208.165 L230.139 203.443 Q232.963 202.309 235.417 201.73 Q237.871 201.151 239.908 201.151 Q245.278 201.151 248.472 203.836 Q251.667 206.522 251.667 211.012 Q251.667 213.142 250.857 215.063 Q250.07 216.961 247.963 219.554 Q247.384 220.225 244.283 223.443 Q241.181 226.637 235.533 232.401 Z\" fill=\"#000000\" fill-rule=\"evenodd\" fill-opacity=\"1\" /><path clip-path=\"url(#clip510)\" d=\"M16.4842 822.883 L16.4842 792.837 L21.895 792.837 L21.895 816.454 L35.9632 816.454 L35.9632 793.824 L41.3741 793.824 L41.3741 816.454 L58.5933 816.454 L58.5933 792.264 L64.0042 792.264 L64.0042 822.883 L16.4842 822.883 Z\" fill=\"#000000\" fill-rule=\"evenodd\" fill-opacity=\"1\" /><path clip-path=\"url(#clip510)\" d=\"M16.4842 771.544 L16.4842 766.133 L70.0516 782.684 L70.0516 788.094 L16.4842 771.544 Z\" fill=\"#000000\" fill-rule=\"evenodd\" fill-opacity=\"1\" /><path clip-path=\"url(#clip510)\" d=\"M16.4842 759.735 L16.4842 751.078 L56.238 730.007 L16.4842 730.007 L16.4842 723.769 L64.0042 723.769 L64.0042 732.426 L24.2503 753.497 L64.0042 753.497 L64.0042 759.735 L16.4842 759.735 Z\" fill=\"#000000\" fill-rule=\"evenodd\" fill-opacity=\"1\" /><path clip-path=\"url(#clip510)\" d=\"M536.495 63.9476 L536.495 47.7034 L523.127 47.7034 L523.127 40.9789 L544.596 40.9789 L544.596 66.9452 Q539.857 70.3075 534.145 72.0494 Q528.433 73.7508 521.952 73.7508 Q507.774 73.7508 499.753 65.4869 Q491.773 57.1826 491.773 42.3968 Q491.773 27.5705 499.753 19.3066 Q507.774 11.0023 521.952 11.0023 Q527.866 11.0023 533.173 12.4606 Q538.52 13.9189 543.016 16.7545 L543.016 25.464 Q538.479 21.6156 533.375 19.6712 Q528.271 17.7268 522.64 17.7268 Q511.541 17.7268 505.951 23.9246 Q500.401 30.1225 500.401 42.3968 Q500.401 54.6305 505.951 60.8284 Q511.541 67.0263 522.64 67.0263 Q526.975 67.0263 530.378 66.2971 Q533.78 65.5274 536.495 63.9476 Z\" fill=\"#000000\" fill-rule=\"evenodd\" fill-opacity=\"1\" /><path clip-path=\"url(#clip510)\" d=\"M585.51 34.1734 Q584.255 33.4443 582.756 33.1202 Q581.298 32.7556 579.515 32.7556 Q573.196 32.7556 569.793 36.8875 Q566.431 40.9789 566.431 48.6757 L566.431 72.576 L558.937 72.576 L558.937 27.2059 L566.431 27.2059 L566.431 34.2544 Q568.78 30.1225 572.548 28.1376 Q576.315 26.1121 581.703 26.1121 Q582.472 26.1121 583.404 26.2337 Q584.336 26.3147 585.47 26.5172 L585.51 34.1734 Z\" fill=\"#000000\" fill-rule=\"evenodd\" fill-opacity=\"1\" /><path clip-path=\"url(#clip510)\" d=\"M609.087 32.4315 Q603.091 32.4315 599.608 37.1306 Q596.124 41.7891 596.124 49.9314 Q596.124 58.0738 599.567 62.7728 Q603.051 67.4314 609.087 67.4314 Q615.042 67.4314 618.525 62.7323 Q622.009 58.0333 622.009 49.9314 Q622.009 41.8701 618.525 37.1711 Q615.042 32.4315 609.087 32.4315 M609.087 26.1121 Q618.809 26.1121 624.359 32.4315 Q629.908 38.7509 629.908 49.9314 Q629.908 61.0714 624.359 67.4314 Q618.809 73.7508 609.087 73.7508 Q599.324 73.7508 593.774 67.4314 Q588.265 61.0714 588.265 49.9314 Q588.265 38.7509 593.774 32.4315 Q599.324 26.1121 609.087 26.1121 Z\" fill=\"#000000\" fill-rule=\"evenodd\" fill-opacity=\"1\" /><path clip-path=\"url(#clip510)\" d=\"M641.494 54.671 L641.494 27.2059 L648.948 27.2059 L648.948 54.3874 Q648.948 60.8284 651.459 64.0691 Q653.971 67.2693 658.994 67.2693 Q665.03 67.2693 668.513 63.421 Q672.038 59.5726 672.038 52.9291 L672.038 27.2059 L679.491 27.2059 L679.491 72.576 L672.038 72.576 L672.038 65.6084 Q669.324 69.7404 665.718 71.7658 Q662.154 73.7508 657.414 73.7508 Q649.596 73.7508 645.545 68.8897 Q641.494 64.0286 641.494 54.671 M660.25 26.1121 L660.25 26.1121 Z\" fill=\"#000000\" fill-rule=\"evenodd\" fill-opacity=\"1\" /><path clip-path=\"url(#clip510)\" d=\"M732.558 45.1919 L732.558 72.576 L725.105 72.576 L725.105 45.4349 Q725.105 38.994 722.593 35.7938 Q720.081 32.5936 715.058 32.5936 Q709.023 32.5936 705.539 36.4419 Q702.055 40.2903 702.055 46.9338 L702.055 72.576 L694.561 72.576 L694.561 27.2059 L702.055 27.2059 L702.055 34.2544 Q704.729 30.163 708.334 28.1376 Q711.98 26.1121 716.719 26.1121 Q724.537 26.1121 728.548 30.9732 Q732.558 35.7938 732.558 45.1919 Z\" fill=\"#000000\" fill-rule=\"evenodd\" fill-opacity=\"1\" /><path clip-path=\"url(#clip510)\" d=\"M777.28 34.0924 L777.28 9.54393 L784.734 9.54393 L784.734 72.576 L777.28 72.576 L777.28 65.7705 Q774.931 69.8214 771.325 71.8063 Q767.761 73.7508 762.738 73.7508 Q754.514 73.7508 749.329 67.1883 Q744.184 60.6258 744.184 49.9314 Q744.184 39.2371 749.329 32.6746 Q754.514 26.1121 762.738 26.1121 Q767.761 26.1121 771.325 28.0971 Q774.931 30.0415 777.28 34.0924 M751.881 49.9314 Q751.881 58.1548 755.243 62.8538 Q758.646 67.5124 764.56 67.5124 Q770.475 67.5124 773.877 62.8538 Q777.28 58.1548 777.28 49.9314 Q777.28 41.7081 773.877 37.0496 Q770.475 32.3505 764.56 32.3505 Q758.646 32.3505 755.243 37.0496 Q751.881 41.7081 751.881 49.9314 Z\" fill=\"#000000\" fill-rule=\"evenodd\" fill-opacity=\"1\" /><path clip-path=\"url(#clip510)\" d=\"M863.038 14.0809 L863.038 22.0612 Q858.379 19.8332 854.247 18.7395 Q850.116 17.6457 846.267 17.6457 Q839.583 17.6457 835.937 20.2383 Q832.332 22.8309 832.332 27.611 Q832.332 31.6214 834.722 33.6873 Q837.153 35.7128 843.877 36.9686 L848.819 37.9813 Q857.974 39.7232 862.309 44.1387 Q866.684 48.5136 866.684 55.8863 Q866.684 64.6767 860.769 69.2137 Q854.896 73.7508 843.513 73.7508 Q839.219 73.7508 834.357 72.7785 Q829.537 71.8063 824.352 69.9024 L824.352 61.4765 Q829.334 64.2716 834.114 65.6895 Q838.895 67.1073 843.513 67.1073 Q850.521 67.1073 854.328 64.3527 Q858.136 61.598 858.136 56.4939 Q858.136 52.0379 855.382 49.5264 Q852.668 47.0148 846.429 45.759 L841.447 44.7868 Q832.292 42.9639 828.2 39.075 Q824.109 35.1862 824.109 28.2591 Q824.109 20.2383 829.739 15.6203 Q835.411 11.0023 845.335 11.0023 Q849.589 11.0023 854.004 11.7719 Q858.42 12.5416 863.038 14.0809 Z\" fill=\"#000000\" fill-rule=\"evenodd\" fill-opacity=\"1\" /><path clip-path=\"url(#clip510)\" d=\"M886.493 14.324 L886.493 27.2059 L901.846 27.2059 L901.846 32.9987 L886.493 32.9987 L886.493 57.6282 Q886.493 63.1779 887.991 64.7578 Q889.531 66.3376 894.189 66.3376 L901.846 66.3376 L901.846 72.576 L894.189 72.576 Q885.561 72.576 882.28 69.3758 Q878.998 66.1351 878.998 57.6282 L878.998 32.9987 L873.53 32.9987 L873.53 27.2059 L878.998 27.2059 L878.998 14.324 L886.493 14.324 Z\" fill=\"#000000\" fill-rule=\"evenodd\" fill-opacity=\"1\" /><path clip-path=\"url(#clip510)\" d=\"M932.268 49.7694 Q923.234 49.7694 919.751 51.8354 Q916.267 53.9013 916.267 58.8839 Q916.267 62.8538 918.859 65.2034 Q921.492 67.5124 925.989 67.5124 Q932.187 67.5124 935.914 63.1374 Q939.681 58.7219 939.681 51.4303 L939.681 49.7694 L932.268 49.7694 M947.135 46.6907 L947.135 72.576 L939.681 72.576 L939.681 65.6895 Q937.129 69.8214 933.321 71.8063 Q929.513 73.7508 924.004 73.7508 Q917.036 73.7508 912.905 69.8619 Q908.813 65.9325 908.813 59.3701 Q908.813 51.7138 913.917 47.825 Q919.062 43.9361 929.23 43.9361 L939.681 43.9361 L939.681 43.2069 Q939.681 38.0623 936.278 35.2672 Q932.916 32.4315 926.799 32.4315 Q922.91 32.4315 919.224 33.3632 Q915.538 34.295 912.135 36.1584 L912.135 29.2718 Q916.226 27.692 920.075 26.9223 Q923.923 26.1121 927.569 26.1121 Q937.412 26.1121 942.274 31.2163 Q947.135 36.3204 947.135 46.6907 Z\" fill=\"#000000\" fill-rule=\"evenodd\" fill-opacity=\"1\" /><path clip-path=\"url(#clip510)\" d=\"M969.86 14.324 L969.86 27.2059 L985.213 27.2059 L985.213 32.9987 L969.86 32.9987 L969.86 57.6282 Q969.86 63.1779 971.359 64.7578 Q972.898 66.3376 977.557 66.3376 L985.213 66.3376 L985.213 72.576 L977.557 72.576 Q968.929 72.576 965.647 69.3758 Q962.366 66.1351 962.366 57.6282 L962.366 32.9987 L956.897 32.9987 L956.897 27.2059 L962.366 27.2059 L962.366 14.324 L969.86 14.324 Z\" fill=\"#000000\" fill-rule=\"evenodd\" fill-opacity=\"1\" /><path clip-path=\"url(#clip510)\" d=\"M1033.82 48.0275 L1033.82 51.6733 L999.553 51.6733 Q1000.04 59.3701 1004.17 63.421 Q1008.34 67.4314 1015.76 67.4314 Q1020.05 67.4314 1024.06 66.3781 Q1028.11 65.3249 1032.08 63.2184 L1032.08 70.267 Q1028.07 71.9684 1023.86 72.8596 Q1019.65 73.7508 1015.31 73.7508 Q1004.45 73.7508 998.095 67.4314 Q991.776 61.1119 991.776 50.3365 Q991.776 39.1965 997.771 32.6746 Q1003.81 26.1121 1014.02 26.1121 Q1023.17 26.1121 1028.48 32.0264 Q1033.82 37.9003 1033.82 48.0275 M1026.37 45.84 Q1026.29 39.7232 1022.93 36.0774 Q1019.61 32.4315 1014.1 32.4315 Q1007.86 32.4315 1004.09 35.9558 Q1000.36 39.4801 999.796 45.8805 L1026.37 45.84 Z\" fill=\"#000000\" fill-rule=\"evenodd\" fill-opacity=\"1\" /><path clip-path=\"url(#clip510)\" d=\"M1072.75 12.096 L1110.99 12.096 L1110.99 18.9825 L1080.94 18.9825 L1080.94 36.8875 L1109.74 36.8875 L1109.74 43.7741 L1080.94 43.7741 L1080.94 65.6895 L1111.72 65.6895 L1111.72 72.576 L1072.75 72.576 L1072.75 12.096 Z\" fill=\"#000000\" fill-rule=\"evenodd\" fill-opacity=\"1\" /><path clip-path=\"url(#clip510)\" d=\"M1162.56 45.1919 L1162.56 72.576 L1155.11 72.576 L1155.11 45.4349 Q1155.11 38.994 1152.6 35.7938 Q1150.08 32.5936 1145.06 32.5936 Q1139.03 32.5936 1135.54 36.4419 Q1132.06 40.2903 1132.06 46.9338 L1132.06 72.576 L1124.56 72.576 L1124.56 27.2059 L1132.06 27.2059 L1132.06 34.2544 Q1134.73 30.163 1138.34 28.1376 Q1141.98 26.1121 1146.72 26.1121 Q1154.54 26.1121 1158.55 30.9732 Q1162.56 35.7938 1162.56 45.1919 Z\" fill=\"#000000\" fill-rule=\"evenodd\" fill-opacity=\"1\" /><path clip-path=\"url(#clip510)\" d=\"M1216.24 48.0275 L1216.24 51.6733 L1181.97 51.6733 Q1182.45 59.3701 1186.58 63.421 Q1190.76 67.4314 1198.17 67.4314 Q1202.46 67.4314 1206.47 66.3781 Q1210.52 65.3249 1214.49 63.2184 L1214.49 70.267 Q1210.48 71.9684 1206.27 72.8596 Q1202.06 73.7508 1197.72 73.7508 Q1186.87 73.7508 1180.51 67.4314 Q1174.19 61.1119 1174.19 50.3365 Q1174.19 39.1965 1180.18 32.6746 Q1186.22 26.1121 1196.43 26.1121 Q1205.58 26.1121 1210.89 32.0264 Q1216.24 37.9003 1216.24 48.0275 M1208.78 45.84 Q1208.7 39.7232 1205.34 36.0774 Q1202.02 32.4315 1196.51 32.4315 Q1190.27 32.4315 1186.5 35.9558 Q1182.78 39.4801 1182.21 45.8805 L1208.78 45.84 Z\" fill=\"#000000\" fill-rule=\"evenodd\" fill-opacity=\"1\" /><path clip-path=\"url(#clip510)\" d=\"M1254.76 34.1734 Q1253.5 33.4443 1252.01 33.1202 Q1250.55 32.7556 1248.76 32.7556 Q1242.45 32.7556 1239.04 36.8875 Q1235.68 40.9789 1235.68 48.6757 L1235.68 72.576 L1228.19 72.576 L1228.19 27.2059 L1235.68 27.2059 L1235.68 34.2544 Q1238.03 30.1225 1241.8 28.1376 Q1245.56 26.1121 1250.95 26.1121 Q1251.72 26.1121 1252.65 26.2337 Q1253.59 26.3147 1254.72 26.5172 L1254.76 34.1734 Z\" fill=\"#000000\" fill-rule=\"evenodd\" fill-opacity=\"1\" /><path clip-path=\"url(#clip510)\" d=\"M1290.98 49.3643 Q1290.98 41.2625 1287.61 36.8065 Q1284.29 32.3505 1278.26 32.3505 Q1272.26 32.3505 1268.9 36.8065 Q1265.58 41.2625 1265.58 49.3643 Q1265.58 57.4256 1268.9 61.8816 Q1272.26 66.3376 1278.26 66.3376 Q1284.29 66.3376 1287.61 61.8816 Q1290.98 57.4256 1290.98 49.3643 M1298.43 66.9452 Q1298.43 78.5308 1293.28 84.1616 Q1288.14 89.8329 1277.53 89.8329 Q1273.6 89.8329 1270.11 89.2252 Q1266.63 88.6581 1263.35 87.4428 L1263.35 80.1917 Q1266.63 81.9741 1269.83 82.8248 Q1273.03 83.6755 1276.35 83.6755 Q1283.68 83.6755 1287.33 79.8271 Q1290.98 76.0193 1290.98 68.282 L1290.98 64.5957 Q1288.67 68.6061 1285.06 70.5911 Q1281.46 72.576 1276.43 72.576 Q1268.09 72.576 1262.98 66.2161 Q1257.88 59.8562 1257.88 49.3643 Q1257.88 38.832 1262.98 32.472 Q1268.09 26.1121 1276.43 26.1121 Q1281.46 26.1121 1285.06 28.0971 Q1288.67 30.082 1290.98 34.0924 L1290.98 27.2059 L1298.43 27.2059 L1298.43 66.9452 Z\" fill=\"#000000\" fill-rule=\"evenodd\" fill-opacity=\"1\" /><path clip-path=\"url(#clip510)\" d=\"M1332.66 76.7889 Q1329.5 84.8907 1326.5 87.3618 Q1323.5 89.8329 1318.48 89.8329 L1312.53 89.8329 L1312.53 83.5945 L1316.9 83.5945 Q1319.98 83.5945 1321.68 82.1361 Q1323.38 80.6778 1325.45 75.2496 L1326.79 71.8468 L1308.43 27.2059 L1316.33 27.2059 L1330.51 62.6918 L1344.69 27.2059 L1352.59 27.2059 L1332.66 76.7889 Z\" fill=\"#000000\" fill-rule=\"evenodd\" fill-opacity=\"1\" /><path clip-path=\"url(#clip510)\" d=\"M1425.83 14.0809 L1425.83 22.0612 Q1421.17 19.8332 1417.04 18.7395 Q1412.91 17.6457 1409.06 17.6457 Q1402.38 17.6457 1398.73 20.2383 Q1395.12 22.8309 1395.12 27.611 Q1395.12 31.6214 1397.51 33.6873 Q1399.94 35.7128 1406.67 36.9686 L1411.61 37.9813 Q1420.77 39.7232 1425.1 44.1387 Q1429.48 48.5136 1429.48 55.8863 Q1429.48 64.6767 1423.56 69.2137 Q1417.69 73.7508 1406.3 73.7508 Q1402.01 73.7508 1397.15 72.7785 Q1392.33 71.8063 1387.14 69.9024 L1387.14 61.4765 Q1392.13 64.2716 1396.91 65.6895 Q1401.69 67.1073 1406.3 67.1073 Q1413.31 67.1073 1417.12 64.3527 Q1420.93 61.598 1420.93 56.4939 Q1420.93 52.0379 1418.17 49.5264 Q1415.46 47.0148 1409.22 45.759 L1404.24 44.7868 Q1395.08 42.9639 1390.99 39.075 Q1386.9 35.1862 1386.9 28.2591 Q1386.9 20.2383 1392.53 15.6203 Q1398.2 11.0023 1408.13 11.0023 Q1412.38 11.0023 1416.8 11.7719 Q1421.21 12.5416 1425.83 14.0809 Z\" fill=\"#000000\" fill-rule=\"evenodd\" fill-opacity=\"1\" /><path clip-path=\"url(#clip510)\" d=\"M1474.56 28.9478 L1474.56 35.9153 Q1471.4 34.1734 1468.2 33.3227 Q1465.04 32.4315 1461.8 32.4315 Q1454.55 32.4315 1450.54 37.0496 Q1446.53 41.6271 1446.53 49.9314 Q1446.53 58.2358 1450.54 62.8538 Q1454.55 67.4314 1461.8 67.4314 Q1465.04 67.4314 1468.2 66.5807 Q1471.4 65.6895 1474.56 63.9476 L1474.56 70.8341 Q1471.44 72.2924 1468.08 73.0216 Q1464.76 73.7508 1460.99 73.7508 Q1450.74 73.7508 1444.71 67.3098 Q1438.67 60.8689 1438.67 49.9314 Q1438.67 38.832 1444.75 32.472 Q1450.86 26.1121 1461.48 26.1121 Q1464.92 26.1121 1468.2 26.8413 Q1471.48 27.5299 1474.56 28.9478 Z\" fill=\"#000000\" fill-rule=\"evenodd\" fill-opacity=\"1\" /><path clip-path=\"url(#clip510)\" d=\"M1508.14 49.7694 Q1499.11 49.7694 1495.63 51.8354 Q1492.14 53.9013 1492.14 58.8839 Q1492.14 62.8538 1494.74 65.2034 Q1497.37 67.5124 1501.87 67.5124 Q1508.06 67.5124 1511.79 63.1374 Q1515.56 58.7219 1515.56 51.4303 L1515.56 49.7694 L1508.14 49.7694 M1523.01 46.6907 L1523.01 72.576 L1515.56 72.576 L1515.56 65.6895 Q1513.01 69.8214 1509.2 71.8063 Q1505.39 73.7508 1499.88 73.7508 Q1492.91 73.7508 1488.78 69.8619 Q1484.69 65.9325 1484.69 59.3701 Q1484.69 51.7138 1489.79 47.825 Q1494.94 43.9361 1505.11 43.9361 L1515.56 43.9361 L1515.56 43.2069 Q1515.56 38.0623 1512.15 35.2672 Q1508.79 32.4315 1502.68 32.4315 Q1498.79 32.4315 1495.1 33.3632 Q1491.41 34.295 1488.01 36.1584 L1488.01 29.2718 Q1492.1 27.692 1495.95 26.9223 Q1499.8 26.1121 1503.45 26.1121 Q1513.29 26.1121 1518.15 31.2163 Q1523.01 36.3204 1523.01 46.6907 Z\" fill=\"#000000\" fill-rule=\"evenodd\" fill-opacity=\"1\" /><path clip-path=\"url(#clip510)\" d=\"M1538.36 9.54393 L1545.82 9.54393 L1545.82 72.576 L1538.36 72.576 L1538.36 9.54393 Z\" fill=\"#000000\" fill-rule=\"evenodd\" fill-opacity=\"1\" /><path clip-path=\"url(#clip510)\" d=\"M1561.41 27.2059 L1568.87 27.2059 L1568.87 72.576 L1561.41 72.576 L1561.41 27.2059 M1561.41 9.54393 L1568.87 9.54393 L1568.87 18.9825 L1561.41 18.9825 L1561.41 9.54393 Z\" fill=\"#000000\" fill-rule=\"evenodd\" fill-opacity=\"1\" /><path clip-path=\"url(#clip510)\" d=\"M1622.18 45.1919 L1622.18 72.576 L1614.72 72.576 L1614.72 45.4349 Q1614.72 38.994 1612.21 35.7938 Q1609.7 32.5936 1604.68 32.5936 Q1598.64 32.5936 1595.16 36.4419 Q1591.67 40.2903 1591.67 46.9338 L1591.67 72.576 L1584.18 72.576 L1584.18 27.2059 L1591.67 27.2059 L1591.67 34.2544 Q1594.35 30.163 1597.95 28.1376 Q1601.6 26.1121 1606.34 26.1121 Q1614.16 26.1121 1618.17 30.9732 Q1622.18 35.7938 1622.18 45.1919 Z\" fill=\"#000000\" fill-rule=\"evenodd\" fill-opacity=\"1\" /><path clip-path=\"url(#clip510)\" d=\"M1666.9 49.3643 Q1666.9 41.2625 1663.54 36.8065 Q1660.22 32.3505 1654.18 32.3505 Q1648.18 32.3505 1644.82 36.8065 Q1641.5 41.2625 1641.5 49.3643 Q1641.5 57.4256 1644.82 61.8816 Q1648.18 66.3376 1654.18 66.3376 Q1660.22 66.3376 1663.54 61.8816 Q1666.9 57.4256 1666.9 49.3643 M1674.35 66.9452 Q1674.35 78.5308 1669.21 84.1616 Q1664.06 89.8329 1653.45 89.8329 Q1649.52 89.8329 1646.04 89.2252 Q1642.55 88.6581 1639.27 87.4428 L1639.27 80.1917 Q1642.55 81.9741 1645.75 82.8248 Q1648.95 83.6755 1652.28 83.6755 Q1659.61 83.6755 1663.25 79.8271 Q1666.9 76.0193 1666.9 68.282 L1666.9 64.5957 Q1664.59 68.6061 1660.99 70.5911 Q1657.38 72.576 1652.36 72.576 Q1644.01 72.576 1638.91 66.2161 Q1633.8 59.8562 1633.8 49.3643 Q1633.8 38.832 1638.91 32.472 Q1644.01 26.1121 1652.36 26.1121 Q1657.38 26.1121 1660.99 28.0971 Q1664.59 30.082 1666.9 34.0924 L1666.9 27.2059 L1674.35 27.2059 L1674.35 66.9452 Z\" fill=\"#000000\" fill-rule=\"evenodd\" fill-opacity=\"1\" /><path clip-path=\"url(#clip510)\" d=\"M1733.98 9.62495 Q1728.55 18.942 1725.92 28.0566 Q1723.29 37.1711 1723.29 46.5287 Q1723.29 55.8863 1725.92 65.0818 Q1728.59 74.2369 1733.98 83.5134 L1727.5 83.5134 Q1721.42 73.9938 1718.39 64.7983 Q1715.39 55.6027 1715.39 46.5287 Q1715.39 37.4952 1718.39 28.3401 Q1721.38 19.1851 1727.5 9.62495 L1733.98 9.62495 Z\" fill=\"#000000\" fill-rule=\"evenodd\" fill-opacity=\"1\" /><path clip-path=\"url(#clip510)\" d=\"M1745.85 12.096 L1754.64 12.096 L1769.67 34.5785 L1784.78 12.096 L1793.57 12.096 L1774.13 41.141 L1794.87 72.576 L1786.08 72.576 L1769.06 46.8528 L1751.93 72.576 L1743.1 72.576 L1764.69 40.2903 L1745.85 12.096 Z\" fill=\"#000000\" fill-rule=\"evenodd\" fill-opacity=\"1\" /><path clip-path=\"url(#clip510)\" d=\"M1797.3 12.096 L1806.09 12.096 L1822.86 36.9686 L1839.51 12.096 L1848.3 12.096 L1826.91 43.7741 L1826.91 72.576 L1818.69 72.576 L1818.69 43.7741 L1797.3 12.096 Z\" fill=\"#000000\" fill-rule=\"evenodd\" fill-opacity=\"1\" /><path clip-path=\"url(#clip510)\" d=\"M1882.65 12.096 L1894.84 12.096 L1910.28 53.2532 L1925.79 12.096 L1937.99 12.096 L1937.99 72.576 L1930.01 72.576 L1930.01 19.4686 L1914.41 60.9499 L1906.19 60.9499 L1890.59 19.4686 L1890.59 72.576 L1882.65 72.576 L1882.65 12.096 Z\" fill=\"#000000\" fill-rule=\"evenodd\" fill-opacity=\"1\" /><path clip-path=\"url(#clip510)\" d=\"M1971.49 32.4315 Q1965.49 32.4315 1962.01 37.1306 Q1958.52 41.7891 1958.52 49.9314 Q1958.52 58.0738 1961.97 62.7728 Q1965.45 67.4314 1971.49 67.4314 Q1977.44 67.4314 1980.93 62.7323 Q1984.41 58.0333 1984.41 49.9314 Q1984.41 41.8701 1980.93 37.1711 Q1977.44 32.4315 1971.49 32.4315 M1971.49 26.1121 Q1981.21 26.1121 1986.76 32.4315 Q1992.31 38.7509 1992.31 49.9314 Q1992.31 61.0714 1986.76 67.4314 Q1981.21 73.7508 1971.49 73.7508 Q1961.72 73.7508 1956.17 67.4314 Q1950.67 61.0714 1950.67 49.9314 Q1950.67 38.7509 1956.17 32.4315 Q1961.72 26.1121 1971.49 26.1121 Z\" fill=\"#000000\" fill-rule=\"evenodd\" fill-opacity=\"1\" /><path clip-path=\"url(#clip510)\" d=\"M2034.52 34.0924 L2034.52 9.54393 L2041.97 9.54393 L2041.97 72.576 L2034.52 72.576 L2034.52 65.7705 Q2032.17 69.8214 2028.56 71.8063 Q2025 73.7508 2019.98 73.7508 Q2011.75 73.7508 2006.57 67.1883 Q2001.42 60.6258 2001.42 49.9314 Q2001.42 39.2371 2006.57 32.6746 Q2011.75 26.1121 2019.98 26.1121 Q2025 26.1121 2028.56 28.0971 Q2032.17 30.0415 2034.52 34.0924 M2009.12 49.9314 Q2009.12 58.1548 2012.48 62.8538 Q2015.88 67.5124 2021.8 67.5124 Q2027.71 67.5124 2031.12 62.8538 Q2034.52 58.1548 2034.52 49.9314 Q2034.52 41.7081 2031.12 37.0496 Q2027.71 32.3505 2021.8 32.3505 Q2015.88 32.3505 2012.48 37.0496 Q2009.12 41.7081 2009.12 49.9314 Z\" fill=\"#000000\" fill-rule=\"evenodd\" fill-opacity=\"1\" /><path clip-path=\"url(#clip510)\" d=\"M2096.13 48.0275 L2096.13 51.6733 L2061.86 51.6733 Q2062.35 59.3701 2066.48 63.421 Q2070.65 67.4314 2078.07 67.4314 Q2082.36 67.4314 2086.37 66.3781 Q2090.42 65.3249 2094.39 63.2184 L2094.39 70.267 Q2090.38 71.9684 2086.17 72.8596 Q2081.95 73.7508 2077.62 73.7508 Q2066.76 73.7508 2060.4 67.4314 Q2054.08 61.1119 2054.08 50.3365 Q2054.08 39.1965 2060.08 32.6746 Q2066.12 26.1121 2076.32 26.1121 Q2085.48 26.1121 2090.79 32.0264 Q2096.13 37.9003 2096.13 48.0275 M2088.68 45.84 Q2088.6 39.7232 2085.24 36.0774 Q2081.91 32.4315 2076.41 32.4315 Q2070.17 32.4315 2066.4 35.9558 Q2062.67 39.4801 2062.11 45.8805 L2088.68 45.84 Z\" fill=\"#000000\" fill-rule=\"evenodd\" fill-opacity=\"1\" /><path clip-path=\"url(#clip510)\" d=\"M2108.37 9.54393 L2115.82 9.54393 L2115.82 72.576 L2108.37 72.576 L2108.37 9.54393 Z\" fill=\"#000000\" fill-rule=\"evenodd\" fill-opacity=\"1\" /><path clip-path=\"url(#clip510)\" d=\"M2130.24 9.62495 L2136.72 9.62495 Q2142.8 19.1851 2145.8 28.3401 Q2148.84 37.4952 2148.84 46.5287 Q2148.84 55.6027 2145.8 64.7983 Q2142.8 73.9938 2136.72 83.5134 L2130.24 83.5134 Q2135.63 74.2369 2138.26 65.0818 Q2140.94 55.8863 2140.94 46.5287 Q2140.94 37.1711 2138.26 28.0566 Q2135.63 18.942 2130.24 9.62495 Z\" fill=\"#000000\" fill-rule=\"evenodd\" fill-opacity=\"1\" /><polyline clip-path=\"url(#clip512)\" style=\"stroke:#009af9; stroke-linecap:butt; stroke-linejoin:round; stroke-width:4; stroke-opacity:1; fill:none\" points=\"\n",
       "  346.293,160.256 589.796,160.256 833.298,160.256 1076.8,160.256 1320.3,160.256 1563.81,160.256 1807.31,160.256 2050.81,160.256 \n",
       "  \"/>\n",
       "<circle clip-path=\"url(#clip512)\" cx=\"346.293\" cy=\"1386.4\" r=\"14\" fill=\"#ff0000\" fill-rule=\"evenodd\" fill-opacity=\"1\" stroke=\"#000000\" stroke-opacity=\"1\" stroke-width=\"3.2\"/>\n",
       "<circle clip-path=\"url(#clip512)\" cx=\"589.796\" cy=\"682.93\" r=\"14\" fill=\"#ff0000\" fill-rule=\"evenodd\" fill-opacity=\"1\" stroke=\"#000000\" stroke-opacity=\"1\" stroke-width=\"3.2\"/>\n",
       "<circle clip-path=\"url(#clip512)\" cx=\"833.298\" cy=\"450.091\" r=\"14\" fill=\"#ff0000\" fill-rule=\"evenodd\" fill-opacity=\"1\" stroke=\"#000000\" stroke-opacity=\"1\" stroke-width=\"3.2\"/>\n",
       "<circle clip-path=\"url(#clip512)\" cx=\"1076.8\" cy=\"344.539\" r=\"14\" fill=\"#ff0000\" fill-rule=\"evenodd\" fill-opacity=\"1\" stroke=\"#000000\" stroke-opacity=\"1\" stroke-width=\"3.2\"/>\n",
       "<circle clip-path=\"url(#clip512)\" cx=\"1320.3\" cy=\"287.777\" r=\"14\" fill=\"#ff0000\" fill-rule=\"evenodd\" fill-opacity=\"1\" stroke=\"#000000\" stroke-opacity=\"1\" stroke-width=\"3.2\"/>\n",
       "<circle clip-path=\"url(#clip512)\" cx=\"1563.81\" cy=\"253.745\" r=\"14\" fill=\"#ff0000\" fill-rule=\"evenodd\" fill-opacity=\"1\" stroke=\"#000000\" stroke-opacity=\"1\" stroke-width=\"3.2\"/>\n",
       "<circle clip-path=\"url(#clip512)\" cx=\"1807.31\" cy=\"231.735\" r=\"14\" fill=\"#ff0000\" fill-rule=\"evenodd\" fill-opacity=\"1\" stroke=\"#000000\" stroke-opacity=\"1\" stroke-width=\"3.2\"/>\n",
       "<circle clip-path=\"url(#clip512)\" cx=\"2050.81\" cy=\"216.68\" r=\"14\" fill=\"#ff0000\" fill-rule=\"evenodd\" fill-opacity=\"1\" stroke=\"#000000\" stroke-opacity=\"1\" stroke-width=\"3.2\"/>\n",
       "<polyline clip-path=\"url(#clip512)\" style=\"stroke:#ff0000; stroke-linecap:butt; stroke-linejoin:round; stroke-width:4; stroke-opacity:1; fill:none\" points=\"\n",
       "  346.293,1386.4 589.796,682.93 833.298,450.091 1076.8,344.539 1320.3,287.777 1563.81,253.745 1807.31,231.735 2050.81,216.68 \n",
       "  \"/>\n",
       "<polyline clip-path=\"url(#clip512)\" style=\"stroke:#c271d2; stroke-linecap:butt; stroke-linejoin:round; stroke-width:4; stroke-opacity:1; fill:none\" points=\"\n",
       "  346.293,1361.21 348.728,1348.96 351.163,1336.9 353.598,1325.03 356.033,1313.33 358.468,1301.8 360.903,1290.45 363.338,1279.26 365.773,1268.24 368.208,1257.38 \n",
       "  370.643,1246.67 373.078,1236.12 375.513,1225.73 377.948,1215.48 380.383,1205.38 382.818,1195.42 385.253,1185.6 387.688,1175.92 390.123,1166.37 392.558,1156.96 \n",
       "  394.993,1147.68 397.428,1138.53 399.863,1129.5 402.298,1120.59 404.733,1111.81 407.168,1103.15 409.603,1094.6 412.038,1086.17 414.473,1077.85 416.909,1069.64 \n",
       "  419.344,1061.54 421.779,1053.55 424.214,1045.66 426.649,1037.88 429.084,1030.2 431.519,1022.62 433.954,1015.13 436.389,1007.74 438.824,1000.45 441.259,993.251 \n",
       "  443.694,986.143 446.129,979.124 448.564,972.194 450.999,965.351 453.434,958.594 455.869,951.921 458.304,945.33 460.739,938.821 463.174,932.393 465.609,926.042 \n",
       "  468.044,919.77 470.479,913.574 472.914,907.453 475.349,901.405 477.784,895.431 480.219,889.527 482.654,883.695 485.089,877.931 487.524,872.236 489.959,866.608 \n",
       "  492.394,861.046 494.829,855.549 497.264,850.115 499.699,844.746 502.134,839.438 504.57,834.191 507.005,829.004 509.44,823.877 511.875,818.808 514.31,813.797 \n",
       "  516.745,808.842 519.18,803.944 521.615,799.1 524.05,794.31 526.485,789.574 528.92,784.89 531.355,780.258 533.79,775.677 536.225,771.147 538.66,766.666 \n",
       "  541.095,762.234 543.53,757.85 545.965,753.513 548.4,749.223 550.835,744.98 553.27,740.781 555.705,736.628 558.14,732.519 560.575,728.453 563.01,724.431 \n",
       "  565.445,720.45 567.88,716.512 570.315,712.614 572.75,708.758 575.185,704.941 577.62,701.164 580.055,697.425 582.49,693.726 584.925,690.064 587.36,686.439 \n",
       "  589.796,682.852 592.231,679.3 594.666,675.785 597.101,672.305 599.536,668.86 601.971,665.45 604.406,662.073 606.841,658.73 609.276,655.421 611.711,652.144 \n",
       "  614.146,648.899 616.581,645.686 619.016,642.505 621.451,639.354 623.886,636.234 626.321,633.145 628.756,630.085 631.191,627.055 633.626,624.054 636.061,621.082 \n",
       "  638.496,618.138 640.931,615.222 643.366,612.333 645.801,609.472 648.236,606.638 650.671,603.831 653.106,601.05 655.541,598.294 657.976,595.565 660.411,592.861 \n",
       "  662.846,590.181 665.281,587.527 667.716,584.897 670.151,582.291 672.586,579.709 675.021,577.15 677.457,574.615 679.892,572.103 682.327,569.613 684.762,567.146 \n",
       "  687.197,564.701 689.632,562.278 692.067,559.876 694.502,557.496 696.937,555.137 699.372,552.799 701.807,550.482 704.242,548.185 706.677,545.908 709.112,543.651 \n",
       "  711.547,541.413 713.982,539.196 716.417,536.997 718.852,534.817 721.287,532.657 723.722,530.515 726.157,528.391 728.592,526.285 731.027,524.197 733.462,522.128 \n",
       "  735.897,520.075 738.332,518.04 740.767,516.022 743.202,514.022 745.637,512.038 748.072,510.07 750.507,508.119 752.942,506.184 755.377,504.266 757.812,502.363 \n",
       "  760.247,500.476 762.683,498.604 765.118,496.748 767.553,494.907 769.988,493.081 772.423,491.27 774.858,489.473 777.293,487.691 779.728,485.924 782.163,484.171 \n",
       "  784.598,482.432 787.033,480.706 789.468,478.995 791.903,477.297 794.338,475.613 796.773,473.942 799.208,472.285 801.643,470.64 804.078,469.008 806.513,467.39 \n",
       "  808.948,465.783 811.383,464.19 813.818,462.609 816.253,461.04 818.688,459.483 821.123,457.938 823.558,456.406 825.993,454.885 828.428,453.375 830.863,451.878 \n",
       "  833.298,450.391 835.733,448.916 838.168,447.453 840.603,446 843.038,444.558 845.473,443.127 847.908,441.707 850.344,440.298 852.779,438.899 855.214,437.511 \n",
       "  857.649,436.133 860.084,434.765 862.519,433.407 864.954,432.06 867.389,430.722 869.824,429.394 872.259,428.076 874.694,426.767 877.129,425.469 879.564,424.179 \n",
       "  881.999,422.899 884.434,421.628 886.869,420.367 889.304,419.115 891.739,417.871 894.174,416.637 896.609,415.411 899.044,414.194 901.479,412.986 903.914,411.787 \n",
       "  906.349,410.595 908.784,409.413 911.219,408.239 913.654,407.073 916.089,405.915 918.524,404.765 920.959,403.624 923.394,402.49 925.829,401.365 928.264,400.247 \n",
       "  930.699,399.137 933.134,398.034 935.57,396.94 938.005,395.852 940.44,394.773 942.875,393.7 945.31,392.635 947.745,391.578 950.18,390.527 952.615,389.484 \n",
       "  955.05,388.448 957.485,387.418 959.92,386.396 962.355,385.381 964.79,384.372 967.225,383.37 969.66,382.375 972.095,381.387 974.53,380.405 976.965,379.43 \n",
       "  979.4,378.461 981.835,377.499 984.27,376.543 986.705,375.593 989.14,374.649 991.575,373.712 994.01,372.781 996.445,371.856 998.88,370.937 1001.32,370.024 \n",
       "  1003.75,369.117 1006.19,368.216 1008.62,367.321 1011.06,366.431 1013.49,365.547 1015.93,364.669 1018.36,363.796 1020.8,362.93 1023.23,362.068 1025.67,361.212 \n",
       "  1028.1,360.362 1030.54,359.517 1032.97,358.677 1035.41,357.843 1037.84,357.014 1040.28,356.19 1042.71,355.371 1045.15,354.558 1047.58,353.749 1050.02,352.946 \n",
       "  1052.45,352.147 1054.89,351.354 1057.32,350.565 1059.76,349.782 1062.19,349.003 1064.63,348.229 1067.06,347.46 1069.5,346.695 1071.93,345.936 1074.37,345.18 \n",
       "  1076.8,344.43 1079.24,343.684 1081.67,342.943 1084.11,342.206 1086.54,341.473 1088.98,340.745 1091.41,340.022 1093.85,339.302 1096.28,338.588 1098.72,337.877 \n",
       "  1101.15,337.171 1103.59,336.468 1106.02,335.77 1108.46,335.077 1110.89,334.387 1113.33,333.701 1115.76,333.02 1118.2,332.342 1120.63,331.669 1123.07,330.999 \n",
       "  1125.5,330.334 1127.94,329.672 1130.37,329.014 1132.81,328.36 1135.24,327.71 1137.68,327.064 1140.11,326.421 1142.55,325.782 1144.98,325.147 1147.42,324.516 \n",
       "  1149.85,323.888 1152.29,323.263 1154.72,322.643 1157.16,322.026 1159.59,321.412 1162.03,320.802 1164.46,320.195 1166.9,319.592 1169.33,318.992 1171.77,318.396 \n",
       "  1174.2,317.803 1176.64,317.213 1179.07,316.627 1181.51,316.044 1183.94,315.464 1186.38,314.888 1188.81,314.315 1191.25,313.745 1193.68,313.178 1196.12,312.614 \n",
       "  1198.55,312.054 1200.99,311.496 1203.42,310.942 1205.86,310.39 1208.29,309.842 1210.73,309.297 1213.16,308.755 1215.6,308.215 1218.03,307.679 1220.47,307.146 \n",
       "  1222.9,306.615 1225.34,306.088 1227.77,305.563 1230.21,305.041 1232.64,304.522 1235.08,304.006 1237.51,303.492 1239.95,302.981 1242.38,302.474 1244.82,301.968 \n",
       "  1247.25,301.466 1249.69,300.966 1252.12,300.469 1254.56,299.974 1256.99,299.482 1259.43,298.993 1261.86,298.507 1264.3,298.023 1266.73,297.541 1269.17,297.062 \n",
       "  1271.6,296.586 1274.04,296.112 1276.47,295.64 1278.91,295.171 1281.34,294.705 1283.78,294.241 1286.21,293.779 1288.65,293.32 1291.08,292.863 1293.52,292.408 \n",
       "  1295.95,291.956 1298.39,291.506 1300.82,291.059 1303.26,290.614 1305.69,290.171 1308.13,289.73 1310.56,289.292 1313,288.855 1315.43,288.422 1317.87,287.99 \n",
       "  1320.3,287.56 1322.74,287.133 1325.17,286.708 1327.61,286.285 1330.04,285.864 1332.48,285.445 1334.91,285.029 1337.35,284.614 1339.78,284.202 1342.22,283.792 \n",
       "  1344.65,283.383 1347.09,282.977 1349.52,282.573 1351.96,282.171 1354.39,281.77 1356.83,281.372 1359.26,280.976 1361.7,280.582 1364.13,280.189 1366.57,279.799 \n",
       "  1369,279.41 1371.44,279.024 1373.87,278.639 1376.31,278.256 1378.74,277.876 1381.18,277.497 1383.61,277.119 1386.05,276.744 1388.48,276.371 1390.92,275.999 \n",
       "  1393.35,275.629 1395.79,275.261 1398.22,274.894 1400.66,274.53 1403.09,274.167 1405.53,273.806 1407.96,273.447 1410.4,273.089 1412.84,272.733 1415.27,272.379 \n",
       "  1417.71,272.027 1420.14,271.676 1422.58,271.327 1425.01,270.979 1427.45,270.633 1429.88,270.289 1432.32,269.947 1434.75,269.606 1437.19,269.266 1439.62,268.929 \n",
       "  1442.06,268.592 1444.49,268.258 1446.93,267.925 1449.36,267.593 1451.8,267.263 1454.23,266.935 1456.67,266.608 1459.1,266.283 1461.54,265.959 1463.97,265.637 \n",
       "  1466.41,265.316 1468.84,264.997 1471.28,264.679 1473.71,264.362 1476.15,264.048 1478.58,263.734 1481.02,263.422 1483.45,263.111 1485.89,262.802 1488.32,262.494 \n",
       "  1490.76,262.188 1493.19,261.883 1495.63,261.58 1498.06,261.277 1500.5,260.976 1502.93,260.677 1505.37,260.379 1507.8,260.082 1510.24,259.787 1512.67,259.493 \n",
       "  1515.11,259.2 1517.54,258.908 1519.98,258.618 1522.41,258.329 1524.85,258.042 1527.28,257.755 1529.72,257.47 1532.15,257.187 1534.59,256.904 1537.02,256.623 \n",
       "  1539.46,256.343 1541.89,256.064 1544.33,255.787 1546.76,255.51 1549.2,255.235 1551.63,254.961 1554.07,254.689 1556.5,254.417 1558.94,254.147 1561.37,253.878 \n",
       "  1563.81,253.61 1566.24,253.343 1568.68,253.077 1571.11,252.813 1573.55,252.55 1575.98,252.288 1578.42,252.027 1580.85,251.767 1583.29,251.508 1585.72,251.25 \n",
       "  1588.16,250.994 1590.59,250.738 1593.03,250.484 1595.46,250.231 1597.9,249.978 1600.33,249.727 1602.77,249.477 1605.2,249.228 1607.64,248.981 1610.07,248.734 \n",
       "  1612.51,248.488 1614.94,248.243 1617.38,247.999 1619.81,247.757 1622.25,247.515 1624.68,247.274 1627.12,247.035 1629.55,246.796 1631.99,246.559 1634.42,246.322 \n",
       "  1636.86,246.086 1639.29,245.852 1641.73,245.618 1644.16,245.385 1646.6,245.154 1649.03,244.923 1651.47,244.693 1653.9,244.464 1656.34,244.236 1658.77,244.009 \n",
       "  1661.21,243.783 1663.64,243.558 1666.08,243.334 1668.51,243.111 1670.95,242.888 1673.38,242.667 1675.82,242.446 1678.25,242.227 1680.69,242.008 1683.12,241.79 \n",
       "  1685.56,241.573 1687.99,241.357 1690.43,241.142 1692.86,240.928 1695.3,240.715 1697.73,240.502 1700.17,240.29 1702.6,240.079 1705.04,239.869 1707.47,239.66 \n",
       "  1709.91,239.452 1712.34,239.244 1714.78,239.038 1717.21,238.832 1719.65,238.627 1722.08,238.423 1724.52,238.22 1726.95,238.017 1729.39,237.815 1731.82,237.614 \n",
       "  1734.26,237.414 1736.69,237.215 1739.13,237.016 1741.56,236.818 1744,236.622 1746.43,236.425 1748.87,236.23 1751.3,236.035 1753.74,235.841 1756.17,235.648 \n",
       "  1758.61,235.456 1761.04,235.264 1763.48,235.073 1765.91,234.883 1768.35,234.694 1770.78,234.505 1773.22,234.317 1775.65,234.13 1778.09,233.943 1780.52,233.758 \n",
       "  1782.96,233.573 1785.39,233.388 1787.83,233.205 1790.26,233.022 1792.7,232.84 1795.13,232.658 1797.57,232.477 1800,232.297 1802.44,232.118 1804.87,231.939 \n",
       "  1807.31,231.761 1809.74,231.584 1812.18,231.407 1814.61,231.231 1817.05,231.056 1819.48,230.881 1821.92,230.707 1824.35,230.534 1826.79,230.361 1829.22,230.189 \n",
       "  1831.66,230.017 1834.09,229.847 1836.53,229.677 1838.96,229.507 1841.4,229.338 1843.84,229.17 1846.27,229.002 1848.71,228.836 1851.14,228.669 1853.58,228.504 \n",
       "  1856.01,228.338 1858.45,228.174 1860.88,228.01 1863.32,227.847 1865.75,227.684 1868.19,227.522 1870.62,227.361 1873.06,227.2 1875.49,227.04 1877.93,226.88 \n",
       "  1880.36,226.721 1882.8,226.562 1885.23,226.405 1887.67,226.247 1890.1,226.09 1892.54,225.934 1894.97,225.779 1897.41,225.624 1899.84,225.469 1902.28,225.315 \n",
       "  1904.71,225.162 1907.15,225.009 1909.58,224.857 1912.02,224.705 1914.45,224.554 1916.89,224.403 1919.32,224.253 1921.76,224.104 1924.19,223.955 1926.63,223.807 \n",
       "  1929.06,223.659 1931.5,223.511 1933.93,223.364 1936.37,223.218 1938.8,223.072 1941.24,222.927 1943.67,222.782 1946.11,222.638 1948.54,222.494 1950.98,222.351 \n",
       "  1953.41,222.209 1955.85,222.066 1958.28,221.925 1960.72,221.783 1963.15,221.643 1965.59,221.503 1968.02,221.363 1970.46,221.224 1972.89,221.085 1975.33,220.947 \n",
       "  1977.76,220.809 1980.2,220.672 1982.63,220.535 1985.07,220.399 1987.5,220.263 1989.94,220.128 1992.37,219.993 1994.81,219.858 1997.24,219.724 1999.68,219.591 \n",
       "  2002.11,219.458 2004.55,219.325 2006.98,219.193 2009.42,219.062 2011.85,218.931 2014.29,218.8 2016.72,218.67 2019.16,218.54 2021.59,218.41 2024.03,218.282 \n",
       "  2026.46,218.153 2028.9,218.025 2031.33,217.897 2033.77,217.77 2036.2,217.644 2038.64,217.517 2041.07,217.391 2043.51,217.266 2045.94,217.141 2048.38,217.016 \n",
       "  2050.81,216.892 2053.25,216.768 2055.68,216.645 2058.12,216.522 2060.55,216.4 2062.99,216.278 2065.42,216.156 2067.86,216.035 2070.29,215.914 2072.73,215.794 \n",
       "  2075.16,215.673 2077.6,215.554 2080.03,215.435 2082.47,215.316 2084.9,215.197 2087.34,215.079 2089.77,214.962 2092.21,214.844 2094.64,214.728 2097.08,214.611 \n",
       "  2099.51,214.495 2101.95,214.379 2104.38,214.264 2106.82,214.149 2109.25,214.035 2111.69,213.92 2114.12,213.807 2116.56,213.693 2118.99,213.58 2121.43,213.467 \n",
       "  2123.86,213.355 2126.3,213.243 2128.73,213.132 2131.17,213.02 2133.6,212.91 2136.04,212.799 2138.47,212.689 2140.91,212.579 2143.34,212.47 2145.78,212.361 \n",
       "  2148.21,212.252 2150.65,212.144 2153.08,212.036 2155.52,211.928 2157.95,211.821 2160.39,211.714 2162.82,211.607 2165.26,211.501 2167.69,211.395 2170.13,211.29 \n",
       "  2172.56,211.184 2175,211.08 2177.43,210.975 2179.87,210.871 2182.3,210.767 2184.74,210.663 2187.17,210.56 2189.61,210.457 2192.04,210.355 2194.48,210.252 \n",
       "  2196.91,210.151 2199.35,210.049 2201.78,209.948 2204.22,209.847 2206.65,209.746 2209.09,209.646 2211.52,209.546 2213.96,209.446 2216.39,209.347 2218.83,209.248 \n",
       "  2221.26,209.149 2223.7,209.051 2226.13,208.953 2228.57,208.855 2231,208.757 2233.44,208.66 2235.87,208.563 2238.31,208.467 2240.74,208.37 2243.18,208.274 \n",
       "  2245.61,208.179 2248.05,208.083 2250.48,207.988 2252.92,207.894 2255.35,207.799 2257.79,207.705 2260.22,207.611 2262.66,207.517 2265.09,207.424 2267.53,207.331 \n",
       "  2269.96,207.238 2272.4,207.146 2274.84,207.054 2277.27,206.962 2279.71,206.87 2282.14,206.779 2284.58,206.688 2287.01,206.597 2289.45,206.506 2291.88,206.416 \n",
       "  2294.32,206.326 \n",
       "  \"/>\n",
       "<path clip-path=\"url(#clip510)\" d=\"\n",
       "M1848.41 374.156 L2283.93 374.156 L2283.93 166.796 L1848.41 166.796  Z\n",
       "  \" fill=\"#ffffff\" fill-rule=\"evenodd\" fill-opacity=\"1\"/>\n",
       "<polyline clip-path=\"url(#clip510)\" style=\"stroke:#000000; stroke-linecap:butt; stroke-linejoin:round; stroke-width:4; stroke-opacity:1; fill:none\" points=\"\n",
       "  1848.41,374.156 2283.93,374.156 2283.93,166.796 1848.41,166.796 1848.41,374.156 \n",
       "  \"/>\n",
       "<polyline clip-path=\"url(#clip510)\" style=\"stroke:#009af9; stroke-linecap:butt; stroke-linejoin:round; stroke-width:4; stroke-opacity:1; fill:none\" points=\"\n",
       "  1871.35,218.636 2009.01,218.636 \n",
       "  \"/>\n",
       "<path clip-path=\"url(#clip510)\" d=\"M2031.95 201.356 L2036.63 201.356 L2036.63 235.916 L2031.95 235.916 L2031.95 201.356 Z\" fill=\"#000000\" fill-rule=\"evenodd\" fill-opacity=\"1\" /><path clip-path=\"url(#clip510)\" d=\"M2067.3 220.268 L2067.3 235.916 L2063.04 235.916 L2063.04 220.407 Q2063.04 216.726 2061.6 214.897 Q2060.17 213.069 2057.3 213.069 Q2053.85 213.069 2051.86 215.268 Q2049.87 217.467 2049.87 221.263 L2049.87 235.916 L2045.59 235.916 L2045.59 209.99 L2049.87 209.99 L2049.87 214.018 Q2051.4 211.68 2053.46 210.522 Q2055.54 209.365 2058.25 209.365 Q2062.72 209.365 2065.01 212.143 Q2067.3 214.897 2067.3 220.268 Z\" fill=\"#000000\" fill-rule=\"evenodd\" fill-opacity=\"1\" /><path clip-path=\"url(#clip510)\" d=\"M2088.92 199.897 L2088.92 203.439 L2084.85 203.439 Q2082.55 203.439 2081.65 204.365 Q2080.77 205.291 2080.77 207.698 L2080.77 209.99 L2087.79 209.99 L2087.79 213.3 L2080.77 213.3 L2080.77 235.916 L2076.49 235.916 L2076.49 213.3 L2072.41 213.3 L2072.41 209.99 L2076.49 209.99 L2076.49 208.184 Q2076.49 203.856 2078.5 201.888 Q2080.52 199.897 2084.89 199.897 L2088.92 199.897 Z\" fill=\"#000000\" fill-rule=\"evenodd\" fill-opacity=\"1\" /><path clip-path=\"url(#clip510)\" d=\"M2092.48 209.99 L2096.74 209.99 L2096.74 235.916 L2092.48 235.916 L2092.48 209.99 M2092.48 199.897 L2096.74 199.897 L2096.74 205.291 L2092.48 205.291 L2092.48 199.897 Z\" fill=\"#000000\" fill-rule=\"evenodd\" fill-opacity=\"1\" /><path clip-path=\"url(#clip510)\" d=\"M2127.21 220.268 L2127.21 235.916 L2122.95 235.916 L2122.95 220.407 Q2122.95 216.726 2121.51 214.897 Q2120.08 213.069 2117.21 213.069 Q2113.76 213.069 2111.77 215.268 Q2109.78 217.467 2109.78 221.263 L2109.78 235.916 L2105.49 235.916 L2105.49 209.99 L2109.78 209.99 L2109.78 214.018 Q2111.3 211.68 2113.36 210.522 Q2115.45 209.365 2118.16 209.365 Q2122.62 209.365 2124.91 212.143 Q2127.21 214.897 2127.21 220.268 Z\" fill=\"#000000\" fill-rule=\"evenodd\" fill-opacity=\"1\" /><path clip-path=\"url(#clip510)\" d=\"M2135.7 209.99 L2139.96 209.99 L2139.96 235.916 L2135.7 235.916 L2135.7 209.99 M2135.7 199.897 L2139.96 199.897 L2139.96 205.291 L2135.7 205.291 L2135.7 199.897 Z\" fill=\"#000000\" fill-rule=\"evenodd\" fill-opacity=\"1\" /><path clip-path=\"url(#clip510)\" d=\"M2153.09 202.629 L2153.09 209.99 L2161.86 209.99 L2161.86 213.3 L2153.09 213.3 L2153.09 227.374 Q2153.09 230.545 2153.94 231.448 Q2154.82 232.351 2157.48 232.351 L2161.86 232.351 L2161.86 235.916 L2157.48 235.916 Q2152.55 235.916 2150.68 234.087 Q2148.8 232.235 2148.8 227.374 L2148.8 213.3 L2145.68 213.3 L2145.68 209.99 L2148.8 209.99 L2148.8 202.629 L2153.09 202.629 Z\" fill=\"#000000\" fill-rule=\"evenodd\" fill-opacity=\"1\" /><path clip-path=\"url(#clip510)\" d=\"M2189.64 221.888 L2189.64 223.971 L2170.05 223.971 Q2170.33 228.369 2172.69 230.684 Q2175.08 232.976 2179.31 232.976 Q2181.77 232.976 2184.06 232.374 Q2186.37 231.772 2188.64 230.569 L2188.64 234.596 Q2186.35 235.568 2183.94 236.078 Q2181.53 236.587 2179.06 236.587 Q2172.85 236.587 2169.22 232.976 Q2165.61 229.365 2165.61 223.207 Q2165.61 216.842 2169.03 213.115 Q2172.48 209.365 2178.32 209.365 Q2183.55 209.365 2186.58 212.745 Q2189.64 216.101 2189.64 221.888 M2185.38 220.638 Q2185.33 217.143 2183.41 215.059 Q2181.51 212.976 2178.36 212.976 Q2174.8 212.976 2172.65 214.99 Q2170.52 217.004 2170.19 220.661 L2185.38 220.638 Z\" fill=\"#000000\" fill-rule=\"evenodd\" fill-opacity=\"1\" /><path clip-path=\"url(#clip510)\" d=\"M2211.88 201.356 L2218.18 201.356 L2233.5 230.268 L2233.5 201.356 L2238.04 201.356 L2238.04 235.916 L2231.74 235.916 L2216.42 207.004 L2216.42 235.916 L2211.88 235.916 L2211.88 201.356 Z\" fill=\"#000000\" fill-rule=\"evenodd\" fill-opacity=\"1\" /><circle clip-path=\"url(#clip510)\" cx=\"1940.18\" cy=\"270.476\" r=\"23\" fill=\"#ff0000\" fill-rule=\"evenodd\" fill-opacity=\"1\" stroke=\"#000000\" stroke-opacity=\"1\" stroke-width=\"5.12\"/>\n",
       "<path clip-path=\"url(#clip510)\" d=\"M2031.95 253.196 L2053.8 253.196 L2053.8 257.131 L2036.63 257.131 L2036.63 267.362 L2053.09 267.362 L2053.09 271.297 L2036.63 271.297 L2036.63 283.821 L2054.22 283.821 L2054.22 287.756 L2031.95 287.756 L2031.95 253.196 Z\" fill=\"#000000\" fill-rule=\"evenodd\" fill-opacity=\"1\" /><path clip-path=\"url(#clip510)\" d=\"M2066.58 257.038 L2066.58 283.913 L2072.23 283.913 Q2079.38 283.913 2082.69 280.672 Q2086.03 277.432 2086.03 270.441 Q2086.03 263.497 2082.69 260.279 Q2079.38 257.038 2072.23 257.038 L2066.58 257.038 M2061.91 253.196 L2071.51 253.196 Q2081.56 253.196 2086.26 257.386 Q2090.96 261.552 2090.96 270.441 Q2090.96 279.376 2086.23 283.566 Q2081.51 287.756 2071.51 287.756 L2061.91 287.756 L2061.91 253.196 Z\" fill=\"#000000\" fill-rule=\"evenodd\" fill-opacity=\"1\" /><polyline clip-path=\"url(#clip510)\" style=\"stroke:#c271d2; stroke-linecap:butt; stroke-linejoin:round; stroke-width:4; stroke-opacity:1; fill:none\" points=\"\n",
       "  1871.35,322.316 2009.01,322.316 \n",
       "  \"/>\n",
       "<path clip-path=\"url(#clip510)\" d=\"M2036.23 335.707 L2036.23 349.457 L2031.95 349.457 L2031.95 313.67 L2036.23 313.67 L2036.23 317.605 Q2037.58 315.29 2039.61 314.179 Q2041.67 313.045 2044.52 313.045 Q2049.24 313.045 2052.18 316.795 Q2055.15 320.545 2055.15 326.656 Q2055.15 332.767 2052.18 336.517 Q2049.24 340.267 2044.52 340.267 Q2041.67 340.267 2039.61 339.156 Q2037.58 338.022 2036.23 335.707 M2050.73 326.656 Q2050.73 321.957 2048.78 319.295 Q2046.86 316.61 2043.48 316.61 Q2040.1 316.61 2038.16 319.295 Q2036.23 321.957 2036.23 326.656 Q2036.23 331.355 2038.16 334.04 Q2040.1 336.702 2043.48 336.702 Q2046.86 336.702 2048.78 334.04 Q2050.73 331.355 2050.73 326.656 Z\" fill=\"#000000\" fill-rule=\"evenodd\" fill-opacity=\"1\" /><path clip-path=\"url(#clip510)\" d=\"M2072.25 316.656 Q2068.83 316.656 2066.84 319.341 Q2064.85 322.003 2064.85 326.656 Q2064.85 331.309 2066.81 333.994 Q2068.8 336.656 2072.25 336.656 Q2075.66 336.656 2077.65 333.971 Q2079.64 331.286 2079.64 326.656 Q2079.64 322.05 2077.65 319.364 Q2075.66 316.656 2072.25 316.656 M2072.25 313.045 Q2077.81 313.045 2080.98 316.656 Q2084.15 320.267 2084.15 326.656 Q2084.15 333.022 2080.98 336.656 Q2077.81 340.267 2072.25 340.267 Q2066.67 340.267 2063.5 336.656 Q2060.35 333.022 2060.35 326.656 Q2060.35 320.267 2063.5 316.656 Q2066.67 313.045 2072.25 313.045 Z\" fill=\"#000000\" fill-rule=\"evenodd\" fill-opacity=\"1\" /><path clip-path=\"url(#clip510)\" d=\"M2091.21 303.577 L2095.47 303.577 L2095.47 339.596 L2091.21 339.596 L2091.21 303.577 Z\" fill=\"#000000\" fill-rule=\"evenodd\" fill-opacity=\"1\" /><path clip-path=\"url(#clip510)\" d=\"M2115.17 342.003 Q2113.36 346.633 2111.65 348.045 Q2109.94 349.457 2107.07 349.457 L2103.66 349.457 L2103.66 345.892 L2106.16 345.892 Q2107.92 345.892 2108.9 345.059 Q2109.87 344.225 2111.05 341.123 L2111.81 339.179 L2101.33 313.67 L2105.84 313.67 L2113.94 333.948 L2122.04 313.67 L2126.56 313.67 L2115.17 342.003 Z\" fill=\"#000000\" fill-rule=\"evenodd\" fill-opacity=\"1\" /><path clip-path=\"url(#clip510)\" d=\"M2160.63 303.577 L2160.63 307.119 L2156.56 307.119 Q2154.27 307.119 2153.36 308.045 Q2152.48 308.971 2152.48 311.378 L2152.48 313.67 L2159.5 313.67 L2159.5 316.98 L2152.48 316.98 L2152.48 339.596 L2148.2 339.596 L2148.2 316.98 L2144.13 316.98 L2144.13 313.67 L2148.2 313.67 L2148.2 311.864 Q2148.2 307.536 2150.22 305.568 Q2152.23 303.577 2156.6 303.577 L2160.63 303.577 Z\" fill=\"#000000\" fill-rule=\"evenodd\" fill-opacity=\"1\" /><path clip-path=\"url(#clip510)\" d=\"M2164.2 313.67 L2168.46 313.67 L2168.46 339.596 L2164.2 339.596 L2164.2 313.67 M2164.2 303.577 L2168.46 303.577 L2168.46 308.971 L2164.2 308.971 L2164.2 303.577 Z\" fill=\"#000000\" fill-rule=\"evenodd\" fill-opacity=\"1\" /><path clip-path=\"url(#clip510)\" d=\"M2181.58 306.309 L2181.58 313.67 L2190.35 313.67 L2190.35 316.98 L2181.58 316.98 L2181.58 331.054 Q2181.58 334.225 2182.44 335.128 Q2183.32 336.031 2185.98 336.031 L2190.35 336.031 L2190.35 339.596 L2185.98 339.596 Q2181.05 339.596 2179.17 337.767 Q2177.3 335.915 2177.3 331.054 L2177.3 316.98 L2174.17 316.98 L2174.17 313.67 L2177.3 313.67 L2177.3 306.309 L2181.58 306.309 Z\" fill=\"#000000\" fill-rule=\"evenodd\" fill-opacity=\"1\" /></svg>\n"
      ]
     },
     "execution_count": 12,
     "metadata": {},
     "output_type": "execute_result"
    }
   ],
   "source": [
    "plot!(N_range_cont,fit_contXY,label = \"poly fit\")"
   ]
  },
  {
   "cell_type": "code",
   "execution_count": null,
   "metadata": {},
   "outputs": [],
   "source": [
    "png(\"NewPlots/XYpolyfit\")"
   ]
  },
  {
   "cell_type": "code",
   "execution_count": 13,
   "metadata": {},
   "outputs": [
    {
     "name": "stdout",
     "output_type": "stream",
     "text": [
      "[-0.31838028263040624, -0.5978830459970917, -2.058663550564367]"
     ]
    }
   ],
   "source": [
    "print(paramXY)"
   ]
  },
  {
   "cell_type": "code",
   "execution_count": 14,
   "metadata": {},
   "outputs": [
    {
     "data": {
      "text/plain": [
       "3-element Vector{Float64}:\n",
       " 1.2023270390746998e-5\n",
       " 0.0042607289613305205\n",
       " 0.004283605378769531"
      ]
     },
     "execution_count": 14,
     "metadata": {},
     "output_type": "execute_result"
    }
   ],
   "source": [
    "se = standard_errors(fit)"
   ]
  },
  {
   "cell_type": "markdown",
   "metadata": {},
   "source": [
    "##### The antiferromagnetic Heisenberg Model"
   ]
  },
  {
   "cell_type": "markdown",
   "metadata": {},
   "source": [
    "Perform a finite size scaling extrapolation of several of your largest N to obain an estimate for the ground-state energy."
   ]
  },
  {
   "cell_type": "code",
   "execution_count": 32,
   "metadata": {},
   "outputs": [
    {
     "name": "stdout",
     "output_type": "stream",
     "text": [
      "4\n",
      "6\n",
      "8\n",
      "10\n",
      "12\n",
      "14\n",
      "16\n",
      "18\n"
     ]
    }
   ],
   "source": [
    "using Arpack\n",
    "gsEs_Heis_new = zeros(length(N_range_new))\n",
    "\n",
    "for i in 1:length(N_range_new)\n",
    "    N_Heis = N_range_new[i]\n",
    "    println(N_Heis)\n",
    "    H_Heis = Build_Sz0_Block(N_Heis,-1,-1)\n",
    "    gs,vec = eigs(H_Heis,nev=1,which=:SR)\n",
    "    gsEs_Heis_new[i] = gs[1]\n",
    "end"
   ]
  },
  {
   "cell_type": "code",
   "execution_count": null,
   "metadata": {},
   "outputs": [],
   "source": [
    "print(gsEs_Heis_new)"
   ]
  },
  {
   "cell_type": "code",
   "execution_count": 34,
   "metadata": {},
   "outputs": [],
   "source": [
    "using JLD2\n",
    "save_object(\"NewData/Heis_gsEs_prob2_8\",gsEs_Heis_new)"
   ]
  },
  {
   "cell_type": "code",
   "execution_count": 35,
   "metadata": {},
   "outputs": [
    {
     "data": {
      "text/plain": [
       "8-element Vector{Float64}:\n",
       " -2.0\n",
       " -2.802775637731995\n",
       " -3.6510934089371734\n",
       " -4.515446354492042\n",
       " -5.387390917445198\n",
       " -6.263549533547041\n",
       " -7.142296360616775\n",
       " -8.022749087033745"
      ]
     },
     "execution_count": 35,
     "metadata": {},
     "output_type": "execute_result"
    }
   ],
   "source": [
    "using JLD2\n",
    "gsEs_Heis_new = load_object(\"NewData/Heis_gsEs_prob2_8\")"
   ]
  },
  {
   "cell_type": "code",
   "execution_count": 40,
   "metadata": {},
   "outputs": [
    {
     "data": {
      "text/plain": [
       "8-element Vector{Float64}:\n",
       " -0.4431471805599453\n",
       " -0.4431471805599453\n",
       " -0.4431471805599453\n",
       " -0.4431471805599453\n",
       " -0.4431471805599453\n",
       " -0.4431471805599453\n",
       " -0.4431471805599453\n",
       " -0.4431471805599453"
      ]
     },
     "execution_count": 40,
     "metadata": {},
     "output_type": "execute_result"
    }
   ],
   "source": [
    "gsEs_Heis_perN_new = zeros(length(gsEs_Heis_new))\n",
    "\n",
    "for i in 1:length(gsEs_Heis_new)\n",
    "    gsEs_Heis_perN_new[i] = gsEs_Heis_new[i]/N_range_new[i]\n",
    "end\n",
    "\n",
    "ground_truth_Heis_new = ones(length(N_range_new)).*((1/4)-log(2))"
   ]
  },
  {
   "cell_type": "code",
   "execution_count": 41,
   "metadata": {},
   "outputs": [
    {
     "data": {
      "image/svg+xml": [
       "<?xml version=\"1.0\" encoding=\"utf-8\"?>\n",
       "<svg xmlns=\"http://www.w3.org/2000/svg\" xmlns:xlink=\"http://www.w3.org/1999/xlink\" width=\"600\" height=\"400\" viewBox=\"0 0 2400 1600\">\n",
       "<defs>\n",
       "  <clipPath id=\"clip790\">\n",
       "    <rect x=\"0\" y=\"0\" width=\"2400\" height=\"1600\"/>\n",
       "  </clipPath>\n",
       "</defs>\n",
       "<path clip-path=\"url(#clip790)\" d=\"\n",
       "M0 1600 L2400 1600 L2400 0 L0 0  Z\n",
       "  \" fill=\"#ffffff\" fill-rule=\"evenodd\" fill-opacity=\"1\"/>\n",
       "<defs>\n",
       "  <clipPath id=\"clip791\">\n",
       "    <rect x=\"480\" y=\"0\" width=\"1681\" height=\"1600\"/>\n",
       "  </clipPath>\n",
       "</defs>\n",
       "<path clip-path=\"url(#clip790)\" d=\"\n",
       "M287.528 1423.18 L2352.76 1423.18 L2352.76 123.472 L287.528 123.472  Z\n",
       "  \" fill=\"#ffffff\" fill-rule=\"evenodd\" fill-opacity=\"1\"/>\n",
       "<defs>\n",
       "  <clipPath id=\"clip792\">\n",
       "    <rect x=\"287\" y=\"123\" width=\"2066\" height=\"1301\"/>\n",
       "  </clipPath>\n",
       "</defs>\n",
       "<polyline clip-path=\"url(#clip792)\" style=\"stroke:#000000; stroke-linecap:butt; stroke-linejoin:round; stroke-width:2; stroke-opacity:0.1; fill:none\" points=\"\n",
       "  485.144,1423.18 485.144,123.472 \n",
       "  \"/>\n",
       "<polyline clip-path=\"url(#clip792)\" style=\"stroke:#000000; stroke-linecap:butt; stroke-linejoin:round; stroke-width:2; stroke-opacity:0.1; fill:none\" points=\"\n",
       "  833.06,1423.18 833.06,123.472 \n",
       "  \"/>\n",
       "<polyline clip-path=\"url(#clip792)\" style=\"stroke:#000000; stroke-linecap:butt; stroke-linejoin:round; stroke-width:2; stroke-opacity:0.1; fill:none\" points=\"\n",
       "  1180.98,1423.18 1180.98,123.472 \n",
       "  \"/>\n",
       "<polyline clip-path=\"url(#clip792)\" style=\"stroke:#000000; stroke-linecap:butt; stroke-linejoin:round; stroke-width:2; stroke-opacity:0.1; fill:none\" points=\"\n",
       "  1528.89,1423.18 1528.89,123.472 \n",
       "  \"/>\n",
       "<polyline clip-path=\"url(#clip792)\" style=\"stroke:#000000; stroke-linecap:butt; stroke-linejoin:round; stroke-width:2; stroke-opacity:0.1; fill:none\" points=\"\n",
       "  1876.81,1423.18 1876.81,123.472 \n",
       "  \"/>\n",
       "<polyline clip-path=\"url(#clip792)\" style=\"stroke:#000000; stroke-linecap:butt; stroke-linejoin:round; stroke-width:2; stroke-opacity:0.1; fill:none\" points=\"\n",
       "  2224.72,1423.18 2224.72,123.472 \n",
       "  \"/>\n",
       "<polyline clip-path=\"url(#clip790)\" style=\"stroke:#000000; stroke-linecap:butt; stroke-linejoin:round; stroke-width:4; stroke-opacity:1; fill:none\" points=\"\n",
       "  287.528,1423.18 2352.76,1423.18 \n",
       "  \"/>\n",
       "<polyline clip-path=\"url(#clip790)\" style=\"stroke:#000000; stroke-linecap:butt; stroke-linejoin:round; stroke-width:4; stroke-opacity:1; fill:none\" points=\"\n",
       "  485.144,1423.18 485.144,1404.28 \n",
       "  \"/>\n",
       "<polyline clip-path=\"url(#clip790)\" style=\"stroke:#000000; stroke-linecap:butt; stroke-linejoin:round; stroke-width:4; stroke-opacity:1; fill:none\" points=\"\n",
       "  833.06,1423.18 833.06,1404.28 \n",
       "  \"/>\n",
       "<polyline clip-path=\"url(#clip790)\" style=\"stroke:#000000; stroke-linecap:butt; stroke-linejoin:round; stroke-width:4; stroke-opacity:1; fill:none\" points=\"\n",
       "  1180.98,1423.18 1180.98,1404.28 \n",
       "  \"/>\n",
       "<polyline clip-path=\"url(#clip790)\" style=\"stroke:#000000; stroke-linecap:butt; stroke-linejoin:round; stroke-width:4; stroke-opacity:1; fill:none\" points=\"\n",
       "  1528.89,1423.18 1528.89,1404.28 \n",
       "  \"/>\n",
       "<polyline clip-path=\"url(#clip790)\" style=\"stroke:#000000; stroke-linecap:butt; stroke-linejoin:round; stroke-width:4; stroke-opacity:1; fill:none\" points=\"\n",
       "  1876.81,1423.18 1876.81,1404.28 \n",
       "  \"/>\n",
       "<polyline clip-path=\"url(#clip790)\" style=\"stroke:#000000; stroke-linecap:butt; stroke-linejoin:round; stroke-width:4; stroke-opacity:1; fill:none\" points=\"\n",
       "  2224.72,1423.18 2224.72,1404.28 \n",
       "  \"/>\n",
       "<path clip-path=\"url(#clip790)\" d=\"M452.309 1451.02 L470.665 1451.02 L470.665 1454.96 L456.591 1454.96 L456.591 1463.43 Q457.61 1463.08 458.628 1462.92 Q459.647 1462.73 460.665 1462.73 Q466.452 1462.73 469.832 1465.9 Q473.211 1469.08 473.211 1474.49 Q473.211 1480.07 469.739 1483.17 Q466.267 1486.25 459.947 1486.25 Q457.772 1486.25 455.503 1485.88 Q453.258 1485.51 450.85 1484.77 L450.85 1480.07 Q452.934 1481.2 455.156 1481.76 Q457.378 1482.32 459.855 1482.32 Q463.859 1482.32 466.197 1480.21 Q468.535 1478.1 468.535 1474.49 Q468.535 1470.88 466.197 1468.77 Q463.859 1466.67 459.855 1466.67 Q457.98 1466.67 456.105 1467.08 Q454.253 1467.5 452.309 1468.38 L452.309 1451.02 Z\" fill=\"#000000\" fill-rule=\"evenodd\" fill-opacity=\"1\" /><path clip-path=\"url(#clip790)\" d=\"M482.424 1479.7 L487.308 1479.7 L487.308 1485.58 L482.424 1485.58 L482.424 1479.7 Z\" fill=\"#000000\" fill-rule=\"evenodd\" fill-opacity=\"1\" /><path clip-path=\"url(#clip790)\" d=\"M507.494 1454.1 Q503.882 1454.1 502.054 1457.66 Q500.248 1461.2 500.248 1468.33 Q500.248 1475.44 502.054 1479.01 Q503.882 1482.55 507.494 1482.55 Q511.128 1482.55 512.933 1479.01 Q514.762 1475.44 514.762 1468.33 Q514.762 1461.2 512.933 1457.66 Q511.128 1454.1 507.494 1454.1 M507.494 1450.39 Q513.304 1450.39 516.359 1455 Q519.438 1459.58 519.438 1468.33 Q519.438 1477.06 516.359 1481.67 Q513.304 1486.25 507.494 1486.25 Q501.683 1486.25 498.605 1481.67 Q495.549 1477.06 495.549 1468.33 Q495.549 1459.58 498.605 1455 Q501.683 1450.39 507.494 1450.39 Z\" fill=\"#000000\" fill-rule=\"evenodd\" fill-opacity=\"1\" /><path clip-path=\"url(#clip790)\" d=\"M799.379 1451.02 L821.602 1451.02 L821.602 1453.01 L809.055 1485.58 L804.171 1485.58 L815.977 1454.96 L799.379 1454.96 L799.379 1451.02 Z\" fill=\"#000000\" fill-rule=\"evenodd\" fill-opacity=\"1\" /><path clip-path=\"url(#clip790)\" d=\"M830.722 1479.7 L835.606 1479.7 L835.606 1485.58 L830.722 1485.58 L830.722 1479.7 Z\" fill=\"#000000\" fill-rule=\"evenodd\" fill-opacity=\"1\" /><path clip-path=\"url(#clip790)\" d=\"M845.838 1451.02 L864.194 1451.02 L864.194 1454.96 L850.12 1454.96 L850.12 1463.43 Q851.138 1463.08 852.157 1462.92 Q853.175 1462.73 854.194 1462.73 Q859.981 1462.73 863.361 1465.9 Q866.74 1469.08 866.74 1474.49 Q866.74 1480.07 863.268 1483.17 Q859.796 1486.25 853.476 1486.25 Q851.3 1486.25 849.032 1485.88 Q846.787 1485.51 844.379 1484.77 L844.379 1480.07 Q846.463 1481.2 848.685 1481.76 Q850.907 1482.32 853.384 1482.32 Q857.388 1482.32 859.726 1480.21 Q862.064 1478.1 862.064 1474.49 Q862.064 1470.88 859.726 1468.77 Q857.388 1466.67 853.384 1466.67 Q851.509 1466.67 849.634 1467.08 Q847.782 1467.5 845.838 1468.38 L845.838 1451.02 Z\" fill=\"#000000\" fill-rule=\"evenodd\" fill-opacity=\"1\" /><path clip-path=\"url(#clip790)\" d=\"M1133.05 1481.64 L1140.69 1481.64 L1140.69 1455.28 L1132.38 1456.95 L1132.38 1452.69 L1140.64 1451.02 L1145.32 1451.02 L1145.32 1481.64 L1152.95 1481.64 L1152.95 1485.58 L1133.05 1485.58 L1133.05 1481.64 Z\" fill=\"#000000\" fill-rule=\"evenodd\" fill-opacity=\"1\" /><path clip-path=\"url(#clip790)\" d=\"M1172.4 1454.1 Q1168.79 1454.1 1166.96 1457.66 Q1165.15 1461.2 1165.15 1468.33 Q1165.15 1475.44 1166.96 1479.01 Q1168.79 1482.55 1172.4 1482.55 Q1176.03 1482.55 1177.84 1479.01 Q1179.67 1475.44 1179.67 1468.33 Q1179.67 1461.2 1177.84 1457.66 Q1176.03 1454.1 1172.4 1454.1 M1172.4 1450.39 Q1178.21 1450.39 1181.26 1455 Q1184.34 1459.58 1184.34 1468.33 Q1184.34 1477.06 1181.26 1481.67 Q1178.21 1486.25 1172.4 1486.25 Q1166.59 1486.25 1163.51 1481.67 Q1160.45 1477.06 1160.45 1468.33 Q1160.45 1459.58 1163.51 1455 Q1166.59 1450.39 1172.4 1450.39 Z\" fill=\"#000000\" fill-rule=\"evenodd\" fill-opacity=\"1\" /><path clip-path=\"url(#clip790)\" d=\"M1192.56 1479.7 L1197.45 1479.7 L1197.45 1485.58 L1192.56 1485.58 L1192.56 1479.7 Z\" fill=\"#000000\" fill-rule=\"evenodd\" fill-opacity=\"1\" /><path clip-path=\"url(#clip790)\" d=\"M1217.63 1454.1 Q1214.02 1454.1 1212.19 1457.66 Q1210.39 1461.2 1210.39 1468.33 Q1210.39 1475.44 1212.19 1479.01 Q1214.02 1482.55 1217.63 1482.55 Q1221.26 1482.55 1223.07 1479.01 Q1224.9 1475.44 1224.9 1468.33 Q1224.9 1461.2 1223.07 1457.66 Q1221.26 1454.1 1217.63 1454.1 M1217.63 1450.39 Q1223.44 1450.39 1226.5 1455 Q1229.57 1459.58 1229.57 1468.33 Q1229.57 1477.06 1226.5 1481.67 Q1223.44 1486.25 1217.63 1486.25 Q1211.82 1486.25 1208.74 1481.67 Q1205.69 1477.06 1205.69 1468.33 Q1205.69 1459.58 1208.74 1455 Q1211.82 1450.39 1217.63 1450.39 Z\" fill=\"#000000\" fill-rule=\"evenodd\" fill-opacity=\"1\" /><path clip-path=\"url(#clip790)\" d=\"M1481.46 1481.64 L1489.1 1481.64 L1489.1 1455.28 L1480.79 1456.95 L1480.79 1452.69 L1489.05 1451.02 L1493.73 1451.02 L1493.73 1481.64 L1501.37 1481.64 L1501.37 1485.58 L1481.46 1485.58 L1481.46 1481.64 Z\" fill=\"#000000\" fill-rule=\"evenodd\" fill-opacity=\"1\" /><path clip-path=\"url(#clip790)\" d=\"M1514.84 1481.64 L1531.16 1481.64 L1531.16 1485.58 L1509.22 1485.58 L1509.22 1481.64 Q1511.88 1478.89 1516.46 1474.26 Q1521.07 1469.61 1522.25 1468.27 Q1524.49 1465.74 1525.37 1464.01 Q1526.28 1462.25 1526.28 1460.56 Q1526.28 1457.8 1524.33 1456.07 Q1522.41 1454.33 1519.31 1454.33 Q1517.11 1454.33 1514.66 1455.09 Q1512.22 1455.86 1509.45 1457.41 L1509.45 1452.69 Q1512.27 1451.55 1514.72 1450.97 Q1517.18 1450.39 1519.22 1450.39 Q1524.59 1450.39 1527.78 1453.08 Q1530.97 1455.77 1530.97 1460.26 Q1530.97 1462.39 1530.16 1464.31 Q1529.38 1466.2 1527.27 1468.8 Q1526.69 1469.47 1523.59 1472.69 Q1520.49 1475.88 1514.84 1481.64 Z\" fill=\"#000000\" fill-rule=\"evenodd\" fill-opacity=\"1\" /><path clip-path=\"url(#clip790)\" d=\"M1540.97 1479.7 L1545.86 1479.7 L1545.86 1485.58 L1540.97 1485.58 L1540.97 1479.7 Z\" fill=\"#000000\" fill-rule=\"evenodd\" fill-opacity=\"1\" /><path clip-path=\"url(#clip790)\" d=\"M1556.09 1451.02 L1574.45 1451.02 L1574.45 1454.96 L1560.37 1454.96 L1560.37 1463.43 Q1561.39 1463.08 1562.41 1462.92 Q1563.43 1462.73 1564.45 1462.73 Q1570.23 1462.73 1573.61 1465.9 Q1576.99 1469.08 1576.99 1474.49 Q1576.99 1480.07 1573.52 1483.17 Q1570.05 1486.25 1563.73 1486.25 Q1561.55 1486.25 1559.28 1485.88 Q1557.04 1485.51 1554.63 1484.77 L1554.63 1480.07 Q1556.72 1481.2 1558.94 1481.76 Q1561.16 1482.32 1563.64 1482.32 Q1567.64 1482.32 1569.98 1480.21 Q1572.32 1478.1 1572.32 1474.49 Q1572.32 1470.88 1569.98 1468.77 Q1567.64 1466.67 1563.64 1466.67 Q1561.76 1466.67 1559.89 1467.08 Q1558.03 1467.5 1556.09 1468.38 L1556.09 1451.02 Z\" fill=\"#000000\" fill-rule=\"evenodd\" fill-opacity=\"1\" /><path clip-path=\"url(#clip790)\" d=\"M1828.88 1481.64 L1836.52 1481.64 L1836.52 1455.28 L1828.21 1456.95 L1828.21 1452.69 L1836.47 1451.02 L1841.15 1451.02 L1841.15 1481.64 L1848.79 1481.64 L1848.79 1485.58 L1828.88 1485.58 L1828.88 1481.64 Z\" fill=\"#000000\" fill-rule=\"evenodd\" fill-opacity=\"1\" /><path clip-path=\"url(#clip790)\" d=\"M1858.28 1451.02 L1876.63 1451.02 L1876.63 1454.96 L1862.56 1454.96 L1862.56 1463.43 Q1863.58 1463.08 1864.6 1462.92 Q1865.62 1462.73 1866.63 1462.73 Q1872.42 1462.73 1875.8 1465.9 Q1879.18 1469.08 1879.18 1474.49 Q1879.18 1480.07 1875.71 1483.17 Q1872.24 1486.25 1865.92 1486.25 Q1863.74 1486.25 1861.47 1485.88 Q1859.23 1485.51 1856.82 1484.77 L1856.82 1480.07 Q1858.9 1481.2 1861.12 1481.76 Q1863.35 1482.32 1865.82 1482.32 Q1869.83 1482.32 1872.17 1480.21 Q1874.5 1478.1 1874.5 1474.49 Q1874.5 1470.88 1872.17 1468.77 Q1869.83 1466.67 1865.82 1466.67 Q1863.95 1466.67 1862.07 1467.08 Q1860.22 1467.5 1858.28 1468.38 L1858.28 1451.02 Z\" fill=\"#000000\" fill-rule=\"evenodd\" fill-opacity=\"1\" /><path clip-path=\"url(#clip790)\" d=\"M1888.39 1479.7 L1893.28 1479.7 L1893.28 1485.58 L1888.39 1485.58 L1888.39 1479.7 Z\" fill=\"#000000\" fill-rule=\"evenodd\" fill-opacity=\"1\" /><path clip-path=\"url(#clip790)\" d=\"M1913.46 1454.1 Q1909.85 1454.1 1908.02 1457.66 Q1906.22 1461.2 1906.22 1468.33 Q1906.22 1475.44 1908.02 1479.01 Q1909.85 1482.55 1913.46 1482.55 Q1917.1 1482.55 1918.9 1479.01 Q1920.73 1475.44 1920.73 1468.33 Q1920.73 1461.2 1918.9 1457.66 Q1917.1 1454.1 1913.46 1454.1 M1913.46 1450.39 Q1919.27 1450.39 1922.33 1455 Q1925.41 1459.58 1925.41 1468.33 Q1925.41 1477.06 1922.33 1481.67 Q1919.27 1486.25 1913.46 1486.25 Q1907.65 1486.25 1904.57 1481.67 Q1901.52 1477.06 1901.52 1468.33 Q1901.52 1459.58 1904.57 1455 Q1907.65 1450.39 1913.46 1450.39 Z\" fill=\"#000000\" fill-rule=\"evenodd\" fill-opacity=\"1\" /><path clip-path=\"url(#clip790)\" d=\"M2177.29 1481.64 L2184.93 1481.64 L2184.93 1455.28 L2176.62 1456.95 L2176.62 1452.69 L2184.89 1451.02 L2189.56 1451.02 L2189.56 1481.64 L2197.2 1481.64 L2197.2 1485.58 L2177.29 1485.58 L2177.29 1481.64 Z\" fill=\"#000000\" fill-rule=\"evenodd\" fill-opacity=\"1\" /><path clip-path=\"url(#clip790)\" d=\"M2205.46 1451.02 L2227.69 1451.02 L2227.69 1453.01 L2215.14 1485.58 L2210.26 1485.58 L2222.06 1454.96 L2205.46 1454.96 L2205.46 1451.02 Z\" fill=\"#000000\" fill-rule=\"evenodd\" fill-opacity=\"1\" /><path clip-path=\"url(#clip790)\" d=\"M2236.81 1479.7 L2241.69 1479.7 L2241.69 1485.58 L2236.81 1485.58 L2236.81 1479.7 Z\" fill=\"#000000\" fill-rule=\"evenodd\" fill-opacity=\"1\" /><path clip-path=\"url(#clip790)\" d=\"M2251.92 1451.02 L2270.28 1451.02 L2270.28 1454.96 L2256.2 1454.96 L2256.2 1463.43 Q2257.22 1463.08 2258.24 1462.92 Q2259.26 1462.73 2260.28 1462.73 Q2266.07 1462.73 2269.44 1465.9 Q2272.82 1469.08 2272.82 1474.49 Q2272.82 1480.07 2269.35 1483.17 Q2265.88 1486.25 2259.56 1486.25 Q2257.38 1486.25 2255.12 1485.88 Q2252.87 1485.51 2250.46 1484.77 L2250.46 1480.07 Q2252.55 1481.2 2254.77 1481.76 Q2256.99 1482.32 2259.47 1482.32 Q2263.47 1482.32 2265.81 1480.21 Q2268.15 1478.1 2268.15 1474.49 Q2268.15 1470.88 2265.81 1468.77 Q2263.47 1466.67 2259.47 1466.67 Q2257.59 1466.67 2255.72 1467.08 Q2253.87 1467.5 2251.92 1468.38 L2251.92 1451.02 Z\" fill=\"#000000\" fill-rule=\"evenodd\" fill-opacity=\"1\" /><path clip-path=\"url(#clip790)\" d=\"M1302.16 1520.52 L1310.82 1520.52 L1331.89 1560.28 L1331.89 1520.52 L1338.13 1520.52 L1338.13 1568.04 L1329.47 1568.04 L1308.4 1528.29 L1308.4 1568.04 L1302.16 1568.04 L1302.16 1520.52 Z\" fill=\"#000000\" fill-rule=\"evenodd\" fill-opacity=\"1\" /><polyline clip-path=\"url(#clip792)\" style=\"stroke:#000000; stroke-linecap:butt; stroke-linejoin:round; stroke-width:2; stroke-opacity:0.1; fill:none\" points=\"\n",
       "  287.528,1386.4 2352.76,1386.4 \n",
       "  \"/>\n",
       "<polyline clip-path=\"url(#clip792)\" style=\"stroke:#000000; stroke-linecap:butt; stroke-linejoin:round; stroke-width:2; stroke-opacity:0.1; fill:none\" points=\"\n",
       "  287.528,1170.73 2352.76,1170.73 \n",
       "  \"/>\n",
       "<polyline clip-path=\"url(#clip792)\" style=\"stroke:#000000; stroke-linecap:butt; stroke-linejoin:round; stroke-width:2; stroke-opacity:0.1; fill:none\" points=\"\n",
       "  287.528,955.058 2352.76,955.058 \n",
       "  \"/>\n",
       "<polyline clip-path=\"url(#clip792)\" style=\"stroke:#000000; stroke-linecap:butt; stroke-linejoin:round; stroke-width:2; stroke-opacity:0.1; fill:none\" points=\"\n",
       "  287.528,739.389 2352.76,739.389 \n",
       "  \"/>\n",
       "<polyline clip-path=\"url(#clip792)\" style=\"stroke:#000000; stroke-linecap:butt; stroke-linejoin:round; stroke-width:2; stroke-opacity:0.1; fill:none\" points=\"\n",
       "  287.528,523.719 2352.76,523.719 \n",
       "  \"/>\n",
       "<polyline clip-path=\"url(#clip792)\" style=\"stroke:#000000; stroke-linecap:butt; stroke-linejoin:round; stroke-width:2; stroke-opacity:0.1; fill:none\" points=\"\n",
       "  287.528,308.05 2352.76,308.05 \n",
       "  \"/>\n",
       "<polyline clip-path=\"url(#clip790)\" style=\"stroke:#000000; stroke-linecap:butt; stroke-linejoin:round; stroke-width:4; stroke-opacity:1; fill:none\" points=\"\n",
       "  287.528,1423.18 287.528,123.472 \n",
       "  \"/>\n",
       "<polyline clip-path=\"url(#clip790)\" style=\"stroke:#000000; stroke-linecap:butt; stroke-linejoin:round; stroke-width:4; stroke-opacity:1; fill:none\" points=\"\n",
       "  287.528,1386.4 306.426,1386.4 \n",
       "  \"/>\n",
       "<polyline clip-path=\"url(#clip790)\" style=\"stroke:#000000; stroke-linecap:butt; stroke-linejoin:round; stroke-width:4; stroke-opacity:1; fill:none\" points=\"\n",
       "  287.528,1170.73 306.426,1170.73 \n",
       "  \"/>\n",
       "<polyline clip-path=\"url(#clip790)\" style=\"stroke:#000000; stroke-linecap:butt; stroke-linejoin:round; stroke-width:4; stroke-opacity:1; fill:none\" points=\"\n",
       "  287.528,955.058 306.426,955.058 \n",
       "  \"/>\n",
       "<polyline clip-path=\"url(#clip790)\" style=\"stroke:#000000; stroke-linecap:butt; stroke-linejoin:round; stroke-width:4; stroke-opacity:1; fill:none\" points=\"\n",
       "  287.528,739.389 306.426,739.389 \n",
       "  \"/>\n",
       "<polyline clip-path=\"url(#clip790)\" style=\"stroke:#000000; stroke-linecap:butt; stroke-linejoin:round; stroke-width:4; stroke-opacity:1; fill:none\" points=\"\n",
       "  287.528,523.719 306.426,523.719 \n",
       "  \"/>\n",
       "<polyline clip-path=\"url(#clip790)\" style=\"stroke:#000000; stroke-linecap:butt; stroke-linejoin:round; stroke-width:4; stroke-opacity:1; fill:none\" points=\"\n",
       "  287.528,308.05 306.426,308.05 \n",
       "  \"/>\n",
       "<path clip-path=\"url(#clip790)\" d=\"M114.422 1386.85 L144.098 1386.85 L144.098 1390.78 L114.422 1390.78 L114.422 1386.85 Z\" fill=\"#000000\" fill-rule=\"evenodd\" fill-opacity=\"1\" /><path clip-path=\"url(#clip790)\" d=\"M164.19 1372.19 Q160.579 1372.19 158.751 1375.76 Q156.945 1379.3 156.945 1386.43 Q156.945 1393.54 158.751 1397.1 Q160.579 1400.64 164.19 1400.64 Q167.825 1400.64 169.63 1397.1 Q171.459 1393.54 171.459 1386.43 Q171.459 1379.3 169.63 1375.76 Q167.825 1372.19 164.19 1372.19 M164.19 1368.49 Q170.001 1368.49 173.056 1373.1 Q176.135 1377.68 176.135 1386.43 Q176.135 1395.16 173.056 1399.76 Q170.001 1404.35 164.19 1404.35 Q158.38 1404.35 155.302 1399.76 Q152.246 1395.16 152.246 1386.43 Q152.246 1377.68 155.302 1373.1 Q158.38 1368.49 164.19 1368.49 Z\" fill=\"#000000\" fill-rule=\"evenodd\" fill-opacity=\"1\" /><path clip-path=\"url(#clip790)\" d=\"M184.352 1397.8 L189.237 1397.8 L189.237 1403.68 L184.352 1403.68 L184.352 1397.8 Z\" fill=\"#000000\" fill-rule=\"evenodd\" fill-opacity=\"1\" /><path clip-path=\"url(#clip790)\" d=\"M199.468 1369.12 L217.824 1369.12 L217.824 1373.05 L203.75 1373.05 L203.75 1381.52 Q204.769 1381.18 205.787 1381.01 Q206.806 1380.83 207.824 1380.83 Q213.611 1380.83 216.991 1384 Q220.371 1387.17 220.371 1392.59 Q220.371 1398.17 216.898 1401.27 Q213.426 1404.35 207.107 1404.35 Q204.931 1404.35 202.662 1403.98 Q200.417 1403.61 198.01 1402.87 L198.01 1398.17 Q200.093 1399.3 202.315 1399.86 Q204.537 1400.41 207.014 1400.41 Q211.019 1400.41 213.357 1398.31 Q215.695 1396.2 215.695 1392.59 Q215.695 1388.98 213.357 1386.87 Q211.019 1384.76 207.014 1384.76 Q205.139 1384.76 203.264 1385.18 Q201.412 1385.6 199.468 1386.48 L199.468 1369.12 Z\" fill=\"#000000\" fill-rule=\"evenodd\" fill-opacity=\"1\" /><path clip-path=\"url(#clip790)\" d=\"M239.584 1372.19 Q235.972 1372.19 234.144 1375.76 Q232.338 1379.3 232.338 1386.43 Q232.338 1393.54 234.144 1397.1 Q235.972 1400.64 239.584 1400.64 Q243.218 1400.64 245.023 1397.1 Q246.852 1393.54 246.852 1386.43 Q246.852 1379.3 245.023 1375.76 Q243.218 1372.19 239.584 1372.19 M239.584 1368.49 Q245.394 1368.49 248.449 1373.1 Q251.528 1377.68 251.528 1386.43 Q251.528 1395.16 248.449 1399.76 Q245.394 1404.35 239.584 1404.35 Q233.773 1404.35 230.695 1399.76 Q227.639 1395.16 227.639 1386.43 Q227.639 1377.68 230.695 1373.1 Q233.773 1368.49 239.584 1368.49 Z\" fill=\"#000000\" fill-rule=\"evenodd\" fill-opacity=\"1\" /><path clip-path=\"url(#clip790)\" d=\"M114.607 1171.18 L144.283 1171.18 L144.283 1175.11 L114.607 1175.11 L114.607 1171.18 Z\" fill=\"#000000\" fill-rule=\"evenodd\" fill-opacity=\"1\" /><path clip-path=\"url(#clip790)\" d=\"M164.376 1156.53 Q160.765 1156.53 158.936 1160.09 Q157.13 1163.63 157.13 1170.76 Q157.13 1177.87 158.936 1181.43 Q160.765 1184.97 164.376 1184.97 Q168.01 1184.97 169.815 1181.43 Q171.644 1177.87 171.644 1170.76 Q171.644 1163.63 169.815 1160.09 Q168.01 1156.53 164.376 1156.53 M164.376 1152.82 Q170.186 1152.82 173.241 1157.43 Q176.32 1162.01 176.32 1170.76 Q176.32 1179.49 173.241 1184.09 Q170.186 1188.68 164.376 1188.68 Q158.565 1188.68 155.487 1184.09 Q152.431 1179.49 152.431 1170.76 Q152.431 1162.01 155.487 1157.43 Q158.565 1152.82 164.376 1152.82 Z\" fill=\"#000000\" fill-rule=\"evenodd\" fill-opacity=\"1\" /><path clip-path=\"url(#clip790)\" d=\"M184.538 1182.13 L189.422 1182.13 L189.422 1188.01 L184.538 1188.01 L184.538 1182.13 Z\" fill=\"#000000\" fill-rule=\"evenodd\" fill-opacity=\"1\" /><path clip-path=\"url(#clip790)\" d=\"M212.454 1157.52 L200.649 1175.97 L212.454 1175.97 L212.454 1157.52 M211.227 1153.45 L217.107 1153.45 L217.107 1175.97 L222.037 1175.97 L222.037 1179.86 L217.107 1179.86 L217.107 1188.01 L212.454 1188.01 L212.454 1179.86 L196.852 1179.86 L196.852 1175.34 L211.227 1153.45 Z\" fill=\"#000000\" fill-rule=\"evenodd\" fill-opacity=\"1\" /><path clip-path=\"url(#clip790)\" d=\"M229.908 1187.29 L229.908 1183.03 Q231.667 1183.86 233.472 1184.3 Q235.278 1184.74 237.014 1184.74 Q241.644 1184.74 244.074 1181.64 Q246.528 1178.52 246.875 1172.17 Q245.533 1174.16 243.472 1175.23 Q241.412 1176.29 238.912 1176.29 Q233.727 1176.29 230.695 1173.17 Q227.685 1170.02 227.685 1164.58 Q227.685 1159.26 230.834 1156.04 Q233.982 1152.82 239.213 1152.82 Q245.209 1152.82 248.357 1157.43 Q251.528 1162.01 251.528 1170.76 Q251.528 1178.93 247.639 1183.82 Q243.773 1188.68 237.222 1188.68 Q235.463 1188.68 233.658 1188.33 Q231.852 1187.98 229.908 1187.29 M239.213 1172.64 Q242.361 1172.64 244.19 1170.48 Q246.042 1168.33 246.042 1164.58 Q246.042 1160.85 244.19 1158.7 Q242.361 1156.53 239.213 1156.53 Q236.065 1156.53 234.213 1158.7 Q232.385 1160.85 232.385 1164.58 Q232.385 1168.33 234.213 1170.48 Q236.065 1172.64 239.213 1172.64 Z\" fill=\"#000000\" fill-rule=\"evenodd\" fill-opacity=\"1\" /><path clip-path=\"url(#clip790)\" d=\"M114.515 955.509 L144.191 955.509 L144.191 959.444 L114.515 959.444 L114.515 955.509 Z\" fill=\"#000000\" fill-rule=\"evenodd\" fill-opacity=\"1\" /><path clip-path=\"url(#clip790)\" d=\"M164.283 940.856 Q160.672 940.856 158.843 944.421 Q157.038 947.963 157.038 955.092 Q157.038 962.199 158.843 965.764 Q160.672 969.305 164.283 969.305 Q167.917 969.305 169.723 965.764 Q171.552 962.199 171.552 955.092 Q171.552 947.963 169.723 944.421 Q167.917 940.856 164.283 940.856 M164.283 937.153 Q170.093 937.153 173.149 941.759 Q176.227 946.342 176.227 955.092 Q176.227 963.819 173.149 968.426 Q170.093 973.009 164.283 973.009 Q158.473 973.009 155.394 968.426 Q152.339 963.819 152.339 955.092 Q152.339 946.342 155.394 941.759 Q158.473 937.153 164.283 937.153 Z\" fill=\"#000000\" fill-rule=\"evenodd\" fill-opacity=\"1\" /><path clip-path=\"url(#clip790)\" d=\"M184.445 966.458 L189.329 966.458 L189.329 972.338 L184.445 972.338 L184.445 966.458 Z\" fill=\"#000000\" fill-rule=\"evenodd\" fill-opacity=\"1\" /><path clip-path=\"url(#clip790)\" d=\"M212.361 941.852 L200.556 960.301 L212.361 960.301 L212.361 941.852 M211.135 937.778 L217.014 937.778 L217.014 960.301 L221.945 960.301 L221.945 964.189 L217.014 964.189 L217.014 972.338 L212.361 972.338 L212.361 964.189 L196.76 964.189 L196.76 959.676 L211.135 937.778 Z\" fill=\"#000000\" fill-rule=\"evenodd\" fill-opacity=\"1\" /><path clip-path=\"url(#clip790)\" d=\"M239.676 955.926 Q236.343 955.926 234.422 957.708 Q232.523 959.49 232.523 962.615 Q232.523 965.74 234.422 967.523 Q236.343 969.305 239.676 969.305 Q243.009 969.305 244.931 967.523 Q246.852 965.717 246.852 962.615 Q246.852 959.49 244.931 957.708 Q243.033 955.926 239.676 955.926 M235 953.935 Q231.991 953.194 230.301 951.134 Q228.635 949.074 228.635 946.111 Q228.635 941.967 231.574 939.56 Q234.537 937.153 239.676 937.153 Q244.838 937.153 247.778 939.56 Q250.718 941.967 250.718 946.111 Q250.718 949.074 249.028 951.134 Q247.361 953.194 244.375 953.935 Q247.755 954.722 249.63 957.014 Q251.528 959.305 251.528 962.615 Q251.528 967.639 248.449 970.324 Q245.394 973.009 239.676 973.009 Q233.959 973.009 230.88 970.324 Q227.824 967.639 227.824 962.615 Q227.824 959.305 229.723 957.014 Q231.621 954.722 235 953.935 M233.287 946.551 Q233.287 949.236 234.954 950.74 Q236.644 952.245 239.676 952.245 Q242.685 952.245 244.375 950.74 Q246.088 949.236 246.088 946.551 Q246.088 943.865 244.375 942.361 Q242.685 940.856 239.676 940.856 Q236.644 940.856 234.954 942.361 Q233.287 943.865 233.287 946.551 Z\" fill=\"#000000\" fill-rule=\"evenodd\" fill-opacity=\"1\" /><path clip-path=\"url(#clip790)\" d=\"M115.325 739.84 L145.001 739.84 L145.001 743.775 L115.325 743.775 L115.325 739.84 Z\" fill=\"#000000\" fill-rule=\"evenodd\" fill-opacity=\"1\" /><path clip-path=\"url(#clip790)\" d=\"M165.093 725.187 Q161.482 725.187 159.653 728.752 Q157.848 732.294 157.848 739.423 Q157.848 746.53 159.653 750.094 Q161.482 753.636 165.093 753.636 Q168.727 753.636 170.533 750.094 Q172.362 746.53 172.362 739.423 Q172.362 732.294 170.533 728.752 Q168.727 725.187 165.093 725.187 M165.093 721.484 Q170.903 721.484 173.959 726.09 Q177.038 730.673 177.038 739.423 Q177.038 748.15 173.959 752.756 Q170.903 757.34 165.093 757.34 Q159.283 757.34 156.204 752.756 Q153.149 748.15 153.149 739.423 Q153.149 730.673 156.204 726.09 Q159.283 721.484 165.093 721.484 Z\" fill=\"#000000\" fill-rule=\"evenodd\" fill-opacity=\"1\" /><path clip-path=\"url(#clip790)\" d=\"M185.255 750.789 L190.139 750.789 L190.139 756.669 L185.255 756.669 L185.255 750.789 Z\" fill=\"#000000\" fill-rule=\"evenodd\" fill-opacity=\"1\" /><path clip-path=\"url(#clip790)\" d=\"M213.172 726.183 L201.366 744.632 L213.172 744.632 L213.172 726.183 M211.945 722.109 L217.824 722.109 L217.824 744.632 L222.755 744.632 L222.755 748.52 L217.824 748.52 L217.824 756.669 L213.172 756.669 L213.172 748.52 L197.57 748.52 L197.57 744.007 L211.945 722.109 Z\" fill=\"#000000\" fill-rule=\"evenodd\" fill-opacity=\"1\" /><path clip-path=\"url(#clip790)\" d=\"M229.306 722.109 L251.528 722.109 L251.528 724.099 L238.982 756.669 L234.097 756.669 L245.903 726.044 L229.306 726.044 L229.306 722.109 Z\" fill=\"#000000\" fill-rule=\"evenodd\" fill-opacity=\"1\" /><path clip-path=\"url(#clip790)\" d=\"M114.26 524.171 L143.936 524.171 L143.936 528.106 L114.26 528.106 L114.26 524.171 Z\" fill=\"#000000\" fill-rule=\"evenodd\" fill-opacity=\"1\" /><path clip-path=\"url(#clip790)\" d=\"M164.028 509.518 Q160.417 509.518 158.589 513.083 Q156.783 516.625 156.783 523.754 Q156.783 530.861 158.589 534.425 Q160.417 537.967 164.028 537.967 Q167.663 537.967 169.468 534.425 Q171.297 530.861 171.297 523.754 Q171.297 516.625 169.468 513.083 Q167.663 509.518 164.028 509.518 M164.028 505.814 Q169.839 505.814 172.894 510.421 Q175.973 515.004 175.973 523.754 Q175.973 532.481 172.894 537.087 Q169.839 541.671 164.028 541.671 Q158.218 541.671 155.14 537.087 Q152.084 532.481 152.084 523.754 Q152.084 515.004 155.14 510.421 Q158.218 505.814 164.028 505.814 Z\" fill=\"#000000\" fill-rule=\"evenodd\" fill-opacity=\"1\" /><path clip-path=\"url(#clip790)\" d=\"M184.19 535.12 L189.075 535.12 L189.075 540.999 L184.19 540.999 L184.19 535.12 Z\" fill=\"#000000\" fill-rule=\"evenodd\" fill-opacity=\"1\" /><path clip-path=\"url(#clip790)\" d=\"M212.107 510.514 L200.301 528.962 L212.107 528.962 L212.107 510.514 M210.88 506.439 L216.76 506.439 L216.76 528.962 L221.69 528.962 L221.69 532.851 L216.76 532.851 L216.76 540.999 L212.107 540.999 L212.107 532.851 L196.505 532.851 L196.505 528.337 L210.88 506.439 Z\" fill=\"#000000\" fill-rule=\"evenodd\" fill-opacity=\"1\" /><path clip-path=\"url(#clip790)\" d=\"M240 521.856 Q236.852 521.856 235 524.009 Q233.172 526.162 233.172 529.912 Q233.172 533.638 235 535.814 Q236.852 537.967 240 537.967 Q243.148 537.967 244.977 535.814 Q246.829 533.638 246.829 529.912 Q246.829 526.162 244.977 524.009 Q243.148 521.856 240 521.856 M249.283 507.203 L249.283 511.463 Q247.523 510.629 245.718 510.189 Q243.935 509.75 242.176 509.75 Q237.547 509.75 235.093 512.875 Q232.662 516 232.315 522.319 Q233.681 520.305 235.741 519.24 Q237.801 518.152 240.278 518.152 Q245.486 518.152 248.496 521.324 Q251.528 524.472 251.528 529.912 Q251.528 535.236 248.38 538.453 Q245.232 541.671 240 541.671 Q234.005 541.671 230.834 537.087 Q227.662 532.481 227.662 523.754 Q227.662 515.56 231.551 510.699 Q235.44 505.814 241.991 505.814 Q243.75 505.814 245.533 506.162 Q247.338 506.509 249.283 507.203 Z\" fill=\"#000000\" fill-rule=\"evenodd\" fill-opacity=\"1\" /><path clip-path=\"url(#clip790)\" d=\"M115.418 308.502 L145.093 308.502 L145.093 312.437 L115.418 312.437 L115.418 308.502 Z\" fill=\"#000000\" fill-rule=\"evenodd\" fill-opacity=\"1\" /><path clip-path=\"url(#clip790)\" d=\"M165.186 293.849 Q161.575 293.849 159.746 297.414 Q157.94 300.956 157.94 308.085 Q157.94 315.192 159.746 318.756 Q161.575 322.298 165.186 322.298 Q168.82 322.298 170.626 318.756 Q172.454 315.192 172.454 308.085 Q172.454 300.956 170.626 297.414 Q168.82 293.849 165.186 293.849 M165.186 290.145 Q170.996 290.145 174.052 294.752 Q177.13 299.335 177.13 308.085 Q177.13 316.812 174.052 321.418 Q170.996 326.002 165.186 326.002 Q159.376 326.002 156.297 321.418 Q153.241 316.812 153.241 308.085 Q153.241 299.335 156.297 294.752 Q159.376 290.145 165.186 290.145 Z\" fill=\"#000000\" fill-rule=\"evenodd\" fill-opacity=\"1\" /><path clip-path=\"url(#clip790)\" d=\"M185.348 319.451 L190.232 319.451 L190.232 325.33 L185.348 325.33 L185.348 319.451 Z\" fill=\"#000000\" fill-rule=\"evenodd\" fill-opacity=\"1\" /><path clip-path=\"url(#clip790)\" d=\"M213.264 294.844 L201.459 313.293 L213.264 313.293 L213.264 294.844 M212.037 290.77 L217.917 290.77 L217.917 313.293 L222.848 313.293 L222.848 317.182 L217.917 317.182 L217.917 325.33 L213.264 325.33 L213.264 317.182 L197.662 317.182 L197.662 312.668 L212.037 290.77 Z\" fill=\"#000000\" fill-rule=\"evenodd\" fill-opacity=\"1\" /><path clip-path=\"url(#clip790)\" d=\"M230.625 290.77 L248.982 290.77 L248.982 294.706 L234.908 294.706 L234.908 303.178 Q235.926 302.831 236.945 302.668 Q237.963 302.483 238.982 302.483 Q244.769 302.483 248.148 305.655 Q251.528 308.826 251.528 314.243 Q251.528 319.821 248.056 322.923 Q244.584 326.002 238.264 326.002 Q236.088 326.002 233.82 325.631 Q231.574 325.261 229.167 324.52 L229.167 319.821 Q231.25 320.955 233.472 321.511 Q235.695 322.067 238.172 322.067 Q242.176 322.067 244.514 319.96 Q246.852 317.854 246.852 314.243 Q246.852 310.631 244.514 308.525 Q242.176 306.418 238.172 306.418 Q236.297 306.418 234.422 306.835 Q232.57 307.252 230.625 308.131 L230.625 290.77 Z\" fill=\"#000000\" fill-rule=\"evenodd\" fill-opacity=\"1\" /><path clip-path=\"url(#clip790)\" d=\"M16.4842 822.883 L16.4842 792.837 L21.895 792.837 L21.895 816.454 L35.9632 816.454 L35.9632 793.824 L41.3741 793.824 L41.3741 816.454 L58.5933 816.454 L58.5933 792.264 L64.0042 792.264 L64.0042 822.883 L16.4842 822.883 Z\" fill=\"#000000\" fill-rule=\"evenodd\" fill-opacity=\"1\" /><path clip-path=\"url(#clip790)\" d=\"M16.4842 771.544 L16.4842 766.133 L70.0516 782.684 L70.0516 788.094 L16.4842 771.544 Z\" fill=\"#000000\" fill-rule=\"evenodd\" fill-opacity=\"1\" /><path clip-path=\"url(#clip790)\" d=\"M16.4842 759.735 L16.4842 751.078 L56.238 730.007 L16.4842 730.007 L16.4842 723.769 L64.0042 723.769 L64.0042 732.426 L24.2503 753.497 L64.0042 753.497 L64.0042 759.735 L16.4842 759.735 Z\" fill=\"#000000\" fill-rule=\"evenodd\" fill-opacity=\"1\" /><path clip-path=\"url(#clip790)\" d=\"M608.601 63.9476 L608.601 47.7034 L595.233 47.7034 L595.233 40.9789 L616.702 40.9789 L616.702 66.9452 Q611.963 70.3075 606.251 72.0494 Q600.539 73.7508 594.058 73.7508 Q579.88 73.7508 571.859 65.4869 Q563.879 57.1826 563.879 42.3968 Q563.879 27.5705 571.859 19.3066 Q579.88 11.0023 594.058 11.0023 Q599.972 11.0023 605.279 12.4606 Q610.626 13.9189 615.123 16.7545 L615.123 25.464 Q610.586 21.6156 605.481 19.6712 Q600.377 17.7268 594.747 17.7268 Q583.647 17.7268 578.057 23.9246 Q572.507 30.1225 572.507 42.3968 Q572.507 54.6305 578.057 60.8284 Q583.647 67.0263 594.747 67.0263 Q599.081 67.0263 602.484 66.2971 Q605.886 65.5274 608.601 63.9476 Z\" fill=\"#000000\" fill-rule=\"evenodd\" fill-opacity=\"1\" /><path clip-path=\"url(#clip790)\" d=\"M657.617 34.1734 Q656.361 33.4443 654.862 33.1202 Q653.404 32.7556 651.621 32.7556 Q645.302 32.7556 641.899 36.8875 Q638.537 40.9789 638.537 48.6757 L638.537 72.576 L631.043 72.576 L631.043 27.2059 L638.537 27.2059 L638.537 34.2544 Q640.886 30.1225 644.654 28.1376 Q648.421 26.1121 653.809 26.1121 Q654.578 26.1121 655.51 26.2337 Q656.442 26.3147 657.576 26.5172 L657.617 34.1734 Z\" fill=\"#000000\" fill-rule=\"evenodd\" fill-opacity=\"1\" /><path clip-path=\"url(#clip790)\" d=\"M681.193 32.4315 Q675.197 32.4315 671.714 37.1306 Q668.23 41.7891 668.23 49.9314 Q668.23 58.0738 671.673 62.7728 Q675.157 67.4314 681.193 67.4314 Q687.148 67.4314 690.631 62.7323 Q694.115 58.0333 694.115 49.9314 Q694.115 41.8701 690.631 37.1711 Q687.148 32.4315 681.193 32.4315 M681.193 26.1121 Q690.915 26.1121 696.465 32.4315 Q702.014 38.7509 702.014 49.9314 Q702.014 61.0714 696.465 67.4314 Q690.915 73.7508 681.193 73.7508 Q671.43 73.7508 665.88 67.4314 Q660.371 61.0714 660.371 49.9314 Q660.371 38.7509 665.88 32.4315 Q671.43 26.1121 681.193 26.1121 Z\" fill=\"#000000\" fill-rule=\"evenodd\" fill-opacity=\"1\" /><path clip-path=\"url(#clip790)\" d=\"M713.6 54.671 L713.6 27.2059 L721.054 27.2059 L721.054 54.3874 Q721.054 60.8284 723.565 64.0691 Q726.077 67.2693 731.1 67.2693 Q737.136 67.2693 740.62 63.421 Q744.144 59.5726 744.144 52.9291 L744.144 27.2059 L751.598 27.2059 L751.598 72.576 L744.144 72.576 L744.144 65.6084 Q741.43 69.7404 737.824 71.7658 Q734.26 73.7508 729.52 73.7508 Q721.702 73.7508 717.651 68.8897 Q713.6 64.0286 713.6 54.671 M732.356 26.1121 L732.356 26.1121 Z\" fill=\"#000000\" fill-rule=\"evenodd\" fill-opacity=\"1\" /><path clip-path=\"url(#clip790)\" d=\"M804.664 45.1919 L804.664 72.576 L797.211 72.576 L797.211 45.4349 Q797.211 38.994 794.699 35.7938 Q792.188 32.5936 787.164 32.5936 Q781.129 32.5936 777.645 36.4419 Q774.161 40.2903 774.161 46.9338 L774.161 72.576 L766.667 72.576 L766.667 27.2059 L774.161 27.2059 L774.161 34.2544 Q776.835 30.163 780.44 28.1376 Q784.086 26.1121 788.825 26.1121 Q796.644 26.1121 800.654 30.9732 Q804.664 35.7938 804.664 45.1919 Z\" fill=\"#000000\" fill-rule=\"evenodd\" fill-opacity=\"1\" /><path clip-path=\"url(#clip790)\" d=\"M849.386 34.0924 L849.386 9.54393 L856.84 9.54393 L856.84 72.576 L849.386 72.576 L849.386 65.7705 Q847.037 69.8214 843.432 71.8063 Q839.867 73.7508 834.844 73.7508 Q826.62 73.7508 821.435 67.1883 Q816.29 60.6258 816.29 49.9314 Q816.29 39.2371 821.435 32.6746 Q826.62 26.1121 834.844 26.1121 Q839.867 26.1121 843.432 28.0971 Q847.037 30.0415 849.386 34.0924 M823.987 49.9314 Q823.987 58.1548 827.349 62.8538 Q830.752 67.5124 836.667 67.5124 Q842.581 67.5124 845.984 62.8538 Q849.386 58.1548 849.386 49.9314 Q849.386 41.7081 845.984 37.0496 Q842.581 32.3505 836.667 32.3505 Q830.752 32.3505 827.349 37.0496 Q823.987 41.7081 823.987 49.9314 Z\" fill=\"#000000\" fill-rule=\"evenodd\" fill-opacity=\"1\" /><path clip-path=\"url(#clip790)\" d=\"M935.144 14.0809 L935.144 22.0612 Q930.485 19.8332 926.354 18.7395 Q922.222 17.6457 918.373 17.6457 Q911.689 17.6457 908.043 20.2383 Q904.438 22.8309 904.438 27.611 Q904.438 31.6214 906.828 33.6873 Q909.259 35.7128 915.983 36.9686 L920.925 37.9813 Q930.08 39.7232 934.415 44.1387 Q938.79 48.5136 938.79 55.8863 Q938.79 64.6767 932.875 69.2137 Q927.002 73.7508 915.619 73.7508 Q911.325 73.7508 906.464 72.7785 Q901.643 71.8063 896.458 69.9024 L896.458 61.4765 Q901.44 64.2716 906.221 65.6895 Q911.001 67.1073 915.619 67.1073 Q922.627 67.1073 926.435 64.3527 Q930.242 61.598 930.242 56.4939 Q930.242 52.0379 927.488 49.5264 Q924.774 47.0148 918.535 45.759 L913.553 44.7868 Q904.398 42.9639 900.306 39.075 Q896.215 35.1862 896.215 28.2591 Q896.215 20.2383 901.846 15.6203 Q907.517 11.0023 917.442 11.0023 Q921.695 11.0023 926.11 11.7719 Q930.526 12.5416 935.144 14.0809 Z\" fill=\"#000000\" fill-rule=\"evenodd\" fill-opacity=\"1\" /><path clip-path=\"url(#clip790)\" d=\"M958.599 14.324 L958.599 27.2059 L973.952 27.2059 L973.952 32.9987 L958.599 32.9987 L958.599 57.6282 Q958.599 63.1779 960.098 64.7578 Q961.637 66.3376 966.295 66.3376 L973.952 66.3376 L973.952 72.576 L966.295 72.576 Q957.667 72.576 954.386 69.3758 Q951.105 66.1351 951.105 57.6282 L951.105 32.9987 L945.636 32.9987 L945.636 27.2059 L951.105 27.2059 L951.105 14.324 L958.599 14.324 Z\" fill=\"#000000\" fill-rule=\"evenodd\" fill-opacity=\"1\" /><path clip-path=\"url(#clip790)\" d=\"M1004.37 49.7694 Q995.34 49.7694 991.857 51.8354 Q988.373 53.9013 988.373 58.8839 Q988.373 62.8538 990.965 65.2034 Q993.599 67.5124 998.095 67.5124 Q1004.29 67.5124 1008.02 63.1374 Q1011.79 58.7219 1011.79 51.4303 L1011.79 49.7694 L1004.37 49.7694 M1019.24 46.6907 L1019.24 72.576 L1011.79 72.576 L1011.79 65.6895 Q1009.24 69.8214 1005.43 71.8063 Q1001.62 73.7508 996.11 73.7508 Q989.143 73.7508 985.011 69.8619 Q980.919 65.9325 980.919 59.3701 Q980.919 51.7138 986.023 47.825 Q991.168 43.9361 1001.34 43.9361 L1011.79 43.9361 L1011.79 43.2069 Q1011.79 38.0623 1008.38 35.2672 Q1005.02 32.4315 998.905 32.4315 Q995.016 32.4315 991.33 33.3632 Q987.644 34.295 984.241 36.1584 L984.241 29.2718 Q988.332 27.692 992.181 26.9223 Q996.029 26.1121 999.675 26.1121 Q1009.52 26.1121 1014.38 31.2163 Q1019.24 36.3204 1019.24 46.6907 Z\" fill=\"#000000\" fill-rule=\"evenodd\" fill-opacity=\"1\" /><path clip-path=\"url(#clip790)\" d=\"M1041.97 14.324 L1041.97 27.2059 L1057.32 27.2059 L1057.32 32.9987 L1041.97 32.9987 L1041.97 57.6282 Q1041.97 63.1779 1043.47 64.7578 Q1045 66.3376 1049.66 66.3376 L1057.32 66.3376 L1057.32 72.576 L1049.66 72.576 Q1041.03 72.576 1037.75 69.3758 Q1034.47 66.1351 1034.47 57.6282 L1034.47 32.9987 L1029 32.9987 L1029 27.2059 L1034.47 27.2059 L1034.47 14.324 L1041.97 14.324 Z\" fill=\"#000000\" fill-rule=\"evenodd\" fill-opacity=\"1\" /><path clip-path=\"url(#clip790)\" d=\"M1105.93 48.0275 L1105.93 51.6733 L1071.66 51.6733 Q1072.15 59.3701 1076.28 63.421 Q1080.45 67.4314 1087.86 67.4314 Q1092.16 67.4314 1096.17 66.3781 Q1100.22 65.3249 1104.19 63.2184 L1104.19 70.267 Q1100.18 71.9684 1095.96 72.8596 Q1091.75 73.7508 1087.42 73.7508 Q1076.56 73.7508 1070.2 67.4314 Q1063.88 61.1119 1063.88 50.3365 Q1063.88 39.1965 1069.88 32.6746 Q1075.91 26.1121 1086.12 26.1121 Q1095.28 26.1121 1100.58 32.0264 Q1105.93 37.9003 1105.93 48.0275 M1098.48 45.84 Q1098.4 39.7232 1095.03 36.0774 Q1091.71 32.4315 1086.2 32.4315 Q1079.96 32.4315 1076.2 35.9558 Q1072.47 39.4801 1071.9 45.8805 L1098.48 45.84 Z\" fill=\"#000000\" fill-rule=\"evenodd\" fill-opacity=\"1\" /><path clip-path=\"url(#clip790)\" d=\"M1144.86 12.096 L1183.1 12.096 L1183.1 18.9825 L1153.04 18.9825 L1153.04 36.8875 L1181.84 36.8875 L1181.84 43.7741 L1153.04 43.7741 L1153.04 65.6895 L1183.83 65.6895 L1183.83 72.576 L1144.86 72.576 L1144.86 12.096 Z\" fill=\"#000000\" fill-rule=\"evenodd\" fill-opacity=\"1\" /><path clip-path=\"url(#clip790)\" d=\"M1234.67 45.1919 L1234.67 72.576 L1227.21 72.576 L1227.21 45.4349 Q1227.21 38.994 1224.7 35.7938 Q1222.19 32.5936 1217.17 32.5936 Q1211.13 32.5936 1207.65 36.4419 Q1204.16 40.2903 1204.16 46.9338 L1204.16 72.576 L1196.67 72.576 L1196.67 27.2059 L1204.16 27.2059 L1204.16 34.2544 Q1206.84 30.163 1210.44 28.1376 Q1214.09 26.1121 1218.83 26.1121 Q1226.65 26.1121 1230.66 30.9732 Q1234.67 35.7938 1234.67 45.1919 Z\" fill=\"#000000\" fill-rule=\"evenodd\" fill-opacity=\"1\" /><path clip-path=\"url(#clip790)\" d=\"M1288.34 48.0275 L1288.34 51.6733 L1254.07 51.6733 Q1254.56 59.3701 1258.69 63.421 Q1262.86 67.4314 1270.28 67.4314 Q1274.57 67.4314 1278.58 66.3781 Q1282.63 65.3249 1286.6 63.2184 L1286.6 70.267 Q1282.59 71.9684 1278.38 72.8596 Q1274.16 73.7508 1269.83 73.7508 Q1258.97 73.7508 1252.61 67.4314 Q1246.29 61.1119 1246.29 50.3365 Q1246.29 39.1965 1252.29 32.6746 Q1258.33 26.1121 1268.53 26.1121 Q1277.69 26.1121 1283 32.0264 Q1288.34 37.9003 1288.34 48.0275 M1280.89 45.84 Q1280.81 39.7232 1277.45 36.0774 Q1274.12 32.4315 1268.61 32.4315 Q1262.38 32.4315 1258.61 35.9558 Q1254.88 39.4801 1254.31 45.8805 L1280.89 45.84 Z\" fill=\"#000000\" fill-rule=\"evenodd\" fill-opacity=\"1\" /><path clip-path=\"url(#clip790)\" d=\"M1326.87 34.1734 Q1325.61 33.4443 1324.11 33.1202 Q1322.65 32.7556 1320.87 32.7556 Q1314.55 32.7556 1311.15 36.8875 Q1307.79 40.9789 1307.79 48.6757 L1307.79 72.576 L1300.29 72.576 L1300.29 27.2059 L1307.79 27.2059 L1307.79 34.2544 Q1310.14 30.1225 1313.9 28.1376 Q1317.67 26.1121 1323.06 26.1121 Q1323.83 26.1121 1324.76 26.2337 Q1325.69 26.3147 1326.83 26.5172 L1326.87 34.1734 Z\" fill=\"#000000\" fill-rule=\"evenodd\" fill-opacity=\"1\" /><path clip-path=\"url(#clip790)\" d=\"M1363.08 49.3643 Q1363.08 41.2625 1359.72 36.8065 Q1356.4 32.3505 1350.36 32.3505 Q1344.37 32.3505 1341 36.8065 Q1337.68 41.2625 1337.68 49.3643 Q1337.68 57.4256 1341 61.8816 Q1344.37 66.3376 1350.36 66.3376 Q1356.4 66.3376 1359.72 61.8816 Q1363.08 57.4256 1363.08 49.3643 M1370.54 66.9452 Q1370.54 78.5308 1365.39 84.1616 Q1360.25 89.8329 1349.63 89.8329 Q1345.7 89.8329 1342.22 89.2252 Q1338.74 88.6581 1335.45 87.4428 L1335.45 80.1917 Q1338.74 81.9741 1341.94 82.8248 Q1345.14 83.6755 1348.46 83.6755 Q1355.79 83.6755 1359.44 79.8271 Q1363.08 76.0193 1363.08 68.282 L1363.08 64.5957 Q1360.77 68.6061 1357.17 70.5911 Q1353.56 72.576 1348.54 72.576 Q1340.19 72.576 1335.09 66.2161 Q1329.99 59.8562 1329.99 49.3643 Q1329.99 38.832 1335.09 32.472 Q1340.19 26.1121 1348.54 26.1121 Q1353.56 26.1121 1357.17 28.0971 Q1360.77 30.082 1363.08 34.0924 L1363.08 27.2059 L1370.54 27.2059 L1370.54 66.9452 Z\" fill=\"#000000\" fill-rule=\"evenodd\" fill-opacity=\"1\" /><path clip-path=\"url(#clip790)\" d=\"M1404.77 76.7889 Q1401.61 84.8907 1398.61 87.3618 Q1395.61 89.8329 1390.59 89.8329 L1384.63 89.8329 L1384.63 83.5945 L1389.01 83.5945 Q1392.09 83.5945 1393.79 82.1361 Q1395.49 80.6778 1397.55 75.2496 L1398.89 71.8468 L1380.54 27.2059 L1388.44 27.2059 L1402.62 62.6918 L1416.8 27.2059 L1424.7 27.2059 L1404.77 76.7889 Z\" fill=\"#000000\" fill-rule=\"evenodd\" fill-opacity=\"1\" /><path clip-path=\"url(#clip790)\" d=\"M1497.94 14.0809 L1497.94 22.0612 Q1493.28 19.8332 1489.15 18.7395 Q1485.01 17.6457 1481.17 17.6457 Q1474.48 17.6457 1470.84 20.2383 Q1467.23 22.8309 1467.23 27.611 Q1467.23 31.6214 1469.62 33.6873 Q1472.05 35.7128 1478.78 36.9686 L1483.72 37.9813 Q1492.87 39.7232 1497.21 44.1387 Q1501.58 48.5136 1501.58 55.8863 Q1501.58 64.6767 1495.67 69.2137 Q1489.79 73.7508 1478.41 73.7508 Q1474.12 73.7508 1469.26 72.7785 Q1464.44 71.8063 1459.25 69.9024 L1459.25 61.4765 Q1464.23 64.2716 1469.01 65.6895 Q1473.79 67.1073 1478.41 67.1073 Q1485.42 67.1073 1489.23 64.3527 Q1493.03 61.598 1493.03 56.4939 Q1493.03 52.0379 1490.28 49.5264 Q1487.57 47.0148 1481.33 45.759 L1476.34 44.7868 Q1467.19 42.9639 1463.1 39.075 Q1459.01 35.1862 1459.01 28.2591 Q1459.01 20.2383 1464.64 15.6203 Q1470.31 11.0023 1480.23 11.0023 Q1484.49 11.0023 1488.9 11.7719 Q1493.32 12.5416 1497.94 14.0809 Z\" fill=\"#000000\" fill-rule=\"evenodd\" fill-opacity=\"1\" /><path clip-path=\"url(#clip790)\" d=\"M1546.67 28.9478 L1546.67 35.9153 Q1543.51 34.1734 1540.31 33.3227 Q1537.15 32.4315 1533.91 32.4315 Q1526.66 32.4315 1522.65 37.0496 Q1518.64 41.6271 1518.64 49.9314 Q1518.64 58.2358 1522.65 62.8538 Q1526.66 67.4314 1533.91 67.4314 Q1537.15 67.4314 1540.31 66.5807 Q1543.51 65.6895 1546.67 63.9476 L1546.67 70.8341 Q1543.55 72.2924 1540.19 73.0216 Q1536.87 73.7508 1533.1 73.7508 Q1522.85 73.7508 1516.81 67.3098 Q1510.78 60.8689 1510.78 49.9314 Q1510.78 38.832 1516.85 32.472 Q1522.97 26.1121 1533.58 26.1121 Q1537.03 26.1121 1540.31 26.8413 Q1543.59 27.5299 1546.67 28.9478 Z\" fill=\"#000000\" fill-rule=\"evenodd\" fill-opacity=\"1\" /><path clip-path=\"url(#clip790)\" d=\"M1580.25 49.7694 Q1571.22 49.7694 1567.73 51.8354 Q1564.25 53.9013 1564.25 58.8839 Q1564.25 62.8538 1566.84 65.2034 Q1569.48 67.5124 1573.97 67.5124 Q1580.17 67.5124 1583.9 63.1374 Q1587.66 58.7219 1587.66 51.4303 L1587.66 49.7694 L1580.25 49.7694 M1595.12 46.6907 L1595.12 72.576 L1587.66 72.576 L1587.66 65.6895 Q1585.11 69.8214 1581.3 71.8063 Q1577.5 73.7508 1571.99 73.7508 Q1565.02 73.7508 1560.89 69.8619 Q1556.8 65.9325 1556.8 59.3701 Q1556.8 51.7138 1561.9 47.825 Q1567.04 43.9361 1577.21 43.9361 L1587.66 43.9361 L1587.66 43.2069 Q1587.66 38.0623 1584.26 35.2672 Q1580.9 32.4315 1574.78 32.4315 Q1570.89 32.4315 1567.21 33.3632 Q1563.52 34.295 1560.12 36.1584 L1560.12 29.2718 Q1564.21 27.692 1568.06 26.9223 Q1571.91 26.1121 1575.55 26.1121 Q1585.4 26.1121 1590.26 31.2163 Q1595.12 36.3204 1595.12 46.6907 Z\" fill=\"#000000\" fill-rule=\"evenodd\" fill-opacity=\"1\" /><path clip-path=\"url(#clip790)\" d=\"M1610.47 9.54393 L1617.92 9.54393 L1617.92 72.576 L1610.47 72.576 L1610.47 9.54393 Z\" fill=\"#000000\" fill-rule=\"evenodd\" fill-opacity=\"1\" /><path clip-path=\"url(#clip790)\" d=\"M1633.52 27.2059 L1640.97 27.2059 L1640.97 72.576 L1633.52 72.576 L1633.52 27.2059 M1633.52 9.54393 L1640.97 9.54393 L1640.97 18.9825 L1633.52 18.9825 L1633.52 9.54393 Z\" fill=\"#000000\" fill-rule=\"evenodd\" fill-opacity=\"1\" /><path clip-path=\"url(#clip790)\" d=\"M1694.28 45.1919 L1694.28 72.576 L1686.83 72.576 L1686.83 45.4349 Q1686.83 38.994 1684.32 35.7938 Q1681.81 32.5936 1676.78 32.5936 Q1670.75 32.5936 1667.26 36.4419 Q1663.78 40.2903 1663.78 46.9338 L1663.78 72.576 L1656.29 72.576 L1656.29 27.2059 L1663.78 27.2059 L1663.78 34.2544 Q1666.45 30.163 1670.06 28.1376 Q1673.7 26.1121 1678.44 26.1121 Q1686.26 26.1121 1690.27 30.9732 Q1694.28 35.7938 1694.28 45.1919 Z\" fill=\"#000000\" fill-rule=\"evenodd\" fill-opacity=\"1\" /><path clip-path=\"url(#clip790)\" d=\"M1739.01 49.3643 Q1739.01 41.2625 1735.64 36.8065 Q1732.32 32.3505 1726.29 32.3505 Q1720.29 32.3505 1716.93 36.8065 Q1713.61 41.2625 1713.61 49.3643 Q1713.61 57.4256 1716.93 61.8816 Q1720.29 66.3376 1726.29 66.3376 Q1732.32 66.3376 1735.64 61.8816 Q1739.01 57.4256 1739.01 49.3643 M1746.46 66.9452 Q1746.46 78.5308 1741.31 84.1616 Q1736.17 89.8329 1725.56 89.8329 Q1721.63 89.8329 1718.14 89.2252 Q1714.66 88.6581 1711.38 87.4428 L1711.38 80.1917 Q1714.66 81.9741 1717.86 82.8248 Q1721.06 83.6755 1724.38 83.6755 Q1731.71 83.6755 1735.36 79.8271 Q1739.01 76.0193 1739.01 68.282 L1739.01 64.5957 Q1736.7 68.6061 1733.09 70.5911 Q1729.49 72.576 1724.46 72.576 Q1716.12 72.576 1711.01 66.2161 Q1705.91 59.8562 1705.91 49.3643 Q1705.91 38.832 1711.01 32.472 Q1716.12 26.1121 1724.46 26.1121 Q1729.49 26.1121 1733.09 28.0971 Q1736.7 30.082 1739.01 34.0924 L1739.01 27.2059 L1746.46 27.2059 L1746.46 66.9452 Z\" fill=\"#000000\" fill-rule=\"evenodd\" fill-opacity=\"1\" /><path clip-path=\"url(#clip790)\" d=\"M1806.09 9.62495 Q1800.66 18.942 1798.03 28.0566 Q1795.39 37.1711 1795.39 46.5287 Q1795.39 55.8863 1798.03 65.0818 Q1800.7 74.2369 1806.09 83.5134 L1799.61 83.5134 Q1793.53 73.9938 1790.49 64.7983 Q1787.49 55.6027 1787.49 46.5287 Q1787.49 37.4952 1790.49 28.3401 Q1793.49 19.1851 1799.61 9.62495 L1806.09 9.62495 Z\" fill=\"#000000\" fill-rule=\"evenodd\" fill-opacity=\"1\" /><path clip-path=\"url(#clip790)\" d=\"M1841.09 20.1573 L1829.99 50.2555 L1852.23 50.2555 L1841.09 20.1573 M1836.47 12.096 L1845.75 12.096 L1868.8 72.576 L1860.29 72.576 L1854.78 57.061 L1827.52 57.061 L1822.01 72.576 L1813.38 72.576 L1836.47 12.096 Z\" fill=\"#000000\" fill-rule=\"evenodd\" fill-opacity=\"1\" /><path clip-path=\"url(#clip790)\" d=\"M1877.63 12.096 L1912.38 12.096 L1912.38 18.9825 L1885.81 18.9825 L1885.81 36.8065 L1909.79 36.8065 L1909.79 43.6931 L1885.81 43.6931 L1885.81 72.576 L1877.63 72.576 L1877.63 12.096 Z\" fill=\"#000000\" fill-rule=\"evenodd\" fill-opacity=\"1\" /><path clip-path=\"url(#clip790)\" d=\"M1925.35 12.096 L1933.53 12.096 L1933.53 36.8875 L1963.26 36.8875 L1963.26 12.096 L1971.45 12.096 L1971.45 72.576 L1963.26 72.576 L1963.26 43.7741 L1933.53 43.7741 L1933.53 72.576 L1925.35 72.576 L1925.35 12.096 Z\" fill=\"#000000\" fill-rule=\"evenodd\" fill-opacity=\"1\" /><path clip-path=\"url(#clip790)\" d=\"M1987.73 12.096 L1999.92 12.096 L2015.36 53.2532 L2030.87 12.096 L2043.07 12.096 L2043.07 72.576 L2035.09 72.576 L2035.09 19.4686 L2019.49 60.9499 L2011.27 60.9499 L1995.67 19.4686 L1995.67 72.576 L1987.73 72.576 L1987.73 12.096 Z\" fill=\"#000000\" fill-rule=\"evenodd\" fill-opacity=\"1\" /><path clip-path=\"url(#clip790)\" d=\"M2057.81 9.62495 L2064.29 9.62495 Q2070.37 19.1851 2073.37 28.3401 Q2076.41 37.4952 2076.41 46.5287 Q2076.41 55.6027 2073.37 64.7983 Q2070.37 73.9938 2064.29 83.5134 L2057.81 83.5134 Q2063.2 74.2369 2065.83 65.0818 Q2068.51 55.8863 2068.51 46.5287 Q2068.51 37.1711 2065.83 28.0566 Q2063.2 18.942 2057.81 9.62495 Z\" fill=\"#000000\" fill-rule=\"evenodd\" fill-opacity=\"1\" /><polyline clip-path=\"url(#clip792)\" style=\"stroke:#009af9; stroke-linecap:butt; stroke-linejoin:round; stroke-width:4; stroke-opacity:1; fill:none\" points=\"\n",
       "  345.978,160.256 624.31,160.256 902.643,160.256 1180.98,160.256 1459.31,160.256 1737.64,160.256 2015.97,160.256 2294.31,160.256 \n",
       "  \"/>\n",
       "<circle clip-path=\"url(#clip792)\" cx=\"345.978\" cy=\"1386.4\" r=\"14\" fill=\"#ff0000\" fill-rule=\"evenodd\" fill-opacity=\"1\" stroke=\"#000000\" stroke-opacity=\"1\" stroke-width=\"3.2\"/>\n",
       "<circle clip-path=\"url(#clip792)\" cx=\"624.31\" cy=\"677.476\" r=\"14\" fill=\"#ff0000\" fill-rule=\"evenodd\" fill-opacity=\"1\" stroke=\"#000000\" stroke-opacity=\"1\" stroke-width=\"3.2\"/>\n",
       "<circle clip-path=\"url(#clip792)\" cx=\"902.643\" cy=\"445.791\" r=\"14\" fill=\"#ff0000\" fill-rule=\"evenodd\" fill-opacity=\"1\" stroke=\"#000000\" stroke-opacity=\"1\" stroke-width=\"3.2\"/>\n",
       "<circle clip-path=\"url(#clip792)\" cx=\"1180.98\" cy=\"341.363\" r=\"14\" fill=\"#ff0000\" fill-rule=\"evenodd\" fill-opacity=\"1\" stroke=\"#000000\" stroke-opacity=\"1\" stroke-width=\"3.2\"/>\n",
       "<circle clip-path=\"url(#clip792)\" cx=\"1459.31\" cy=\"285.389\" r=\"14\" fill=\"#ff0000\" fill-rule=\"evenodd\" fill-opacity=\"1\" stroke=\"#000000\" stroke-opacity=\"1\" stroke-width=\"3.2\"/>\n",
       "<circle clip-path=\"url(#clip792)\" cx=\"1737.64\" cy=\"251.899\" r=\"14\" fill=\"#ff0000\" fill-rule=\"evenodd\" fill-opacity=\"1\" stroke=\"#000000\" stroke-opacity=\"1\" stroke-width=\"3.2\"/>\n",
       "<circle clip-path=\"url(#clip792)\" cx=\"2015.97\" cy=\"230.27\" r=\"14\" fill=\"#ff0000\" fill-rule=\"evenodd\" fill-opacity=\"1\" stroke=\"#000000\" stroke-opacity=\"1\" stroke-width=\"3.2\"/>\n",
       "<circle clip-path=\"url(#clip792)\" cx=\"2294.31\" cy=\"215.491\" r=\"14\" fill=\"#ff0000\" fill-rule=\"evenodd\" fill-opacity=\"1\" stroke=\"#000000\" stroke-opacity=\"1\" stroke-width=\"3.2\"/>\n",
       "<polyline clip-path=\"url(#clip792)\" style=\"stroke:#ff0000; stroke-linecap:butt; stroke-linejoin:round; stroke-width:4; stroke-opacity:1; fill:none\" points=\"\n",
       "  345.978,1386.4 624.31,677.476 902.643,445.791 1180.98,341.363 1459.31,285.389 1737.64,251.899 2015.97,230.27 2294.31,215.491 \n",
       "  \"/>\n",
       "<path clip-path=\"url(#clip790)\" d=\"\n",
       "M1848.36 322.316 L2283.91 322.316 L2283.91 166.796 L1848.36 166.796  Z\n",
       "  \" fill=\"#ffffff\" fill-rule=\"evenodd\" fill-opacity=\"1\"/>\n",
       "<polyline clip-path=\"url(#clip790)\" style=\"stroke:#000000; stroke-linecap:butt; stroke-linejoin:round; stroke-width:4; stroke-opacity:1; fill:none\" points=\"\n",
       "  1848.36,322.316 2283.91,322.316 2283.91,166.796 1848.36,166.796 1848.36,322.316 \n",
       "  \"/>\n",
       "<polyline clip-path=\"url(#clip790)\" style=\"stroke:#009af9; stroke-linecap:butt; stroke-linejoin:round; stroke-width:4; stroke-opacity:1; fill:none\" points=\"\n",
       "  1871.31,218.636 2008.99,218.636 \n",
       "  \"/>\n",
       "<path clip-path=\"url(#clip790)\" d=\"M2031.93 201.356 L2036.61 201.356 L2036.61 235.916 L2031.93 235.916 L2031.93 201.356 Z\" fill=\"#000000\" fill-rule=\"evenodd\" fill-opacity=\"1\" /><path clip-path=\"url(#clip790)\" d=\"M2067.28 220.268 L2067.28 235.916 L2063.02 235.916 L2063.02 220.407 Q2063.02 216.726 2061.59 214.897 Q2060.15 213.069 2057.28 213.069 Q2053.83 213.069 2051.84 215.268 Q2049.85 217.467 2049.85 221.263 L2049.85 235.916 L2045.57 235.916 L2045.57 209.99 L2049.85 209.99 L2049.85 214.018 Q2051.38 211.68 2053.44 210.522 Q2055.52 209.365 2058.23 209.365 Q2062.7 209.365 2064.99 212.143 Q2067.28 214.897 2067.28 220.268 Z\" fill=\"#000000\" fill-rule=\"evenodd\" fill-opacity=\"1\" /><path clip-path=\"url(#clip790)\" d=\"M2088.9 199.897 L2088.9 203.439 L2084.83 203.439 Q2082.54 203.439 2081.63 204.365 Q2080.75 205.291 2080.75 207.698 L2080.75 209.99 L2087.77 209.99 L2087.77 213.3 L2080.75 213.3 L2080.75 235.916 L2076.47 235.916 L2076.47 213.3 L2072.4 213.3 L2072.4 209.99 L2076.47 209.99 L2076.47 208.184 Q2076.47 203.856 2078.48 201.888 Q2080.5 199.897 2084.87 199.897 L2088.9 199.897 Z\" fill=\"#000000\" fill-rule=\"evenodd\" fill-opacity=\"1\" /><path clip-path=\"url(#clip790)\" d=\"M2092.47 209.99 L2096.73 209.99 L2096.73 235.916 L2092.47 235.916 L2092.47 209.99 M2092.47 199.897 L2096.73 199.897 L2096.73 205.291 L2092.47 205.291 L2092.47 199.897 Z\" fill=\"#000000\" fill-rule=\"evenodd\" fill-opacity=\"1\" /><path clip-path=\"url(#clip790)\" d=\"M2127.19 220.268 L2127.19 235.916 L2122.93 235.916 L2122.93 220.407 Q2122.93 216.726 2121.49 214.897 Q2120.06 213.069 2117.19 213.069 Q2113.74 213.069 2111.75 215.268 Q2109.76 217.467 2109.76 221.263 L2109.76 235.916 L2105.48 235.916 L2105.48 209.99 L2109.76 209.99 L2109.76 214.018 Q2111.29 211.68 2113.35 210.522 Q2115.43 209.365 2118.14 209.365 Q2122.6 209.365 2124.9 212.143 Q2127.19 214.897 2127.19 220.268 Z\" fill=\"#000000\" fill-rule=\"evenodd\" fill-opacity=\"1\" /><path clip-path=\"url(#clip790)\" d=\"M2135.68 209.99 L2139.94 209.99 L2139.94 235.916 L2135.68 235.916 L2135.68 209.99 M2135.68 199.897 L2139.94 199.897 L2139.94 205.291 L2135.68 205.291 L2135.68 199.897 Z\" fill=\"#000000\" fill-rule=\"evenodd\" fill-opacity=\"1\" /><path clip-path=\"url(#clip790)\" d=\"M2153.07 202.629 L2153.07 209.99 L2161.84 209.99 L2161.84 213.3 L2153.07 213.3 L2153.07 227.374 Q2153.07 230.545 2153.92 231.448 Q2154.8 232.351 2157.47 232.351 L2161.84 232.351 L2161.84 235.916 L2157.47 235.916 Q2152.54 235.916 2150.66 234.087 Q2148.79 232.235 2148.79 227.374 L2148.79 213.3 L2145.66 213.3 L2145.66 209.99 L2148.79 209.99 L2148.79 202.629 L2153.07 202.629 Z\" fill=\"#000000\" fill-rule=\"evenodd\" fill-opacity=\"1\" /><path clip-path=\"url(#clip790)\" d=\"M2189.62 221.888 L2189.62 223.971 L2170.04 223.971 Q2170.31 228.369 2172.67 230.684 Q2175.06 232.976 2179.29 232.976 Q2181.75 232.976 2184.04 232.374 Q2186.35 231.772 2188.62 230.569 L2188.62 234.596 Q2186.33 235.568 2183.92 236.078 Q2181.52 236.587 2179.04 236.587 Q2172.84 236.587 2169.2 232.976 Q2165.59 229.365 2165.59 223.207 Q2165.59 216.842 2169.02 213.115 Q2172.47 209.365 2178.3 209.365 Q2183.53 209.365 2186.56 212.745 Q2189.62 216.101 2189.62 221.888 M2185.36 220.638 Q2185.31 217.143 2183.39 215.059 Q2181.49 212.976 2178.35 212.976 Q2174.78 212.976 2172.63 214.99 Q2170.5 217.004 2170.17 220.661 L2185.36 220.638 Z\" fill=\"#000000\" fill-rule=\"evenodd\" fill-opacity=\"1\" /><path clip-path=\"url(#clip790)\" d=\"M2211.86 201.356 L2218.16 201.356 L2233.48 230.268 L2233.48 201.356 L2238.02 201.356 L2238.02 235.916 L2231.72 235.916 L2216.4 207.004 L2216.4 235.916 L2211.86 235.916 L2211.86 201.356 Z\" fill=\"#000000\" fill-rule=\"evenodd\" fill-opacity=\"1\" /><circle clip-path=\"url(#clip790)\" cx=\"1940.15\" cy=\"270.476\" r=\"23\" fill=\"#ff0000\" fill-rule=\"evenodd\" fill-opacity=\"1\" stroke=\"#000000\" stroke-opacity=\"1\" stroke-width=\"5.12\"/>\n",
       "<path clip-path=\"url(#clip790)\" d=\"M2031.93 253.196 L2053.79 253.196 L2053.79 257.131 L2036.61 257.131 L2036.61 267.362 L2053.07 267.362 L2053.07 271.297 L2036.61 271.297 L2036.61 283.821 L2054.2 283.821 L2054.2 287.756 L2031.93 287.756 L2031.93 253.196 Z\" fill=\"#000000\" fill-rule=\"evenodd\" fill-opacity=\"1\" /><path clip-path=\"url(#clip790)\" d=\"M2066.56 257.038 L2066.56 283.913 L2072.21 283.913 Q2079.36 283.913 2082.67 280.672 Q2086.01 277.432 2086.01 270.441 Q2086.01 263.497 2082.67 260.279 Q2079.36 257.038 2072.21 257.038 L2066.56 257.038 M2061.89 253.196 L2071.49 253.196 Q2081.54 253.196 2086.24 257.386 Q2090.94 261.552 2090.94 270.441 Q2090.94 279.376 2086.22 283.566 Q2081.49 287.756 2071.49 287.756 L2061.89 287.756 L2061.89 253.196 Z\" fill=\"#000000\" fill-rule=\"evenodd\" fill-opacity=\"1\" /></svg>\n"
      ]
     },
     "metadata": {},
     "output_type": "display_data"
    }
   ],
   "source": [
    "using Plots\n",
    "\n",
    "plot(title = \"Ground State Energy Scaling (AFHM)\", xlabel = \"N\", ylabel = \"E/N\")\n",
    "\n",
    "plot!(N_range_new,ground_truth_Heis_new,label = \"Infinite N\")\n",
    "plot!(N_range_new,gsEs_Heis_perN_new,seriestype = :scatter,seriescolor = \"red\",label = \"ED\")\n",
    "display(plot!(N_range_new,gsEs_Heis_perN_new,seriescolor = \"red\",label = false))"
   ]
  },
  {
   "cell_type": "code",
   "execution_count": null,
   "metadata": {},
   "outputs": [],
   "source": [
    "png(\"NewPlots/Heis_gsE_perN\")"
   ]
  },
  {
   "cell_type": "code",
   "execution_count": null,
   "metadata": {},
   "outputs": [],
   "source": []
  },
  {
   "cell_type": "code",
   "execution_count": 42,
   "metadata": {},
   "outputs": [
    {
     "data": {
      "text/plain": [
       "3-element Vector{Float64}:\n",
       " -0.4432843372436245\n",
       " -0.9841152027472625\n",
       " -2.076367670776783"
      ]
     },
     "execution_count": 42,
     "metadata": {},
     "output_type": "execute_result"
    }
   ],
   "source": [
    "using LsqFit\n",
    "\n",
    "model_Heis(t,p) = p[1] .+ p[2].*t.^p[3]\n",
    "#model_Heis(t,p) = p[1] .+ p[2].*exp.(-1 .*(t .- p[3]))\n",
    "#model_Heis(t,p) = p[1] .+ p[2]./t\n",
    "tdata = N_range_new[2:length(N_range_new)]\n",
    "ydataHeis = gsEs_Heis_perN_new[2:length(N_range_new)]\n",
    "p0 = [-1., -1.,-1.]\n",
    "\n",
    "fit = curve_fit(model_Heis, tdata, ydataHeis, p0)\n",
    "paramHeis = fit.param"
   ]
  },
  {
   "cell_type": "code",
   "execution_count": 43,
   "metadata": {},
   "outputs": [
    {
     "data": {
      "text/plain": [
       "3-element Vector{Float64}:\n",
       " 2.2879869833385562e-5\n",
       " 0.008509973493567963\n",
       " 0.005189670443342771"
      ]
     },
     "execution_count": 43,
     "metadata": {},
     "output_type": "execute_result"
    }
   ],
   "source": [
    "se = standard_errors(fit)"
   ]
  },
  {
   "cell_type": "code",
   "execution_count": 44,
   "metadata": {},
   "outputs": [],
   "source": [
    "N_range_cont = range(4,20,step = .02);\n",
    "fit_contHeis = paramHeis[1] .+ paramHeis[2].*N_range_cont.^paramHeis[3]\n",
    "#fit_contHeis= paramHeis[1] .+ paramHeis[2].*exp.(-1 .*(N_range_cont .- paramHeis[3]));\n",
    "#fit_contXY = paramHeis[1] .+ paramHeis[2]./N_range_cont;"
   ]
  },
  {
   "cell_type": "code",
   "execution_count": 45,
   "metadata": {},
   "outputs": [
    {
     "data": {
      "image/svg+xml": [
       "<?xml version=\"1.0\" encoding=\"utf-8\"?>\n",
       "<svg xmlns=\"http://www.w3.org/2000/svg\" xmlns:xlink=\"http://www.w3.org/1999/xlink\" width=\"600\" height=\"400\" viewBox=\"0 0 2400 1600\">\n",
       "<defs>\n",
       "  <clipPath id=\"clip830\">\n",
       "    <rect x=\"0\" y=\"0\" width=\"2400\" height=\"1600\"/>\n",
       "  </clipPath>\n",
       "</defs>\n",
       "<path clip-path=\"url(#clip830)\" d=\"\n",
       "M0 1600 L2400 1600 L2400 0 L0 0  Z\n",
       "  \" fill=\"#ffffff\" fill-rule=\"evenodd\" fill-opacity=\"1\"/>\n",
       "<defs>\n",
       "  <clipPath id=\"clip831\">\n",
       "    <rect x=\"480\" y=\"0\" width=\"1681\" height=\"1600\"/>\n",
       "  </clipPath>\n",
       "</defs>\n",
       "<path clip-path=\"url(#clip830)\" d=\"\n",
       "M287.528 1423.18 L2352.76 1423.18 L2352.76 123.472 L287.528 123.472  Z\n",
       "  \" fill=\"#ffffff\" fill-rule=\"evenodd\" fill-opacity=\"1\"/>\n",
       "<defs>\n",
       "  <clipPath id=\"clip832\">\n",
       "    <rect x=\"287\" y=\"123\" width=\"2066\" height=\"1301\"/>\n",
       "  </clipPath>\n",
       "</defs>\n",
       "<polyline clip-path=\"url(#clip832)\" style=\"stroke:#000000; stroke-linecap:butt; stroke-linejoin:round; stroke-width:2; stroke-opacity:0.1; fill:none\" points=\"\n",
       "  589.519,1423.18 589.519,123.472 \n",
       "  \"/>\n",
       "<polyline clip-path=\"url(#clip832)\" style=\"stroke:#000000; stroke-linecap:butt; stroke-linejoin:round; stroke-width:2; stroke-opacity:0.1; fill:none\" points=\"\n",
       "  954.83,1423.18 954.83,123.472 \n",
       "  \"/>\n",
       "<polyline clip-path=\"url(#clip832)\" style=\"stroke:#000000; stroke-linecap:butt; stroke-linejoin:round; stroke-width:2; stroke-opacity:0.1; fill:none\" points=\"\n",
       "  1320.14,1423.18 1320.14,123.472 \n",
       "  \"/>\n",
       "<polyline clip-path=\"url(#clip832)\" style=\"stroke:#000000; stroke-linecap:butt; stroke-linejoin:round; stroke-width:2; stroke-opacity:0.1; fill:none\" points=\"\n",
       "  1685.45,1423.18 1685.45,123.472 \n",
       "  \"/>\n",
       "<polyline clip-path=\"url(#clip832)\" style=\"stroke:#000000; stroke-linecap:butt; stroke-linejoin:round; stroke-width:2; stroke-opacity:0.1; fill:none\" points=\"\n",
       "  2050.77,1423.18 2050.77,123.472 \n",
       "  \"/>\n",
       "<polyline clip-path=\"url(#clip830)\" style=\"stroke:#000000; stroke-linecap:butt; stroke-linejoin:round; stroke-width:4; stroke-opacity:1; fill:none\" points=\"\n",
       "  287.528,1423.18 2352.76,1423.18 \n",
       "  \"/>\n",
       "<polyline clip-path=\"url(#clip830)\" style=\"stroke:#000000; stroke-linecap:butt; stroke-linejoin:round; stroke-width:4; stroke-opacity:1; fill:none\" points=\"\n",
       "  589.519,1423.18 589.519,1404.28 \n",
       "  \"/>\n",
       "<polyline clip-path=\"url(#clip830)\" style=\"stroke:#000000; stroke-linecap:butt; stroke-linejoin:round; stroke-width:4; stroke-opacity:1; fill:none\" points=\"\n",
       "  954.83,1423.18 954.83,1404.28 \n",
       "  \"/>\n",
       "<polyline clip-path=\"url(#clip830)\" style=\"stroke:#000000; stroke-linecap:butt; stroke-linejoin:round; stroke-width:4; stroke-opacity:1; fill:none\" points=\"\n",
       "  1320.14,1423.18 1320.14,1404.28 \n",
       "  \"/>\n",
       "<polyline clip-path=\"url(#clip830)\" style=\"stroke:#000000; stroke-linecap:butt; stroke-linejoin:round; stroke-width:4; stroke-opacity:1; fill:none\" points=\"\n",
       "  1685.45,1423.18 1685.45,1404.28 \n",
       "  \"/>\n",
       "<polyline clip-path=\"url(#clip830)\" style=\"stroke:#000000; stroke-linecap:butt; stroke-linejoin:round; stroke-width:4; stroke-opacity:1; fill:none\" points=\"\n",
       "  2050.77,1423.18 2050.77,1404.28 \n",
       "  \"/>\n",
       "<path clip-path=\"url(#clip830)\" d=\"M589.924 1466.44 Q586.776 1466.44 584.924 1468.59 Q583.095 1470.74 583.095 1474.49 Q583.095 1478.22 584.924 1480.39 Q586.776 1482.55 589.924 1482.55 Q593.072 1482.55 594.901 1480.39 Q596.753 1478.22 596.753 1474.49 Q596.753 1470.74 594.901 1468.59 Q593.072 1466.44 589.924 1466.44 M599.206 1451.78 L599.206 1456.04 Q597.447 1455.21 595.641 1454.77 Q593.859 1454.33 592.1 1454.33 Q587.47 1454.33 585.017 1457.45 Q582.586 1460.58 582.239 1466.9 Q583.605 1464.89 585.665 1463.82 Q587.725 1462.73 590.202 1462.73 Q595.41 1462.73 598.419 1465.9 Q601.452 1469.05 601.452 1474.49 Q601.452 1479.82 598.303 1483.03 Q595.155 1486.25 589.924 1486.25 Q583.929 1486.25 580.757 1481.67 Q577.586 1477.06 577.586 1468.33 Q577.586 1460.14 581.475 1455.28 Q585.364 1450.39 591.915 1450.39 Q593.674 1450.39 595.456 1450.74 Q597.262 1451.09 599.206 1451.78 Z\" fill=\"#000000\" fill-rule=\"evenodd\" fill-opacity=\"1\" /><path clip-path=\"url(#clip830)\" d=\"M945.131 1484.86 L945.131 1480.6 Q946.891 1481.44 948.696 1481.88 Q950.502 1482.32 952.238 1482.32 Q956.867 1482.32 959.298 1479.21 Q961.752 1476.09 962.099 1469.75 Q960.756 1471.74 958.696 1472.8 Q956.636 1473.87 954.136 1473.87 Q948.951 1473.87 945.918 1470.74 Q942.909 1467.59 942.909 1462.15 Q942.909 1456.83 946.057 1453.61 Q949.205 1450.39 954.437 1450.39 Q960.432 1450.39 963.58 1455 Q966.752 1459.58 966.752 1468.33 Q966.752 1476.51 962.863 1481.39 Q958.997 1486.25 952.446 1486.25 Q950.687 1486.25 948.881 1485.9 Q947.076 1485.56 945.131 1484.86 M954.437 1470.21 Q957.585 1470.21 959.414 1468.06 Q961.266 1465.9 961.266 1462.15 Q961.266 1458.43 959.414 1456.27 Q957.585 1454.1 954.437 1454.1 Q951.289 1454.1 949.437 1456.27 Q947.608 1458.43 947.608 1462.15 Q947.608 1465.9 949.437 1468.06 Q951.289 1470.21 954.437 1470.21 Z\" fill=\"#000000\" fill-rule=\"evenodd\" fill-opacity=\"1\" /><path clip-path=\"url(#clip830)\" d=\"M1295.63 1481.64 L1303.27 1481.64 L1303.27 1455.28 L1294.96 1456.95 L1294.96 1452.69 L1303.22 1451.02 L1307.9 1451.02 L1307.9 1481.64 L1315.54 1481.64 L1315.54 1485.58 L1295.63 1485.58 L1295.63 1481.64 Z\" fill=\"#000000\" fill-rule=\"evenodd\" fill-opacity=\"1\" /><path clip-path=\"url(#clip830)\" d=\"M1329.01 1481.64 L1345.33 1481.64 L1345.33 1485.58 L1323.38 1485.58 L1323.38 1481.64 Q1326.04 1478.89 1330.63 1474.26 Q1335.23 1469.61 1336.41 1468.27 Q1338.66 1465.74 1339.54 1464.01 Q1340.44 1462.25 1340.44 1460.56 Q1340.44 1457.8 1338.5 1456.07 Q1336.58 1454.33 1333.48 1454.33 Q1331.28 1454.33 1328.82 1455.09 Q1326.39 1455.86 1323.61 1457.41 L1323.61 1452.69 Q1326.44 1451.55 1328.89 1450.97 Q1331.35 1450.39 1333.38 1450.39 Q1338.75 1450.39 1341.95 1453.08 Q1345.14 1455.77 1345.14 1460.26 Q1345.14 1462.39 1344.33 1464.31 Q1343.54 1466.2 1341.44 1468.8 Q1340.86 1469.47 1337.76 1472.69 Q1334.66 1475.88 1329.01 1481.64 Z\" fill=\"#000000\" fill-rule=\"evenodd\" fill-opacity=\"1\" /><path clip-path=\"url(#clip830)\" d=\"M1660.64 1481.64 L1668.28 1481.64 L1668.28 1455.28 L1659.97 1456.95 L1659.97 1452.69 L1668.23 1451.02 L1672.91 1451.02 L1672.91 1481.64 L1680.55 1481.64 L1680.55 1485.58 L1660.64 1485.58 L1660.64 1481.64 Z\" fill=\"#000000\" fill-rule=\"evenodd\" fill-opacity=\"1\" /><path clip-path=\"url(#clip830)\" d=\"M1690.04 1451.02 L1708.39 1451.02 L1708.39 1454.96 L1694.32 1454.96 L1694.32 1463.43 Q1695.34 1463.08 1696.36 1462.92 Q1697.37 1462.73 1698.39 1462.73 Q1704.18 1462.73 1707.56 1465.9 Q1710.94 1469.08 1710.94 1474.49 Q1710.94 1480.07 1707.47 1483.17 Q1704 1486.25 1697.68 1486.25 Q1695.5 1486.25 1693.23 1485.88 Q1690.99 1485.51 1688.58 1484.77 L1688.58 1480.07 Q1690.66 1481.2 1692.88 1481.76 Q1695.11 1482.32 1697.58 1482.32 Q1701.59 1482.32 1703.93 1480.21 Q1706.26 1478.1 1706.26 1474.49 Q1706.26 1470.88 1703.93 1468.77 Q1701.59 1466.67 1697.58 1466.67 Q1695.71 1466.67 1693.83 1467.08 Q1691.98 1467.5 1690.04 1468.38 L1690.04 1451.02 Z\" fill=\"#000000\" fill-rule=\"evenodd\" fill-opacity=\"1\" /><path clip-path=\"url(#clip830)\" d=\"M2025.5 1481.64 L2033.14 1481.64 L2033.14 1455.28 L2024.83 1456.95 L2024.83 1452.69 L2033.09 1451.02 L2037.77 1451.02 L2037.77 1481.64 L2045.41 1481.64 L2045.41 1485.58 L2025.5 1485.58 L2025.5 1481.64 Z\" fill=\"#000000\" fill-rule=\"evenodd\" fill-opacity=\"1\" /><path clip-path=\"url(#clip830)\" d=\"M2064.85 1469.17 Q2061.52 1469.17 2059.6 1470.95 Q2057.7 1472.73 2057.7 1475.86 Q2057.7 1478.98 2059.6 1480.77 Q2061.52 1482.55 2064.85 1482.55 Q2068.18 1482.55 2070.11 1480.77 Q2072.03 1478.96 2072.03 1475.86 Q2072.03 1472.73 2070.11 1470.95 Q2068.21 1469.17 2064.85 1469.17 M2060.17 1467.18 Q2057.17 1466.44 2055.48 1464.38 Q2053.81 1462.32 2053.81 1459.35 Q2053.81 1455.21 2056.75 1452.8 Q2059.71 1450.39 2064.85 1450.39 Q2070.01 1450.39 2072.95 1452.8 Q2075.89 1455.21 2075.89 1459.35 Q2075.89 1462.32 2074.2 1464.38 Q2072.54 1466.44 2069.55 1467.18 Q2072.93 1467.96 2074.8 1470.26 Q2076.7 1472.55 2076.7 1475.86 Q2076.7 1480.88 2073.62 1483.57 Q2070.57 1486.25 2064.85 1486.25 Q2059.13 1486.25 2056.05 1483.57 Q2053 1480.88 2053 1475.86 Q2053 1472.55 2054.9 1470.26 Q2056.8 1467.96 2060.17 1467.18 M2058.46 1459.79 Q2058.46 1462.48 2060.13 1463.98 Q2061.82 1465.49 2064.85 1465.49 Q2067.86 1465.49 2069.55 1463.98 Q2071.26 1462.48 2071.26 1459.79 Q2071.26 1457.11 2069.55 1455.6 Q2067.86 1454.1 2064.85 1454.1 Q2061.82 1454.1 2060.13 1455.6 Q2058.46 1457.11 2058.46 1459.79 Z\" fill=\"#000000\" fill-rule=\"evenodd\" fill-opacity=\"1\" /><path clip-path=\"url(#clip830)\" d=\"M1302.16 1520.52 L1310.82 1520.52 L1331.89 1560.28 L1331.89 1520.52 L1338.13 1520.52 L1338.13 1568.04 L1329.47 1568.04 L1308.4 1528.29 L1308.4 1568.04 L1302.16 1568.04 L1302.16 1520.52 Z\" fill=\"#000000\" fill-rule=\"evenodd\" fill-opacity=\"1\" /><polyline clip-path=\"url(#clip832)\" style=\"stroke:#000000; stroke-linecap:butt; stroke-linejoin:round; stroke-width:2; stroke-opacity:0.1; fill:none\" points=\"\n",
       "  287.528,1386.4 2352.76,1386.4 \n",
       "  \"/>\n",
       "<polyline clip-path=\"url(#clip832)\" style=\"stroke:#000000; stroke-linecap:butt; stroke-linejoin:round; stroke-width:2; stroke-opacity:0.1; fill:none\" points=\"\n",
       "  287.528,1170.73 2352.76,1170.73 \n",
       "  \"/>\n",
       "<polyline clip-path=\"url(#clip832)\" style=\"stroke:#000000; stroke-linecap:butt; stroke-linejoin:round; stroke-width:2; stroke-opacity:0.1; fill:none\" points=\"\n",
       "  287.528,955.058 2352.76,955.058 \n",
       "  \"/>\n",
       "<polyline clip-path=\"url(#clip832)\" style=\"stroke:#000000; stroke-linecap:butt; stroke-linejoin:round; stroke-width:2; stroke-opacity:0.1; fill:none\" points=\"\n",
       "  287.528,739.389 2352.76,739.389 \n",
       "  \"/>\n",
       "<polyline clip-path=\"url(#clip832)\" style=\"stroke:#000000; stroke-linecap:butt; stroke-linejoin:round; stroke-width:2; stroke-opacity:0.1; fill:none\" points=\"\n",
       "  287.528,523.719 2352.76,523.719 \n",
       "  \"/>\n",
       "<polyline clip-path=\"url(#clip832)\" style=\"stroke:#000000; stroke-linecap:butt; stroke-linejoin:round; stroke-width:2; stroke-opacity:0.1; fill:none\" points=\"\n",
       "  287.528,308.05 2352.76,308.05 \n",
       "  \"/>\n",
       "<polyline clip-path=\"url(#clip830)\" style=\"stroke:#000000; stroke-linecap:butt; stroke-linejoin:round; stroke-width:4; stroke-opacity:1; fill:none\" points=\"\n",
       "  287.528,1423.18 287.528,123.472 \n",
       "  \"/>\n",
       "<polyline clip-path=\"url(#clip830)\" style=\"stroke:#000000; stroke-linecap:butt; stroke-linejoin:round; stroke-width:4; stroke-opacity:1; fill:none\" points=\"\n",
       "  287.528,1386.4 306.426,1386.4 \n",
       "  \"/>\n",
       "<polyline clip-path=\"url(#clip830)\" style=\"stroke:#000000; stroke-linecap:butt; stroke-linejoin:round; stroke-width:4; stroke-opacity:1; fill:none\" points=\"\n",
       "  287.528,1170.73 306.426,1170.73 \n",
       "  \"/>\n",
       "<polyline clip-path=\"url(#clip830)\" style=\"stroke:#000000; stroke-linecap:butt; stroke-linejoin:round; stroke-width:4; stroke-opacity:1; fill:none\" points=\"\n",
       "  287.528,955.058 306.426,955.058 \n",
       "  \"/>\n",
       "<polyline clip-path=\"url(#clip830)\" style=\"stroke:#000000; stroke-linecap:butt; stroke-linejoin:round; stroke-width:4; stroke-opacity:1; fill:none\" points=\"\n",
       "  287.528,739.389 306.426,739.389 \n",
       "  \"/>\n",
       "<polyline clip-path=\"url(#clip830)\" style=\"stroke:#000000; stroke-linecap:butt; stroke-linejoin:round; stroke-width:4; stroke-opacity:1; fill:none\" points=\"\n",
       "  287.528,523.719 306.426,523.719 \n",
       "  \"/>\n",
       "<polyline clip-path=\"url(#clip830)\" style=\"stroke:#000000; stroke-linecap:butt; stroke-linejoin:round; stroke-width:4; stroke-opacity:1; fill:none\" points=\"\n",
       "  287.528,308.05 306.426,308.05 \n",
       "  \"/>\n",
       "<path clip-path=\"url(#clip830)\" d=\"M114.422 1386.85 L144.098 1386.85 L144.098 1390.78 L114.422 1390.78 L114.422 1386.85 Z\" fill=\"#000000\" fill-rule=\"evenodd\" fill-opacity=\"1\" /><path clip-path=\"url(#clip830)\" d=\"M164.19 1372.19 Q160.579 1372.19 158.751 1375.76 Q156.945 1379.3 156.945 1386.43 Q156.945 1393.54 158.751 1397.1 Q160.579 1400.64 164.19 1400.64 Q167.825 1400.64 169.63 1397.1 Q171.459 1393.54 171.459 1386.43 Q171.459 1379.3 169.63 1375.76 Q167.825 1372.19 164.19 1372.19 M164.19 1368.49 Q170.001 1368.49 173.056 1373.1 Q176.135 1377.68 176.135 1386.43 Q176.135 1395.16 173.056 1399.76 Q170.001 1404.35 164.19 1404.35 Q158.38 1404.35 155.302 1399.76 Q152.246 1395.16 152.246 1386.43 Q152.246 1377.68 155.302 1373.1 Q158.38 1368.49 164.19 1368.49 Z\" fill=\"#000000\" fill-rule=\"evenodd\" fill-opacity=\"1\" /><path clip-path=\"url(#clip830)\" d=\"M184.352 1397.8 L189.237 1397.8 L189.237 1403.68 L184.352 1403.68 L184.352 1397.8 Z\" fill=\"#000000\" fill-rule=\"evenodd\" fill-opacity=\"1\" /><path clip-path=\"url(#clip830)\" d=\"M199.468 1369.12 L217.824 1369.12 L217.824 1373.05 L203.75 1373.05 L203.75 1381.52 Q204.769 1381.18 205.787 1381.01 Q206.806 1380.83 207.824 1380.83 Q213.611 1380.83 216.991 1384 Q220.371 1387.17 220.371 1392.59 Q220.371 1398.17 216.898 1401.27 Q213.426 1404.35 207.107 1404.35 Q204.931 1404.35 202.662 1403.98 Q200.417 1403.61 198.01 1402.87 L198.01 1398.17 Q200.093 1399.3 202.315 1399.86 Q204.537 1400.41 207.014 1400.41 Q211.019 1400.41 213.357 1398.31 Q215.695 1396.2 215.695 1392.59 Q215.695 1388.98 213.357 1386.87 Q211.019 1384.76 207.014 1384.76 Q205.139 1384.76 203.264 1385.18 Q201.412 1385.6 199.468 1386.48 L199.468 1369.12 Z\" fill=\"#000000\" fill-rule=\"evenodd\" fill-opacity=\"1\" /><path clip-path=\"url(#clip830)\" d=\"M239.584 1372.19 Q235.972 1372.19 234.144 1375.76 Q232.338 1379.3 232.338 1386.43 Q232.338 1393.54 234.144 1397.1 Q235.972 1400.64 239.584 1400.64 Q243.218 1400.64 245.023 1397.1 Q246.852 1393.54 246.852 1386.43 Q246.852 1379.3 245.023 1375.76 Q243.218 1372.19 239.584 1372.19 M239.584 1368.49 Q245.394 1368.49 248.449 1373.1 Q251.528 1377.68 251.528 1386.43 Q251.528 1395.16 248.449 1399.76 Q245.394 1404.35 239.584 1404.35 Q233.773 1404.35 230.695 1399.76 Q227.639 1395.16 227.639 1386.43 Q227.639 1377.68 230.695 1373.1 Q233.773 1368.49 239.584 1368.49 Z\" fill=\"#000000\" fill-rule=\"evenodd\" fill-opacity=\"1\" /><path clip-path=\"url(#clip830)\" d=\"M114.607 1171.18 L144.283 1171.18 L144.283 1175.11 L114.607 1175.11 L114.607 1171.18 Z\" fill=\"#000000\" fill-rule=\"evenodd\" fill-opacity=\"1\" /><path clip-path=\"url(#clip830)\" d=\"M164.376 1156.53 Q160.765 1156.53 158.936 1160.09 Q157.13 1163.63 157.13 1170.76 Q157.13 1177.87 158.936 1181.43 Q160.765 1184.97 164.376 1184.97 Q168.01 1184.97 169.815 1181.43 Q171.644 1177.87 171.644 1170.76 Q171.644 1163.63 169.815 1160.09 Q168.01 1156.53 164.376 1156.53 M164.376 1152.82 Q170.186 1152.82 173.241 1157.43 Q176.32 1162.01 176.32 1170.76 Q176.32 1179.49 173.241 1184.09 Q170.186 1188.68 164.376 1188.68 Q158.565 1188.68 155.487 1184.09 Q152.431 1179.49 152.431 1170.76 Q152.431 1162.01 155.487 1157.43 Q158.565 1152.82 164.376 1152.82 Z\" fill=\"#000000\" fill-rule=\"evenodd\" fill-opacity=\"1\" /><path clip-path=\"url(#clip830)\" d=\"M184.538 1182.13 L189.422 1182.13 L189.422 1188.01 L184.538 1188.01 L184.538 1182.13 Z\" fill=\"#000000\" fill-rule=\"evenodd\" fill-opacity=\"1\" /><path clip-path=\"url(#clip830)\" d=\"M212.454 1157.52 L200.649 1175.97 L212.454 1175.97 L212.454 1157.52 M211.227 1153.45 L217.107 1153.45 L217.107 1175.97 L222.037 1175.97 L222.037 1179.86 L217.107 1179.86 L217.107 1188.01 L212.454 1188.01 L212.454 1179.86 L196.852 1179.86 L196.852 1175.34 L211.227 1153.45 Z\" fill=\"#000000\" fill-rule=\"evenodd\" fill-opacity=\"1\" /><path clip-path=\"url(#clip830)\" d=\"M229.908 1187.29 L229.908 1183.03 Q231.667 1183.86 233.472 1184.3 Q235.278 1184.74 237.014 1184.74 Q241.644 1184.74 244.074 1181.64 Q246.528 1178.52 246.875 1172.17 Q245.533 1174.16 243.472 1175.23 Q241.412 1176.29 238.912 1176.29 Q233.727 1176.29 230.695 1173.17 Q227.685 1170.02 227.685 1164.58 Q227.685 1159.26 230.834 1156.04 Q233.982 1152.82 239.213 1152.82 Q245.209 1152.82 248.357 1157.43 Q251.528 1162.01 251.528 1170.76 Q251.528 1178.93 247.639 1183.82 Q243.773 1188.68 237.222 1188.68 Q235.463 1188.68 233.658 1188.33 Q231.852 1187.98 229.908 1187.29 M239.213 1172.64 Q242.361 1172.64 244.19 1170.48 Q246.042 1168.33 246.042 1164.58 Q246.042 1160.85 244.19 1158.7 Q242.361 1156.53 239.213 1156.53 Q236.065 1156.53 234.213 1158.7 Q232.385 1160.85 232.385 1164.58 Q232.385 1168.33 234.213 1170.48 Q236.065 1172.64 239.213 1172.64 Z\" fill=\"#000000\" fill-rule=\"evenodd\" fill-opacity=\"1\" /><path clip-path=\"url(#clip830)\" d=\"M114.515 955.509 L144.191 955.509 L144.191 959.444 L114.515 959.444 L114.515 955.509 Z\" fill=\"#000000\" fill-rule=\"evenodd\" fill-opacity=\"1\" /><path clip-path=\"url(#clip830)\" d=\"M164.283 940.856 Q160.672 940.856 158.843 944.421 Q157.038 947.963 157.038 955.092 Q157.038 962.199 158.843 965.764 Q160.672 969.305 164.283 969.305 Q167.917 969.305 169.723 965.764 Q171.552 962.199 171.552 955.092 Q171.552 947.963 169.723 944.421 Q167.917 940.856 164.283 940.856 M164.283 937.153 Q170.093 937.153 173.149 941.759 Q176.227 946.342 176.227 955.092 Q176.227 963.819 173.149 968.426 Q170.093 973.009 164.283 973.009 Q158.473 973.009 155.394 968.426 Q152.339 963.819 152.339 955.092 Q152.339 946.342 155.394 941.759 Q158.473 937.153 164.283 937.153 Z\" fill=\"#000000\" fill-rule=\"evenodd\" fill-opacity=\"1\" /><path clip-path=\"url(#clip830)\" d=\"M184.445 966.458 L189.329 966.458 L189.329 972.338 L184.445 972.338 L184.445 966.458 Z\" fill=\"#000000\" fill-rule=\"evenodd\" fill-opacity=\"1\" /><path clip-path=\"url(#clip830)\" d=\"M212.361 941.852 L200.556 960.301 L212.361 960.301 L212.361 941.852 M211.135 937.778 L217.014 937.778 L217.014 960.301 L221.945 960.301 L221.945 964.189 L217.014 964.189 L217.014 972.338 L212.361 972.338 L212.361 964.189 L196.76 964.189 L196.76 959.676 L211.135 937.778 Z\" fill=\"#000000\" fill-rule=\"evenodd\" fill-opacity=\"1\" /><path clip-path=\"url(#clip830)\" d=\"M239.676 955.926 Q236.343 955.926 234.422 957.708 Q232.523 959.49 232.523 962.615 Q232.523 965.74 234.422 967.523 Q236.343 969.305 239.676 969.305 Q243.009 969.305 244.931 967.523 Q246.852 965.717 246.852 962.615 Q246.852 959.49 244.931 957.708 Q243.033 955.926 239.676 955.926 M235 953.935 Q231.991 953.194 230.301 951.134 Q228.635 949.074 228.635 946.111 Q228.635 941.967 231.574 939.56 Q234.537 937.153 239.676 937.153 Q244.838 937.153 247.778 939.56 Q250.718 941.967 250.718 946.111 Q250.718 949.074 249.028 951.134 Q247.361 953.194 244.375 953.935 Q247.755 954.722 249.63 957.014 Q251.528 959.305 251.528 962.615 Q251.528 967.639 248.449 970.324 Q245.394 973.009 239.676 973.009 Q233.959 973.009 230.88 970.324 Q227.824 967.639 227.824 962.615 Q227.824 959.305 229.723 957.014 Q231.621 954.722 235 953.935 M233.287 946.551 Q233.287 949.236 234.954 950.74 Q236.644 952.245 239.676 952.245 Q242.685 952.245 244.375 950.74 Q246.088 949.236 246.088 946.551 Q246.088 943.865 244.375 942.361 Q242.685 940.856 239.676 940.856 Q236.644 940.856 234.954 942.361 Q233.287 943.865 233.287 946.551 Z\" fill=\"#000000\" fill-rule=\"evenodd\" fill-opacity=\"1\" /><path clip-path=\"url(#clip830)\" d=\"M115.325 739.84 L145.001 739.84 L145.001 743.775 L115.325 743.775 L115.325 739.84 Z\" fill=\"#000000\" fill-rule=\"evenodd\" fill-opacity=\"1\" /><path clip-path=\"url(#clip830)\" d=\"M165.093 725.187 Q161.482 725.187 159.653 728.752 Q157.848 732.294 157.848 739.423 Q157.848 746.53 159.653 750.094 Q161.482 753.636 165.093 753.636 Q168.727 753.636 170.533 750.094 Q172.362 746.53 172.362 739.423 Q172.362 732.294 170.533 728.752 Q168.727 725.187 165.093 725.187 M165.093 721.484 Q170.903 721.484 173.959 726.09 Q177.038 730.673 177.038 739.423 Q177.038 748.15 173.959 752.756 Q170.903 757.34 165.093 757.34 Q159.283 757.34 156.204 752.756 Q153.149 748.15 153.149 739.423 Q153.149 730.673 156.204 726.09 Q159.283 721.484 165.093 721.484 Z\" fill=\"#000000\" fill-rule=\"evenodd\" fill-opacity=\"1\" /><path clip-path=\"url(#clip830)\" d=\"M185.255 750.789 L190.139 750.789 L190.139 756.669 L185.255 756.669 L185.255 750.789 Z\" fill=\"#000000\" fill-rule=\"evenodd\" fill-opacity=\"1\" /><path clip-path=\"url(#clip830)\" d=\"M213.172 726.183 L201.366 744.632 L213.172 744.632 L213.172 726.183 M211.945 722.109 L217.824 722.109 L217.824 744.632 L222.755 744.632 L222.755 748.52 L217.824 748.52 L217.824 756.669 L213.172 756.669 L213.172 748.52 L197.57 748.52 L197.57 744.007 L211.945 722.109 Z\" fill=\"#000000\" fill-rule=\"evenodd\" fill-opacity=\"1\" /><path clip-path=\"url(#clip830)\" d=\"M229.306 722.109 L251.528 722.109 L251.528 724.099 L238.982 756.669 L234.097 756.669 L245.903 726.044 L229.306 726.044 L229.306 722.109 Z\" fill=\"#000000\" fill-rule=\"evenodd\" fill-opacity=\"1\" /><path clip-path=\"url(#clip830)\" d=\"M114.26 524.171 L143.936 524.171 L143.936 528.106 L114.26 528.106 L114.26 524.171 Z\" fill=\"#000000\" fill-rule=\"evenodd\" fill-opacity=\"1\" /><path clip-path=\"url(#clip830)\" d=\"M164.028 509.518 Q160.417 509.518 158.589 513.083 Q156.783 516.625 156.783 523.754 Q156.783 530.861 158.589 534.425 Q160.417 537.967 164.028 537.967 Q167.663 537.967 169.468 534.425 Q171.297 530.861 171.297 523.754 Q171.297 516.625 169.468 513.083 Q167.663 509.518 164.028 509.518 M164.028 505.814 Q169.839 505.814 172.894 510.421 Q175.973 515.004 175.973 523.754 Q175.973 532.481 172.894 537.087 Q169.839 541.671 164.028 541.671 Q158.218 541.671 155.14 537.087 Q152.084 532.481 152.084 523.754 Q152.084 515.004 155.14 510.421 Q158.218 505.814 164.028 505.814 Z\" fill=\"#000000\" fill-rule=\"evenodd\" fill-opacity=\"1\" /><path clip-path=\"url(#clip830)\" d=\"M184.19 535.12 L189.075 535.12 L189.075 540.999 L184.19 540.999 L184.19 535.12 Z\" fill=\"#000000\" fill-rule=\"evenodd\" fill-opacity=\"1\" /><path clip-path=\"url(#clip830)\" d=\"M212.107 510.514 L200.301 528.962 L212.107 528.962 L212.107 510.514 M210.88 506.439 L216.76 506.439 L216.76 528.962 L221.69 528.962 L221.69 532.851 L216.76 532.851 L216.76 540.999 L212.107 540.999 L212.107 532.851 L196.505 532.851 L196.505 528.337 L210.88 506.439 Z\" fill=\"#000000\" fill-rule=\"evenodd\" fill-opacity=\"1\" /><path clip-path=\"url(#clip830)\" d=\"M240 521.856 Q236.852 521.856 235 524.009 Q233.172 526.162 233.172 529.912 Q233.172 533.638 235 535.814 Q236.852 537.967 240 537.967 Q243.148 537.967 244.977 535.814 Q246.829 533.638 246.829 529.912 Q246.829 526.162 244.977 524.009 Q243.148 521.856 240 521.856 M249.283 507.203 L249.283 511.463 Q247.523 510.629 245.718 510.189 Q243.935 509.75 242.176 509.75 Q237.547 509.75 235.093 512.875 Q232.662 516 232.315 522.319 Q233.681 520.305 235.741 519.24 Q237.801 518.152 240.278 518.152 Q245.486 518.152 248.496 521.324 Q251.528 524.472 251.528 529.912 Q251.528 535.236 248.38 538.453 Q245.232 541.671 240 541.671 Q234.005 541.671 230.834 537.087 Q227.662 532.481 227.662 523.754 Q227.662 515.56 231.551 510.699 Q235.44 505.814 241.991 505.814 Q243.75 505.814 245.533 506.162 Q247.338 506.509 249.283 507.203 Z\" fill=\"#000000\" fill-rule=\"evenodd\" fill-opacity=\"1\" /><path clip-path=\"url(#clip830)\" d=\"M115.418 308.502 L145.093 308.502 L145.093 312.437 L115.418 312.437 L115.418 308.502 Z\" fill=\"#000000\" fill-rule=\"evenodd\" fill-opacity=\"1\" /><path clip-path=\"url(#clip830)\" d=\"M165.186 293.849 Q161.575 293.849 159.746 297.414 Q157.94 300.956 157.94 308.085 Q157.94 315.192 159.746 318.756 Q161.575 322.298 165.186 322.298 Q168.82 322.298 170.626 318.756 Q172.454 315.192 172.454 308.085 Q172.454 300.956 170.626 297.414 Q168.82 293.849 165.186 293.849 M165.186 290.145 Q170.996 290.145 174.052 294.752 Q177.13 299.335 177.13 308.085 Q177.13 316.812 174.052 321.418 Q170.996 326.002 165.186 326.002 Q159.376 326.002 156.297 321.418 Q153.241 316.812 153.241 308.085 Q153.241 299.335 156.297 294.752 Q159.376 290.145 165.186 290.145 Z\" fill=\"#000000\" fill-rule=\"evenodd\" fill-opacity=\"1\" /><path clip-path=\"url(#clip830)\" d=\"M185.348 319.451 L190.232 319.451 L190.232 325.33 L185.348 325.33 L185.348 319.451 Z\" fill=\"#000000\" fill-rule=\"evenodd\" fill-opacity=\"1\" /><path clip-path=\"url(#clip830)\" d=\"M213.264 294.844 L201.459 313.293 L213.264 313.293 L213.264 294.844 M212.037 290.77 L217.917 290.77 L217.917 313.293 L222.848 313.293 L222.848 317.182 L217.917 317.182 L217.917 325.33 L213.264 325.33 L213.264 317.182 L197.662 317.182 L197.662 312.668 L212.037 290.77 Z\" fill=\"#000000\" fill-rule=\"evenodd\" fill-opacity=\"1\" /><path clip-path=\"url(#clip830)\" d=\"M230.625 290.77 L248.982 290.77 L248.982 294.706 L234.908 294.706 L234.908 303.178 Q235.926 302.831 236.945 302.668 Q237.963 302.483 238.982 302.483 Q244.769 302.483 248.148 305.655 Q251.528 308.826 251.528 314.243 Q251.528 319.821 248.056 322.923 Q244.584 326.002 238.264 326.002 Q236.088 326.002 233.82 325.631 Q231.574 325.261 229.167 324.52 L229.167 319.821 Q231.25 320.955 233.472 321.511 Q235.695 322.067 238.172 322.067 Q242.176 322.067 244.514 319.96 Q246.852 317.854 246.852 314.243 Q246.852 310.631 244.514 308.525 Q242.176 306.418 238.172 306.418 Q236.297 306.418 234.422 306.835 Q232.57 307.252 230.625 308.131 L230.625 290.77 Z\" fill=\"#000000\" fill-rule=\"evenodd\" fill-opacity=\"1\" /><path clip-path=\"url(#clip830)\" d=\"M16.4842 822.883 L16.4842 792.837 L21.895 792.837 L21.895 816.454 L35.9632 816.454 L35.9632 793.824 L41.3741 793.824 L41.3741 816.454 L58.5933 816.454 L58.5933 792.264 L64.0042 792.264 L64.0042 822.883 L16.4842 822.883 Z\" fill=\"#000000\" fill-rule=\"evenodd\" fill-opacity=\"1\" /><path clip-path=\"url(#clip830)\" d=\"M16.4842 771.544 L16.4842 766.133 L70.0516 782.684 L70.0516 788.094 L16.4842 771.544 Z\" fill=\"#000000\" fill-rule=\"evenodd\" fill-opacity=\"1\" /><path clip-path=\"url(#clip830)\" d=\"M16.4842 759.735 L16.4842 751.078 L56.238 730.007 L16.4842 730.007 L16.4842 723.769 L64.0042 723.769 L64.0042 732.426 L24.2503 753.497 L64.0042 753.497 L64.0042 759.735 L16.4842 759.735 Z\" fill=\"#000000\" fill-rule=\"evenodd\" fill-opacity=\"1\" /><path clip-path=\"url(#clip830)\" d=\"M608.601 63.9476 L608.601 47.7034 L595.233 47.7034 L595.233 40.9789 L616.702 40.9789 L616.702 66.9452 Q611.963 70.3075 606.251 72.0494 Q600.539 73.7508 594.058 73.7508 Q579.88 73.7508 571.859 65.4869 Q563.879 57.1826 563.879 42.3968 Q563.879 27.5705 571.859 19.3066 Q579.88 11.0023 594.058 11.0023 Q599.972 11.0023 605.279 12.4606 Q610.626 13.9189 615.123 16.7545 L615.123 25.464 Q610.586 21.6156 605.481 19.6712 Q600.377 17.7268 594.747 17.7268 Q583.647 17.7268 578.057 23.9246 Q572.507 30.1225 572.507 42.3968 Q572.507 54.6305 578.057 60.8284 Q583.647 67.0263 594.747 67.0263 Q599.081 67.0263 602.484 66.2971 Q605.886 65.5274 608.601 63.9476 Z\" fill=\"#000000\" fill-rule=\"evenodd\" fill-opacity=\"1\" /><path clip-path=\"url(#clip830)\" d=\"M657.617 34.1734 Q656.361 33.4443 654.862 33.1202 Q653.404 32.7556 651.621 32.7556 Q645.302 32.7556 641.899 36.8875 Q638.537 40.9789 638.537 48.6757 L638.537 72.576 L631.043 72.576 L631.043 27.2059 L638.537 27.2059 L638.537 34.2544 Q640.886 30.1225 644.654 28.1376 Q648.421 26.1121 653.809 26.1121 Q654.578 26.1121 655.51 26.2337 Q656.442 26.3147 657.576 26.5172 L657.617 34.1734 Z\" fill=\"#000000\" fill-rule=\"evenodd\" fill-opacity=\"1\" /><path clip-path=\"url(#clip830)\" d=\"M681.193 32.4315 Q675.197 32.4315 671.714 37.1306 Q668.23 41.7891 668.23 49.9314 Q668.23 58.0738 671.673 62.7728 Q675.157 67.4314 681.193 67.4314 Q687.148 67.4314 690.631 62.7323 Q694.115 58.0333 694.115 49.9314 Q694.115 41.8701 690.631 37.1711 Q687.148 32.4315 681.193 32.4315 M681.193 26.1121 Q690.915 26.1121 696.465 32.4315 Q702.014 38.7509 702.014 49.9314 Q702.014 61.0714 696.465 67.4314 Q690.915 73.7508 681.193 73.7508 Q671.43 73.7508 665.88 67.4314 Q660.371 61.0714 660.371 49.9314 Q660.371 38.7509 665.88 32.4315 Q671.43 26.1121 681.193 26.1121 Z\" fill=\"#000000\" fill-rule=\"evenodd\" fill-opacity=\"1\" /><path clip-path=\"url(#clip830)\" d=\"M713.6 54.671 L713.6 27.2059 L721.054 27.2059 L721.054 54.3874 Q721.054 60.8284 723.565 64.0691 Q726.077 67.2693 731.1 67.2693 Q737.136 67.2693 740.62 63.421 Q744.144 59.5726 744.144 52.9291 L744.144 27.2059 L751.598 27.2059 L751.598 72.576 L744.144 72.576 L744.144 65.6084 Q741.43 69.7404 737.824 71.7658 Q734.26 73.7508 729.52 73.7508 Q721.702 73.7508 717.651 68.8897 Q713.6 64.0286 713.6 54.671 M732.356 26.1121 L732.356 26.1121 Z\" fill=\"#000000\" fill-rule=\"evenodd\" fill-opacity=\"1\" /><path clip-path=\"url(#clip830)\" d=\"M804.664 45.1919 L804.664 72.576 L797.211 72.576 L797.211 45.4349 Q797.211 38.994 794.699 35.7938 Q792.188 32.5936 787.164 32.5936 Q781.129 32.5936 777.645 36.4419 Q774.161 40.2903 774.161 46.9338 L774.161 72.576 L766.667 72.576 L766.667 27.2059 L774.161 27.2059 L774.161 34.2544 Q776.835 30.163 780.44 28.1376 Q784.086 26.1121 788.825 26.1121 Q796.644 26.1121 800.654 30.9732 Q804.664 35.7938 804.664 45.1919 Z\" fill=\"#000000\" fill-rule=\"evenodd\" fill-opacity=\"1\" /><path clip-path=\"url(#clip830)\" d=\"M849.386 34.0924 L849.386 9.54393 L856.84 9.54393 L856.84 72.576 L849.386 72.576 L849.386 65.7705 Q847.037 69.8214 843.432 71.8063 Q839.867 73.7508 834.844 73.7508 Q826.62 73.7508 821.435 67.1883 Q816.29 60.6258 816.29 49.9314 Q816.29 39.2371 821.435 32.6746 Q826.62 26.1121 834.844 26.1121 Q839.867 26.1121 843.432 28.0971 Q847.037 30.0415 849.386 34.0924 M823.987 49.9314 Q823.987 58.1548 827.349 62.8538 Q830.752 67.5124 836.667 67.5124 Q842.581 67.5124 845.984 62.8538 Q849.386 58.1548 849.386 49.9314 Q849.386 41.7081 845.984 37.0496 Q842.581 32.3505 836.667 32.3505 Q830.752 32.3505 827.349 37.0496 Q823.987 41.7081 823.987 49.9314 Z\" fill=\"#000000\" fill-rule=\"evenodd\" fill-opacity=\"1\" /><path clip-path=\"url(#clip830)\" d=\"M935.144 14.0809 L935.144 22.0612 Q930.485 19.8332 926.354 18.7395 Q922.222 17.6457 918.373 17.6457 Q911.689 17.6457 908.043 20.2383 Q904.438 22.8309 904.438 27.611 Q904.438 31.6214 906.828 33.6873 Q909.259 35.7128 915.983 36.9686 L920.925 37.9813 Q930.08 39.7232 934.415 44.1387 Q938.79 48.5136 938.79 55.8863 Q938.79 64.6767 932.875 69.2137 Q927.002 73.7508 915.619 73.7508 Q911.325 73.7508 906.464 72.7785 Q901.643 71.8063 896.458 69.9024 L896.458 61.4765 Q901.44 64.2716 906.221 65.6895 Q911.001 67.1073 915.619 67.1073 Q922.627 67.1073 926.435 64.3527 Q930.242 61.598 930.242 56.4939 Q930.242 52.0379 927.488 49.5264 Q924.774 47.0148 918.535 45.759 L913.553 44.7868 Q904.398 42.9639 900.306 39.075 Q896.215 35.1862 896.215 28.2591 Q896.215 20.2383 901.846 15.6203 Q907.517 11.0023 917.442 11.0023 Q921.695 11.0023 926.11 11.7719 Q930.526 12.5416 935.144 14.0809 Z\" fill=\"#000000\" fill-rule=\"evenodd\" fill-opacity=\"1\" /><path clip-path=\"url(#clip830)\" d=\"M958.599 14.324 L958.599 27.2059 L973.952 27.2059 L973.952 32.9987 L958.599 32.9987 L958.599 57.6282 Q958.599 63.1779 960.098 64.7578 Q961.637 66.3376 966.295 66.3376 L973.952 66.3376 L973.952 72.576 L966.295 72.576 Q957.667 72.576 954.386 69.3758 Q951.105 66.1351 951.105 57.6282 L951.105 32.9987 L945.636 32.9987 L945.636 27.2059 L951.105 27.2059 L951.105 14.324 L958.599 14.324 Z\" fill=\"#000000\" fill-rule=\"evenodd\" fill-opacity=\"1\" /><path clip-path=\"url(#clip830)\" d=\"M1004.37 49.7694 Q995.34 49.7694 991.857 51.8354 Q988.373 53.9013 988.373 58.8839 Q988.373 62.8538 990.965 65.2034 Q993.599 67.5124 998.095 67.5124 Q1004.29 67.5124 1008.02 63.1374 Q1011.79 58.7219 1011.79 51.4303 L1011.79 49.7694 L1004.37 49.7694 M1019.24 46.6907 L1019.24 72.576 L1011.79 72.576 L1011.79 65.6895 Q1009.24 69.8214 1005.43 71.8063 Q1001.62 73.7508 996.11 73.7508 Q989.143 73.7508 985.011 69.8619 Q980.919 65.9325 980.919 59.3701 Q980.919 51.7138 986.023 47.825 Q991.168 43.9361 1001.34 43.9361 L1011.79 43.9361 L1011.79 43.2069 Q1011.79 38.0623 1008.38 35.2672 Q1005.02 32.4315 998.905 32.4315 Q995.016 32.4315 991.33 33.3632 Q987.644 34.295 984.241 36.1584 L984.241 29.2718 Q988.332 27.692 992.181 26.9223 Q996.029 26.1121 999.675 26.1121 Q1009.52 26.1121 1014.38 31.2163 Q1019.24 36.3204 1019.24 46.6907 Z\" fill=\"#000000\" fill-rule=\"evenodd\" fill-opacity=\"1\" /><path clip-path=\"url(#clip830)\" d=\"M1041.97 14.324 L1041.97 27.2059 L1057.32 27.2059 L1057.32 32.9987 L1041.97 32.9987 L1041.97 57.6282 Q1041.97 63.1779 1043.47 64.7578 Q1045 66.3376 1049.66 66.3376 L1057.32 66.3376 L1057.32 72.576 L1049.66 72.576 Q1041.03 72.576 1037.75 69.3758 Q1034.47 66.1351 1034.47 57.6282 L1034.47 32.9987 L1029 32.9987 L1029 27.2059 L1034.47 27.2059 L1034.47 14.324 L1041.97 14.324 Z\" fill=\"#000000\" fill-rule=\"evenodd\" fill-opacity=\"1\" /><path clip-path=\"url(#clip830)\" d=\"M1105.93 48.0275 L1105.93 51.6733 L1071.66 51.6733 Q1072.15 59.3701 1076.28 63.421 Q1080.45 67.4314 1087.86 67.4314 Q1092.16 67.4314 1096.17 66.3781 Q1100.22 65.3249 1104.19 63.2184 L1104.19 70.267 Q1100.18 71.9684 1095.96 72.8596 Q1091.75 73.7508 1087.42 73.7508 Q1076.56 73.7508 1070.2 67.4314 Q1063.88 61.1119 1063.88 50.3365 Q1063.88 39.1965 1069.88 32.6746 Q1075.91 26.1121 1086.12 26.1121 Q1095.28 26.1121 1100.58 32.0264 Q1105.93 37.9003 1105.93 48.0275 M1098.48 45.84 Q1098.4 39.7232 1095.03 36.0774 Q1091.71 32.4315 1086.2 32.4315 Q1079.96 32.4315 1076.2 35.9558 Q1072.47 39.4801 1071.9 45.8805 L1098.48 45.84 Z\" fill=\"#000000\" fill-rule=\"evenodd\" fill-opacity=\"1\" /><path clip-path=\"url(#clip830)\" d=\"M1144.86 12.096 L1183.1 12.096 L1183.1 18.9825 L1153.04 18.9825 L1153.04 36.8875 L1181.84 36.8875 L1181.84 43.7741 L1153.04 43.7741 L1153.04 65.6895 L1183.83 65.6895 L1183.83 72.576 L1144.86 72.576 L1144.86 12.096 Z\" fill=\"#000000\" fill-rule=\"evenodd\" fill-opacity=\"1\" /><path clip-path=\"url(#clip830)\" d=\"M1234.67 45.1919 L1234.67 72.576 L1227.21 72.576 L1227.21 45.4349 Q1227.21 38.994 1224.7 35.7938 Q1222.19 32.5936 1217.17 32.5936 Q1211.13 32.5936 1207.65 36.4419 Q1204.16 40.2903 1204.16 46.9338 L1204.16 72.576 L1196.67 72.576 L1196.67 27.2059 L1204.16 27.2059 L1204.16 34.2544 Q1206.84 30.163 1210.44 28.1376 Q1214.09 26.1121 1218.83 26.1121 Q1226.65 26.1121 1230.66 30.9732 Q1234.67 35.7938 1234.67 45.1919 Z\" fill=\"#000000\" fill-rule=\"evenodd\" fill-opacity=\"1\" /><path clip-path=\"url(#clip830)\" d=\"M1288.34 48.0275 L1288.34 51.6733 L1254.07 51.6733 Q1254.56 59.3701 1258.69 63.421 Q1262.86 67.4314 1270.28 67.4314 Q1274.57 67.4314 1278.58 66.3781 Q1282.63 65.3249 1286.6 63.2184 L1286.6 70.267 Q1282.59 71.9684 1278.38 72.8596 Q1274.16 73.7508 1269.83 73.7508 Q1258.97 73.7508 1252.61 67.4314 Q1246.29 61.1119 1246.29 50.3365 Q1246.29 39.1965 1252.29 32.6746 Q1258.33 26.1121 1268.53 26.1121 Q1277.69 26.1121 1283 32.0264 Q1288.34 37.9003 1288.34 48.0275 M1280.89 45.84 Q1280.81 39.7232 1277.45 36.0774 Q1274.12 32.4315 1268.61 32.4315 Q1262.38 32.4315 1258.61 35.9558 Q1254.88 39.4801 1254.31 45.8805 L1280.89 45.84 Z\" fill=\"#000000\" fill-rule=\"evenodd\" fill-opacity=\"1\" /><path clip-path=\"url(#clip830)\" d=\"M1326.87 34.1734 Q1325.61 33.4443 1324.11 33.1202 Q1322.65 32.7556 1320.87 32.7556 Q1314.55 32.7556 1311.15 36.8875 Q1307.79 40.9789 1307.79 48.6757 L1307.79 72.576 L1300.29 72.576 L1300.29 27.2059 L1307.79 27.2059 L1307.79 34.2544 Q1310.14 30.1225 1313.9 28.1376 Q1317.67 26.1121 1323.06 26.1121 Q1323.83 26.1121 1324.76 26.2337 Q1325.69 26.3147 1326.83 26.5172 L1326.87 34.1734 Z\" fill=\"#000000\" fill-rule=\"evenodd\" fill-opacity=\"1\" /><path clip-path=\"url(#clip830)\" d=\"M1363.08 49.3643 Q1363.08 41.2625 1359.72 36.8065 Q1356.4 32.3505 1350.36 32.3505 Q1344.37 32.3505 1341 36.8065 Q1337.68 41.2625 1337.68 49.3643 Q1337.68 57.4256 1341 61.8816 Q1344.37 66.3376 1350.36 66.3376 Q1356.4 66.3376 1359.72 61.8816 Q1363.08 57.4256 1363.08 49.3643 M1370.54 66.9452 Q1370.54 78.5308 1365.39 84.1616 Q1360.25 89.8329 1349.63 89.8329 Q1345.7 89.8329 1342.22 89.2252 Q1338.74 88.6581 1335.45 87.4428 L1335.45 80.1917 Q1338.74 81.9741 1341.94 82.8248 Q1345.14 83.6755 1348.46 83.6755 Q1355.79 83.6755 1359.44 79.8271 Q1363.08 76.0193 1363.08 68.282 L1363.08 64.5957 Q1360.77 68.6061 1357.17 70.5911 Q1353.56 72.576 1348.54 72.576 Q1340.19 72.576 1335.09 66.2161 Q1329.99 59.8562 1329.99 49.3643 Q1329.99 38.832 1335.09 32.472 Q1340.19 26.1121 1348.54 26.1121 Q1353.56 26.1121 1357.17 28.0971 Q1360.77 30.082 1363.08 34.0924 L1363.08 27.2059 L1370.54 27.2059 L1370.54 66.9452 Z\" fill=\"#000000\" fill-rule=\"evenodd\" fill-opacity=\"1\" /><path clip-path=\"url(#clip830)\" d=\"M1404.77 76.7889 Q1401.61 84.8907 1398.61 87.3618 Q1395.61 89.8329 1390.59 89.8329 L1384.63 89.8329 L1384.63 83.5945 L1389.01 83.5945 Q1392.09 83.5945 1393.79 82.1361 Q1395.49 80.6778 1397.55 75.2496 L1398.89 71.8468 L1380.54 27.2059 L1388.44 27.2059 L1402.62 62.6918 L1416.8 27.2059 L1424.7 27.2059 L1404.77 76.7889 Z\" fill=\"#000000\" fill-rule=\"evenodd\" fill-opacity=\"1\" /><path clip-path=\"url(#clip830)\" d=\"M1497.94 14.0809 L1497.94 22.0612 Q1493.28 19.8332 1489.15 18.7395 Q1485.01 17.6457 1481.17 17.6457 Q1474.48 17.6457 1470.84 20.2383 Q1467.23 22.8309 1467.23 27.611 Q1467.23 31.6214 1469.62 33.6873 Q1472.05 35.7128 1478.78 36.9686 L1483.72 37.9813 Q1492.87 39.7232 1497.21 44.1387 Q1501.58 48.5136 1501.58 55.8863 Q1501.58 64.6767 1495.67 69.2137 Q1489.79 73.7508 1478.41 73.7508 Q1474.12 73.7508 1469.26 72.7785 Q1464.44 71.8063 1459.25 69.9024 L1459.25 61.4765 Q1464.23 64.2716 1469.01 65.6895 Q1473.79 67.1073 1478.41 67.1073 Q1485.42 67.1073 1489.23 64.3527 Q1493.03 61.598 1493.03 56.4939 Q1493.03 52.0379 1490.28 49.5264 Q1487.57 47.0148 1481.33 45.759 L1476.34 44.7868 Q1467.19 42.9639 1463.1 39.075 Q1459.01 35.1862 1459.01 28.2591 Q1459.01 20.2383 1464.64 15.6203 Q1470.31 11.0023 1480.23 11.0023 Q1484.49 11.0023 1488.9 11.7719 Q1493.32 12.5416 1497.94 14.0809 Z\" fill=\"#000000\" fill-rule=\"evenodd\" fill-opacity=\"1\" /><path clip-path=\"url(#clip830)\" d=\"M1546.67 28.9478 L1546.67 35.9153 Q1543.51 34.1734 1540.31 33.3227 Q1537.15 32.4315 1533.91 32.4315 Q1526.66 32.4315 1522.65 37.0496 Q1518.64 41.6271 1518.64 49.9314 Q1518.64 58.2358 1522.65 62.8538 Q1526.66 67.4314 1533.91 67.4314 Q1537.15 67.4314 1540.31 66.5807 Q1543.51 65.6895 1546.67 63.9476 L1546.67 70.8341 Q1543.55 72.2924 1540.19 73.0216 Q1536.87 73.7508 1533.1 73.7508 Q1522.85 73.7508 1516.81 67.3098 Q1510.78 60.8689 1510.78 49.9314 Q1510.78 38.832 1516.85 32.472 Q1522.97 26.1121 1533.58 26.1121 Q1537.03 26.1121 1540.31 26.8413 Q1543.59 27.5299 1546.67 28.9478 Z\" fill=\"#000000\" fill-rule=\"evenodd\" fill-opacity=\"1\" /><path clip-path=\"url(#clip830)\" d=\"M1580.25 49.7694 Q1571.22 49.7694 1567.73 51.8354 Q1564.25 53.9013 1564.25 58.8839 Q1564.25 62.8538 1566.84 65.2034 Q1569.48 67.5124 1573.97 67.5124 Q1580.17 67.5124 1583.9 63.1374 Q1587.66 58.7219 1587.66 51.4303 L1587.66 49.7694 L1580.25 49.7694 M1595.12 46.6907 L1595.12 72.576 L1587.66 72.576 L1587.66 65.6895 Q1585.11 69.8214 1581.3 71.8063 Q1577.5 73.7508 1571.99 73.7508 Q1565.02 73.7508 1560.89 69.8619 Q1556.8 65.9325 1556.8 59.3701 Q1556.8 51.7138 1561.9 47.825 Q1567.04 43.9361 1577.21 43.9361 L1587.66 43.9361 L1587.66 43.2069 Q1587.66 38.0623 1584.26 35.2672 Q1580.9 32.4315 1574.78 32.4315 Q1570.89 32.4315 1567.21 33.3632 Q1563.52 34.295 1560.12 36.1584 L1560.12 29.2718 Q1564.21 27.692 1568.06 26.9223 Q1571.91 26.1121 1575.55 26.1121 Q1585.4 26.1121 1590.26 31.2163 Q1595.12 36.3204 1595.12 46.6907 Z\" fill=\"#000000\" fill-rule=\"evenodd\" fill-opacity=\"1\" /><path clip-path=\"url(#clip830)\" d=\"M1610.47 9.54393 L1617.92 9.54393 L1617.92 72.576 L1610.47 72.576 L1610.47 9.54393 Z\" fill=\"#000000\" fill-rule=\"evenodd\" fill-opacity=\"1\" /><path clip-path=\"url(#clip830)\" d=\"M1633.52 27.2059 L1640.97 27.2059 L1640.97 72.576 L1633.52 72.576 L1633.52 27.2059 M1633.52 9.54393 L1640.97 9.54393 L1640.97 18.9825 L1633.52 18.9825 L1633.52 9.54393 Z\" fill=\"#000000\" fill-rule=\"evenodd\" fill-opacity=\"1\" /><path clip-path=\"url(#clip830)\" d=\"M1694.28 45.1919 L1694.28 72.576 L1686.83 72.576 L1686.83 45.4349 Q1686.83 38.994 1684.32 35.7938 Q1681.81 32.5936 1676.78 32.5936 Q1670.75 32.5936 1667.26 36.4419 Q1663.78 40.2903 1663.78 46.9338 L1663.78 72.576 L1656.29 72.576 L1656.29 27.2059 L1663.78 27.2059 L1663.78 34.2544 Q1666.45 30.163 1670.06 28.1376 Q1673.7 26.1121 1678.44 26.1121 Q1686.26 26.1121 1690.27 30.9732 Q1694.28 35.7938 1694.28 45.1919 Z\" fill=\"#000000\" fill-rule=\"evenodd\" fill-opacity=\"1\" /><path clip-path=\"url(#clip830)\" d=\"M1739.01 49.3643 Q1739.01 41.2625 1735.64 36.8065 Q1732.32 32.3505 1726.29 32.3505 Q1720.29 32.3505 1716.93 36.8065 Q1713.61 41.2625 1713.61 49.3643 Q1713.61 57.4256 1716.93 61.8816 Q1720.29 66.3376 1726.29 66.3376 Q1732.32 66.3376 1735.64 61.8816 Q1739.01 57.4256 1739.01 49.3643 M1746.46 66.9452 Q1746.46 78.5308 1741.31 84.1616 Q1736.17 89.8329 1725.56 89.8329 Q1721.63 89.8329 1718.14 89.2252 Q1714.66 88.6581 1711.38 87.4428 L1711.38 80.1917 Q1714.66 81.9741 1717.86 82.8248 Q1721.06 83.6755 1724.38 83.6755 Q1731.71 83.6755 1735.36 79.8271 Q1739.01 76.0193 1739.01 68.282 L1739.01 64.5957 Q1736.7 68.6061 1733.09 70.5911 Q1729.49 72.576 1724.46 72.576 Q1716.12 72.576 1711.01 66.2161 Q1705.91 59.8562 1705.91 49.3643 Q1705.91 38.832 1711.01 32.472 Q1716.12 26.1121 1724.46 26.1121 Q1729.49 26.1121 1733.09 28.0971 Q1736.7 30.082 1739.01 34.0924 L1739.01 27.2059 L1746.46 27.2059 L1746.46 66.9452 Z\" fill=\"#000000\" fill-rule=\"evenodd\" fill-opacity=\"1\" /><path clip-path=\"url(#clip830)\" d=\"M1806.09 9.62495 Q1800.66 18.942 1798.03 28.0566 Q1795.39 37.1711 1795.39 46.5287 Q1795.39 55.8863 1798.03 65.0818 Q1800.7 74.2369 1806.09 83.5134 L1799.61 83.5134 Q1793.53 73.9938 1790.49 64.7983 Q1787.49 55.6027 1787.49 46.5287 Q1787.49 37.4952 1790.49 28.3401 Q1793.49 19.1851 1799.61 9.62495 L1806.09 9.62495 Z\" fill=\"#000000\" fill-rule=\"evenodd\" fill-opacity=\"1\" /><path clip-path=\"url(#clip830)\" d=\"M1841.09 20.1573 L1829.99 50.2555 L1852.23 50.2555 L1841.09 20.1573 M1836.47 12.096 L1845.75 12.096 L1868.8 72.576 L1860.29 72.576 L1854.78 57.061 L1827.52 57.061 L1822.01 72.576 L1813.38 72.576 L1836.47 12.096 Z\" fill=\"#000000\" fill-rule=\"evenodd\" fill-opacity=\"1\" /><path clip-path=\"url(#clip830)\" d=\"M1877.63 12.096 L1912.38 12.096 L1912.38 18.9825 L1885.81 18.9825 L1885.81 36.8065 L1909.79 36.8065 L1909.79 43.6931 L1885.81 43.6931 L1885.81 72.576 L1877.63 72.576 L1877.63 12.096 Z\" fill=\"#000000\" fill-rule=\"evenodd\" fill-opacity=\"1\" /><path clip-path=\"url(#clip830)\" d=\"M1925.35 12.096 L1933.53 12.096 L1933.53 36.8875 L1963.26 36.8875 L1963.26 12.096 L1971.45 12.096 L1971.45 72.576 L1963.26 72.576 L1963.26 43.7741 L1933.53 43.7741 L1933.53 72.576 L1925.35 72.576 L1925.35 12.096 Z\" fill=\"#000000\" fill-rule=\"evenodd\" fill-opacity=\"1\" /><path clip-path=\"url(#clip830)\" d=\"M1987.73 12.096 L1999.92 12.096 L2015.36 53.2532 L2030.87 12.096 L2043.07 12.096 L2043.07 72.576 L2035.09 72.576 L2035.09 19.4686 L2019.49 60.9499 L2011.27 60.9499 L1995.67 19.4686 L1995.67 72.576 L1987.73 72.576 L1987.73 12.096 Z\" fill=\"#000000\" fill-rule=\"evenodd\" fill-opacity=\"1\" /><path clip-path=\"url(#clip830)\" d=\"M2057.81 9.62495 L2064.29 9.62495 Q2070.37 19.1851 2073.37 28.3401 Q2076.41 37.4952 2076.41 46.5287 Q2076.41 55.6027 2073.37 64.7983 Q2070.37 73.9938 2064.29 83.5134 L2057.81 83.5134 Q2063.2 74.2369 2065.83 65.0818 Q2068.51 55.8863 2068.51 46.5287 Q2068.51 37.1711 2065.83 28.0566 Q2063.2 18.942 2057.81 9.62495 Z\" fill=\"#000000\" fill-rule=\"evenodd\" fill-opacity=\"1\" /><polyline clip-path=\"url(#clip832)\" style=\"stroke:#009af9; stroke-linecap:butt; stroke-linejoin:round; stroke-width:4; stroke-opacity:1; fill:none\" points=\"\n",
       "  345.978,160.256 589.519,160.256 833.06,160.256 1076.6,160.256 1320.14,160.256 1563.68,160.256 1807.22,160.256 2050.77,160.256 \n",
       "  \"/>\n",
       "<circle clip-path=\"url(#clip832)\" cx=\"345.978\" cy=\"1386.4\" r=\"14\" fill=\"#ff0000\" fill-rule=\"evenodd\" fill-opacity=\"1\" stroke=\"#000000\" stroke-opacity=\"1\" stroke-width=\"3.2\"/>\n",
       "<circle clip-path=\"url(#clip832)\" cx=\"589.519\" cy=\"677.476\" r=\"14\" fill=\"#ff0000\" fill-rule=\"evenodd\" fill-opacity=\"1\" stroke=\"#000000\" stroke-opacity=\"1\" stroke-width=\"3.2\"/>\n",
       "<circle clip-path=\"url(#clip832)\" cx=\"833.06\" cy=\"445.791\" r=\"14\" fill=\"#ff0000\" fill-rule=\"evenodd\" fill-opacity=\"1\" stroke=\"#000000\" stroke-opacity=\"1\" stroke-width=\"3.2\"/>\n",
       "<circle clip-path=\"url(#clip832)\" cx=\"1076.6\" cy=\"341.363\" r=\"14\" fill=\"#ff0000\" fill-rule=\"evenodd\" fill-opacity=\"1\" stroke=\"#000000\" stroke-opacity=\"1\" stroke-width=\"3.2\"/>\n",
       "<circle clip-path=\"url(#clip832)\" cx=\"1320.14\" cy=\"285.389\" r=\"14\" fill=\"#ff0000\" fill-rule=\"evenodd\" fill-opacity=\"1\" stroke=\"#000000\" stroke-opacity=\"1\" stroke-width=\"3.2\"/>\n",
       "<circle clip-path=\"url(#clip832)\" cx=\"1563.68\" cy=\"251.899\" r=\"14\" fill=\"#ff0000\" fill-rule=\"evenodd\" fill-opacity=\"1\" stroke=\"#000000\" stroke-opacity=\"1\" stroke-width=\"3.2\"/>\n",
       "<circle clip-path=\"url(#clip832)\" cx=\"1807.22\" cy=\"230.27\" r=\"14\" fill=\"#ff0000\" fill-rule=\"evenodd\" fill-opacity=\"1\" stroke=\"#000000\" stroke-opacity=\"1\" stroke-width=\"3.2\"/>\n",
       "<circle clip-path=\"url(#clip832)\" cx=\"2050.77\" cy=\"215.491\" r=\"14\" fill=\"#ff0000\" fill-rule=\"evenodd\" fill-opacity=\"1\" stroke=\"#000000\" stroke-opacity=\"1\" stroke-width=\"3.2\"/>\n",
       "<polyline clip-path=\"url(#clip832)\" style=\"stroke:#ff0000; stroke-linecap:butt; stroke-linejoin:round; stroke-width:4; stroke-opacity:1; fill:none\" points=\"\n",
       "  345.978,1386.4 589.519,677.476 833.06,445.791 1076.6,341.363 1320.14,285.389 1563.68,251.899 1807.22,230.27 2050.77,215.491 \n",
       "  \"/>\n",
       "<polyline clip-path=\"url(#clip832)\" style=\"stroke:#c271d2; stroke-linecap:butt; stroke-linejoin:round; stroke-width:4; stroke-opacity:1; fill:none\" points=\"\n",
       "  345.978,1356.48 348.413,1344.18 350.849,1332.08 353.284,1320.15 355.719,1308.41 358.155,1296.84 360.59,1285.44 363.026,1274.21 365.461,1263.15 367.896,1252.25 \n",
       "  370.332,1241.51 372.767,1230.93 375.203,1220.5 377.638,1210.22 380.074,1200.08 382.509,1190.1 384.944,1180.25 387.38,1170.54 389.815,1160.97 392.251,1151.53 \n",
       "  394.686,1142.23 397.121,1133.05 399.557,1124 401.992,1115.08 404.428,1106.28 406.863,1097.6 409.298,1089.03 411.734,1080.58 414.169,1072.25 416.605,1064.03 \n",
       "  419.04,1055.91 421.476,1047.91 423.911,1040.01 426.346,1032.21 428.782,1024.52 431.217,1016.93 433.653,1009.43 436.088,1002.04 438.523,994.734 440.959,987.526 \n",
       "  443.394,980.411 445.83,973.386 448.265,966.45 450.7,959.602 453.136,952.84 455.571,946.162 458.007,939.568 460.442,933.056 462.877,926.625 465.313,920.273 \n",
       "  467.748,913.998 470.184,907.801 472.619,901.679 475.055,895.631 477.49,889.657 479.925,883.754 482.361,877.922 484.796,872.16 487.232,866.466 489.667,860.84 \n",
       "  492.102,855.28 494.538,849.786 496.973,844.356 499.409,838.99 501.844,833.685 504.279,828.443 506.715,823.261 509.15,818.138 511.586,813.074 514.021,808.068 \n",
       "  516.457,803.119 518.892,798.226 521.327,793.388 523.763,788.604 526.198,783.874 528.634,779.197 531.069,774.572 533.504,769.998 535.94,765.475 538.375,761.002 \n",
       "  540.811,756.577 543.246,752.201 545.681,747.873 548.117,743.591 550.552,739.356 552.988,735.166 555.423,731.022 557.858,726.922 560.294,722.865 562.729,718.852 \n",
       "  565.165,714.881 567.6,710.952 570.036,707.064 572.471,703.217 574.906,699.41 577.342,695.643 579.777,691.915 582.213,688.226 584.648,684.574 587.083,680.96 \n",
       "  589.519,677.383 591.954,673.843 594.39,670.338 596.825,666.869 599.26,663.435 601.696,660.036 604.131,656.67 606.567,653.339 609.002,650.041 611.438,646.775 \n",
       "  613.873,643.542 616.308,640.34 618.744,637.171 621.179,634.032 623.615,630.924 626.05,627.846 628.485,624.798 630.921,621.78 633.356,618.791 635.792,615.831 \n",
       "  638.227,612.899 640.662,609.995 643.098,607.119 645.533,604.27 647.969,601.448 650.404,598.653 652.839,595.884 655.275,593.141 657.71,590.424 660.146,587.732 \n",
       "  662.581,585.065 665.017,582.424 667.452,579.806 669.887,577.213 672.323,574.643 674.758,572.097 677.194,569.574 679.629,567.075 682.064,564.598 684.5,562.143 \n",
       "  686.935,559.711 689.371,557.3 691.806,554.911 694.241,552.544 696.677,550.198 699.112,547.872 701.548,545.567 703.983,543.283 706.419,541.019 708.854,538.775 \n",
       "  711.289,536.55 713.725,534.345 716.16,532.159 718.596,529.992 721.031,527.844 723.466,525.715 725.902,523.604 728.337,521.511 730.773,519.436 733.208,517.379 \n",
       "  735.643,515.339 738.079,513.317 740.514,511.311 742.95,509.323 745.385,507.352 747.82,505.397 750.256,503.459 752.691,501.537 755.127,499.63 757.562,497.74 \n",
       "  759.998,495.866 762.433,494.007 764.868,492.163 767.304,490.334 769.739,488.521 772.175,486.722 774.61,484.938 777.045,483.169 779.481,481.414 781.916,479.673 \n",
       "  784.352,477.946 786.787,476.234 789.222,474.535 791.658,472.849 794.093,471.177 796.529,469.519 798.964,467.873 801.4,466.241 803.835,464.622 806.27,463.015 \n",
       "  808.706,461.421 811.141,459.84 813.577,458.271 816.012,456.714 818.447,455.169 820.883,453.637 823.318,452.116 825.754,450.607 828.189,449.11 830.624,447.624 \n",
       "  833.06,446.15 835.495,444.686 837.931,443.235 840.366,441.794 842.801,440.364 845.237,438.945 847.672,437.537 850.108,436.139 852.543,434.752 854.979,433.375 \n",
       "  857.414,432.009 859.849,430.653 862.285,429.307 864.72,427.97 867.156,426.644 869.591,425.328 872.026,424.021 874.462,422.725 876.897,421.437 879.333,420.159 \n",
       "  881.768,418.89 884.203,417.631 886.639,416.381 889.074,415.14 891.51,413.908 893.945,412.684 896.381,411.47 898.816,410.264 901.251,409.067 903.687,407.879 \n",
       "  906.122,406.699 908.558,405.527 910.993,404.364 913.428,403.209 915.864,402.062 918.299,400.924 920.735,399.793 923.17,398.67 925.605,397.556 928.041,396.449 \n",
       "  930.476,395.349 932.912,394.258 935.347,393.174 937.783,392.097 940.218,391.028 942.653,389.966 945.089,388.912 947.524,387.865 949.96,386.825 952.395,385.792 \n",
       "  954.83,384.766 957.266,383.747 959.701,382.736 962.137,381.731 964.572,380.732 967.007,379.741 969.443,378.756 971.878,377.778 974.314,376.806 976.749,375.841 \n",
       "  979.184,374.883 981.62,373.93 984.055,372.985 986.491,372.045 988.926,371.111 991.362,370.184 993.797,369.263 996.232,368.348 998.668,367.439 1001.1,366.536 \n",
       "  1003.54,365.639 1005.97,364.747 1008.41,363.862 1010.84,362.982 1013.28,362.108 1015.72,361.239 1018.15,360.377 1020.59,359.519 1023.02,358.668 1025.46,357.821 \n",
       "  1027.89,356.98 1030.33,356.145 1032.76,355.315 1035.2,354.49 1037.63,353.67 1040.07,352.856 1042.51,352.046 1044.94,351.242 1047.38,350.443 1049.81,349.649 \n",
       "  1052.25,348.86 1054.68,348.075 1057.12,347.296 1059.55,346.522 1061.99,345.752 1064.42,344.987 1066.86,344.227 1069.29,343.472 1071.73,342.721 1074.17,341.975 \n",
       "  1076.6,341.233 1079.04,340.496 1081.47,339.764 1083.91,339.036 1086.34,338.312 1088.78,337.593 1091.21,336.878 1093.65,336.168 1096.08,335.462 1098.52,334.76 \n",
       "  1100.95,334.062 1103.39,333.369 1105.83,332.679 1108.26,331.994 1110.7,331.313 1113.13,330.636 1115.57,329.963 1118,329.294 1120.44,328.629 1122.87,327.968 \n",
       "  1125.31,327.311 1127.74,326.657 1130.18,326.008 1132.62,325.362 1135.05,324.72 1137.49,324.082 1139.92,323.448 1142.36,322.817 1144.79,322.19 1147.23,321.567 \n",
       "  1149.66,320.947 1152.1,320.331 1154.53,319.718 1156.97,319.109 1159.4,318.504 1161.84,317.902 1164.28,317.303 1166.71,316.708 1169.15,316.116 1171.58,315.528 \n",
       "  1174.02,314.942 1176.45,314.361 1178.89,313.782 1181.32,313.207 1183.76,312.635 1186.19,312.066 1188.63,311.501 1191.07,310.939 1193.5,310.379 1195.94,309.823 \n",
       "  1198.37,309.27 1200.81,308.721 1203.24,308.174 1205.68,307.63 1208.11,307.089 1210.55,306.552 1212.98,306.017 1215.42,305.485 1217.85,304.956 1220.29,304.43 \n",
       "  1222.73,303.907 1225.16,303.387 1227.6,302.869 1230.03,302.355 1232.47,301.843 1234.9,301.334 1237.34,300.828 1239.77,300.324 1242.21,299.824 1244.64,299.326 \n",
       "  1247.08,298.83 1249.52,298.338 1251.95,297.848 1254.39,297.36 1256.82,296.875 1259.26,296.393 1261.69,295.914 1264.13,295.436 1266.56,294.962 1269,294.49 \n",
       "  1271.43,294.02 1273.87,293.553 1276.3,293.089 1278.74,292.627 1281.18,292.167 1283.61,291.71 1286.05,291.255 1288.48,290.802 1290.92,290.352 1293.35,289.904 \n",
       "  1295.79,289.459 1298.22,289.016 1300.66,288.575 1303.09,288.136 1305.53,287.7 1307.96,287.266 1310.4,286.834 1312.84,286.405 1315.27,285.977 1317.71,285.552 \n",
       "  1320.14,285.129 1322.58,284.708 1325.01,284.29 1327.45,283.873 1329.88,283.459 1332.32,283.046 1334.75,282.636 1337.19,282.228 1339.63,281.822 1342.06,281.418 \n",
       "  1344.5,281.016 1346.93,280.616 1349.37,280.218 1351.8,279.822 1354.24,279.428 1356.67,279.036 1359.11,278.646 1361.54,278.258 1363.98,277.872 1366.41,277.487 \n",
       "  1368.85,277.105 1371.29,276.725 1373.72,276.346 1376.16,275.969 1378.59,275.594 1381.03,275.221 1383.46,274.85 1385.9,274.481 1388.33,274.113 1390.77,273.747 \n",
       "  1393.2,273.383 1395.64,273.021 1398.08,272.661 1400.51,272.302 1402.95,271.945 1405.38,271.59 1407.82,271.236 1410.25,270.885 1412.69,270.534 1415.12,270.186 \n",
       "  1417.56,269.839 1419.99,269.494 1422.43,269.151 1424.86,268.809 1427.3,268.469 1429.74,268.13 1432.17,267.793 1434.61,267.458 1437.04,267.124 1439.48,266.792 \n",
       "  1441.91,266.461 1444.35,266.132 1446.78,265.805 1449.22,265.479 1451.65,265.155 1454.09,264.832 1456.52,264.51 1458.96,264.19 1461.4,263.872 1463.83,263.555 \n",
       "  1466.27,263.24 1468.7,262.926 1471.14,262.613 1473.57,262.302 1476.01,261.993 1478.44,261.684 1480.88,261.378 1483.31,261.072 1485.75,260.768 1488.19,260.466 \n",
       "  1490.62,260.165 1493.06,259.865 1495.49,259.567 1497.93,259.27 1500.36,258.974 1502.8,258.68 1505.23,258.387 1507.67,258.095 1510.1,257.805 1512.54,257.516 \n",
       "  1514.97,257.228 1517.41,256.941 1519.85,256.656 1522.28,256.372 1524.72,256.09 1527.15,255.809 1529.59,255.529 1532.02,255.25 1534.46,254.972 1536.89,254.696 \n",
       "  1539.33,254.421 1541.76,254.147 1544.2,253.874 1546.64,253.603 1549.07,253.333 1551.51,253.064 1553.94,252.796 1556.38,252.529 1558.81,252.264 1561.25,251.999 \n",
       "  1563.68,251.736 1566.12,251.474 1568.55,251.213 1570.99,250.954 1573.42,250.695 1575.86,250.438 1578.3,250.181 1580.73,249.926 1583.17,249.672 1585.6,249.419 \n",
       "  1588.04,249.167 1590.47,248.916 1592.91,248.666 1595.34,248.418 1597.78,248.17 1600.21,247.924 1602.65,247.678 1605.08,247.434 1607.52,247.19 1609.96,246.948 \n",
       "  1612.39,246.707 1614.83,246.467 1617.26,246.227 1619.7,245.989 1622.13,245.752 1624.57,245.516 1627,245.28 1629.44,245.046 1631.87,244.813 1634.31,244.581 \n",
       "  1636.75,244.35 1639.18,244.119 1641.62,243.89 1644.05,243.662 1646.49,243.434 1648.92,243.208 1651.36,242.982 1653.79,242.758 1656.23,242.534 1658.66,242.311 \n",
       "  1661.1,242.089 1663.53,241.869 1665.97,241.649 1668.41,241.43 1670.84,241.212 1673.28,240.994 1675.71,240.778 1678.15,240.563 1680.58,240.348 1683.02,240.134 \n",
       "  1685.45,239.922 1687.89,239.71 1690.32,239.499 1692.76,239.288 1695.2,239.079 1697.63,238.87 1700.07,238.663 1702.5,238.456 1704.94,238.25 1707.37,238.045 \n",
       "  1709.81,237.841 1712.24,237.637 1714.68,237.435 1717.11,237.233 1719.55,237.032 1721.98,236.831 1724.42,236.632 1726.86,236.433 1729.29,236.236 1731.73,236.039 \n",
       "  1734.16,235.842 1736.6,235.647 1739.03,235.452 1741.47,235.258 1743.9,235.065 1746.34,234.873 1748.77,234.681 1751.21,234.49 1753.64,234.3 1756.08,234.111 \n",
       "  1758.52,233.922 1760.95,233.734 1763.39,233.547 1765.82,233.361 1768.26,233.175 1770.69,232.99 1773.13,232.806 1775.56,232.623 1778,232.44 1780.43,232.258 \n",
       "  1782.87,232.077 1785.31,231.896 1787.74,231.716 1790.18,231.537 1792.61,231.358 1795.05,231.18 1797.48,231.003 1799.92,230.827 1802.35,230.651 1804.79,230.476 \n",
       "  1807.22,230.301 1809.66,230.128 1812.09,229.954 1814.53,229.782 1816.97,229.61 1819.4,229.439 1821.84,229.268 1824.27,229.099 1826.71,228.929 1829.14,228.761 \n",
       "  1831.58,228.593 1834.01,228.426 1836.45,228.259 1838.88,228.093 1841.32,227.928 1843.76,227.763 1846.19,227.599 1848.63,227.435 1851.06,227.272 1853.5,227.11 \n",
       "  1855.93,226.948 1858.37,226.787 1860.8,226.627 1863.24,226.467 1865.67,226.308 1868.11,226.149 1870.54,225.991 1872.98,225.833 1875.42,225.676 1877.85,225.52 \n",
       "  1880.29,225.364 1882.72,225.209 1885.16,225.054 1887.59,224.9 1890.03,224.747 1892.46,224.594 1894.9,224.442 1897.33,224.29 1899.77,224.139 1902.2,223.988 \n",
       "  1904.64,223.838 1907.08,223.688 1909.51,223.539 1911.95,223.391 1914.38,223.243 1916.82,223.095 1919.25,222.949 1921.69,222.802 1924.12,222.656 1926.56,222.511 \n",
       "  1928.99,222.366 1931.43,222.222 1933.87,222.078 1936.3,221.935 1938.74,221.793 1941.17,221.65 1943.61,221.509 1946.04,221.368 1948.48,221.227 1950.91,221.087 \n",
       "  1953.35,220.947 1955.78,220.808 1958.22,220.669 1960.65,220.531 1963.09,220.394 1965.53,220.256 1967.96,220.12 1970.4,219.983 1972.83,219.848 1975.27,219.713 \n",
       "  1977.7,219.578 1980.14,219.444 1982.57,219.31 1985.01,219.176 1987.44,219.043 1989.88,218.911 1992.32,218.779 1994.75,218.648 1997.19,218.517 1999.62,218.386 \n",
       "  2002.06,218.256 2004.49,218.126 2006.93,217.997 2009.36,217.868 2011.8,217.74 2014.23,217.612 2016.67,217.485 2019.1,217.358 2021.54,217.231 2023.98,217.105 \n",
       "  2026.41,216.98 2028.85,216.854 2031.28,216.73 2033.72,216.605 2036.15,216.481 2038.59,216.358 2041.02,216.235 2043.46,216.112 2045.89,215.99 2048.33,215.868 \n",
       "  2050.77,215.747 2053.2,215.626 2055.64,215.505 2058.07,215.385 2060.51,215.265 2062.94,215.146 2065.38,215.027 2067.81,214.908 2070.25,214.79 2072.68,214.672 \n",
       "  2075.12,214.555 2077.55,214.438 2079.99,214.322 2082.43,214.205 2084.86,214.09 2087.3,213.974 2089.73,213.859 2092.17,213.745 2094.6,213.63 2097.04,213.517 \n",
       "  2099.47,213.403 2101.91,213.29 2104.34,213.177 2106.78,213.065 2109.21,212.953 2111.65,212.842 2114.09,212.73 2116.52,212.619 2118.96,212.509 2121.39,212.399 \n",
       "  2123.83,212.289 2126.26,212.18 2128.7,212.071 2131.13,211.962 2133.57,211.854 2136,211.746 2138.44,211.638 2140.88,211.531 2143.31,211.424 2145.75,211.317 \n",
       "  2148.18,211.211 2150.62,211.105 2153.05,211 2155.49,210.895 2157.92,210.79 2160.36,210.686 2162.79,210.581 2165.23,210.478 2167.66,210.374 2170.1,210.271 \n",
       "  2172.54,210.168 2174.97,210.066 2177.41,209.964 2179.84,209.862 2182.28,209.76 2184.71,209.659 2187.15,209.558 2189.58,209.458 2192.02,209.358 2194.45,209.258 \n",
       "  2196.89,209.158 2199.33,209.059 2201.76,208.96 2204.2,208.862 2206.63,208.763 2209.07,208.665 2211.5,208.568 2213.94,208.47 2216.37,208.373 2218.81,208.277 \n",
       "  2221.24,208.18 2223.68,208.084 2226.11,207.988 2228.55,207.893 2230.99,207.798 2233.42,207.703 2235.86,207.608 2238.29,207.514 2240.73,207.42 2243.16,207.326 \n",
       "  2245.6,207.233 2248.03,207.14 2250.47,207.047 2252.9,206.954 2255.34,206.862 2257.77,206.77 2260.21,206.678 2262.65,206.587 2265.08,206.496 2267.52,206.405 \n",
       "  2269.95,206.315 2272.39,206.224 2274.82,206.134 2277.26,206.045 2279.69,205.955 2282.13,205.866 2284.56,205.777 2287,205.689 2289.44,205.6 2291.87,205.512 \n",
       "  2294.31,205.425 \n",
       "  \"/>\n",
       "<path clip-path=\"url(#clip830)\" d=\"\n",
       "M1848.36 374.156 L2283.91 374.156 L2283.91 166.796 L1848.36 166.796  Z\n",
       "  \" fill=\"#ffffff\" fill-rule=\"evenodd\" fill-opacity=\"1\"/>\n",
       "<polyline clip-path=\"url(#clip830)\" style=\"stroke:#000000; stroke-linecap:butt; stroke-linejoin:round; stroke-width:4; stroke-opacity:1; fill:none\" points=\"\n",
       "  1848.36,374.156 2283.91,374.156 2283.91,166.796 1848.36,166.796 1848.36,374.156 \n",
       "  \"/>\n",
       "<polyline clip-path=\"url(#clip830)\" style=\"stroke:#009af9; stroke-linecap:butt; stroke-linejoin:round; stroke-width:4; stroke-opacity:1; fill:none\" points=\"\n",
       "  1871.31,218.636 2008.99,218.636 \n",
       "  \"/>\n",
       "<path clip-path=\"url(#clip830)\" d=\"M2031.93 201.356 L2036.61 201.356 L2036.61 235.916 L2031.93 235.916 L2031.93 201.356 Z\" fill=\"#000000\" fill-rule=\"evenodd\" fill-opacity=\"1\" /><path clip-path=\"url(#clip830)\" d=\"M2067.28 220.268 L2067.28 235.916 L2063.02 235.916 L2063.02 220.407 Q2063.02 216.726 2061.59 214.897 Q2060.15 213.069 2057.28 213.069 Q2053.83 213.069 2051.84 215.268 Q2049.85 217.467 2049.85 221.263 L2049.85 235.916 L2045.57 235.916 L2045.57 209.99 L2049.85 209.99 L2049.85 214.018 Q2051.38 211.68 2053.44 210.522 Q2055.52 209.365 2058.23 209.365 Q2062.7 209.365 2064.99 212.143 Q2067.28 214.897 2067.28 220.268 Z\" fill=\"#000000\" fill-rule=\"evenodd\" fill-opacity=\"1\" /><path clip-path=\"url(#clip830)\" d=\"M2088.9 199.897 L2088.9 203.439 L2084.83 203.439 Q2082.54 203.439 2081.63 204.365 Q2080.75 205.291 2080.75 207.698 L2080.75 209.99 L2087.77 209.99 L2087.77 213.3 L2080.75 213.3 L2080.75 235.916 L2076.47 235.916 L2076.47 213.3 L2072.4 213.3 L2072.4 209.99 L2076.47 209.99 L2076.47 208.184 Q2076.47 203.856 2078.48 201.888 Q2080.5 199.897 2084.87 199.897 L2088.9 199.897 Z\" fill=\"#000000\" fill-rule=\"evenodd\" fill-opacity=\"1\" /><path clip-path=\"url(#clip830)\" d=\"M2092.47 209.99 L2096.73 209.99 L2096.73 235.916 L2092.47 235.916 L2092.47 209.99 M2092.47 199.897 L2096.73 199.897 L2096.73 205.291 L2092.47 205.291 L2092.47 199.897 Z\" fill=\"#000000\" fill-rule=\"evenodd\" fill-opacity=\"1\" /><path clip-path=\"url(#clip830)\" d=\"M2127.19 220.268 L2127.19 235.916 L2122.93 235.916 L2122.93 220.407 Q2122.93 216.726 2121.49 214.897 Q2120.06 213.069 2117.19 213.069 Q2113.74 213.069 2111.75 215.268 Q2109.76 217.467 2109.76 221.263 L2109.76 235.916 L2105.48 235.916 L2105.48 209.99 L2109.76 209.99 L2109.76 214.018 Q2111.29 211.68 2113.35 210.522 Q2115.43 209.365 2118.14 209.365 Q2122.6 209.365 2124.9 212.143 Q2127.19 214.897 2127.19 220.268 Z\" fill=\"#000000\" fill-rule=\"evenodd\" fill-opacity=\"1\" /><path clip-path=\"url(#clip830)\" d=\"M2135.68 209.99 L2139.94 209.99 L2139.94 235.916 L2135.68 235.916 L2135.68 209.99 M2135.68 199.897 L2139.94 199.897 L2139.94 205.291 L2135.68 205.291 L2135.68 199.897 Z\" fill=\"#000000\" fill-rule=\"evenodd\" fill-opacity=\"1\" /><path clip-path=\"url(#clip830)\" d=\"M2153.07 202.629 L2153.07 209.99 L2161.84 209.99 L2161.84 213.3 L2153.07 213.3 L2153.07 227.374 Q2153.07 230.545 2153.92 231.448 Q2154.8 232.351 2157.47 232.351 L2161.84 232.351 L2161.84 235.916 L2157.47 235.916 Q2152.54 235.916 2150.66 234.087 Q2148.79 232.235 2148.79 227.374 L2148.79 213.3 L2145.66 213.3 L2145.66 209.99 L2148.79 209.99 L2148.79 202.629 L2153.07 202.629 Z\" fill=\"#000000\" fill-rule=\"evenodd\" fill-opacity=\"1\" /><path clip-path=\"url(#clip830)\" d=\"M2189.62 221.888 L2189.62 223.971 L2170.04 223.971 Q2170.31 228.369 2172.67 230.684 Q2175.06 232.976 2179.29 232.976 Q2181.75 232.976 2184.04 232.374 Q2186.35 231.772 2188.62 230.569 L2188.62 234.596 Q2186.33 235.568 2183.92 236.078 Q2181.52 236.587 2179.04 236.587 Q2172.84 236.587 2169.2 232.976 Q2165.59 229.365 2165.59 223.207 Q2165.59 216.842 2169.02 213.115 Q2172.47 209.365 2178.3 209.365 Q2183.53 209.365 2186.56 212.745 Q2189.62 216.101 2189.62 221.888 M2185.36 220.638 Q2185.31 217.143 2183.39 215.059 Q2181.49 212.976 2178.35 212.976 Q2174.78 212.976 2172.63 214.99 Q2170.5 217.004 2170.17 220.661 L2185.36 220.638 Z\" fill=\"#000000\" fill-rule=\"evenodd\" fill-opacity=\"1\" /><path clip-path=\"url(#clip830)\" d=\"M2211.86 201.356 L2218.16 201.356 L2233.48 230.268 L2233.48 201.356 L2238.02 201.356 L2238.02 235.916 L2231.72 235.916 L2216.4 207.004 L2216.4 235.916 L2211.86 235.916 L2211.86 201.356 Z\" fill=\"#000000\" fill-rule=\"evenodd\" fill-opacity=\"1\" /><circle clip-path=\"url(#clip830)\" cx=\"1940.15\" cy=\"270.476\" r=\"23\" fill=\"#ff0000\" fill-rule=\"evenodd\" fill-opacity=\"1\" stroke=\"#000000\" stroke-opacity=\"1\" stroke-width=\"5.12\"/>\n",
       "<path clip-path=\"url(#clip830)\" d=\"M2031.93 253.196 L2053.79 253.196 L2053.79 257.131 L2036.61 257.131 L2036.61 267.362 L2053.07 267.362 L2053.07 271.297 L2036.61 271.297 L2036.61 283.821 L2054.2 283.821 L2054.2 287.756 L2031.93 287.756 L2031.93 253.196 Z\" fill=\"#000000\" fill-rule=\"evenodd\" fill-opacity=\"1\" /><path clip-path=\"url(#clip830)\" d=\"M2066.56 257.038 L2066.56 283.913 L2072.21 283.913 Q2079.36 283.913 2082.67 280.672 Q2086.01 277.432 2086.01 270.441 Q2086.01 263.497 2082.67 260.279 Q2079.36 257.038 2072.21 257.038 L2066.56 257.038 M2061.89 253.196 L2071.49 253.196 Q2081.54 253.196 2086.24 257.386 Q2090.94 261.552 2090.94 270.441 Q2090.94 279.376 2086.22 283.566 Q2081.49 287.756 2071.49 287.756 L2061.89 287.756 L2061.89 253.196 Z\" fill=\"#000000\" fill-rule=\"evenodd\" fill-opacity=\"1\" /><polyline clip-path=\"url(#clip830)\" style=\"stroke:#c271d2; stroke-linecap:butt; stroke-linejoin:round; stroke-width:4; stroke-opacity:1; fill:none\" points=\"\n",
       "  1871.31,322.316 2008.99,322.316 \n",
       "  \"/>\n",
       "<path clip-path=\"url(#clip830)\" d=\"M2036.22 335.707 L2036.22 349.457 L2031.93 349.457 L2031.93 313.67 L2036.22 313.67 L2036.22 317.605 Q2037.56 315.29 2039.6 314.179 Q2041.66 313.045 2044.5 313.045 Q2049.23 313.045 2052.17 316.795 Q2055.13 320.545 2055.13 326.656 Q2055.13 332.767 2052.17 336.517 Q2049.23 340.267 2044.5 340.267 Q2041.66 340.267 2039.6 339.156 Q2037.56 338.022 2036.22 335.707 M2050.71 326.656 Q2050.71 321.957 2048.76 319.295 Q2046.84 316.61 2043.46 316.61 Q2040.08 316.61 2038.14 319.295 Q2036.22 321.957 2036.22 326.656 Q2036.22 331.355 2038.14 334.04 Q2040.08 336.702 2043.46 336.702 Q2046.84 336.702 2048.76 334.04 Q2050.71 331.355 2050.71 326.656 Z\" fill=\"#000000\" fill-rule=\"evenodd\" fill-opacity=\"1\" /><path clip-path=\"url(#clip830)\" d=\"M2072.23 316.656 Q2068.81 316.656 2066.82 319.341 Q2064.83 322.003 2064.83 326.656 Q2064.83 331.309 2066.8 333.994 Q2068.79 336.656 2072.23 336.656 Q2075.64 336.656 2077.63 333.971 Q2079.62 331.286 2079.62 326.656 Q2079.62 322.05 2077.63 319.364 Q2075.64 316.656 2072.23 316.656 M2072.23 313.045 Q2077.79 313.045 2080.96 316.656 Q2084.13 320.267 2084.13 326.656 Q2084.13 333.022 2080.96 336.656 Q2077.79 340.267 2072.23 340.267 Q2066.66 340.267 2063.48 336.656 Q2060.34 333.022 2060.34 326.656 Q2060.34 320.267 2063.48 316.656 Q2066.66 313.045 2072.23 313.045 Z\" fill=\"#000000\" fill-rule=\"evenodd\" fill-opacity=\"1\" /><path clip-path=\"url(#clip830)\" d=\"M2091.19 303.577 L2095.45 303.577 L2095.45 339.596 L2091.19 339.596 L2091.19 303.577 Z\" fill=\"#000000\" fill-rule=\"evenodd\" fill-opacity=\"1\" /><path clip-path=\"url(#clip830)\" d=\"M2115.15 342.003 Q2113.35 346.633 2111.63 348.045 Q2109.92 349.457 2107.05 349.457 L2103.65 349.457 L2103.65 345.892 L2106.15 345.892 Q2107.91 345.892 2108.88 345.059 Q2109.85 344.225 2111.03 341.123 L2111.79 339.179 L2101.31 313.67 L2105.82 313.67 L2113.92 333.948 L2122.03 313.67 L2126.54 313.67 L2115.15 342.003 Z\" fill=\"#000000\" fill-rule=\"evenodd\" fill-opacity=\"1\" /><path clip-path=\"url(#clip830)\" d=\"M2160.61 303.577 L2160.61 307.119 L2156.54 307.119 Q2154.25 307.119 2153.35 308.045 Q2152.47 308.971 2152.47 311.378 L2152.47 313.67 L2159.48 313.67 L2159.48 316.98 L2152.47 316.98 L2152.47 339.596 L2148.18 339.596 L2148.18 316.98 L2144.11 316.98 L2144.11 313.67 L2148.18 313.67 L2148.18 311.864 Q2148.18 307.536 2150.2 305.568 Q2152.21 303.577 2156.59 303.577 L2160.61 303.577 Z\" fill=\"#000000\" fill-rule=\"evenodd\" fill-opacity=\"1\" /><path clip-path=\"url(#clip830)\" d=\"M2164.18 313.67 L2168.44 313.67 L2168.44 339.596 L2164.18 339.596 L2164.18 313.67 M2164.18 303.577 L2168.44 303.577 L2168.44 308.971 L2164.18 308.971 L2164.18 303.577 Z\" fill=\"#000000\" fill-rule=\"evenodd\" fill-opacity=\"1\" /><path clip-path=\"url(#clip830)\" d=\"M2181.56 306.309 L2181.56 313.67 L2190.34 313.67 L2190.34 316.98 L2181.56 316.98 L2181.56 331.054 Q2181.56 334.225 2182.42 335.128 Q2183.3 336.031 2185.96 336.031 L2190.34 336.031 L2190.34 339.596 L2185.96 339.596 Q2181.03 339.596 2179.16 337.767 Q2177.28 335.915 2177.28 331.054 L2177.28 316.98 L2174.16 316.98 L2174.16 313.67 L2177.28 313.67 L2177.28 306.309 L2181.56 306.309 Z\" fill=\"#000000\" fill-rule=\"evenodd\" fill-opacity=\"1\" /></svg>\n"
      ]
     },
     "execution_count": 45,
     "metadata": {},
     "output_type": "execute_result"
    }
   ],
   "source": [
    "plot!(N_range_cont,fit_contHeis,label = \"poly fit\")"
   ]
  },
  {
   "cell_type": "code",
   "execution_count": null,
   "metadata": {},
   "outputs": [],
   "source": [
    "png(\"NewPlots/Heispolyfit\")"
   ]
  },
  {
   "cell_type": "code",
   "execution_count": null,
   "metadata": {},
   "outputs": [],
   "source": []
  }
 ],
 "metadata": {
  "kernelspec": {
   "display_name": "Julia 1.7.2",
   "language": "julia",
   "name": "julia-1.7"
  },
  "language_info": {
   "file_extension": ".jl",
   "mimetype": "application/julia",
   "name": "julia",
   "version": "1.7.2"
  }
 },
 "nbformat": 4,
 "nbformat_minor": 2
}
