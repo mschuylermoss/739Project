{
 "cells": [
  {
   "cell_type": "markdown",
   "metadata": {},
   "source": [
    "When we have to add Sy"
   ]
  },
  {
   "cell_type": "code",
   "execution_count": 1,
   "metadata": {},
   "outputs": [
    {
     "data": {
      "text/plain": [
       "Hamiltonian2 (generic function with 1 method)"
      ]
     },
     "execution_count": 1,
     "metadata": {},
     "output_type": "execute_result"
    }
   ],
   "source": [
    "function Hamiltonian2(N,B)\n",
    "    \n",
    "    #Dimension of the Hilbert Space\n",
    "    dim = (2)^N\n",
    "    #Initialize a matrix for the Hamiltonian\n",
    "    H = zeros(dim,dim)\n",
    "    \n",
    "    for ket in (0:dim-1)\n",
    "        \n",
    "        #Put ket in binary for printing purposes\n",
    "        ket_binary = bitstring(ket)\n",
    "        #Initialize the matrix element we compute\n",
    "        Diagonal = Int64(0)\n",
    "        \n",
    "        for SpinIndex in (0:N-1) \n",
    "            bit = Int(2)^(SpinIndex)\n",
    "            bra = ket ⊻ bit\n",
    "            #can use the same +/- 1 mechanism that we use in the diagonal piece\n",
    "            #not sure if this is exactly right though\n",
    "            H[bra+1,ket+1] += (2*((ket>>SpinIndex)&1)-1)*B\n",
    "\n",
    "            if SpinIndex == N-1\n",
    "                break\n",
    "            end\n",
    "            \n",
    "            Si = 2*((ket>>SpinIndex)&1)-1\n",
    "            Si_next = 2*((ket>>(SpinIndex+1))&1)-1\n",
    "            Bond = Si*Si_next\n",
    "            Diagonal += Bond\n",
    "        end\n",
    "        H[ket+1,ket+1] += -1 * Diagonal\n",
    "    end\n",
    "    return H\n",
    "end"
   ]
  },
  {
   "cell_type": "code",
   "execution_count": null,
   "metadata": {
    "collapsed": true
   },
   "outputs": [],
   "source": []
  }
 ],
 "metadata": {
  "kernelspec": {
   "display_name": "Julia 1.6.3",
   "language": "julia",
   "name": "julia-1.6"
  },
  "language_info": {
   "file_extension": ".jl",
   "mimetype": "application/julia",
   "name": "julia",
   "version": "1.6.3"
  }
 },
 "nbformat": 4,
 "nbformat_minor": 2
}
